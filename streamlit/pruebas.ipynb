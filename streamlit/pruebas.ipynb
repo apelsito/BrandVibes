{
 "cells": [
  {
   "cell_type": "code",
   "execution_count": 1,
   "metadata": {},
   "outputs": [],
   "source": [
    "import os\n",
    "from supabase import create_client, Client\n",
    "\n",
    "url = os.getenv(\"project_url\")        \n",
    "key = os.getenv(\"browser_safe_key\")\n",
    "supabase: Client = create_client(url, key)\n",
    "\n"
   ]
  },
  {
   "cell_type": "code",
   "execution_count": 2,
   "metadata": {},
   "outputs": [],
   "source": [
    "number_of_followers = len(supabase.table(\"followers\").select(\"*\").eq(\"brand_id\", 1).execute().data)\n"
   ]
  },
  {
   "cell_type": "code",
   "execution_count": 8,
   "metadata": {},
   "outputs": [
    {
     "data": {
      "text/plain": [
       "1000"
      ]
     },
     "execution_count": 8,
     "metadata": {},
     "output_type": "execute_result"
    }
   ],
   "source": [
    "        # Primero obtenemos el id de los seguidores de la marca \n",
    "followers_response = supabase.table(\"followers\").select(\"id\").eq(\"brand_id\", 1).execute().data\n",
    "        # Pasamos los ids a una lista\n",
    "lista_follower_ids = [follower['id'] for follower in followers_response]\n",
    "len(supabase.table(\"playlists\").select(\"*\").in_(\"follower_id\", lista_follower_ids).execute().data)"
   ]
  },
  {
   "cell_type": "code",
   "execution_count": null,
   "metadata": {},
   "outputs": [],
   "source": [
    "dsdssd"
   ]
  },
  {
   "cell_type": "code",
   "execution_count": 17,
   "metadata": {},
   "outputs": [
    {
     "data": {
      "text/plain": [
       "30222"
      ]
     },
     "execution_count": 17,
     "metadata": {},
     "output_type": "execute_result"
    }
   ],
   "source": [
    "def obtener_numero_playlists(id_brand = 0):\n",
    "    if id_brand == 0:\n",
    "        print(\"No se ha especificado el id de la marca\")\n",
    "    else:\n",
    "        # Primero obtenemos el id de los seguidores de la marca \n",
    "        followers_response = supabase.table(\"followers\").select(\"id\").eq(\"brand_id\", id_brand).execute().data\n",
    "        # Pasamos los ids a una lista\n",
    "        lista_follower_ids = [follower['id'] for follower in followers_response]\n",
    "\n",
    "        all_playlists = []\n",
    "        limit = 1000\n",
    "        # Set the limit for each query\n",
    "\n",
    "        offset = 0\n",
    "\n",
    "    \n",
    "        while True:\n",
    "            playlists_response = supabase.table(\"playlists\").select(\"*\").in_(\"follower_id\", lista_follower_ids).range(offset, offset + limit - 1).execute()\n",
    "            if playlists_response.data:\n",
    "                all_playlists.extend(playlists_response.data)  \n",
    "                # Add the retrieved playlists to the list\n",
    "                offset += limit  \n",
    "                # Move to the next set of results\n",
    "            else:\n",
    "                break\n",
    "    return len(all_playlists)\n",
    "obtener_numero_playlists(9)"
   ]
  },
  {
   "cell_type": "code",
   "execution_count": null,
   "metadata": {},
   "outputs": [],
   "source": [
    "from supabase import create_client, Client\n",
    "\n",
    "url = \"your_supabase_url\"\n",
    "key = \"your_supabase_key\"\n",
    "supabase: Client = create_client(url, key)\n",
    "\n",
    "# Step 1: Get all follower_ids where brand_id = 1\n",
    "followers_response = supabase.table(\"followers\").select(\"follower_id\").eq(\"brand_id\", 1).execute()\n",
    "\n",
    "# Check if we got a valid response\n",
    "if followers_response.data:\n",
    "    follower_ids = [follower['follower_id'] for follower in followers_response.data]  # Extract follower_ids\n",
    "\n",
    "    # Step 2: Count the number of playlists for the retrieved follower_ids\n",
    "    playlists_response = supabase.table(\"playlists\").select(\"*\").in_(\"follower_id\", follower_ids).execute()\n",
    "    number_of_playlists = len(playlists_response.data)\n",
    "\n",
    "    print(\"Follower IDs:\", follower_ids)\n",
    "    print(\"Number of playlists for the followers:\", number_of_playlists)\n",
    "else:\n",
    "    print(\"No followers found for brand ID 1.\")"
   ]
  },
  {
   "cell_type": "markdown",
   "metadata": {},
   "source": []
  }
 ],
 "metadata": {
  "kernelspec": {
   "display_name": "Proyecto-Final",
   "language": "python",
   "name": "python3"
  },
  "language_info": {
   "codemirror_mode": {
    "name": "ipython",
    "version": 3
   },
   "file_extension": ".py",
   "mimetype": "text/x-python",
   "name": "python",
   "nbconvert_exporter": "python",
   "pygments_lexer": "ipython3",
   "version": "3.11.9"
  }
 },
 "nbformat": 4,
 "nbformat_minor": 2
}
