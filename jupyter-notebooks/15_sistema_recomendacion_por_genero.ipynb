{
 "cells": [
  {
   "cell_type": "markdown",
   "metadata": {},
   "source": [
    "# Sistema Recomendación por género"
   ]
  },
  {
   "cell_type": "code",
   "execution_count": 9,
   "metadata": {},
   "outputs": [],
   "source": [
    "import sys\n",
    "sys.path.append(\"../\")\n",
    "import pandas as pd\n",
    "from scipy.spatial.distance import pdist, squareform\n",
    "import numpy as np\n",
    "import os\n",
    "import warnings\n",
    "warnings.filterwarnings(\"ignore\")\n",
    "\n",
    "from supabase import create_client, Client\n",
    "from dotenv import load_dotenv\n",
    "# Cargar variables de entorno\n",
    "load_dotenv()\n",
    "\n",
    "# Configuración de Supabase\n",
    "url = os.getenv(\"project_url\")\n",
    "key = os.getenv(\"browser_safe_key\")\n",
    "supabase: Client = create_client(url, key)"
   ]
  },
  {
   "cell_type": "code",
   "execution_count": 10,
   "metadata": {},
   "outputs": [],
   "source": [
    "def get_brand_genre_ranking(supabase_credential,brand_id):\n",
    "    brand_ranking = supabase_credential.table(\"main_genres\").select(\"genre_name\",\"number_of_appearances\").eq(\"brand_id\",brand_id).order(\"number_of_appearances\",desc=True).execute().data\n",
    "    generos = []\n",
    "    apariciones = []\n",
    "    for ranking in brand_ranking:\n",
    "        generos.append(ranking[\"genre_name\"])\n",
    "        apariciones.append(ranking[\"number_of_appearances\"])\n",
    "\n",
    "    brand_df = pd.DataFrame({\n",
    "        \"genero\" : generos,\n",
    "        \"apariciones\" : apariciones\n",
    "    })\n",
    "\n",
    "    brand_df.index = brand_df.index + 1\n",
    "    brand_df.reset_index(inplace=True)\n",
    "    brand_df.columns = [\"ranking\",\"genero\",\"apariciones\"]\n",
    "    brand_df.drop(columns=\"apariciones\",inplace=True)\n",
    "    brand_df[\"genero\"] = brand_df[\"genero\"].astype(str)\n",
    "    return brand_df\n",
    "\n",
    "brand_df = get_brand_genre_ranking(supabase,1)"
   ]
  },
  {
   "cell_type": "code",
   "execution_count": 11,
   "metadata": {},
   "outputs": [],
   "source": [
    "def get_user_genre_ranking(supabase_credential,user_id):\n",
    "    user_ranking = supabase_credential.table(\"user_main_genres\").select(\"genre_name\",\"number_of_appearances\").eq(\"user_id\",user_id).order(\"number_of_appearances\",desc=True).execute().data\n",
    "    generos = []\n",
    "    apariciones = []\n",
    "    for ranking in user_ranking:\n",
    "        generos.append(ranking[\"genre_name\"])\n",
    "        apariciones.append(ranking[\"number_of_appearances\"])\n",
    "\n",
    "    user_df = pd.DataFrame({\n",
    "        \"genero\" : generos,\n",
    "        \"apariciones\" : apariciones\n",
    "    })\n",
    "\n",
    "    user_df.index = user_df.index + 1\n",
    "    user_df.reset_index(inplace=True)\n",
    "    user_df.columns = [\"ranking\",\"genero\",\"apariciones\"]\n",
    "    user_df.drop(columns=\"apariciones\",inplace=True)\n",
    "    user_df[\"genero\"] = user_df[\"genero\"].astype(str)\n",
    "    return user_df\n",
    "\n",
    "user_df = get_user_genre_ranking(supabase,\"gonzaloruiperez\")\n"
   ]
  },
  {
   "cell_type": "markdown",
   "metadata": {},
   "source": [
    "# 1 Buscamos los artistas comunes\n",
    "Dejando unicamente aquellos que coinciden con su posición en cada ranking!"
   ]
  },
  {
   "cell_type": "code",
   "execution_count": null,
   "metadata": {},
   "outputs": [],
   "source": [
    "def obtener_afinidad_por_genero(supabase_credential,brand_id,user_id):\n",
    "    # Obtener los rankings de la marca y el usuario\n",
    "    brand_df = get_brand_genre_ranking(supabase_credential, brand_id)\n",
    "    user_df = get_user_genre_ranking(supabase_credential, user_id)\n",
    "    \n",
    "    # Obtener los generos en común\n",
    "    generos_comunes = set(user_df['genero']).intersection(set(brand_df['genero']))\n",
    "    \n",
    "    # Si no hay generos en común la afinidad es del 0%\n",
    "    if len(generos_comunes) == 0:\n",
    "        return 0.0  \n",
    "    \n",
    "    user_df_filtrado = user_df[user_df['genero'].isin(generos_comunes)]\n",
    "    brand_df_filtrado = brand_df[brand_df['genero'].isin(generos_comunes)]\n",
    "\n",
    "    # Reseteamos el Index\n",
    "    user_df_filtrado.reset_index(drop=True, inplace=True)\n",
    "    brand_df_filtrado.reset_index(drop=True, inplace=True)\n",
    "\n",
    "    # Asignar pesos en base a la posición en el ranking\n",
    "    user_df_filtrado[\"peso\"] = 1 / user_df_filtrado[\"ranking\"]\n",
    "    brand_df_filtrado[\"peso\"] = 1 / brand_df_filtrado[\"ranking\"]\n",
    "\n",
    "    # Normalizar los pesos para evitar sesgos por diferencias de tamaño\n",
    "    user_df_filtrado[\"peso\"] /= user_df_filtrado[\"peso\"].sum()\n",
    "    brand_df_filtrado[\"peso\"] /= brand_df_filtrado[\"peso\"].sum()\n",
    "\n",
    "    # Poner como index genero y peso se queda como columna\n",
    "    pesos_user = user_df_filtrado.set_index(\"genero\")[\"peso\"]\n",
    "    pesos_brand = brand_df_filtrado.set_index(\"genero\")[\"peso\"]\n",
    "\n",
    "    # Ordenamos los generos por orden alfabético para que los vectores estén alineados\n",
    "    sorted_pesos = sorted(set(pesos_user.index).intersection(set(pesos_brand.index)))\n",
    "\n",
    "    # Si solo hay un genero en común, asumimos 100% de afinidad\n",
    "    if len(sorted_pesos) == 1:\n",
    "        return 100.0 \n",
    "\n",
    "    # Generamos los vectores\n",
    "    user_vector = np.array([pesos_user.get(a, 0) for a in sorted_pesos])\n",
    "    brand_vector = np.array([pesos_brand.get(a, 0) for a in sorted_pesos])\n",
    "\n",
    "    # Crear matriz de comparación\n",
    "    matriz_pesos = np.vstack([user_vector, brand_vector])\n",
    "\n",
    "    # Calcular la matriz de distancias con pdist\n",
    "    matriz_distancias = squareform(pdist(matriz_pesos, metric=\"euclidean\"))\n",
    "\n",
    "    # Extraer la distancia entre usuario y marca\n",
    "    distancia = matriz_distancias[0, 1]\n",
    "\n",
    "    # Convertimos la distancia en afinidad (invirtiendo la escala)\n",
    "    afinidad = max(0, (1 - distancia) * 100)\n",
    "\n",
    "    return float(round(afinidad,2))"
   ]
  }
 ],
 "metadata": {
  "kernelspec": {
   "display_name": "Proyecto-Final",
   "language": "python",
   "name": "python3"
  },
  "language_info": {
   "codemirror_mode": {
    "name": "ipython",
    "version": 3
   },
   "file_extension": ".py",
   "mimetype": "text/x-python",
   "name": "python",
   "nbconvert_exporter": "python",
   "pygments_lexer": "ipython3",
   "version": "3.11.9"
  }
 },
 "nbformat": 4,
 "nbformat_minor": 2
}
