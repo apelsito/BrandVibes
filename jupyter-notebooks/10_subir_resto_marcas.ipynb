{
 "cells": [
  {
   "cell_type": "code",
   "execution_count": 1,
   "metadata": {},
   "outputs": [],
   "source": [
    "import sys\n",
    "sys.path.append(\"../\")\n",
    "import pandas as pd\n",
    "import src.soporte_subida_datos_sql as sp"
   ]
  },
  {
   "cell_type": "markdown",
   "metadata": {},
   "source": [
    "# Subir Primark"
   ]
  },
  {
   "cell_type": "markdown",
   "metadata": {},
   "source": [
    "### Followers"
   ]
  },
  {
   "cell_type": "code",
   "execution_count": 6,
   "metadata": {},
   "outputs": [
    {
     "name": "stdout",
     "output_type": "stream",
     "text": [
      "Conectado a la base de datos\n",
      "Conectado a la base de datos\n",
      "Se han añadido los valores correctamente\n"
     ]
    }
   ],
   "source": [
    "primark = pd.read_csv(\"../datos/01 Spotify/02_followers_primark.csv\")\n",
    "followers_primark = sp.obtener_tabla_followers(primark,2)\n",
    "sp.subir_followers(followers_primark)"
   ]
  },
  {
   "cell_type": "markdown",
   "metadata": {},
   "source": [
    "### Playlists"
   ]
  },
  {
   "cell_type": "code",
   "execution_count": 7,
   "metadata": {},
   "outputs": [
    {
     "name": "stdout",
     "output_type": "stream",
     "text": [
      "Conectado a la base de datos\n",
      "Conectado a la base de datos\n",
      "Conectado a la base de datos\n",
      "Se han añadido los valores correctamente\n"
     ]
    }
   ],
   "source": [
    "playlists_primark = sp.obtener_tabla_playlists(primark,2)\n",
    "sp.subir_playlists(playlists_primark)"
   ]
  },
  {
   "cell_type": "markdown",
   "metadata": {},
   "source": [
    "### Reduced_playlists"
   ]
  },
  {
   "cell_type": "code",
   "execution_count": 3,
   "metadata": {},
   "outputs": [
    {
     "name": "stdout",
     "output_type": "stream",
     "text": [
      "Conectado a la base de datos\n",
      "Conectado a la base de datos\n",
      "Conectado a la base de datos\n",
      "Se han añadido los valores correctamente\n"
     ]
    }
   ],
   "source": [
    "reduced_playlists = sp.obtener_tabla_reduced_playlists(primark,2)\n",
    "sp.subir_reduced_playlists(reduced_playlists)"
   ]
  },
  {
   "cell_type": "code",
   "execution_count": 7,
   "metadata": {},
   "outputs": [],
   "source": [
    "resumen_primark = pd.read_csv(\"../datos/01 Spotify/01 Resumen Marcas/resumen_primark.csv\")"
   ]
  },
  {
   "cell_type": "markdown",
   "metadata": {},
   "source": [
    "### Artistas"
   ]
  },
  {
   "cell_type": "code",
   "execution_count": 9,
   "metadata": {},
   "outputs": [
    {
     "name": "stdout",
     "output_type": "stream",
     "text": [
      "Conectado a la base de datos\n",
      "Revisa la tabla antes de subirla!\n",
      "Usa la funcion subir_artistas(artistas) para subir los datos\n",
      "Conectado a la base de datos\n",
      "Se han añadido los valores correctamente\n"
     ]
    }
   ],
   "source": [
    "artistas = sp.obtener_tabla_artistas(resumen_primark, 2, ruta_csv = \"../datos/02 Base de Datos/00_tempsaves/tempsave_artists.csv\")\n",
    "sp.subir_artistas(artistas)"
   ]
  },
  {
   "cell_type": "markdown",
   "metadata": {},
   "source": [
    "### Ranking Artistas"
   ]
  },
  {
   "cell_type": "code",
   "execution_count": 14,
   "metadata": {},
   "outputs": [
    {
     "name": "stdout",
     "output_type": "stream",
     "text": [
      "Conectado a la base de datos\n",
      "Revisa la tabla antes de subirla!\n",
      "Usa la funcion subir_ranking_artistas(ranking_df) para subir los datos\n",
      "Conectado a la base de datos\n",
      "Se han añadido los valores correctamente\n"
     ]
    }
   ],
   "source": [
    "ranking_artistas = sp.obtener_ranking_artistas(resumen_primark,2)\n",
    "sp.subir_ranking_artistas(ranking_artistas)"
   ]
  },
  {
   "cell_type": "markdown",
   "metadata": {},
   "source": [
    "### Main_genres"
   ]
  },
  {
   "cell_type": "code",
   "execution_count": 15,
   "metadata": {},
   "outputs": [
    {
     "name": "stdout",
     "output_type": "stream",
     "text": [
      "Conectado a la base de datos\n",
      "Revisa la tabla para asegurarte de que los generos principales esten bien mapeados\n",
      "Si no rellena el json con los faltantes y vuelve a ejecutar la funcion\n",
      "Después ejecuta la función obtener_main_genres(generos) para subir los datos\n",
      "Revisa la tabla antes de subirla!\n",
      "Usa la funcion subir_main_genres(main_generos) para subir los datos\n",
      "Conectado a la base de datos\n",
      "Se han añadido los valores correctamente\n"
     ]
    }
   ],
   "source": [
    "main_genres = sp.mapear_main_genres(resumen_primark,2)\n",
    "main_genres = sp.obtener_main_genres(main_genres,2)\n",
    "sp.subir_main_genres(main_genres)"
   ]
  },
  {
   "cell_type": "markdown",
   "metadata": {},
   "source": [
    "### Subgenres"
   ]
  },
  {
   "cell_type": "code",
   "execution_count": 16,
   "metadata": {},
   "outputs": [
    {
     "name": "stdout",
     "output_type": "stream",
     "text": [
      "Conectado a la base de datos\n",
      "Revisa la tabla para asegurarte de que los generos principales esten bien mapeados\n",
      "Si no rellena el json con los faltantes y vuelve a ejecutar la funcion\n",
      "Después ejecuta la función obtener_main_genres(generos) para subir los datos\n",
      "Conectado a la base de datos\n",
      "Conectado a la base de datos\n",
      "Revisa la tabla antes de subirla!\n",
      "Usa la funcion subir_main_genres(main_generos) para subir los datos\n",
      "Conectado a la base de datos\n",
      "Se han añadido los valores correctamente\n"
     ]
    }
   ],
   "source": [
    "subgenres_m = sp.mapear_main_genres(resumen_primark,2)\n",
    "subgenres = sp.obtener_subgenres(subgenres_m,2)\n",
    "sp.subir_subgenres(subgenres)"
   ]
  }
 ],
 "metadata": {
  "kernelspec": {
   "display_name": "Proyecto-Final",
   "language": "python",
   "name": "python3"
  },
  "language_info": {
   "codemirror_mode": {
    "name": "ipython",
    "version": 3
   },
   "file_extension": ".py",
   "mimetype": "text/x-python",
   "name": "python",
   "nbconvert_exporter": "python",
   "pygments_lexer": "ipython3",
   "version": "3.11.9"
  }
 },
 "nbformat": 4,
 "nbformat_minor": 2
}
