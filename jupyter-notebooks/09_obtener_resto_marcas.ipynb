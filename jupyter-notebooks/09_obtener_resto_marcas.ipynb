{
 "cells": [
  {
   "cell_type": "markdown",
   "metadata": {},
   "source": [
    "# Extracción del resto de marcas\n",
    "- Usando las funciones fabricadas a partir de lo aprendido con Zara"
   ]
  },
  {
   "cell_type": "code",
   "execution_count": 1,
   "metadata": {},
   "outputs": [],
   "source": [
    "import sys\n",
    "import pandas as pd\n",
    "sys.path.append(\"../\")\n",
    "import src.soporte_extraccion_datos as ex"
   ]
  },
  {
   "cell_type": "markdown",
   "metadata": {},
   "source": [
    "# Primark"
   ]
  },
  {
   "cell_type": "code",
   "execution_count": 2,
   "metadata": {},
   "outputs": [],
   "source": [
    "primark = pd.read_csv(\"../datos/01 Spotify/02_followers_primark.csv\",index_col=0)"
   ]
  },
  {
   "cell_type": "markdown",
   "metadata": {},
   "source": [
    "### Extraemos el id de los artistas de las 10 primeras playlists de cada usuario"
   ]
  },
  {
   "cell_type": "code",
   "execution_count": null,
   "metadata": {},
   "outputs": [
    {
     "name": "stderr",
     "output_type": "stream",
     "text": [
      "Obteniendo artistas: 100%|██████████| 934/934 [00:00<00:00, 103328.14it/s]\n"
     ]
    }
   ],
   "source": [
    "primark_artists = ex.obtener_id_artistas(primark,output_file=\"../datos/01 Spotify/00 TempSaves/00_tempsave_primark.csv\")\n",
    "resumen_primark = ex.tabla_resumen(primark_artists,\n",
    "                                   followers_path=\"../datos/01 Spotify/02_followers_primark.csv\",\n",
    "                                   resumen_path=\"../datos/01 Spotify/01 Resumen Marcas/resumen_primark.csv\")"
   ]
  },
  {
   "cell_type": "code",
   "execution_count": 6,
   "metadata": {},
   "outputs": [
    {
     "name": "stderr",
     "output_type": "stream",
     "text": [
      "Generando Urls: 100%|██████████| 1416/1416 [00:00<00:00, 351677.79it/s]\n",
      "Realizando Petición a Spotify:   7%|▋         | 100/1416 [00:21<04:31,  4.84it/s]"
     ]
    },
    {
     "name": "stdout",
     "output_type": "stream",
     "text": [
      "Rate limit alcanzado. Esperando 8.32 segundos...\n"
     ]
    },
    {
     "name": "stderr",
     "output_type": "stream",
     "text": [
      "Realizando Petición a Spotify:  21%|██        | 300/1416 [01:22<04:38,  4.00it/s]"
     ]
    },
    {
     "name": "stdout",
     "output_type": "stream",
     "text": [
      "Rate limit alcanzado. Esperando 10.44 segundos...\n"
     ]
    },
    {
     "name": "stderr",
     "output_type": "stream",
     "text": [
      "Realizando Petición a Spotify:  28%|██▊       | 400/1416 [01:52<03:25,  4.93it/s]  "
     ]
    },
    {
     "name": "stdout",
     "output_type": "stream",
     "text": [
      "Rate limit alcanzado. Esperando 9.83 segundos...\n"
     ]
    },
    {
     "name": "stderr",
     "output_type": "stream",
     "text": [
      "Realizando Petición a Spotify:  42%|████▏     | 600/1416 [03:18<02:48,  4.84it/s]  "
     ]
    },
    {
     "name": "stdout",
     "output_type": "stream",
     "text": [
      "Rate limit alcanzado. Esperando 9.58 segundos...\n"
     ]
    },
    {
     "name": "stderr",
     "output_type": "stream",
     "text": [
      "Realizando Petición a Spotify:  49%|████▉     | 700/1416 [03:49<02:15,  5.30it/s]"
     ]
    },
    {
     "name": "stdout",
     "output_type": "stream",
     "text": [
      "Rate limit alcanzado. Esperando 8.89 segundos...\n"
     ]
    },
    {
     "name": "stderr",
     "output_type": "stream",
     "text": [
      "Realizando Petición a Spotify:  56%|█████▋    | 800/1416 [04:19<02:06,  4.88it/s]"
     ]
    },
    {
     "name": "stdout",
     "output_type": "stream",
     "text": [
      "Rate limit alcanzado. Esperando 8.88 segundos...\n"
     ]
    },
    {
     "name": "stderr",
     "output_type": "stream",
     "text": [
      "Realizando Petición a Spotify:  64%|██████▎   | 900/1416 [04:50<01:35,  5.39it/s]"
     ]
    },
    {
     "name": "stdout",
     "output_type": "stream",
     "text": [
      "Rate limit alcanzado. Esperando 8.08 segundos...\n"
     ]
    },
    {
     "name": "stderr",
     "output_type": "stream",
     "text": [
      "Realizando Petición a Spotify:  71%|███████   | 1000/1416 [05:18<01:10,  5.92it/s]"
     ]
    },
    {
     "name": "stdout",
     "output_type": "stream",
     "text": [
      "Rate limit alcanzado. Esperando 9.35 segundos...\n"
     ]
    },
    {
     "name": "stderr",
     "output_type": "stream",
     "text": [
      "Realizando Petición a Spotify:  78%|███████▊  | 1100/1416 [05:47<00:59,  5.32it/s]"
     ]
    },
    {
     "name": "stdout",
     "output_type": "stream",
     "text": [
      "Rate limit alcanzado. Esperando 10.77 segundos...\n"
     ]
    },
    {
     "name": "stderr",
     "output_type": "stream",
     "text": [
      "Realizando Petición a Spotify:  85%|████████▍ | 1200/1416 [06:21<00:39,  5.46it/s]"
     ]
    },
    {
     "name": "stdout",
     "output_type": "stream",
     "text": [
      "Rate limit alcanzado. Esperando 6.97 segundos...\n"
     ]
    },
    {
     "name": "stderr",
     "output_type": "stream",
     "text": [
      "Realizando Petición a Spotify:  92%|█████████▏| 1300/1416 [06:48<00:25,  4.60it/s]"
     ]
    },
    {
     "name": "stdout",
     "output_type": "stream",
     "text": [
      "Rate limit alcanzado. Esperando 9.68 segundos...\n"
     ]
    },
    {
     "name": "stderr",
     "output_type": "stream",
     "text": [
      "Realizando Petición a Spotify:  99%|█████████▉| 1400/1416 [07:19<00:03,  5.20it/s]"
     ]
    },
    {
     "name": "stdout",
     "output_type": "stream",
     "text": [
      "Rate limit alcanzado. Esperando 8.66 segundos...\n"
     ]
    },
    {
     "name": "stderr",
     "output_type": "stream",
     "text": [
      "Realizando Petición a Spotify: 100%|██████████| 1416/1416 [07:31<00:00,  3.14it/s]\n"
     ]
    },
    {
     "data": {
      "text/html": [
       "<div>\n",
       "<style scoped>\n",
       "    .dataframe tbody tr th:only-of-type {\n",
       "        vertical-align: middle;\n",
       "    }\n",
       "\n",
       "    .dataframe tbody tr th {\n",
       "        vertical-align: top;\n",
       "    }\n",
       "\n",
       "    .dataframe thead th {\n",
       "        text-align: right;\n",
       "    }\n",
       "</style>\n",
       "<table border=\"1\" class=\"dataframe\">\n",
       "  <thead>\n",
       "    <tr style=\"text-align: right;\">\n",
       "      <th></th>\n",
       "      <th>brand</th>\n",
       "      <th>followers</th>\n",
       "      <th>unique_artists</th>\n",
       "      <th>artist_ranking</th>\n",
       "      <th>genres</th>\n",
       "      <th>genres_ranking</th>\n",
       "    </tr>\n",
       "  </thead>\n",
       "  <tbody>\n",
       "    <tr>\n",
       "      <th>0</th>\n",
       "      <td>Primark</td>\n",
       "      <td>926</td>\n",
       "      <td>{'1XoVa4Iq4JIdtSOeRsTRsi': 'DeeKay', '7DhyszD4...</td>\n",
       "      <td>[(Ed Sheeran, 515), (David Guetta, 448), (Riha...</td>\n",
       "      <td>['dark trap', 'emo rap', 'horrorcore', 'punk r...</td>\n",
       "      <td>[('musicals', 992), ('classical', 644), ('drum...</td>\n",
       "    </tr>\n",
       "  </tbody>\n",
       "</table>\n",
       "</div>"
      ],
      "text/plain": [
       "     brand  followers                                     unique_artists  \\\n",
       "0  Primark        926  {'1XoVa4Iq4JIdtSOeRsTRsi': 'DeeKay', '7DhyszD4...   \n",
       "\n",
       "                                      artist_ranking  \\\n",
       "0  [(Ed Sheeran, 515), (David Guetta, 448), (Riha...   \n",
       "\n",
       "                                              genres  \\\n",
       "0  ['dark trap', 'emo rap', 'horrorcore', 'punk r...   \n",
       "\n",
       "                                      genres_ranking  \n",
       "0  [('musicals', 992), ('classical', 644), ('drum...  "
      ]
     },
     "execution_count": 6,
     "metadata": {},
     "output_type": "execute_result"
    }
   ],
   "source": [
    "resumen_primark = ex.obtener_generos_artistas(resumen_primark,resumen_path=\"../datos/01 Spotify/01 Resumen Marcas/resumen_primark.csv\")\n",
    "resumen_primark"
   ]
  },
  {
   "cell_type": "markdown",
   "metadata": {},
   "source": [
    "# Nike"
   ]
  },
  {
   "cell_type": "code",
   "execution_count": null,
   "metadata": {},
   "outputs": [],
   "source": [
    "nike = pd.read_csv(\"../datos/01 Spotify/03_followers_nike.csv\",index_col=0)"
   ]
  },
  {
   "cell_type": "markdown",
   "metadata": {},
   "source": [
    "### Extraemos el id de los artistas de las 10 primeras playlists de cada usuario"
   ]
  },
  {
   "cell_type": "code",
   "execution_count": null,
   "metadata": {},
   "outputs": [],
   "source": [
    "nike_artists = ex.obtener_id_artistas(nike,output_file=\"../datos/01 Spotify/00 TempSaves/00_tempsave_nike.csv\")\n",
    "resumen_nike = ex.tabla_resumen(nike_artists,\n",
    "                                followers_path=\"../datos/01 Spotify/03_followers_nike.csv\",\n",
    "                                resumen_path=\"../datos/01 Spotify/01 Resumen Marcas/resumen_nike.csv\")"
   ]
  },
  {
   "cell_type": "code",
   "execution_count": null,
   "metadata": {},
   "outputs": [],
   "source": [
    "resumen_nike = ex.obtener_generos_artistas(resumen_nike,resumen_path=\"../datos/01 Spotify/01 Resumen Marcas/resumen_nike.csv\")\n",
    "resumen_nike"
   ]
  },
  {
   "cell_type": "markdown",
   "metadata": {},
   "source": [
    "# Adidas"
   ]
  },
  {
   "cell_type": "code",
   "execution_count": null,
   "metadata": {},
   "outputs": [],
   "source": [
    "adidas = pd.read_csv(\"../datos/01 Spotify/04_followers_adidas.csv\",index_col=0)"
   ]
  },
  {
   "cell_type": "code",
   "execution_count": null,
   "metadata": {},
   "outputs": [],
   "source": [
    "adidas_artists = ex.obtener_id_artistas(adidas,output_file=\"../datos/01 Spotify/00 TempSaves/00_tempsave_adidas.csv\")"
   ]
  },
  {
   "cell_type": "code",
   "execution_count": null,
   "metadata": {},
   "outputs": [],
   "source": [
    "adidas_artists"
   ]
  },
  {
   "cell_type": "markdown",
   "metadata": {},
   "source": [
    "# H&M"
   ]
  },
  {
   "cell_type": "code",
   "execution_count": null,
   "metadata": {},
   "outputs": [],
   "source": [
    "hm = pd.read_csv(\"../datos/01 Spotify/05_followers_hm.csv\",index_col=0)"
   ]
  },
  {
   "cell_type": "code",
   "execution_count": null,
   "metadata": {},
   "outputs": [],
   "source": [
    "hm_artists = ex.obtener_id_artistas(hm,output_file=\"../datos/01 Spotify/00 TempSaves/00_tempsave_hm.csv\")"
   ]
  },
  {
   "cell_type": "code",
   "execution_count": null,
   "metadata": {},
   "outputs": [],
   "source": [
    "hm_artists"
   ]
  },
  {
   "cell_type": "markdown",
   "metadata": {},
   "source": [
    "# Pull & Bear"
   ]
  },
  {
   "cell_type": "code",
   "execution_count": null,
   "metadata": {},
   "outputs": [],
   "source": [
    "pullbear = pd.read_csv(\"../datos/01 Spotify/06_followers_pull_and_bear.csv\",index_col=0)"
   ]
  },
  {
   "cell_type": "markdown",
   "metadata": {},
   "source": [
    "# Bershka"
   ]
  },
  {
   "cell_type": "code",
   "execution_count": null,
   "metadata": {},
   "outputs": [],
   "source": [
    "bershka = pd.read_csv(\"../datos/01 Spotify/07_followers_bershka.csv\",index_col=0)"
   ]
  },
  {
   "cell_type": "markdown",
   "metadata": {},
   "source": [
    "# Stradivarius"
   ]
  },
  {
   "cell_type": "code",
   "execution_count": null,
   "metadata": {},
   "outputs": [],
   "source": [
    "stradivarius = pd.read_csv(\"../datos/01 Spotify/08_followers_stradivarius.csv\",index_col=0)"
   ]
  },
  {
   "cell_type": "markdown",
   "metadata": {},
   "source": [
    "# Mango"
   ]
  },
  {
   "cell_type": "code",
   "execution_count": null,
   "metadata": {},
   "outputs": [],
   "source": [
    "mango = pd.read_csv(\"../datos/01 Spotify/09_followers_mango.csv\",index_col=0)"
   ]
  },
  {
   "cell_type": "markdown",
   "metadata": {},
   "source": [
    "# Desigual"
   ]
  },
  {
   "cell_type": "code",
   "execution_count": null,
   "metadata": {},
   "outputs": [],
   "source": [
    "desigual = pd.read_csv(\"../datos/01 Spotify/10_followers_desigual.csv\",index_col=0)"
   ]
  }
 ],
 "metadata": {
  "kernelspec": {
   "display_name": "Proyecto-Final",
   "language": "python",
   "name": "python3"
  },
  "language_info": {
   "codemirror_mode": {
    "name": "ipython",
    "version": 3
   },
   "file_extension": ".py",
   "mimetype": "text/x-python",
   "name": "python",
   "nbconvert_exporter": "python",
   "pygments_lexer": "ipython3",
   "version": "3.11.9"
  }
 },
 "nbformat": 4,
 "nbformat_minor": 2
}
