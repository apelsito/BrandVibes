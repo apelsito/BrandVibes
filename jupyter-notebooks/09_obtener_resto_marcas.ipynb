{
 "cells": [
  {
   "cell_type": "markdown",
   "metadata": {},
   "source": [
    "# Extracción del resto de marcas\n",
    "- Usando las funciones fabricadas a partir de lo aprendido con Zara"
   ]
  },
  {
   "cell_type": "code",
   "execution_count": 9,
   "metadata": {},
   "outputs": [],
   "source": [
    "import sys\n",
    "import pandas as pd\n",
    "sys.path.append(\"../\")\n",
    "import src.soporte_extraccion_datos as ex"
   ]
  },
  {
   "cell_type": "markdown",
   "metadata": {},
   "source": [
    "# Primark"
   ]
  },
  {
   "cell_type": "code",
   "execution_count": 10,
   "metadata": {},
   "outputs": [],
   "source": [
    "primark = pd.read_csv(\"../datos/01 Spotify/02_followers_primark.csv\",index_col=0)"
   ]
  },
  {
   "cell_type": "markdown",
   "metadata": {},
   "source": [
    "### Extraemos el id de los artistas de las 10 primeras playlists de cada usuario"
   ]
  },
  {
   "cell_type": "code",
   "execution_count": 6,
   "metadata": {},
   "outputs": [
    {
     "name": "stderr",
     "output_type": "stream",
     "text": [
      "Obteniendo artistas: 100%|██████████| 934/934 [00:00<00:00, 109043.03it/s]\n"
     ]
    }
   ],
   "source": [
    "primark_artists = ex.obtener_id_artistas(primark,output_file=\"../datos/01 Spotify/00 TempSaves/00_tempsave_primark.csv\")\n",
    "resumen_primark = ex.tabla_resumen(primark_artists,\n",
    "                                   followers_path=\"../datos/01 Spotify/02_followers_primark.csv\",\n",
    "                                   resumen_path=\"../datos/01 Spotify/01 Resumen Marcas/resumen_primark.csv\")"
   ]
  },
  {
   "cell_type": "code",
   "execution_count": 11,
   "metadata": {},
   "outputs": [
    {
     "name": "stderr",
     "output_type": "stream",
     "text": [
      "Generando Urls: 100%|██████████| 1416/1416 [00:00<00:00, 565201.22it/s]\n",
      "Realizando Petición a Spotify:   7%|▋         | 100/1416 [00:18<04:06,  5.33it/s]"
     ]
    },
    {
     "name": "stdout",
     "output_type": "stream",
     "text": [
      "Rate limit alcanzado. Esperando 11.45 segundos...\n"
     ]
    },
    {
     "name": "stderr",
     "output_type": "stream",
     "text": [
      "Realizando Petición a Spotify:  14%|█▍        | 200/1416 [00:47<03:14,  6.26it/s]  "
     ]
    },
    {
     "name": "stdout",
     "output_type": "stream",
     "text": [
      "Rate limit alcanzado. Esperando 12.73 segundos...\n"
     ]
    },
    {
     "name": "stderr",
     "output_type": "stream",
     "text": [
      "Realizando Petición a Spotify:  21%|██        | 300/1416 [01:16<03:41,  5.05it/s]  "
     ]
    },
    {
     "name": "stdout",
     "output_type": "stream",
     "text": [
      "Rate limit alcanzado. Esperando 13.11 segundos...\n"
     ]
    },
    {
     "name": "stderr",
     "output_type": "stream",
     "text": [
      "Realizando Petición a Spotify:  28%|██▊       | 400/1416 [01:47<02:36,  6.50it/s]  "
     ]
    },
    {
     "name": "stdout",
     "output_type": "stream",
     "text": [
      "Rate limit alcanzado. Esperando 12.97 segundos...\n"
     ]
    },
    {
     "name": "stderr",
     "output_type": "stream",
     "text": [
      "Realizando Petición a Spotify:  35%|███▌      | 500/1416 [02:17<03:38,  4.19it/s]  "
     ]
    },
    {
     "name": "stdout",
     "output_type": "stream",
     "text": [
      "Rate limit alcanzado. Esperando 12.23 segundos...\n"
     ]
    },
    {
     "name": "stderr",
     "output_type": "stream",
     "text": [
      "Realizando Petición a Spotify:  42%|████▏     | 600/1416 [02:46<02:17,  5.93it/s]"
     ]
    },
    {
     "name": "stdout",
     "output_type": "stream",
     "text": [
      "Rate limit alcanzado. Esperando 13.09 segundos...\n"
     ]
    },
    {
     "name": "stderr",
     "output_type": "stream",
     "text": [
      "Realizando Petición a Spotify:  49%|████▉     | 700/1416 [03:16<01:50,  6.46it/s]"
     ]
    },
    {
     "name": "stdout",
     "output_type": "stream",
     "text": [
      "Rate limit alcanzado. Esperando 13.47 segundos...\n"
     ]
    },
    {
     "name": "stderr",
     "output_type": "stream",
     "text": [
      "Realizando Petición a Spotify:  56%|█████▋    | 800/1416 [03:48<02:15,  4.56it/s]"
     ]
    },
    {
     "name": "stdout",
     "output_type": "stream",
     "text": [
      "Rate limit alcanzado. Esperando 11.53 segundos...\n"
     ]
    },
    {
     "name": "stderr",
     "output_type": "stream",
     "text": [
      "Realizando Petición a Spotify:  64%|██████▎   | 900/1416 [04:16<01:24,  6.11it/s]"
     ]
    },
    {
     "name": "stdout",
     "output_type": "stream",
     "text": [
      "Rate limit alcanzado. Esperando 13.20 segundos...\n"
     ]
    },
    {
     "name": "stderr",
     "output_type": "stream",
     "text": [
      "Realizando Petición a Spotify:  71%|███████   | 1000/1416 [04:46<01:01,  6.77it/s]"
     ]
    },
    {
     "name": "stdout",
     "output_type": "stream",
     "text": [
      "Rate limit alcanzado. Esperando 13.98 segundos...\n"
     ]
    },
    {
     "name": "stderr",
     "output_type": "stream",
     "text": [
      "Realizando Petición a Spotify:  78%|███████▊  | 1100/1416 [05:17<00:52,  5.96it/s]"
     ]
    },
    {
     "name": "stdout",
     "output_type": "stream",
     "text": [
      "Rate limit alcanzado. Esperando 12.89 segundos...\n"
     ]
    },
    {
     "name": "stderr",
     "output_type": "stream",
     "text": [
      "Realizando Petición a Spotify:  85%|████████▍ | 1200/1416 [05:50<00:37,  5.77it/s]"
     ]
    },
    {
     "name": "stdout",
     "output_type": "stream",
     "text": [
      "Rate limit alcanzado. Esperando 9.41 segundos...\n"
     ]
    },
    {
     "name": "stderr",
     "output_type": "stream",
     "text": [
      "Realizando Petición a Spotify:  92%|█████████▏| 1300/1416 [06:17<00:19,  5.84it/s]"
     ]
    },
    {
     "name": "stdout",
     "output_type": "stream",
     "text": [
      "Rate limit alcanzado. Esperando 12.26 segundos...\n"
     ]
    },
    {
     "name": "stderr",
     "output_type": "stream",
     "text": [
      "Realizando Petición a Spotify:  99%|█████████▉| 1400/1416 [06:46<00:02,  6.34it/s]"
     ]
    },
    {
     "name": "stdout",
     "output_type": "stream",
     "text": [
      "Rate limit alcanzado. Esperando 13.06 segundos...\n"
     ]
    },
    {
     "name": "stderr",
     "output_type": "stream",
     "text": [
      "Realizando Petición a Spotify: 100%|██████████| 1416/1416 [07:02<00:00,  3.35it/s]\n"
     ]
    },
    {
     "data": {
      "text/html": [
       "<div>\n",
       "<style scoped>\n",
       "    .dataframe tbody tr th:only-of-type {\n",
       "        vertical-align: middle;\n",
       "    }\n",
       "\n",
       "    .dataframe tbody tr th {\n",
       "        vertical-align: top;\n",
       "    }\n",
       "\n",
       "    .dataframe thead th {\n",
       "        text-align: right;\n",
       "    }\n",
       "</style>\n",
       "<table border=\"1\" class=\"dataframe\">\n",
       "  <thead>\n",
       "    <tr style=\"text-align: right;\">\n",
       "      <th></th>\n",
       "      <th>brand</th>\n",
       "      <th>followers</th>\n",
       "      <th>unique_artists</th>\n",
       "      <th>artist_ranking</th>\n",
       "      <th>genres</th>\n",
       "      <th>genres_ranking</th>\n",
       "    </tr>\n",
       "  </thead>\n",
       "  <tbody>\n",
       "    <tr>\n",
       "      <th>0</th>\n",
       "      <td>Primark</td>\n",
       "      <td>926</td>\n",
       "      <td>{'1XoVa4Iq4JIdtSOeRsTRsi': 'DeeKay', '7DhyszD4...</td>\n",
       "      <td>[(Ed Sheeran, 515), (David Guetta, 448), (Riha...</td>\n",
       "      <td>['dark trap', 'emo rap', 'horrorcore', 'punk r...</td>\n",
       "      <td>[('musicals', 990), ('classical', 642), ('drum...</td>\n",
       "    </tr>\n",
       "  </tbody>\n",
       "</table>\n",
       "</div>"
      ],
      "text/plain": [
       "     brand  followers                                     unique_artists  \\\n",
       "0  Primark        926  {'1XoVa4Iq4JIdtSOeRsTRsi': 'DeeKay', '7DhyszD4...   \n",
       "\n",
       "                                      artist_ranking  \\\n",
       "0  [(Ed Sheeran, 515), (David Guetta, 448), (Riha...   \n",
       "\n",
       "                                              genres  \\\n",
       "0  ['dark trap', 'emo rap', 'horrorcore', 'punk r...   \n",
       "\n",
       "                                      genres_ranking  \n",
       "0  [('musicals', 990), ('classical', 642), ('drum...  "
      ]
     },
     "execution_count": 11,
     "metadata": {},
     "output_type": "execute_result"
    }
   ],
   "source": [
    "resumen_primark = ex.obtener_generos_artistas(resumen_primark,resumen_path=\"../datos/01 Spotify/01 Resumen Marcas/resumen_primark.csv\")\n",
    "resumen_primark"
   ]
  },
  {
   "cell_type": "markdown",
   "metadata": {},
   "source": [
    "# Nike"
   ]
  },
  {
   "cell_type": "code",
   "execution_count": 2,
   "metadata": {},
   "outputs": [],
   "source": [
    "nike = pd.read_csv(\"../datos/01 Spotify/03_followers_nike.csv\",index_col=0)"
   ]
  },
  {
   "cell_type": "markdown",
   "metadata": {},
   "source": [
    "### Extraemos el id de los artistas de las 10 primeras playlists de cada usuario"
   ]
  },
  {
   "cell_type": "code",
   "execution_count": 3,
   "metadata": {},
   "outputs": [
    {
     "name": "stderr",
     "output_type": "stream",
     "text": [
      "Obteniendo artistas: 100%|██████████| 878/878 [00:39<00:00, 22.32it/s] \n"
     ]
    }
   ],
   "source": [
    "nike_artists = ex.obtener_id_artistas(nike,output_file=\"../datos/01 Spotify/00 TempSaves/00_tempsave_nike.csv\")\n",
    "resumen_nike = ex.tabla_resumen(nike_artists,\n",
    "                                followers_path=\"../datos/01 Spotify/03_followers_nike.csv\",\n",
    "                                resumen_path=\"../datos/01 Spotify/01 Resumen Marcas/resumen_nike.csv\")"
   ]
  },
  {
   "cell_type": "code",
   "execution_count": 4,
   "metadata": {},
   "outputs": [
    {
     "name": "stderr",
     "output_type": "stream",
     "text": [
      "Generando Urls: 100%|██████████| 1562/1562 [00:00<00:00, 442818.71it/s]\n",
      "Realizando Petición a Spotify:   6%|▋         | 100/1562 [00:21<05:21,  4.55it/s]"
     ]
    },
    {
     "name": "stdout",
     "output_type": "stream",
     "text": [
      "Rate limit alcanzado. Esperando 8.18 segundos...\n"
     ]
    },
    {
     "name": "stderr",
     "output_type": "stream",
     "text": [
      "Realizando Petición a Spotify:  13%|█▎        | 200/1562 [00:50<04:14,  5.34it/s]  "
     ]
    },
    {
     "name": "stdout",
     "output_type": "stream",
     "text": [
      "Rate limit alcanzado. Esperando 9.74 segundos...\n"
     ]
    },
    {
     "name": "stderr",
     "output_type": "stream",
     "text": [
      "Realizando Petición a Spotify:  19%|█▉        | 300/1562 [01:20<04:30,  4.67it/s]  "
     ]
    },
    {
     "name": "stdout",
     "output_type": "stream",
     "text": [
      "Rate limit alcanzado. Esperando 9.01 segundos...\n"
     ]
    },
    {
     "name": "stderr",
     "output_type": "stream",
     "text": [
      "Realizando Petición a Spotify:  26%|██▌       | 400/1562 [01:51<03:49,  5.07it/s]  "
     ]
    },
    {
     "name": "stdout",
     "output_type": "stream",
     "text": [
      "Rate limit alcanzado. Esperando 8.66 segundos...\n"
     ]
    },
    {
     "name": "stderr",
     "output_type": "stream",
     "text": [
      "Realizando Petición a Spotify:  32%|███▏      | 500/1562 [02:24<03:28,  5.09it/s]"
     ]
    },
    {
     "name": "stdout",
     "output_type": "stream",
     "text": [
      "Rate limit alcanzado. Esperando 5.12 segundos...\n"
     ]
    },
    {
     "name": "stderr",
     "output_type": "stream",
     "text": [
      "Realizando Petición a Spotify:  38%|███▊      | 600/1562 [02:50<03:17,  4.88it/s]"
     ]
    },
    {
     "name": "stdout",
     "output_type": "stream",
     "text": [
      "Rate limit alcanzado. Esperando 9.21 segundos...\n"
     ]
    },
    {
     "name": "stderr",
     "output_type": "stream",
     "text": [
      "Realizando Petición a Spotify:  45%|████▍     | 700/1562 [03:23<02:52,  5.01it/s]"
     ]
    },
    {
     "name": "stdout",
     "output_type": "stream",
     "text": [
      "Rate limit alcanzado. Esperando 6.63 segundos...\n"
     ]
    },
    {
     "name": "stderr",
     "output_type": "stream",
     "text": [
      "Realizando Petición a Spotify:  51%|█████     | 800/1562 [03:51<02:46,  4.59it/s]"
     ]
    },
    {
     "name": "stdout",
     "output_type": "stream",
     "text": [
      "Rate limit alcanzado. Esperando 8.31 segundos...\n"
     ]
    },
    {
     "name": "stderr",
     "output_type": "stream",
     "text": [
      "Realizando Petición a Spotify:  58%|█████▊    | 900/1562 [04:21<02:14,  4.91it/s]"
     ]
    },
    {
     "name": "stdout",
     "output_type": "stream",
     "text": [
      "Rate limit alcanzado. Esperando 8.93 segundos...\n"
     ]
    },
    {
     "name": "stderr",
     "output_type": "stream",
     "text": [
      "Realizando Petición a Spotify:  64%|██████▍   | 1000/1562 [04:50<01:47,  5.21it/s]"
     ]
    },
    {
     "name": "stdout",
     "output_type": "stream",
     "text": [
      "Rate limit alcanzado. Esperando 9.09 segundos...\n"
     ]
    },
    {
     "name": "stderr",
     "output_type": "stream",
     "text": [
      "Realizando Petición a Spotify:  70%|███████   | 1100/1562 [05:20<01:47,  4.31it/s]"
     ]
    },
    {
     "name": "stdout",
     "output_type": "stream",
     "text": [
      "Rate limit alcanzado. Esperando 9.80 segundos...\n"
     ]
    },
    {
     "name": "stderr",
     "output_type": "stream",
     "text": [
      "Realizando Petición a Spotify:  77%|███████▋  | 1200/1562 [05:50<01:39,  3.65it/s]"
     ]
    },
    {
     "name": "stdout",
     "output_type": "stream",
     "text": [
      "Rate limit alcanzado. Esperando 9.26 segundos...\n"
     ]
    },
    {
     "name": "stderr",
     "output_type": "stream",
     "text": [
      "Realizando Petición a Spotify:  83%|████████▎ | 1300/1562 [06:20<00:50,  5.16it/s]"
     ]
    },
    {
     "name": "stdout",
     "output_type": "stream",
     "text": [
      "Rate limit alcanzado. Esperando 9.12 segundos...\n"
     ]
    },
    {
     "name": "stderr",
     "output_type": "stream",
     "text": [
      "Realizando Petición a Spotify:  90%|████████▉ | 1400/1562 [06:50<00:33,  4.77it/s]"
     ]
    },
    {
     "name": "stdout",
     "output_type": "stream",
     "text": [
      "Rate limit alcanzado. Esperando 9.34 segundos...\n"
     ]
    },
    {
     "name": "stderr",
     "output_type": "stream",
     "text": [
      "Realizando Petición a Spotify:  96%|█████████▌| 1500/1562 [07:20<00:14,  4.26it/s]"
     ]
    },
    {
     "name": "stdout",
     "output_type": "stream",
     "text": [
      "Rate limit alcanzado. Esperando 9.44 segundos...\n"
     ]
    },
    {
     "name": "stderr",
     "output_type": "stream",
     "text": [
      "Realizando Petición a Spotify: 100%|██████████| 1562/1562 [07:41<00:00,  3.38it/s]\n"
     ]
    },
    {
     "data": {
      "text/html": [
       "<div>\n",
       "<style scoped>\n",
       "    .dataframe tbody tr th:only-of-type {\n",
       "        vertical-align: middle;\n",
       "    }\n",
       "\n",
       "    .dataframe tbody tr th {\n",
       "        vertical-align: top;\n",
       "    }\n",
       "\n",
       "    .dataframe thead th {\n",
       "        text-align: right;\n",
       "    }\n",
       "</style>\n",
       "<table border=\"1\" class=\"dataframe\">\n",
       "  <thead>\n",
       "    <tr style=\"text-align: right;\">\n",
       "      <th></th>\n",
       "      <th>brand</th>\n",
       "      <th>followers</th>\n",
       "      <th>unique_artists</th>\n",
       "      <th>artist_ranking</th>\n",
       "      <th>genres</th>\n",
       "      <th>genres_ranking</th>\n",
       "    </tr>\n",
       "  </thead>\n",
       "  <tbody>\n",
       "    <tr>\n",
       "      <th>0</th>\n",
       "      <td>Nike</td>\n",
       "      <td>874</td>\n",
       "      <td>{'7e52Ytzjj1q71DUj2cSlch': 'Sarah Connor', '7d...</td>\n",
       "      <td>[(Drake, 378), (Rihanna, 345), (Justin Bieber,...</td>\n",
       "      <td>['german pop', 'christmas', 'rap', 'hip hop', ...</td>\n",
       "      <td>[('lo-fi', 823), ('techno', 808), ('trance', 7...</td>\n",
       "    </tr>\n",
       "  </tbody>\n",
       "</table>\n",
       "</div>"
      ],
      "text/plain": [
       "  brand  followers                                     unique_artists  \\\n",
       "0  Nike        874  {'7e52Ytzjj1q71DUj2cSlch': 'Sarah Connor', '7d...   \n",
       "\n",
       "                                      artist_ranking  \\\n",
       "0  [(Drake, 378), (Rihanna, 345), (Justin Bieber,...   \n",
       "\n",
       "                                              genres  \\\n",
       "0  ['german pop', 'christmas', 'rap', 'hip hop', ...   \n",
       "\n",
       "                                      genres_ranking  \n",
       "0  [('lo-fi', 823), ('techno', 808), ('trance', 7...  "
      ]
     },
     "execution_count": 4,
     "metadata": {},
     "output_type": "execute_result"
    }
   ],
   "source": [
    "resumen_nike = ex.obtener_generos_artistas(resumen_nike,resumen_path=\"../datos/01 Spotify/01 Resumen Marcas/resumen_nike.csv\")\n",
    "resumen_nike"
   ]
  },
  {
   "cell_type": "markdown",
   "metadata": {},
   "source": [
    "# Adidas"
   ]
  },
  {
   "cell_type": "code",
   "execution_count": null,
   "metadata": {},
   "outputs": [],
   "source": [
    "adidas = pd.read_csv(\"../datos/01 Spotify/04_followers_adidas.csv\",index_col=0)"
   ]
  },
  {
   "cell_type": "code",
   "execution_count": null,
   "metadata": {},
   "outputs": [],
   "source": [
    "adidas_artists = ex.obtener_id_artistas(adidas,output_file=\"../datos/01 Spotify/00 TempSaves/00_tempsave_adidas.csv\")"
   ]
  },
  {
   "cell_type": "code",
   "execution_count": null,
   "metadata": {},
   "outputs": [],
   "source": [
    "adidas_artists"
   ]
  },
  {
   "cell_type": "markdown",
   "metadata": {},
   "source": [
    "# H&M"
   ]
  },
  {
   "cell_type": "code",
   "execution_count": null,
   "metadata": {},
   "outputs": [],
   "source": [
    "hm = pd.read_csv(\"../datos/01 Spotify/05_followers_hm.csv\",index_col=0)"
   ]
  },
  {
   "cell_type": "code",
   "execution_count": null,
   "metadata": {},
   "outputs": [],
   "source": [
    "hm_artists = ex.obtener_id_artistas(hm,output_file=\"../datos/01 Spotify/00 TempSaves/00_tempsave_hm.csv\")"
   ]
  },
  {
   "cell_type": "code",
   "execution_count": null,
   "metadata": {},
   "outputs": [],
   "source": [
    "hm_artists"
   ]
  },
  {
   "cell_type": "markdown",
   "metadata": {},
   "source": [
    "# Pull & Bear"
   ]
  },
  {
   "cell_type": "code",
   "execution_count": null,
   "metadata": {},
   "outputs": [],
   "source": [
    "pullbear = pd.read_csv(\"../datos/01 Spotify/06_followers_pull_and_bear.csv\",index_col=0)"
   ]
  },
  {
   "cell_type": "markdown",
   "metadata": {},
   "source": [
    "# Bershka"
   ]
  },
  {
   "cell_type": "code",
   "execution_count": null,
   "metadata": {},
   "outputs": [],
   "source": [
    "bershka = pd.read_csv(\"../datos/01 Spotify/07_followers_bershka.csv\",index_col=0)"
   ]
  },
  {
   "cell_type": "markdown",
   "metadata": {},
   "source": [
    "# Stradivarius"
   ]
  },
  {
   "cell_type": "code",
   "execution_count": null,
   "metadata": {},
   "outputs": [],
   "source": [
    "stradivarius = pd.read_csv(\"../datos/01 Spotify/08_followers_stradivarius.csv\",index_col=0)"
   ]
  },
  {
   "cell_type": "markdown",
   "metadata": {},
   "source": [
    "# Mango"
   ]
  },
  {
   "cell_type": "code",
   "execution_count": null,
   "metadata": {},
   "outputs": [],
   "source": [
    "mango = pd.read_csv(\"../datos/01 Spotify/09_followers_mango.csv\",index_col=0)"
   ]
  },
  {
   "cell_type": "markdown",
   "metadata": {},
   "source": [
    "# Desigual"
   ]
  },
  {
   "cell_type": "code",
   "execution_count": null,
   "metadata": {},
   "outputs": [],
   "source": [
    "desigual = pd.read_csv(\"../datos/01 Spotify/10_followers_desigual.csv\",index_col=0)"
   ]
  }
 ],
 "metadata": {
  "kernelspec": {
   "display_name": "Proyecto-Final",
   "language": "python",
   "name": "python3"
  },
  "language_info": {
   "codemirror_mode": {
    "name": "ipython",
    "version": 3
   },
   "file_extension": ".py",
   "mimetype": "text/x-python",
   "name": "python",
   "nbconvert_exporter": "python",
   "pygments_lexer": "ipython3",
   "version": "3.11.9"
  }
 },
 "nbformat": 4,
 "nbformat_minor": 2
}
