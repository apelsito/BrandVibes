{
 "cells": [
  {
   "cell_type": "markdown",
   "metadata": {},
   "source": [
    "# Contexto\n",
    "- La idea es guardar a los usuarios que se unan la primera vez en la base de datos\n",
    "- Así cuando el usuario vuelva, se comprobara si ya tenemos su información\n",
    "- Si tenemos su información los datos para el sistema de recomendación se sacaran de supabase\n",
    "- Si no existe el usuario haremos el codigo de spotipy y lo iremos guardando en la base de datos"
   ]
  },
  {
   "cell_type": "code",
   "execution_count": 5,
   "metadata": {},
   "outputs": [],
   "source": [
    "import sys\n",
    "sys.path.append(\"../\")\n",
    "import src.soporte_sql as sql\n",
    "import pandas as pd\n",
    "import ast"
   ]
  },
  {
   "cell_type": "markdown",
   "metadata": {},
   "source": [
    "# Tabla Users"
   ]
  },
  {
   "cell_type": "code",
   "execution_count": 6,
   "metadata": {},
   "outputs": [
    {
     "name": "stdout",
     "output_type": "stream",
     "text": [
      "Conectado a la base de datos\n",
      "Se ha modificado correctamente la base de Datos\n"
     ]
    }
   ],
   "source": [
    "conexion = sql.conectar_bd()\n",
    "query = '''CREATE TABLE users (\n",
    "            user_id TEXT PRIMARY KEY,\n",
    "            name TEXT NOT NULL,\n",
    "            url TEXT UNIQUE NOT NULL,\n",
    "            email TEXT UNIQUE NOT NULL,\n",
    "            product_version TEXT NOT NULL\n",
    "        );'''\n",
    "sql.modificar_bd(conexion,query)"
   ]
  },
  {
   "cell_type": "markdown",
   "metadata": {},
   "source": [
    "# Tabla Canciones que le gustan"
   ]
  },
  {
   "cell_type": "code",
   "execution_count": 7,
   "metadata": {},
   "outputs": [
    {
     "name": "stdout",
     "output_type": "stream",
     "text": [
      "Conectado a la base de datos\n",
      "Se ha modificado correctamente la base de Datos\n"
     ]
    }
   ],
   "source": [
    "conexion = sql.conectar_bd()\n",
    "query = '''CREATE TABLE tracks_user_likes (\n",
    "            auto_id BIGINT PRIMARY KEY GENERATED ALWAYS AS IDENTITY,\n",
    "            user_id TEXT REFERENCES users(user_id) ON DELETE CASCADE,\n",
    "            song_name TEXT NOT NULL,\n",
    "            song_id TEXT NOT NULL,\n",
    "            popularity BIGINT NOT NULL,\n",
    "            song_url TEXT NOT NULL,\n",
    "            artist_name TEXT NOT NULL,\n",
    "            artist_id TEXT NOT NULL,\n",
    "            artist_url TEXT NOT NULL,\n",
    "            user_added_at TEXT NOT NULL\n",
    "        );'''\n",
    "sql.modificar_bd(conexion,query)"
   ]
  },
  {
   "cell_type": "markdown",
   "metadata": {},
   "source": [
    "# Tabla top_tracks"
   ]
  },
  {
   "cell_type": "code",
   "execution_count": 8,
   "metadata": {},
   "outputs": [
    {
     "name": "stdout",
     "output_type": "stream",
     "text": [
      "Conectado a la base de datos\n",
      "Se ha modificado correctamente la base de Datos\n"
     ]
    }
   ],
   "source": [
    "conexion = sql.conectar_bd()\n",
    "query = '''CREATE TABLE top_tracks (\n",
    "            auto_id BIGINT PRIMARY KEY GENERATED ALWAYS AS IDENTITY,\n",
    "            user_id TEXT REFERENCES users(user_id) ON DELETE CASCADE,\n",
    "            ranking INT NOT NULL,\n",
    "            song_name TEXT NOT NULL,\n",
    "            song_id TEXT NOT NULL,\n",
    "            popularity BIGINT NOT NULL,\n",
    "            song_url TEXT NOT NULL,\n",
    "            artist_name TEXT NOT NULL,\n",
    "            artist_id TEXT NOT NULL,\n",
    "            artist_url TEXT NOT NULL\n",
    "        );'''\n",
    "sql.modificar_bd(conexion,query)"
   ]
  },
  {
   "cell_type": "markdown",
   "metadata": {},
   "source": [
    "# Tabla user_artists_ranking"
   ]
  },
  {
   "cell_type": "code",
   "execution_count": 9,
   "metadata": {},
   "outputs": [
    {
     "name": "stdout",
     "output_type": "stream",
     "text": [
      "Conectado a la base de datos\n",
      "Se ha modificado correctamente la base de Datos\n"
     ]
    }
   ],
   "source": [
    "conexion = sql.conectar_bd()\n",
    "query = '''CREATE TABLE user_artists_ranking (\n",
    "            auto_id BIGINT PRIMARY KEY GENERATED ALWAYS AS IDENTITY,\n",
    "            user_id TEXT REFERENCES users(user_id) ON DELETE CASCADE,\n",
    "            artist_name TEXT NOT NULL,\n",
    "            number_of_appearances INT NOT NULL\n",
    "        );'''\n",
    "sql.modificar_bd(conexion,query)"
   ]
  },
  {
   "cell_type": "markdown",
   "metadata": {},
   "source": [
    "# Tabla user_main_genres"
   ]
  },
  {
   "cell_type": "code",
   "execution_count": 10,
   "metadata": {},
   "outputs": [
    {
     "name": "stdout",
     "output_type": "stream",
     "text": [
      "Conectado a la base de datos\n",
      "Se ha modificado correctamente la base de Datos\n"
     ]
    }
   ],
   "source": [
    "conexion = sql.conectar_bd()\n",
    "query = '''CREATE TABLE user_main_genres (\n",
    "            auto_id BIGINT PRIMARY KEY GENERATED ALWAYS AS IDENTITY,\n",
    "            user_id TEXT REFERENCES users(user_id) ON DELETE CASCADE,\n",
    "            genre_name TEXT NOT NULL,\n",
    "            number_of_appearances INT NOT NULL\n",
    "        );'''\n",
    "sql.modificar_bd(conexion,query)"
   ]
  },
  {
   "cell_type": "markdown",
   "metadata": {},
   "source": [
    "# Tabla user_subgenres"
   ]
  },
  {
   "cell_type": "code",
   "execution_count": 11,
   "metadata": {},
   "outputs": [
    {
     "name": "stdout",
     "output_type": "stream",
     "text": [
      "Conectado a la base de datos\n",
      "Se ha modificado correctamente la base de Datos\n"
     ]
    }
   ],
   "source": [
    "conexion = sql.conectar_bd()\n",
    "query = '''CREATE TABLE user_subgenres (\n",
    "            auto_id BIGINT PRIMARY KEY GENERATED ALWAYS AS IDENTITY,\n",
    "            user_id TEXT REFERENCES users(user_id) ON DELETE CASCADE,\n",
    "            subgenre_name TEXT NOT NULL,\n",
    "            number_of_appearances INT NOT NULL\n",
    "        );'''\n",
    "sql.modificar_bd(conexion,query)"
   ]
  }
 ],
 "metadata": {
  "kernelspec": {
   "display_name": "Proyecto-Final",
   "language": "python",
   "name": "python3"
  },
  "language_info": {
   "codemirror_mode": {
    "name": "ipython",
    "version": 3
   },
   "file_extension": ".py",
   "mimetype": "text/x-python",
   "name": "python",
   "nbconvert_exporter": "python",
   "pygments_lexer": "ipython3",
   "version": "3.11.9"
  }
 },
 "nbformat": 4,
 "nbformat_minor": 2
}
