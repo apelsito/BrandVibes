{
 "cells": [
  {
   "cell_type": "markdown",
   "metadata": {},
   "source": [
    "# Contexto\n",
    "- La idea es guardar a los usuarios que se unan la primera vez en la base de datos\n",
    "- Así cuando el usuario vuelva, se comprobara si ya tenemos su información\n",
    "- Si tenemos su información los datos para el sistema de recomendación se sacaran de supabase\n",
    "- Si no existe el usuario haremos el codigo de spotipy y lo iremos guardando en la base de datos"
   ]
  },
  {
   "cell_type": "code",
   "execution_count": 1,
   "metadata": {},
   "outputs": [],
   "source": [
    "import sys\n",
    "sys.path.append(\"../\")\n",
    "import src.soporte_sql as sql\n",
    "import pandas as pd\n",
    "import ast"
   ]
  },
  {
   "cell_type": "markdown",
   "metadata": {},
   "source": [
    "# Tabla Users"
   ]
  },
  {
   "cell_type": "code",
   "execution_count": null,
   "metadata": {},
   "outputs": [],
   "source": [
    "conexion = sql.conectar_bd()\n",
    "query = '''CREATE TABLE users (\n",
    "            user_id TEXT PRIMARY KEY,\n",
    "            name TEXT NOT NULL,\n",
    "            url TEXT UNIQUE NOT NULL,\n",
    "            email TEXT UNIQUE NOT NULL,\n",
    "            product_version TEXT NOT NULL,\n",
    "        );'''\n",
    "sql.modificar_bd(conexion,query)"
   ]
  },
  {
   "cell_type": "markdown",
   "metadata": {},
   "source": [
    "# Tabla Canciones que le gustan"
   ]
  },
  {
   "cell_type": "code",
   "execution_count": 2,
   "metadata": {},
   "outputs": [],
   "source": [
    "conexion = sql.conectar_bd()\n",
    "query = '''CREATE TABLE songs_user_likes (\n",
    "            user_id TEXT REFERENCES users(user_id) ON DELETE CASCADE,\n",
    "            song_name TEXT NOT NULL,\n",
    "            song_id TEXT NOT NULL,\n",
    "            popularity BIGINT NOT NULL,\n",
    "            song_url TEXT NOT NULL,\n",
    "            artist_name TEXT NOT NULL,\n",
    "            artist_id TEXT NOT NULL,\n",
    "            artist_url TEXT NOT NULL,\n",
    "            user_added_at TEXT NOT NULL\n",
    "        );'''\n",
    "sql.modificar_bd(conexion,query)"
   ]
  },
  {
   "cell_type": "code",
   "execution_count": null,
   "metadata": {},
   "outputs": [],
   "source": []
  }
 ],
 "metadata": {
  "kernelspec": {
   "display_name": "Proyecto-Final",
   "language": "python",
   "name": "python3"
  },
  "language_info": {
   "codemirror_mode": {
    "name": "ipython",
    "version": 3
   },
   "file_extension": ".py",
   "mimetype": "text/x-python",
   "name": "python",
   "nbconvert_exporter": "python",
   "pygments_lexer": "ipython3",
   "version": "3.11.9"
  }
 },
 "nbformat": 4,
 "nbformat_minor": 2
}
