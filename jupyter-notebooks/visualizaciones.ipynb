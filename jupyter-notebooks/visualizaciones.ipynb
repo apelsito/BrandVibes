{
 "cells": [
  {
   "cell_type": "code",
   "execution_count": 14,
   "metadata": {},
   "outputs": [],
   "source": [
    "# instalar\n",
    "#pip install plotly-express"
   ]
  },
  {
   "cell_type": "code",
   "execution_count": 15,
   "metadata": {},
   "outputs": [],
   "source": [
    "import pandas as pd\n",
    "import plotly.express as px\n"
   ]
  },
  {
   "cell_type": "code",
   "execution_count": 17,
   "metadata": {},
   "outputs": [
    {
     "data": {
      "text/html": [
       "<div>\n",
       "<style scoped>\n",
       "    .dataframe tbody tr th:only-of-type {\n",
       "        vertical-align: middle;\n",
       "    }\n",
       "\n",
       "    .dataframe tbody tr th {\n",
       "        vertical-align: top;\n",
       "    }\n",
       "\n",
       "    .dataframe thead th {\n",
       "        text-align: right;\n",
       "    }\n",
       "</style>\n",
       "<table border=\"1\" class=\"dataframe\">\n",
       "  <thead>\n",
       "    <tr style=\"text-align: right;\">\n",
       "      <th></th>\n",
       "      <th>song</th>\n",
       "      <th>artist</th>\n",
       "      <th>date</th>\n",
       "      <th>explicit</th>\n",
       "      <th>uri_cancion</th>\n",
       "      <th>popularity</th>\n",
       "      <th>usuario</th>\n",
       "      <th>links</th>\n",
       "      <th>uri_artista</th>\n",
       "      <th>danceability</th>\n",
       "      <th>...</th>\n",
       "      <th>liveness</th>\n",
       "      <th>valence</th>\n",
       "      <th>tempo</th>\n",
       "      <th>type</th>\n",
       "      <th>id</th>\n",
       "      <th>uri</th>\n",
       "      <th>track_href</th>\n",
       "      <th>analysis_url</th>\n",
       "      <th>duration_ms</th>\n",
       "      <th>time_signature</th>\n",
       "    </tr>\n",
       "  </thead>\n",
       "  <tbody>\n",
       "    <tr>\n",
       "      <th>0</th>\n",
       "      <td>BMXXing</td>\n",
       "      <td>mgk</td>\n",
       "      <td>2024-06-07</td>\n",
       "      <td>True</td>\n",
       "      <td>spotify:track:5xR8ngEQmlQ1U2xSE0KzTo</td>\n",
       "      <td>59</td>\n",
       "      <td>cogpverzil36gf0gak5jnx5ie</td>\n",
       "      <td>https://open.spotify.com/track/5xR8ngEQmlQ1U2x...</td>\n",
       "      <td>6TIYQ3jFPwQSRmorSezPxX</td>\n",
       "      <td>0.746</td>\n",
       "      <td>...</td>\n",
       "      <td>0.1470</td>\n",
       "      <td>0.462</td>\n",
       "      <td>105.059</td>\n",
       "      <td>audio_features</td>\n",
       "      <td>5xR8ngEQmlQ1U2xSE0KzTo</td>\n",
       "      <td>spotify:track:5xR8ngEQmlQ1U2xSE0KzTo</td>\n",
       "      <td>https://api.spotify.com/v1/tracks/5xR8ngEQmlQ1...</td>\n",
       "      <td>https://api.spotify.com/v1/audio-analysis/5xR8...</td>\n",
       "      <td>155471</td>\n",
       "      <td>4</td>\n",
       "    </tr>\n",
       "    <tr>\n",
       "      <th>1</th>\n",
       "      <td>Black Eyes Blue</td>\n",
       "      <td>Corey Taylor</td>\n",
       "      <td>2020-10-02</td>\n",
       "      <td>False</td>\n",
       "      <td>spotify:track:2Gx3kLdFT0elzqKG7SFyCw</td>\n",
       "      <td>42</td>\n",
       "      <td>cogpverzil36gf0gak5jnx5ie</td>\n",
       "      <td>https://open.spotify.com/track/2Gx3kLdFT0elzqK...</td>\n",
       "      <td>0nhDd1RWjZ6SDV1Vg1Ku2Q</td>\n",
       "      <td>0.551</td>\n",
       "      <td>...</td>\n",
       "      <td>0.1420</td>\n",
       "      <td>0.561</td>\n",
       "      <td>119.041</td>\n",
       "      <td>audio_features</td>\n",
       "      <td>2Gx3kLdFT0elzqKG7SFyCw</td>\n",
       "      <td>spotify:track:2Gx3kLdFT0elzqKG7SFyCw</td>\n",
       "      <td>https://api.spotify.com/v1/tracks/2Gx3kLdFT0el...</td>\n",
       "      <td>https://api.spotify.com/v1/audio-analysis/2Gx3...</td>\n",
       "      <td>202446</td>\n",
       "      <td>4</td>\n",
       "    </tr>\n",
       "    <tr>\n",
       "      <th>2</th>\n",
       "      <td>Apaga la Llum</td>\n",
       "      <td>Viva Belgrado</td>\n",
       "      <td>2016-12-05</td>\n",
       "      <td>False</td>\n",
       "      <td>spotify:track:2MOfK9MfAc53JLEVBzn0xG</td>\n",
       "      <td>20</td>\n",
       "      <td>cogpverzil36gf0gak5jnx5ie</td>\n",
       "      <td>https://open.spotify.com/track/2MOfK9MfAc53JLE...</td>\n",
       "      <td>37gLE2S4JxurgPNf1sx6HK</td>\n",
       "      <td>0.584</td>\n",
       "      <td>...</td>\n",
       "      <td>0.1090</td>\n",
       "      <td>0.318</td>\n",
       "      <td>120.057</td>\n",
       "      <td>audio_features</td>\n",
       "      <td>2MOfK9MfAc53JLEVBzn0xG</td>\n",
       "      <td>spotify:track:2MOfK9MfAc53JLEVBzn0xG</td>\n",
       "      <td>https://api.spotify.com/v1/tracks/2MOfK9MfAc53...</td>\n",
       "      <td>https://api.spotify.com/v1/audio-analysis/2MOf...</td>\n",
       "      <td>222747</td>\n",
       "      <td>4</td>\n",
       "    </tr>\n",
       "    <tr>\n",
       "      <th>3</th>\n",
       "      <td>Perdidos por el Miedo</td>\n",
       "      <td>Olvidados</td>\n",
       "      <td>2024-09-01</td>\n",
       "      <td>True</td>\n",
       "      <td>spotify:track:0BQfNHigZPW3BiRieE3iqq</td>\n",
       "      <td>3</td>\n",
       "      <td>cogpverzil36gf0gak5jnx5ie</td>\n",
       "      <td>https://open.spotify.com/track/0BQfNHigZPW3BiR...</td>\n",
       "      <td>06eCCvFnbmchrFSZRoZ0j4</td>\n",
       "      <td>0.438</td>\n",
       "      <td>...</td>\n",
       "      <td>0.1860</td>\n",
       "      <td>0.129</td>\n",
       "      <td>165.023</td>\n",
       "      <td>audio_features</td>\n",
       "      <td>0BQfNHigZPW3BiRieE3iqq</td>\n",
       "      <td>spotify:track:0BQfNHigZPW3BiRieE3iqq</td>\n",
       "      <td>https://api.spotify.com/v1/tracks/0BQfNHigZPW3...</td>\n",
       "      <td>https://api.spotify.com/v1/audio-analysis/0BQf...</td>\n",
       "      <td>231547</td>\n",
       "      <td>4</td>\n",
       "    </tr>\n",
       "    <tr>\n",
       "      <th>4</th>\n",
       "      <td>Ms. Jackson</td>\n",
       "      <td>Outkast</td>\n",
       "      <td>2000-10-31</td>\n",
       "      <td>True</td>\n",
       "      <td>spotify:track:0I3q5fE6wg7LIfHGngUTnV</td>\n",
       "      <td>81</td>\n",
       "      <td>cogpverzil36gf0gak5jnx5ie</td>\n",
       "      <td>https://open.spotify.com/track/0I3q5fE6wg7LIfH...</td>\n",
       "      <td>1G9G7WwrXka3Z1r7aIDjI7</td>\n",
       "      <td>0.843</td>\n",
       "      <td>...</td>\n",
       "      <td>0.0771</td>\n",
       "      <td>0.613</td>\n",
       "      <td>94.948</td>\n",
       "      <td>audio_features</td>\n",
       "      <td>0I3q5fE6wg7LIfHGngUTnV</td>\n",
       "      <td>spotify:track:0I3q5fE6wg7LIfHGngUTnV</td>\n",
       "      <td>https://api.spotify.com/v1/tracks/0I3q5fE6wg7L...</td>\n",
       "      <td>https://api.spotify.com/v1/audio-analysis/0I3q...</td>\n",
       "      <td>270507</td>\n",
       "      <td>4</td>\n",
       "    </tr>\n",
       "  </tbody>\n",
       "</table>\n",
       "<p>5 rows × 27 columns</p>\n",
       "</div>"
      ],
      "text/plain": [
       "                    song         artist        date  explicit  \\\n",
       "0                BMXXing            mgk  2024-06-07      True   \n",
       "1        Black Eyes Blue   Corey Taylor  2020-10-02     False   \n",
       "2          Apaga la Llum  Viva Belgrado  2016-12-05     False   \n",
       "3  Perdidos por el Miedo      Olvidados  2024-09-01      True   \n",
       "4            Ms. Jackson        Outkast  2000-10-31      True   \n",
       "\n",
       "                            uri_cancion  popularity  \\\n",
       "0  spotify:track:5xR8ngEQmlQ1U2xSE0KzTo          59   \n",
       "1  spotify:track:2Gx3kLdFT0elzqKG7SFyCw          42   \n",
       "2  spotify:track:2MOfK9MfAc53JLEVBzn0xG          20   \n",
       "3  spotify:track:0BQfNHigZPW3BiRieE3iqq           3   \n",
       "4  spotify:track:0I3q5fE6wg7LIfHGngUTnV          81   \n",
       "\n",
       "                     usuario  \\\n",
       "0  cogpverzil36gf0gak5jnx5ie   \n",
       "1  cogpverzil36gf0gak5jnx5ie   \n",
       "2  cogpverzil36gf0gak5jnx5ie   \n",
       "3  cogpverzil36gf0gak5jnx5ie   \n",
       "4  cogpverzil36gf0gak5jnx5ie   \n",
       "\n",
       "                                               links             uri_artista  \\\n",
       "0  https://open.spotify.com/track/5xR8ngEQmlQ1U2x...  6TIYQ3jFPwQSRmorSezPxX   \n",
       "1  https://open.spotify.com/track/2Gx3kLdFT0elzqK...  0nhDd1RWjZ6SDV1Vg1Ku2Q   \n",
       "2  https://open.spotify.com/track/2MOfK9MfAc53JLE...  37gLE2S4JxurgPNf1sx6HK   \n",
       "3  https://open.spotify.com/track/0BQfNHigZPW3BiR...  06eCCvFnbmchrFSZRoZ0j4   \n",
       "4  https://open.spotify.com/track/0I3q5fE6wg7LIfH...  1G9G7WwrXka3Z1r7aIDjI7   \n",
       "\n",
       "   danceability  ...  liveness  valence    tempo            type  \\\n",
       "0         0.746  ...    0.1470    0.462  105.059  audio_features   \n",
       "1         0.551  ...    0.1420    0.561  119.041  audio_features   \n",
       "2         0.584  ...    0.1090    0.318  120.057  audio_features   \n",
       "3         0.438  ...    0.1860    0.129  165.023  audio_features   \n",
       "4         0.843  ...    0.0771    0.613   94.948  audio_features   \n",
       "\n",
       "                       id                                   uri  \\\n",
       "0  5xR8ngEQmlQ1U2xSE0KzTo  spotify:track:5xR8ngEQmlQ1U2xSE0KzTo   \n",
       "1  2Gx3kLdFT0elzqKG7SFyCw  spotify:track:2Gx3kLdFT0elzqKG7SFyCw   \n",
       "2  2MOfK9MfAc53JLEVBzn0xG  spotify:track:2MOfK9MfAc53JLEVBzn0xG   \n",
       "3  0BQfNHigZPW3BiRieE3iqq  spotify:track:0BQfNHigZPW3BiRieE3iqq   \n",
       "4  0I3q5fE6wg7LIfHGngUTnV  spotify:track:0I3q5fE6wg7LIfHGngUTnV   \n",
       "\n",
       "                                          track_href  \\\n",
       "0  https://api.spotify.com/v1/tracks/5xR8ngEQmlQ1...   \n",
       "1  https://api.spotify.com/v1/tracks/2Gx3kLdFT0el...   \n",
       "2  https://api.spotify.com/v1/tracks/2MOfK9MfAc53...   \n",
       "3  https://api.spotify.com/v1/tracks/0BQfNHigZPW3...   \n",
       "4  https://api.spotify.com/v1/tracks/0I3q5fE6wg7L...   \n",
       "\n",
       "                                        analysis_url  duration_ms  \\\n",
       "0  https://api.spotify.com/v1/audio-analysis/5xR8...       155471   \n",
       "1  https://api.spotify.com/v1/audio-analysis/2Gx3...       202446   \n",
       "2  https://api.spotify.com/v1/audio-analysis/2MOf...       222747   \n",
       "3  https://api.spotify.com/v1/audio-analysis/0BQf...       231547   \n",
       "4  https://api.spotify.com/v1/audio-analysis/0I3q...       270507   \n",
       "\n",
       "   time_signature  \n",
       "0               4  \n",
       "1               4  \n",
       "2               4  \n",
       "3               4  \n",
       "4               4  \n",
       "\n",
       "[5 rows x 27 columns]"
      ]
     },
     "execution_count": 17,
     "metadata": {},
     "output_type": "execute_result"
    }
   ],
   "source": [
    "df = pd.read_csv(\"../data/basic_info_2024-10-17.csv\", index_col = 0)\n",
    "df.head()"
   ]
  },
  {
   "cell_type": "code",
   "execution_count": 19,
   "metadata": {},
   "outputs": [
    {
     "data": {
      "application/vnd.plotly.v1+json": {
       "config": {
        "plotlyServerURL": "https://plot.ly"
       },
       "data": [
        {
         "alignmentgroup": "True",
         "bingroup": "x",
         "hovertemplate": "usuario=cogpverzil36gf0gak5jnx5ie<br>popularity=%{x}<br>count=%{y}<extra></extra>",
         "legendgroup": "cogpverzil36gf0gak5jnx5ie",
         "marker": {
          "color": "#636efa",
          "pattern": {
           "shape": ""
          }
         },
         "name": "cogpverzil36gf0gak5jnx5ie",
         "nbinsx": 30,
         "offsetgroup": "cogpverzil36gf0gak5jnx5ie",
         "orientation": "v",
         "showlegend": true,
         "type": "histogram",
         "x": [
          59,
          42,
          20,
          3,
          81,
          49,
          30,
          54,
          64,
          26,
          29,
          29,
          29,
          39,
          49,
          63,
          52,
          79,
          53,
          53,
          72,
          66,
          29,
          17,
          48,
          76,
          21,
          56,
          83,
          83,
          83,
          17,
          86,
          86,
          40,
          40,
          74,
          58,
          75,
          57,
          75,
          33,
          65,
          22,
          65,
          61,
          86,
          61,
          0,
          33,
          49,
          31,
          31,
          65,
          65,
          43,
          43,
          55,
          38,
          38,
          38,
          33,
          76,
          51,
          12,
          0,
          0,
          45,
          60,
          32,
          45,
          45,
          49,
          37,
          37,
          51,
          51
         ],
         "xaxis": "x",
         "yaxis": "y"
        },
        {
         "alignmentgroup": "True",
         "bingroup": "x",
         "hovertemplate": "usuario=31w4yohdv3v3ysdbz7vdh55xbqg4<br>popularity=%{x}<br>count=%{y}<extra></extra>",
         "legendgroup": "31w4yohdv3v3ysdbz7vdh55xbqg4",
         "marker": {
          "color": "#EF553B",
          "pattern": {
           "shape": ""
          }
         },
         "name": "31w4yohdv3v3ysdbz7vdh55xbqg4",
         "nbinsx": 30,
         "offsetgroup": "31w4yohdv3v3ysdbz7vdh55xbqg4",
         "orientation": "v",
         "showlegend": true,
         "type": "histogram",
         "x": [
          54,
          0,
          88,
          88,
          34,
          73,
          73,
          74,
          70,
          70,
          83,
          83,
          83,
          87,
          72,
          54,
          42
         ],
         "xaxis": "x",
         "yaxis": "y"
        },
        {
         "alignmentgroup": "True",
         "bingroup": "x",
         "hovertemplate": "usuario=gonzaloruiperez<br>popularity=%{x}<br>count=%{y}<extra></extra>",
         "legendgroup": "gonzaloruiperez",
         "marker": {
          "color": "#00cc96",
          "pattern": {
           "shape": ""
          }
         },
         "name": "gonzaloruiperez",
         "nbinsx": 30,
         "offsetgroup": "gonzaloruiperez",
         "orientation": "v",
         "showlegend": true,
         "type": "histogram",
         "x": [
          59,
          61,
          66,
          14,
          14,
          44,
          24,
          81,
          81,
          81,
          48,
          80,
          64,
          76,
          76,
          49,
          70,
          72,
          75,
          74,
          74,
          31,
          31
         ],
         "xaxis": "x",
         "yaxis": "y"
        },
        {
         "alignmentgroup": "True",
         "bingroup": "x",
         "hovertemplate": "usuario=ja3x0uqkq562hqmpop5rn2nwu<br>popularity=%{x}<br>count=%{y}<extra></extra>",
         "legendgroup": "ja3x0uqkq562hqmpop5rn2nwu",
         "marker": {
          "color": "#ab63fa",
          "pattern": {
           "shape": ""
          }
         },
         "name": "ja3x0uqkq562hqmpop5rn2nwu",
         "nbinsx": 30,
         "offsetgroup": "ja3x0uqkq562hqmpop5rn2nwu",
         "orientation": "v",
         "showlegend": true,
         "type": "histogram",
         "x": [
          80,
          81,
          69,
          81,
          81,
          0,
          63,
          62,
          50,
          40,
          40,
          67,
          67,
          63,
          80
         ],
         "xaxis": "x",
         "yaxis": "y"
        },
        {
         "alignmentgroup": "True",
         "bingroup": "x",
         "hovertemplate": "usuario=yanruwj88<br>popularity=%{x}<br>count=%{y}<extra></extra>",
         "legendgroup": "yanruwj88",
         "marker": {
          "color": "#FFA15A",
          "pattern": {
           "shape": ""
          }
         },
         "name": "yanruwj88",
         "nbinsx": 30,
         "offsetgroup": "yanruwj88",
         "orientation": "v",
         "showlegend": true,
         "type": "histogram",
         "x": [
          64,
          64,
          61,
          68,
          74,
          62,
          71,
          55,
          55,
          63,
          54,
          46,
          39,
          39,
          39,
          77,
          66,
          83,
          76,
          59,
          75,
          76,
          37,
          33,
          61,
          38,
          38,
          76,
          86,
          58,
          79,
          65,
          48,
          16,
          52
         ],
         "xaxis": "x",
         "yaxis": "y"
        },
        {
         "alignmentgroup": "True",
         "bingroup": "x",
         "hovertemplate": "usuario=uif1cyf5sf7nr34a5s0f40ctb<br>popularity=%{x}<br>count=%{y}<extra></extra>",
         "legendgroup": "uif1cyf5sf7nr34a5s0f40ctb",
         "marker": {
          "color": "#19d3f3",
          "pattern": {
           "shape": ""
          }
         },
         "name": "uif1cyf5sf7nr34a5s0f40ctb",
         "nbinsx": 30,
         "offsetgroup": "uif1cyf5sf7nr34a5s0f40ctb",
         "orientation": "v",
         "showlegend": true,
         "type": "histogram",
         "x": [
          42,
          44,
          19,
          32,
          39,
          46,
          50,
          30,
          48,
          48,
          54,
          52,
          52,
          40,
          53,
          46,
          47,
          42,
          51,
          49,
          54,
          53,
          59,
          40,
          45,
          52,
          39,
          45,
          41,
          45,
          55,
          58,
          58,
          60,
          60,
          53,
          48,
          58,
          45,
          55,
          61,
          47,
          49,
          60,
          58,
          51,
          62,
          57,
          65,
          58,
          62,
          1,
          1,
          0,
          0,
          0,
          0,
          0,
          0,
          0,
          0,
          0,
          0,
          0,
          0,
          20,
          54,
          48,
          46,
          48,
          62,
          56,
          51,
          52,
          45,
          58,
          48
         ],
         "xaxis": "x",
         "yaxis": "y"
        }
       ],
       "layout": {
        "barmode": "relative",
        "legend": {
         "title": {
          "text": "usuario"
         },
         "tracegroupgap": 0
        },
        "template": {
         "data": {
          "bar": [
           {
            "error_x": {
             "color": "#2a3f5f"
            },
            "error_y": {
             "color": "#2a3f5f"
            },
            "marker": {
             "line": {
              "color": "#E5ECF6",
              "width": 0.5
             },
             "pattern": {
              "fillmode": "overlay",
              "size": 10,
              "solidity": 0.2
             }
            },
            "type": "bar"
           }
          ],
          "barpolar": [
           {
            "marker": {
             "line": {
              "color": "#E5ECF6",
              "width": 0.5
             },
             "pattern": {
              "fillmode": "overlay",
              "size": 10,
              "solidity": 0.2
             }
            },
            "type": "barpolar"
           }
          ],
          "carpet": [
           {
            "aaxis": {
             "endlinecolor": "#2a3f5f",
             "gridcolor": "white",
             "linecolor": "white",
             "minorgridcolor": "white",
             "startlinecolor": "#2a3f5f"
            },
            "baxis": {
             "endlinecolor": "#2a3f5f",
             "gridcolor": "white",
             "linecolor": "white",
             "minorgridcolor": "white",
             "startlinecolor": "#2a3f5f"
            },
            "type": "carpet"
           }
          ],
          "choropleth": [
           {
            "colorbar": {
             "outlinewidth": 0,
             "ticks": ""
            },
            "type": "choropleth"
           }
          ],
          "contour": [
           {
            "colorbar": {
             "outlinewidth": 0,
             "ticks": ""
            },
            "colorscale": [
             [
              0,
              "#0d0887"
             ],
             [
              0.1111111111111111,
              "#46039f"
             ],
             [
              0.2222222222222222,
              "#7201a8"
             ],
             [
              0.3333333333333333,
              "#9c179e"
             ],
             [
              0.4444444444444444,
              "#bd3786"
             ],
             [
              0.5555555555555556,
              "#d8576b"
             ],
             [
              0.6666666666666666,
              "#ed7953"
             ],
             [
              0.7777777777777778,
              "#fb9f3a"
             ],
             [
              0.8888888888888888,
              "#fdca26"
             ],
             [
              1,
              "#f0f921"
             ]
            ],
            "type": "contour"
           }
          ],
          "contourcarpet": [
           {
            "colorbar": {
             "outlinewidth": 0,
             "ticks": ""
            },
            "type": "contourcarpet"
           }
          ],
          "heatmap": [
           {
            "colorbar": {
             "outlinewidth": 0,
             "ticks": ""
            },
            "colorscale": [
             [
              0,
              "#0d0887"
             ],
             [
              0.1111111111111111,
              "#46039f"
             ],
             [
              0.2222222222222222,
              "#7201a8"
             ],
             [
              0.3333333333333333,
              "#9c179e"
             ],
             [
              0.4444444444444444,
              "#bd3786"
             ],
             [
              0.5555555555555556,
              "#d8576b"
             ],
             [
              0.6666666666666666,
              "#ed7953"
             ],
             [
              0.7777777777777778,
              "#fb9f3a"
             ],
             [
              0.8888888888888888,
              "#fdca26"
             ],
             [
              1,
              "#f0f921"
             ]
            ],
            "type": "heatmap"
           }
          ],
          "heatmapgl": [
           {
            "colorbar": {
             "outlinewidth": 0,
             "ticks": ""
            },
            "colorscale": [
             [
              0,
              "#0d0887"
             ],
             [
              0.1111111111111111,
              "#46039f"
             ],
             [
              0.2222222222222222,
              "#7201a8"
             ],
             [
              0.3333333333333333,
              "#9c179e"
             ],
             [
              0.4444444444444444,
              "#bd3786"
             ],
             [
              0.5555555555555556,
              "#d8576b"
             ],
             [
              0.6666666666666666,
              "#ed7953"
             ],
             [
              0.7777777777777778,
              "#fb9f3a"
             ],
             [
              0.8888888888888888,
              "#fdca26"
             ],
             [
              1,
              "#f0f921"
             ]
            ],
            "type": "heatmapgl"
           }
          ],
          "histogram": [
           {
            "marker": {
             "pattern": {
              "fillmode": "overlay",
              "size": 10,
              "solidity": 0.2
             }
            },
            "type": "histogram"
           }
          ],
          "histogram2d": [
           {
            "colorbar": {
             "outlinewidth": 0,
             "ticks": ""
            },
            "colorscale": [
             [
              0,
              "#0d0887"
             ],
             [
              0.1111111111111111,
              "#46039f"
             ],
             [
              0.2222222222222222,
              "#7201a8"
             ],
             [
              0.3333333333333333,
              "#9c179e"
             ],
             [
              0.4444444444444444,
              "#bd3786"
             ],
             [
              0.5555555555555556,
              "#d8576b"
             ],
             [
              0.6666666666666666,
              "#ed7953"
             ],
             [
              0.7777777777777778,
              "#fb9f3a"
             ],
             [
              0.8888888888888888,
              "#fdca26"
             ],
             [
              1,
              "#f0f921"
             ]
            ],
            "type": "histogram2d"
           }
          ],
          "histogram2dcontour": [
           {
            "colorbar": {
             "outlinewidth": 0,
             "ticks": ""
            },
            "colorscale": [
             [
              0,
              "#0d0887"
             ],
             [
              0.1111111111111111,
              "#46039f"
             ],
             [
              0.2222222222222222,
              "#7201a8"
             ],
             [
              0.3333333333333333,
              "#9c179e"
             ],
             [
              0.4444444444444444,
              "#bd3786"
             ],
             [
              0.5555555555555556,
              "#d8576b"
             ],
             [
              0.6666666666666666,
              "#ed7953"
             ],
             [
              0.7777777777777778,
              "#fb9f3a"
             ],
             [
              0.8888888888888888,
              "#fdca26"
             ],
             [
              1,
              "#f0f921"
             ]
            ],
            "type": "histogram2dcontour"
           }
          ],
          "mesh3d": [
           {
            "colorbar": {
             "outlinewidth": 0,
             "ticks": ""
            },
            "type": "mesh3d"
           }
          ],
          "parcoords": [
           {
            "line": {
             "colorbar": {
              "outlinewidth": 0,
              "ticks": ""
             }
            },
            "type": "parcoords"
           }
          ],
          "pie": [
           {
            "automargin": true,
            "type": "pie"
           }
          ],
          "scatter": [
           {
            "fillpattern": {
             "fillmode": "overlay",
             "size": 10,
             "solidity": 0.2
            },
            "type": "scatter"
           }
          ],
          "scatter3d": [
           {
            "line": {
             "colorbar": {
              "outlinewidth": 0,
              "ticks": ""
             }
            },
            "marker": {
             "colorbar": {
              "outlinewidth": 0,
              "ticks": ""
             }
            },
            "type": "scatter3d"
           }
          ],
          "scattercarpet": [
           {
            "marker": {
             "colorbar": {
              "outlinewidth": 0,
              "ticks": ""
             }
            },
            "type": "scattercarpet"
           }
          ],
          "scattergeo": [
           {
            "marker": {
             "colorbar": {
              "outlinewidth": 0,
              "ticks": ""
             }
            },
            "type": "scattergeo"
           }
          ],
          "scattergl": [
           {
            "marker": {
             "colorbar": {
              "outlinewidth": 0,
              "ticks": ""
             }
            },
            "type": "scattergl"
           }
          ],
          "scattermapbox": [
           {
            "marker": {
             "colorbar": {
              "outlinewidth": 0,
              "ticks": ""
             }
            },
            "type": "scattermapbox"
           }
          ],
          "scatterpolar": [
           {
            "marker": {
             "colorbar": {
              "outlinewidth": 0,
              "ticks": ""
             }
            },
            "type": "scatterpolar"
           }
          ],
          "scatterpolargl": [
           {
            "marker": {
             "colorbar": {
              "outlinewidth": 0,
              "ticks": ""
             }
            },
            "type": "scatterpolargl"
           }
          ],
          "scatterternary": [
           {
            "marker": {
             "colorbar": {
              "outlinewidth": 0,
              "ticks": ""
             }
            },
            "type": "scatterternary"
           }
          ],
          "surface": [
           {
            "colorbar": {
             "outlinewidth": 0,
             "ticks": ""
            },
            "colorscale": [
             [
              0,
              "#0d0887"
             ],
             [
              0.1111111111111111,
              "#46039f"
             ],
             [
              0.2222222222222222,
              "#7201a8"
             ],
             [
              0.3333333333333333,
              "#9c179e"
             ],
             [
              0.4444444444444444,
              "#bd3786"
             ],
             [
              0.5555555555555556,
              "#d8576b"
             ],
             [
              0.6666666666666666,
              "#ed7953"
             ],
             [
              0.7777777777777778,
              "#fb9f3a"
             ],
             [
              0.8888888888888888,
              "#fdca26"
             ],
             [
              1,
              "#f0f921"
             ]
            ],
            "type": "surface"
           }
          ],
          "table": [
           {
            "cells": {
             "fill": {
              "color": "#EBF0F8"
             },
             "line": {
              "color": "white"
             }
            },
            "header": {
             "fill": {
              "color": "#C8D4E3"
             },
             "line": {
              "color": "white"
             }
            },
            "type": "table"
           }
          ]
         },
         "layout": {
          "annotationdefaults": {
           "arrowcolor": "#2a3f5f",
           "arrowhead": 0,
           "arrowwidth": 1
          },
          "autotypenumbers": "strict",
          "coloraxis": {
           "colorbar": {
            "outlinewidth": 0,
            "ticks": ""
           }
          },
          "colorscale": {
           "diverging": [
            [
             0,
             "#8e0152"
            ],
            [
             0.1,
             "#c51b7d"
            ],
            [
             0.2,
             "#de77ae"
            ],
            [
             0.3,
             "#f1b6da"
            ],
            [
             0.4,
             "#fde0ef"
            ],
            [
             0.5,
             "#f7f7f7"
            ],
            [
             0.6,
             "#e6f5d0"
            ],
            [
             0.7,
             "#b8e186"
            ],
            [
             0.8,
             "#7fbc41"
            ],
            [
             0.9,
             "#4d9221"
            ],
            [
             1,
             "#276419"
            ]
           ],
           "sequential": [
            [
             0,
             "#0d0887"
            ],
            [
             0.1111111111111111,
             "#46039f"
            ],
            [
             0.2222222222222222,
             "#7201a8"
            ],
            [
             0.3333333333333333,
             "#9c179e"
            ],
            [
             0.4444444444444444,
             "#bd3786"
            ],
            [
             0.5555555555555556,
             "#d8576b"
            ],
            [
             0.6666666666666666,
             "#ed7953"
            ],
            [
             0.7777777777777778,
             "#fb9f3a"
            ],
            [
             0.8888888888888888,
             "#fdca26"
            ],
            [
             1,
             "#f0f921"
            ]
           ],
           "sequentialminus": [
            [
             0,
             "#0d0887"
            ],
            [
             0.1111111111111111,
             "#46039f"
            ],
            [
             0.2222222222222222,
             "#7201a8"
            ],
            [
             0.3333333333333333,
             "#9c179e"
            ],
            [
             0.4444444444444444,
             "#bd3786"
            ],
            [
             0.5555555555555556,
             "#d8576b"
            ],
            [
             0.6666666666666666,
             "#ed7953"
            ],
            [
             0.7777777777777778,
             "#fb9f3a"
            ],
            [
             0.8888888888888888,
             "#fdca26"
            ],
            [
             1,
             "#f0f921"
            ]
           ]
          },
          "colorway": [
           "#636efa",
           "#EF553B",
           "#00cc96",
           "#ab63fa",
           "#FFA15A",
           "#19d3f3",
           "#FF6692",
           "#B6E880",
           "#FF97FF",
           "#FECB52"
          ],
          "font": {
           "color": "#2a3f5f"
          },
          "geo": {
           "bgcolor": "white",
           "lakecolor": "white",
           "landcolor": "#E5ECF6",
           "showlakes": true,
           "showland": true,
           "subunitcolor": "white"
          },
          "hoverlabel": {
           "align": "left"
          },
          "hovermode": "closest",
          "mapbox": {
           "style": "light"
          },
          "paper_bgcolor": "white",
          "plot_bgcolor": "#E5ECF6",
          "polar": {
           "angularaxis": {
            "gridcolor": "white",
            "linecolor": "white",
            "ticks": ""
           },
           "bgcolor": "#E5ECF6",
           "radialaxis": {
            "gridcolor": "white",
            "linecolor": "white",
            "ticks": ""
           }
          },
          "scene": {
           "xaxis": {
            "backgroundcolor": "#E5ECF6",
            "gridcolor": "white",
            "gridwidth": 2,
            "linecolor": "white",
            "showbackground": true,
            "ticks": "",
            "zerolinecolor": "white"
           },
           "yaxis": {
            "backgroundcolor": "#E5ECF6",
            "gridcolor": "white",
            "gridwidth": 2,
            "linecolor": "white",
            "showbackground": true,
            "ticks": "",
            "zerolinecolor": "white"
           },
           "zaxis": {
            "backgroundcolor": "#E5ECF6",
            "gridcolor": "white",
            "gridwidth": 2,
            "linecolor": "white",
            "showbackground": true,
            "ticks": "",
            "zerolinecolor": "white"
           }
          },
          "shapedefaults": {
           "line": {
            "color": "#2a3f5f"
           }
          },
          "ternary": {
           "aaxis": {
            "gridcolor": "white",
            "linecolor": "white",
            "ticks": ""
           },
           "baxis": {
            "gridcolor": "white",
            "linecolor": "white",
            "ticks": ""
           },
           "bgcolor": "#E5ECF6",
           "caxis": {
            "gridcolor": "white",
            "linecolor": "white",
            "ticks": ""
           }
          },
          "title": {
           "x": 0.05
          },
          "xaxis": {
           "automargin": true,
           "gridcolor": "white",
           "linecolor": "white",
           "ticks": "",
           "title": {
            "standoff": 15
           },
           "zerolinecolor": "white",
           "zerolinewidth": 2
          },
          "yaxis": {
           "automargin": true,
           "gridcolor": "white",
           "linecolor": "white",
           "ticks": "",
           "title": {
            "standoff": 15
           },
           "zerolinecolor": "white",
           "zerolinewidth": 2
          }
         }
        },
        "title": {
         "text": "Distribución de la Popularidad por Usuario"
        },
        "xaxis": {
         "anchor": "y",
         "domain": [
          0,
          1
         ],
         "title": {
          "text": "popularity"
         }
        },
        "yaxis": {
         "anchor": "x",
         "domain": [
          0,
          1
         ],
         "title": {
          "text": "count"
         }
        }
       }
      }
     },
     "metadata": {},
     "output_type": "display_data"
    }
   ],
   "source": [
    "# 1. Distribución de la Popularidad de las Canciones por Usuario\n",
    "fig1 = px.histogram(df, x=\"popularity\", color=\"usuario\", nbins=30, title=\"Distribución de la Popularidad por Usuario\")\n",
    "fig1.show()\n"
   ]
  },
  {
   "cell_type": "code",
   "execution_count": 21,
   "metadata": {},
   "outputs": [
    {
     "data": {
      "application/vnd.plotly.v1+json": {
       "config": {
        "plotlyServerURL": "https://plot.ly"
       },
       "data": [
        {
         "hovertemplate": "Duración (ms)=%{x}<br>Popularidad=%{y}<extra></extra>",
         "legendgroup": "",
         "marker": {
          "color": "#636efa",
          "symbol": "circle"
         },
         "mode": "markers",
         "name": "",
         "orientation": "v",
         "showlegend": false,
         "type": "scatter",
         "x": [
          155471,
          202446,
          222747,
          231547,
          270507,
          222240,
          277200,
          275893,
          176569,
          177149,
          192871,
          192871,
          192871,
          220963,
          227373,
          209520,
          184615,
          313684,
          193297,
          237654,
          178267,
          243987,
          235342,
          198432,
          228261,
          299867,
          219474,
          185905,
          215467,
          215467,
          215467,
          181075,
          178206,
          178206,
          204000,
          204000,
          217667,
          183410,
          192191,
          272733,
          239894,
          213000,
          289587,
          153480,
          263733,
          169824,
          259333,
          172232,
          147767,
          199060,
          216587,
          180120,
          180120,
          234653,
          234653,
          147692,
          147692,
          301013,
          176471,
          176471,
          176471,
          219133,
          228560,
          186427,
          198177,
          224281,
          224281,
          186562,
          209573,
          212440,
          156375,
          156375,
          215366,
          289519,
          289519,
          127458,
          127458,
          125362,
          215000,
          223320,
          223320,
          165195,
          213699,
          213699,
          189067,
          164471,
          164471,
          177453,
          283833,
          193039,
          193039,
          193039,
          175333,
          253813,
          253813,
          180304,
          126672,
          189560,
          205000,
          144846,
          144846,
          144846,
          230868,
          194302,
          174203,
          289133,
          168445,
          205933,
          205933,
          185918,
          194088,
          167273,
          198938,
          198938,
          220057,
          157880,
          172850,
          166216,
          164893,
          224693,
          227576,
          227576,
          159787,
          167080,
          166707,
          243500,
          213213,
          236041,
          236041,
          236000,
          157964,
          213176,
          192637,
          228205,
          209596,
          219800,
          238232,
          277821,
          170731,
          170731,
          214197,
          160435,
          160435,
          188410,
          242352,
          267300,
          193653,
          298027,
          289140,
          232813,
          168227,
          280547,
          172517,
          248227,
          225893,
          235318,
          264375,
          255392,
          137646,
          227808,
          275493,
          248867,
          273893,
          216566,
          304573,
          204307,
          208971,
          217128,
          230309,
          190334,
          203797,
          208890,
          234781,
          232492,
          276006,
          171731,
          184000,
          210668,
          263943,
          168479,
          229877,
          190000,
          190000,
          222653,
          222653,
          224805,
          217800,
          243661,
          243661,
          243661,
          215360,
          140080,
          295533,
          257480,
          169410,
          169573,
          234267,
          150007,
          141654,
          216759,
          148112,
          148112,
          213800,
          238640,
          208296,
          173640,
          175044,
          256759,
          190348,
          213482,
          199604,
          168000,
          168000,
          153000,
          158290,
          158290,
          188663,
          168000,
          165904,
          165904,
          149954,
          131370,
          222308,
          222308,
          217600,
          547107,
          223112,
          223112,
          183095,
          183095,
          174235,
          257107,
          212267,
          259173,
          282188,
          206227,
          267300,
          193344,
          191747,
          170991,
          303693,
          198560,
          139394,
          209680
         ],
         "xaxis": "x",
         "y": [
          59,
          42,
          20,
          3,
          81,
          49,
          30,
          54,
          64,
          26,
          29,
          29,
          29,
          39,
          49,
          63,
          52,
          79,
          53,
          53,
          72,
          66,
          29,
          17,
          48,
          76,
          21,
          56,
          83,
          83,
          83,
          17,
          86,
          86,
          40,
          40,
          74,
          58,
          75,
          57,
          75,
          33,
          65,
          22,
          65,
          61,
          86,
          61,
          0,
          33,
          49,
          31,
          31,
          65,
          65,
          43,
          43,
          55,
          38,
          38,
          38,
          33,
          76,
          51,
          12,
          0,
          0,
          45,
          60,
          32,
          45,
          45,
          49,
          37,
          37,
          51,
          51,
          54,
          0,
          88,
          88,
          34,
          73,
          73,
          74,
          70,
          70,
          59,
          61,
          83,
          83,
          83,
          66,
          14,
          14,
          87,
          44,
          72,
          24,
          81,
          81,
          81,
          54,
          48,
          42,
          80,
          64,
          76,
          76,
          80,
          81,
          69,
          81,
          81,
          0,
          63,
          62,
          50,
          49,
          70,
          64,
          64,
          61,
          68,
          74,
          62,
          71,
          55,
          55,
          63,
          42,
          44,
          19,
          32,
          39,
          46,
          50,
          30,
          48,
          48,
          54,
          52,
          52,
          40,
          53,
          46,
          47,
          42,
          51,
          49,
          54,
          53,
          59,
          40,
          45,
          52,
          39,
          45,
          41,
          45,
          55,
          58,
          58,
          60,
          60,
          53,
          48,
          58,
          45,
          55,
          61,
          47,
          49,
          60,
          58,
          51,
          62,
          57,
          65,
          58,
          62,
          40,
          40,
          67,
          67,
          54,
          46,
          39,
          39,
          39,
          77,
          66,
          83,
          76,
          59,
          75,
          76,
          37,
          33,
          61,
          38,
          38,
          76,
          86,
          58,
          79,
          65,
          48,
          16,
          52,
          72,
          1,
          1,
          0,
          0,
          0,
          0,
          0,
          0,
          0,
          0,
          0,
          0,
          0,
          0,
          75,
          74,
          74,
          31,
          31,
          20,
          54,
          48,
          46,
          48,
          62,
          56,
          51,
          52,
          45,
          58,
          63,
          48,
          80
         ],
         "yaxis": "y"
        }
       ],
       "layout": {
        "legend": {
         "tracegroupgap": 0
        },
        "template": {
         "data": {
          "bar": [
           {
            "error_x": {
             "color": "#2a3f5f"
            },
            "error_y": {
             "color": "#2a3f5f"
            },
            "marker": {
             "line": {
              "color": "#E5ECF6",
              "width": 0.5
             },
             "pattern": {
              "fillmode": "overlay",
              "size": 10,
              "solidity": 0.2
             }
            },
            "type": "bar"
           }
          ],
          "barpolar": [
           {
            "marker": {
             "line": {
              "color": "#E5ECF6",
              "width": 0.5
             },
             "pattern": {
              "fillmode": "overlay",
              "size": 10,
              "solidity": 0.2
             }
            },
            "type": "barpolar"
           }
          ],
          "carpet": [
           {
            "aaxis": {
             "endlinecolor": "#2a3f5f",
             "gridcolor": "white",
             "linecolor": "white",
             "minorgridcolor": "white",
             "startlinecolor": "#2a3f5f"
            },
            "baxis": {
             "endlinecolor": "#2a3f5f",
             "gridcolor": "white",
             "linecolor": "white",
             "minorgridcolor": "white",
             "startlinecolor": "#2a3f5f"
            },
            "type": "carpet"
           }
          ],
          "choropleth": [
           {
            "colorbar": {
             "outlinewidth": 0,
             "ticks": ""
            },
            "type": "choropleth"
           }
          ],
          "contour": [
           {
            "colorbar": {
             "outlinewidth": 0,
             "ticks": ""
            },
            "colorscale": [
             [
              0,
              "#0d0887"
             ],
             [
              0.1111111111111111,
              "#46039f"
             ],
             [
              0.2222222222222222,
              "#7201a8"
             ],
             [
              0.3333333333333333,
              "#9c179e"
             ],
             [
              0.4444444444444444,
              "#bd3786"
             ],
             [
              0.5555555555555556,
              "#d8576b"
             ],
             [
              0.6666666666666666,
              "#ed7953"
             ],
             [
              0.7777777777777778,
              "#fb9f3a"
             ],
             [
              0.8888888888888888,
              "#fdca26"
             ],
             [
              1,
              "#f0f921"
             ]
            ],
            "type": "contour"
           }
          ],
          "contourcarpet": [
           {
            "colorbar": {
             "outlinewidth": 0,
             "ticks": ""
            },
            "type": "contourcarpet"
           }
          ],
          "heatmap": [
           {
            "colorbar": {
             "outlinewidth": 0,
             "ticks": ""
            },
            "colorscale": [
             [
              0,
              "#0d0887"
             ],
             [
              0.1111111111111111,
              "#46039f"
             ],
             [
              0.2222222222222222,
              "#7201a8"
             ],
             [
              0.3333333333333333,
              "#9c179e"
             ],
             [
              0.4444444444444444,
              "#bd3786"
             ],
             [
              0.5555555555555556,
              "#d8576b"
             ],
             [
              0.6666666666666666,
              "#ed7953"
             ],
             [
              0.7777777777777778,
              "#fb9f3a"
             ],
             [
              0.8888888888888888,
              "#fdca26"
             ],
             [
              1,
              "#f0f921"
             ]
            ],
            "type": "heatmap"
           }
          ],
          "heatmapgl": [
           {
            "colorbar": {
             "outlinewidth": 0,
             "ticks": ""
            },
            "colorscale": [
             [
              0,
              "#0d0887"
             ],
             [
              0.1111111111111111,
              "#46039f"
             ],
             [
              0.2222222222222222,
              "#7201a8"
             ],
             [
              0.3333333333333333,
              "#9c179e"
             ],
             [
              0.4444444444444444,
              "#bd3786"
             ],
             [
              0.5555555555555556,
              "#d8576b"
             ],
             [
              0.6666666666666666,
              "#ed7953"
             ],
             [
              0.7777777777777778,
              "#fb9f3a"
             ],
             [
              0.8888888888888888,
              "#fdca26"
             ],
             [
              1,
              "#f0f921"
             ]
            ],
            "type": "heatmapgl"
           }
          ],
          "histogram": [
           {
            "marker": {
             "pattern": {
              "fillmode": "overlay",
              "size": 10,
              "solidity": 0.2
             }
            },
            "type": "histogram"
           }
          ],
          "histogram2d": [
           {
            "colorbar": {
             "outlinewidth": 0,
             "ticks": ""
            },
            "colorscale": [
             [
              0,
              "#0d0887"
             ],
             [
              0.1111111111111111,
              "#46039f"
             ],
             [
              0.2222222222222222,
              "#7201a8"
             ],
             [
              0.3333333333333333,
              "#9c179e"
             ],
             [
              0.4444444444444444,
              "#bd3786"
             ],
             [
              0.5555555555555556,
              "#d8576b"
             ],
             [
              0.6666666666666666,
              "#ed7953"
             ],
             [
              0.7777777777777778,
              "#fb9f3a"
             ],
             [
              0.8888888888888888,
              "#fdca26"
             ],
             [
              1,
              "#f0f921"
             ]
            ],
            "type": "histogram2d"
           }
          ],
          "histogram2dcontour": [
           {
            "colorbar": {
             "outlinewidth": 0,
             "ticks": ""
            },
            "colorscale": [
             [
              0,
              "#0d0887"
             ],
             [
              0.1111111111111111,
              "#46039f"
             ],
             [
              0.2222222222222222,
              "#7201a8"
             ],
             [
              0.3333333333333333,
              "#9c179e"
             ],
             [
              0.4444444444444444,
              "#bd3786"
             ],
             [
              0.5555555555555556,
              "#d8576b"
             ],
             [
              0.6666666666666666,
              "#ed7953"
             ],
             [
              0.7777777777777778,
              "#fb9f3a"
             ],
             [
              0.8888888888888888,
              "#fdca26"
             ],
             [
              1,
              "#f0f921"
             ]
            ],
            "type": "histogram2dcontour"
           }
          ],
          "mesh3d": [
           {
            "colorbar": {
             "outlinewidth": 0,
             "ticks": ""
            },
            "type": "mesh3d"
           }
          ],
          "parcoords": [
           {
            "line": {
             "colorbar": {
              "outlinewidth": 0,
              "ticks": ""
             }
            },
            "type": "parcoords"
           }
          ],
          "pie": [
           {
            "automargin": true,
            "type": "pie"
           }
          ],
          "scatter": [
           {
            "fillpattern": {
             "fillmode": "overlay",
             "size": 10,
             "solidity": 0.2
            },
            "type": "scatter"
           }
          ],
          "scatter3d": [
           {
            "line": {
             "colorbar": {
              "outlinewidth": 0,
              "ticks": ""
             }
            },
            "marker": {
             "colorbar": {
              "outlinewidth": 0,
              "ticks": ""
             }
            },
            "type": "scatter3d"
           }
          ],
          "scattercarpet": [
           {
            "marker": {
             "colorbar": {
              "outlinewidth": 0,
              "ticks": ""
             }
            },
            "type": "scattercarpet"
           }
          ],
          "scattergeo": [
           {
            "marker": {
             "colorbar": {
              "outlinewidth": 0,
              "ticks": ""
             }
            },
            "type": "scattergeo"
           }
          ],
          "scattergl": [
           {
            "marker": {
             "colorbar": {
              "outlinewidth": 0,
              "ticks": ""
             }
            },
            "type": "scattergl"
           }
          ],
          "scattermapbox": [
           {
            "marker": {
             "colorbar": {
              "outlinewidth": 0,
              "ticks": ""
             }
            },
            "type": "scattermapbox"
           }
          ],
          "scatterpolar": [
           {
            "marker": {
             "colorbar": {
              "outlinewidth": 0,
              "ticks": ""
             }
            },
            "type": "scatterpolar"
           }
          ],
          "scatterpolargl": [
           {
            "marker": {
             "colorbar": {
              "outlinewidth": 0,
              "ticks": ""
             }
            },
            "type": "scatterpolargl"
           }
          ],
          "scatterternary": [
           {
            "marker": {
             "colorbar": {
              "outlinewidth": 0,
              "ticks": ""
             }
            },
            "type": "scatterternary"
           }
          ],
          "surface": [
           {
            "colorbar": {
             "outlinewidth": 0,
             "ticks": ""
            },
            "colorscale": [
             [
              0,
              "#0d0887"
             ],
             [
              0.1111111111111111,
              "#46039f"
             ],
             [
              0.2222222222222222,
              "#7201a8"
             ],
             [
              0.3333333333333333,
              "#9c179e"
             ],
             [
              0.4444444444444444,
              "#bd3786"
             ],
             [
              0.5555555555555556,
              "#d8576b"
             ],
             [
              0.6666666666666666,
              "#ed7953"
             ],
             [
              0.7777777777777778,
              "#fb9f3a"
             ],
             [
              0.8888888888888888,
              "#fdca26"
             ],
             [
              1,
              "#f0f921"
             ]
            ],
            "type": "surface"
           }
          ],
          "table": [
           {
            "cells": {
             "fill": {
              "color": "#EBF0F8"
             },
             "line": {
              "color": "white"
             }
            },
            "header": {
             "fill": {
              "color": "#C8D4E3"
             },
             "line": {
              "color": "white"
             }
            },
            "type": "table"
           }
          ]
         },
         "layout": {
          "annotationdefaults": {
           "arrowcolor": "#2a3f5f",
           "arrowhead": 0,
           "arrowwidth": 1
          },
          "autotypenumbers": "strict",
          "coloraxis": {
           "colorbar": {
            "outlinewidth": 0,
            "ticks": ""
           }
          },
          "colorscale": {
           "diverging": [
            [
             0,
             "#8e0152"
            ],
            [
             0.1,
             "#c51b7d"
            ],
            [
             0.2,
             "#de77ae"
            ],
            [
             0.3,
             "#f1b6da"
            ],
            [
             0.4,
             "#fde0ef"
            ],
            [
             0.5,
             "#f7f7f7"
            ],
            [
             0.6,
             "#e6f5d0"
            ],
            [
             0.7,
             "#b8e186"
            ],
            [
             0.8,
             "#7fbc41"
            ],
            [
             0.9,
             "#4d9221"
            ],
            [
             1,
             "#276419"
            ]
           ],
           "sequential": [
            [
             0,
             "#0d0887"
            ],
            [
             0.1111111111111111,
             "#46039f"
            ],
            [
             0.2222222222222222,
             "#7201a8"
            ],
            [
             0.3333333333333333,
             "#9c179e"
            ],
            [
             0.4444444444444444,
             "#bd3786"
            ],
            [
             0.5555555555555556,
             "#d8576b"
            ],
            [
             0.6666666666666666,
             "#ed7953"
            ],
            [
             0.7777777777777778,
             "#fb9f3a"
            ],
            [
             0.8888888888888888,
             "#fdca26"
            ],
            [
             1,
             "#f0f921"
            ]
           ],
           "sequentialminus": [
            [
             0,
             "#0d0887"
            ],
            [
             0.1111111111111111,
             "#46039f"
            ],
            [
             0.2222222222222222,
             "#7201a8"
            ],
            [
             0.3333333333333333,
             "#9c179e"
            ],
            [
             0.4444444444444444,
             "#bd3786"
            ],
            [
             0.5555555555555556,
             "#d8576b"
            ],
            [
             0.6666666666666666,
             "#ed7953"
            ],
            [
             0.7777777777777778,
             "#fb9f3a"
            ],
            [
             0.8888888888888888,
             "#fdca26"
            ],
            [
             1,
             "#f0f921"
            ]
           ]
          },
          "colorway": [
           "#636efa",
           "#EF553B",
           "#00cc96",
           "#ab63fa",
           "#FFA15A",
           "#19d3f3",
           "#FF6692",
           "#B6E880",
           "#FF97FF",
           "#FECB52"
          ],
          "font": {
           "color": "#2a3f5f"
          },
          "geo": {
           "bgcolor": "white",
           "lakecolor": "white",
           "landcolor": "#E5ECF6",
           "showlakes": true,
           "showland": true,
           "subunitcolor": "white"
          },
          "hoverlabel": {
           "align": "left"
          },
          "hovermode": "closest",
          "mapbox": {
           "style": "light"
          },
          "paper_bgcolor": "white",
          "plot_bgcolor": "#E5ECF6",
          "polar": {
           "angularaxis": {
            "gridcolor": "white",
            "linecolor": "white",
            "ticks": ""
           },
           "bgcolor": "#E5ECF6",
           "radialaxis": {
            "gridcolor": "white",
            "linecolor": "white",
            "ticks": ""
           }
          },
          "scene": {
           "xaxis": {
            "backgroundcolor": "#E5ECF6",
            "gridcolor": "white",
            "gridwidth": 2,
            "linecolor": "white",
            "showbackground": true,
            "ticks": "",
            "zerolinecolor": "white"
           },
           "yaxis": {
            "backgroundcolor": "#E5ECF6",
            "gridcolor": "white",
            "gridwidth": 2,
            "linecolor": "white",
            "showbackground": true,
            "ticks": "",
            "zerolinecolor": "white"
           },
           "zaxis": {
            "backgroundcolor": "#E5ECF6",
            "gridcolor": "white",
            "gridwidth": 2,
            "linecolor": "white",
            "showbackground": true,
            "ticks": "",
            "zerolinecolor": "white"
           }
          },
          "shapedefaults": {
           "line": {
            "color": "#2a3f5f"
           }
          },
          "ternary": {
           "aaxis": {
            "gridcolor": "white",
            "linecolor": "white",
            "ticks": ""
           },
           "baxis": {
            "gridcolor": "white",
            "linecolor": "white",
            "ticks": ""
           },
           "bgcolor": "#E5ECF6",
           "caxis": {
            "gridcolor": "white",
            "linecolor": "white",
            "ticks": ""
           }
          },
          "title": {
           "x": 0.05
          },
          "xaxis": {
           "automargin": true,
           "gridcolor": "white",
           "linecolor": "white",
           "ticks": "",
           "title": {
            "standoff": 15
           },
           "zerolinecolor": "white",
           "zerolinewidth": 2
          },
          "yaxis": {
           "automargin": true,
           "gridcolor": "white",
           "linecolor": "white",
           "ticks": "",
           "title": {
            "standoff": 15
           },
           "zerolinecolor": "white",
           "zerolinewidth": 2
          }
         }
        },
        "title": {
         "text": "Relación entre Popularidad y Duración de la Canción"
        },
        "xaxis": {
         "anchor": "y",
         "domain": [
          0,
          1
         ],
         "title": {
          "text": "Duración (ms)"
         }
        },
        "yaxis": {
         "anchor": "x",
         "domain": [
          0,
          1
         ],
         "title": {
          "text": "Popularidad"
         }
        }
       }
      }
     },
     "metadata": {},
     "output_type": "display_data"
    }
   ],
   "source": [
    "# 2. Relación entre Popularidad y Duración de la Canción\n",
    "fig2 = px.scatter(df, x=\"duration_ms\", y=\"popularity\", \n",
    "                  title=\"Relación entre Popularidad y Duración de la Canción\",\n",
    "                  labels={\"duration_ms\": \"Duración (ms)\", \"popularity\": \"Popularidad\"})\n",
    "fig2.show()"
   ]
  },
  {
   "cell_type": "code",
   "execution_count": 22,
   "metadata": {},
   "outputs": [
    {
     "data": {
      "application/vnd.plotly.v1+json": {
       "config": {
        "plotlyServerURL": "https://plot.ly"
       },
       "data": [
        {
         "hovertemplate": "usuario=cogpverzil36gf0gak5jnx5ie<br>Energía=%{x}<br>Tempo (BPM)=%{y}<extra></extra>",
         "legendgroup": "cogpverzil36gf0gak5jnx5ie",
         "marker": {
          "color": "#636efa",
          "symbol": "circle"
         },
         "mode": "markers",
         "name": "cogpverzil36gf0gak5jnx5ie",
         "orientation": "v",
         "showlegend": true,
         "type": "scatter",
         "x": [
          0.839,
          0.98,
          0.803,
          0.797,
          0.806,
          0.65,
          0.744,
          0.767,
          0.557,
          0.96,
          0.619,
          0.619,
          0.619,
          0.661,
          0.707,
          0.913,
          0.794,
          0.581,
          0.459,
          0.877,
          0.914,
          0.825,
          0.852,
          0.938,
          0.844,
          0.965,
          0.805,
          0.61,
          0.674,
          0.674,
          0.674,
          0.979,
          0.855,
          0.855,
          0.509,
          0.509,
          0.834,
          0.907,
          0.702,
          0.93,
          0.894,
          0.767,
          0.571,
          0.79,
          0.776,
          0.612,
          0.8,
          0.89,
          0.657,
          0.931,
          0.821,
          0.862,
          0.862,
          0.753,
          0.753,
          0.507,
          0.507,
          0.827,
          0.813,
          0.813,
          0.813,
          0.746,
          0.878,
          0.726,
          0.861,
          0.444,
          0.444,
          0.536,
          0.955,
          0.943,
          0.632,
          0.632,
          0.783,
          0.904,
          0.904,
          0.649,
          0.649
         ],
         "xaxis": "x",
         "y": [
          105.059,
          119.041,
          120.057,
          165.023,
          94.948,
          106.888,
          200.542,
          91.719,
          140.048,
          157.09,
          155.057,
          155.057,
          155.057,
          119.979,
          85.912,
          122.007,
          155.95,
          114.016,
          86.38,
          136.967,
          196.482,
          95.01,
          97.87,
          124.015,
          92.044,
          92.615,
          114.009,
          95.815,
          99.022,
          99.022,
          99.022,
          100.511,
          127.986,
          127.986,
          127.143,
          127.143,
          164.02,
          169.948,
          94.006,
          150.12,
          126.03,
          120.001,
          77.335,
          179.91,
          89.996,
          100.023,
          100.011,
          113.06,
          119.01,
          150.081,
          122.009,
          160.09,
          160.09,
          125.007,
          125.007,
          130.003,
          130.003,
          114.987,
          102.033,
          102.033,
          102.033,
          122.001,
          127.905,
          153.972,
          107.055,
          179.977,
          179.977,
          166.901,
          119.126,
          104.017,
          90.005,
          90.005,
          141.07,
          141.966,
          141.966,
          161.98,
          161.98
         ],
         "yaxis": "y"
        },
        {
         "hovertemplate": "usuario=31w4yohdv3v3ysdbz7vdh55xbqg4<br>Energía=%{x}<br>Tempo (BPM)=%{y}<extra></extra>",
         "legendgroup": "31w4yohdv3v3ysdbz7vdh55xbqg4",
         "marker": {
          "color": "#EF553B",
          "symbol": "circle"
         },
         "mode": "markers",
         "name": "31w4yohdv3v3ysdbz7vdh55xbqg4",
         "orientation": "v",
         "showlegend": true,
         "type": "scatter",
         "x": [
          0.578,
          0.561,
          0.681,
          0.681,
          0.75,
          0.729,
          0.729,
          0.657,
          0.388,
          0.388,
          0.709,
          0.709,
          0.709,
          0.471,
          0.74,
          0.635,
          0.683
         ],
         "xaxis": "x",
         "y": [
          92.352,
          95.995,
          155.079,
          155.079,
          149.965,
          97.02,
          97.02,
          159.995,
          81.231,
          81.231,
          99.993,
          99.993,
          99.993,
          105.029,
          169.914,
          129.952,
          119.953
         ],
         "yaxis": "y"
        },
        {
         "hovertemplate": "usuario=gonzaloruiperez<br>Energía=%{x}<br>Tempo (BPM)=%{y}<extra></extra>",
         "legendgroup": "gonzaloruiperez",
         "marker": {
          "color": "#00cc96",
          "symbol": "circle"
         },
         "mode": "markers",
         "name": "gonzaloruiperez",
         "orientation": "v",
         "showlegend": true,
         "type": "scatter",
         "x": [
          0.985,
          0.931,
          0.999,
          0.992,
          0.992,
          0.966,
          0.943,
          0.936,
          0.936,
          0.936,
          0.966,
          0.766,
          0.975,
          0.872,
          0.872,
          0.746,
          0.716,
          0.718,
          0.834,
          0.954,
          0.954,
          0.905,
          0.905
         ],
         "xaxis": "x",
         "y": [
          134.909,
          158.517,
          164.822,
          154.016,
          154.016,
          159.122,
          157.714,
          151.019,
          151.019,
          151.019,
          130.06,
          127.966,
          132.967,
          126.05,
          126.05,
          137.968,
          123.474,
          127.949,
          118.222,
          128.016,
          128.016,
          123.981,
          123.981
         ],
         "yaxis": "y"
        },
        {
         "hovertemplate": "usuario=ja3x0uqkq562hqmpop5rn2nwu<br>Energía=%{x}<br>Tempo (BPM)=%{y}<extra></extra>",
         "legendgroup": "ja3x0uqkq562hqmpop5rn2nwu",
         "marker": {
          "color": "#ab63fa",
          "symbol": "circle"
         },
         "mode": "markers",
         "name": "ja3x0uqkq562hqmpop5rn2nwu",
         "orientation": "v",
         "showlegend": true,
         "type": "scatter",
         "x": [
          0.789,
          0.425,
          0.685,
          0.782,
          0.782,
          0.747,
          0.881,
          0.597,
          0.736,
          0.719,
          0.719,
          0.636,
          0.636,
          0.935,
          0.548
         ],
         "xaxis": "x",
         "y": [
          116.985,
          135.128,
          132.005,
          128.033,
          128.033,
          95.003,
          193.788,
          106.556,
          147.897,
          99.011,
          99.011,
          105.005,
          105.005,
          92.478,
          94.925
         ],
         "yaxis": "y"
        },
        {
         "hovertemplate": "usuario=yanruwj88<br>Energía=%{x}<br>Tempo (BPM)=%{y}<extra></extra>",
         "legendgroup": "yanruwj88",
         "marker": {
          "color": "#FFA15A",
          "symbol": "circle"
         },
         "mode": "markers",
         "name": "yanruwj88",
         "orientation": "v",
         "showlegend": true,
         "type": "scatter",
         "x": [
          0.78,
          0.78,
          0.933,
          0.673,
          0.724,
          0.343,
          0.419,
          0.643,
          0.643,
          0.891,
          0.943,
          0.735,
          0.838,
          0.838,
          0.838,
          0.511,
          0.701,
          0.417,
          0.383,
          0.0894,
          0.405,
          0.112,
          0.822,
          0.787,
          0.623,
          0.932,
          0.932,
          0.957,
          0.43,
          0.845,
          0.353,
          0.856,
          0.115,
          0.408,
          0.616
         ],
         "xaxis": "x",
         "y": [
          98.992,
          98.992,
          140.026,
          104.995,
          108.982,
          140.035,
          139.109,
          125.938,
          125.938,
          95.089,
          75.093,
          107.612,
          110.057,
          110.057,
          110.057,
          96.038,
          130.091,
          138.178,
          87.568,
          87.641,
          81.89,
          76.244,
          126.127,
          80.449,
          100.991,
          147.04,
          147.04,
          105.105,
          91.844,
          159.953,
          165.888,
          96.966,
          103.402,
          127.918,
          110.346
         ],
         "yaxis": "y"
        },
        {
         "hovertemplate": "usuario=uif1cyf5sf7nr34a5s0f40ctb<br>Energía=%{x}<br>Tempo (BPM)=%{y}<extra></extra>",
         "legendgroup": "uif1cyf5sf7nr34a5s0f40ctb",
         "marker": {
          "color": "#19d3f3",
          "symbol": "circle"
         },
         "mode": "markers",
         "name": "uif1cyf5sf7nr34a5s0f40ctb",
         "orientation": "v",
         "showlegend": true,
         "type": "scatter",
         "x": [
          0.624,
          0.689,
          0.967,
          0.728,
          0.849,
          0.858,
          0.878,
          0.631,
          0.279,
          0.279,
          0.816,
          0.589,
          0.589,
          0.695,
          0.852,
          0.887,
          0.722,
          0.686,
          0.838,
          0.517,
          0.544,
          0.745,
          0.311,
          0.66,
          0.93,
          0.812,
          0.334,
          0.541,
          0.742,
          0.652,
          0.791,
          0.85,
          0.51,
          0.81,
          0.73,
          0.85,
          0.945,
          0.825,
          0.736,
          0.781,
          0.898,
          0.844,
          0.87,
          0.721,
          0.793,
          0.778,
          0.938,
          0.783,
          0.688,
          0.904,
          0.792,
          0.911,
          0.911,
          0.744,
          0.407,
          0.407,
          0.878,
          0.751,
          0.858,
          0.858,
          0.768,
          0.754,
          0.53,
          0.53,
          0.429,
          0.358,
          0.715,
          0.905,
          0.81,
          0.911,
          0.875,
          0.887,
          0.537,
          0.919,
          0.5,
          0.742,
          0.374
         ],
         "xaxis": "x",
         "y": [
          117.143,
          129.993,
          154.804,
          155.088,
          170.96,
          128.028,
          156.95,
          141.049,
          145.247,
          145.247,
          150.471,
          137.86,
          137.86,
          124.992,
          147.826,
          150.023,
          192.025,
          165.816,
          156.914,
          89.635,
          107.051,
          96.014,
          81.937,
          83.604,
          137.93,
          116.959,
          154.167,
          86.139,
          93.951,
          143.974,
          105.042,
          149.946,
          134.024,
          144.924,
          151.965,
          104.005,
          153.855,
          123.011,
          128.025,
          118.076,
          74.983,
          131.038,
          127.024,
          85.988,
          107.079,
          127.046,
          130.008,
          124.994,
          159.913,
          146.039,
          96.992,
          128.019,
          128.019,
          120.068,
          90.996,
          90.996,
          90.163,
          74.414,
          111.023,
          111.023,
          156.039,
          161.941,
          83.025,
          83.025,
          149.936,
          78.443,
          129.999,
          128.016,
          136.988,
          157.831,
          64.319,
          150.023,
          110.982,
          140.009,
          159.029,
          92.959,
          98.985
         ],
         "yaxis": "y"
        }
       ],
       "layout": {
        "legend": {
         "title": {
          "text": "usuario"
         },
         "tracegroupgap": 0
        },
        "template": {
         "data": {
          "bar": [
           {
            "error_x": {
             "color": "#2a3f5f"
            },
            "error_y": {
             "color": "#2a3f5f"
            },
            "marker": {
             "line": {
              "color": "#E5ECF6",
              "width": 0.5
             },
             "pattern": {
              "fillmode": "overlay",
              "size": 10,
              "solidity": 0.2
             }
            },
            "type": "bar"
           }
          ],
          "barpolar": [
           {
            "marker": {
             "line": {
              "color": "#E5ECF6",
              "width": 0.5
             },
             "pattern": {
              "fillmode": "overlay",
              "size": 10,
              "solidity": 0.2
             }
            },
            "type": "barpolar"
           }
          ],
          "carpet": [
           {
            "aaxis": {
             "endlinecolor": "#2a3f5f",
             "gridcolor": "white",
             "linecolor": "white",
             "minorgridcolor": "white",
             "startlinecolor": "#2a3f5f"
            },
            "baxis": {
             "endlinecolor": "#2a3f5f",
             "gridcolor": "white",
             "linecolor": "white",
             "minorgridcolor": "white",
             "startlinecolor": "#2a3f5f"
            },
            "type": "carpet"
           }
          ],
          "choropleth": [
           {
            "colorbar": {
             "outlinewidth": 0,
             "ticks": ""
            },
            "type": "choropleth"
           }
          ],
          "contour": [
           {
            "colorbar": {
             "outlinewidth": 0,
             "ticks": ""
            },
            "colorscale": [
             [
              0,
              "#0d0887"
             ],
             [
              0.1111111111111111,
              "#46039f"
             ],
             [
              0.2222222222222222,
              "#7201a8"
             ],
             [
              0.3333333333333333,
              "#9c179e"
             ],
             [
              0.4444444444444444,
              "#bd3786"
             ],
             [
              0.5555555555555556,
              "#d8576b"
             ],
             [
              0.6666666666666666,
              "#ed7953"
             ],
             [
              0.7777777777777778,
              "#fb9f3a"
             ],
             [
              0.8888888888888888,
              "#fdca26"
             ],
             [
              1,
              "#f0f921"
             ]
            ],
            "type": "contour"
           }
          ],
          "contourcarpet": [
           {
            "colorbar": {
             "outlinewidth": 0,
             "ticks": ""
            },
            "type": "contourcarpet"
           }
          ],
          "heatmap": [
           {
            "colorbar": {
             "outlinewidth": 0,
             "ticks": ""
            },
            "colorscale": [
             [
              0,
              "#0d0887"
             ],
             [
              0.1111111111111111,
              "#46039f"
             ],
             [
              0.2222222222222222,
              "#7201a8"
             ],
             [
              0.3333333333333333,
              "#9c179e"
             ],
             [
              0.4444444444444444,
              "#bd3786"
             ],
             [
              0.5555555555555556,
              "#d8576b"
             ],
             [
              0.6666666666666666,
              "#ed7953"
             ],
             [
              0.7777777777777778,
              "#fb9f3a"
             ],
             [
              0.8888888888888888,
              "#fdca26"
             ],
             [
              1,
              "#f0f921"
             ]
            ],
            "type": "heatmap"
           }
          ],
          "heatmapgl": [
           {
            "colorbar": {
             "outlinewidth": 0,
             "ticks": ""
            },
            "colorscale": [
             [
              0,
              "#0d0887"
             ],
             [
              0.1111111111111111,
              "#46039f"
             ],
             [
              0.2222222222222222,
              "#7201a8"
             ],
             [
              0.3333333333333333,
              "#9c179e"
             ],
             [
              0.4444444444444444,
              "#bd3786"
             ],
             [
              0.5555555555555556,
              "#d8576b"
             ],
             [
              0.6666666666666666,
              "#ed7953"
             ],
             [
              0.7777777777777778,
              "#fb9f3a"
             ],
             [
              0.8888888888888888,
              "#fdca26"
             ],
             [
              1,
              "#f0f921"
             ]
            ],
            "type": "heatmapgl"
           }
          ],
          "histogram": [
           {
            "marker": {
             "pattern": {
              "fillmode": "overlay",
              "size": 10,
              "solidity": 0.2
             }
            },
            "type": "histogram"
           }
          ],
          "histogram2d": [
           {
            "colorbar": {
             "outlinewidth": 0,
             "ticks": ""
            },
            "colorscale": [
             [
              0,
              "#0d0887"
             ],
             [
              0.1111111111111111,
              "#46039f"
             ],
             [
              0.2222222222222222,
              "#7201a8"
             ],
             [
              0.3333333333333333,
              "#9c179e"
             ],
             [
              0.4444444444444444,
              "#bd3786"
             ],
             [
              0.5555555555555556,
              "#d8576b"
             ],
             [
              0.6666666666666666,
              "#ed7953"
             ],
             [
              0.7777777777777778,
              "#fb9f3a"
             ],
             [
              0.8888888888888888,
              "#fdca26"
             ],
             [
              1,
              "#f0f921"
             ]
            ],
            "type": "histogram2d"
           }
          ],
          "histogram2dcontour": [
           {
            "colorbar": {
             "outlinewidth": 0,
             "ticks": ""
            },
            "colorscale": [
             [
              0,
              "#0d0887"
             ],
             [
              0.1111111111111111,
              "#46039f"
             ],
             [
              0.2222222222222222,
              "#7201a8"
             ],
             [
              0.3333333333333333,
              "#9c179e"
             ],
             [
              0.4444444444444444,
              "#bd3786"
             ],
             [
              0.5555555555555556,
              "#d8576b"
             ],
             [
              0.6666666666666666,
              "#ed7953"
             ],
             [
              0.7777777777777778,
              "#fb9f3a"
             ],
             [
              0.8888888888888888,
              "#fdca26"
             ],
             [
              1,
              "#f0f921"
             ]
            ],
            "type": "histogram2dcontour"
           }
          ],
          "mesh3d": [
           {
            "colorbar": {
             "outlinewidth": 0,
             "ticks": ""
            },
            "type": "mesh3d"
           }
          ],
          "parcoords": [
           {
            "line": {
             "colorbar": {
              "outlinewidth": 0,
              "ticks": ""
             }
            },
            "type": "parcoords"
           }
          ],
          "pie": [
           {
            "automargin": true,
            "type": "pie"
           }
          ],
          "scatter": [
           {
            "fillpattern": {
             "fillmode": "overlay",
             "size": 10,
             "solidity": 0.2
            },
            "type": "scatter"
           }
          ],
          "scatter3d": [
           {
            "line": {
             "colorbar": {
              "outlinewidth": 0,
              "ticks": ""
             }
            },
            "marker": {
             "colorbar": {
              "outlinewidth": 0,
              "ticks": ""
             }
            },
            "type": "scatter3d"
           }
          ],
          "scattercarpet": [
           {
            "marker": {
             "colorbar": {
              "outlinewidth": 0,
              "ticks": ""
             }
            },
            "type": "scattercarpet"
           }
          ],
          "scattergeo": [
           {
            "marker": {
             "colorbar": {
              "outlinewidth": 0,
              "ticks": ""
             }
            },
            "type": "scattergeo"
           }
          ],
          "scattergl": [
           {
            "marker": {
             "colorbar": {
              "outlinewidth": 0,
              "ticks": ""
             }
            },
            "type": "scattergl"
           }
          ],
          "scattermapbox": [
           {
            "marker": {
             "colorbar": {
              "outlinewidth": 0,
              "ticks": ""
             }
            },
            "type": "scattermapbox"
           }
          ],
          "scatterpolar": [
           {
            "marker": {
             "colorbar": {
              "outlinewidth": 0,
              "ticks": ""
             }
            },
            "type": "scatterpolar"
           }
          ],
          "scatterpolargl": [
           {
            "marker": {
             "colorbar": {
              "outlinewidth": 0,
              "ticks": ""
             }
            },
            "type": "scatterpolargl"
           }
          ],
          "scatterternary": [
           {
            "marker": {
             "colorbar": {
              "outlinewidth": 0,
              "ticks": ""
             }
            },
            "type": "scatterternary"
           }
          ],
          "surface": [
           {
            "colorbar": {
             "outlinewidth": 0,
             "ticks": ""
            },
            "colorscale": [
             [
              0,
              "#0d0887"
             ],
             [
              0.1111111111111111,
              "#46039f"
             ],
             [
              0.2222222222222222,
              "#7201a8"
             ],
             [
              0.3333333333333333,
              "#9c179e"
             ],
             [
              0.4444444444444444,
              "#bd3786"
             ],
             [
              0.5555555555555556,
              "#d8576b"
             ],
             [
              0.6666666666666666,
              "#ed7953"
             ],
             [
              0.7777777777777778,
              "#fb9f3a"
             ],
             [
              0.8888888888888888,
              "#fdca26"
             ],
             [
              1,
              "#f0f921"
             ]
            ],
            "type": "surface"
           }
          ],
          "table": [
           {
            "cells": {
             "fill": {
              "color": "#EBF0F8"
             },
             "line": {
              "color": "white"
             }
            },
            "header": {
             "fill": {
              "color": "#C8D4E3"
             },
             "line": {
              "color": "white"
             }
            },
            "type": "table"
           }
          ]
         },
         "layout": {
          "annotationdefaults": {
           "arrowcolor": "#2a3f5f",
           "arrowhead": 0,
           "arrowwidth": 1
          },
          "autotypenumbers": "strict",
          "coloraxis": {
           "colorbar": {
            "outlinewidth": 0,
            "ticks": ""
           }
          },
          "colorscale": {
           "diverging": [
            [
             0,
             "#8e0152"
            ],
            [
             0.1,
             "#c51b7d"
            ],
            [
             0.2,
             "#de77ae"
            ],
            [
             0.3,
             "#f1b6da"
            ],
            [
             0.4,
             "#fde0ef"
            ],
            [
             0.5,
             "#f7f7f7"
            ],
            [
             0.6,
             "#e6f5d0"
            ],
            [
             0.7,
             "#b8e186"
            ],
            [
             0.8,
             "#7fbc41"
            ],
            [
             0.9,
             "#4d9221"
            ],
            [
             1,
             "#276419"
            ]
           ],
           "sequential": [
            [
             0,
             "#0d0887"
            ],
            [
             0.1111111111111111,
             "#46039f"
            ],
            [
             0.2222222222222222,
             "#7201a8"
            ],
            [
             0.3333333333333333,
             "#9c179e"
            ],
            [
             0.4444444444444444,
             "#bd3786"
            ],
            [
             0.5555555555555556,
             "#d8576b"
            ],
            [
             0.6666666666666666,
             "#ed7953"
            ],
            [
             0.7777777777777778,
             "#fb9f3a"
            ],
            [
             0.8888888888888888,
             "#fdca26"
            ],
            [
             1,
             "#f0f921"
            ]
           ],
           "sequentialminus": [
            [
             0,
             "#0d0887"
            ],
            [
             0.1111111111111111,
             "#46039f"
            ],
            [
             0.2222222222222222,
             "#7201a8"
            ],
            [
             0.3333333333333333,
             "#9c179e"
            ],
            [
             0.4444444444444444,
             "#bd3786"
            ],
            [
             0.5555555555555556,
             "#d8576b"
            ],
            [
             0.6666666666666666,
             "#ed7953"
            ],
            [
             0.7777777777777778,
             "#fb9f3a"
            ],
            [
             0.8888888888888888,
             "#fdca26"
            ],
            [
             1,
             "#f0f921"
            ]
           ]
          },
          "colorway": [
           "#636efa",
           "#EF553B",
           "#00cc96",
           "#ab63fa",
           "#FFA15A",
           "#19d3f3",
           "#FF6692",
           "#B6E880",
           "#FF97FF",
           "#FECB52"
          ],
          "font": {
           "color": "#2a3f5f"
          },
          "geo": {
           "bgcolor": "white",
           "lakecolor": "white",
           "landcolor": "#E5ECF6",
           "showlakes": true,
           "showland": true,
           "subunitcolor": "white"
          },
          "hoverlabel": {
           "align": "left"
          },
          "hovermode": "closest",
          "mapbox": {
           "style": "light"
          },
          "paper_bgcolor": "white",
          "plot_bgcolor": "#E5ECF6",
          "polar": {
           "angularaxis": {
            "gridcolor": "white",
            "linecolor": "white",
            "ticks": ""
           },
           "bgcolor": "#E5ECF6",
           "radialaxis": {
            "gridcolor": "white",
            "linecolor": "white",
            "ticks": ""
           }
          },
          "scene": {
           "xaxis": {
            "backgroundcolor": "#E5ECF6",
            "gridcolor": "white",
            "gridwidth": 2,
            "linecolor": "white",
            "showbackground": true,
            "ticks": "",
            "zerolinecolor": "white"
           },
           "yaxis": {
            "backgroundcolor": "#E5ECF6",
            "gridcolor": "white",
            "gridwidth": 2,
            "linecolor": "white",
            "showbackground": true,
            "ticks": "",
            "zerolinecolor": "white"
           },
           "zaxis": {
            "backgroundcolor": "#E5ECF6",
            "gridcolor": "white",
            "gridwidth": 2,
            "linecolor": "white",
            "showbackground": true,
            "ticks": "",
            "zerolinecolor": "white"
           }
          },
          "shapedefaults": {
           "line": {
            "color": "#2a3f5f"
           }
          },
          "ternary": {
           "aaxis": {
            "gridcolor": "white",
            "linecolor": "white",
            "ticks": ""
           },
           "baxis": {
            "gridcolor": "white",
            "linecolor": "white",
            "ticks": ""
           },
           "bgcolor": "#E5ECF6",
           "caxis": {
            "gridcolor": "white",
            "linecolor": "white",
            "ticks": ""
           }
          },
          "title": {
           "x": 0.05
          },
          "xaxis": {
           "automargin": true,
           "gridcolor": "white",
           "linecolor": "white",
           "ticks": "",
           "title": {
            "standoff": 15
           },
           "zerolinecolor": "white",
           "zerolinewidth": 2
          },
          "yaxis": {
           "automargin": true,
           "gridcolor": "white",
           "linecolor": "white",
           "ticks": "",
           "title": {
            "standoff": 15
           },
           "zerolinecolor": "white",
           "zerolinewidth": 2
          }
         }
        },
        "title": {
         "text": "Comparación de Energía y Tempo por Usuario"
        },
        "xaxis": {
         "anchor": "y",
         "domain": [
          0,
          1
         ],
         "title": {
          "text": "Energía"
         }
        },
        "yaxis": {
         "anchor": "x",
         "domain": [
          0,
          1
         ],
         "title": {
          "text": "Tempo (BPM)"
         }
        }
       }
      }
     },
     "metadata": {},
     "output_type": "display_data"
    }
   ],
   "source": [
    "# 3. Energía y Tempo por Usuario\n",
    "fig3 = px.scatter(df, x=\"energy\", y=\"tempo\", color=\"usuario\", \n",
    "                  title=\"Comparación de Energía y Tempo por Usuario\",\n",
    "                  labels={\"energy\": \"Energía\", \"tempo\": \"Tempo (BPM)\"})\n",
    "fig3.show()"
   ]
  },
  {
   "cell_type": "code",
   "execution_count": 23,
   "metadata": {},
   "outputs": [
    {
     "data": {
      "application/vnd.plotly.v1+json": {
       "config": {
        "plotlyServerURL": "https://plot.ly"
       },
       "data": [
        {
         "alignmentgroup": "True",
         "hovertemplate": "usuario=%{x}<br>Valencia (Felicidad)=%{y}<extra></extra>",
         "legendgroup": "",
         "marker": {
          "color": "#636efa"
         },
         "name": "",
         "notched": false,
         "offsetgroup": "",
         "orientation": "v",
         "showlegend": false,
         "type": "box",
         "x": [
          "cogpverzil36gf0gak5jnx5ie",
          "cogpverzil36gf0gak5jnx5ie",
          "cogpverzil36gf0gak5jnx5ie",
          "cogpverzil36gf0gak5jnx5ie",
          "cogpverzil36gf0gak5jnx5ie",
          "cogpverzil36gf0gak5jnx5ie",
          "cogpverzil36gf0gak5jnx5ie",
          "cogpverzil36gf0gak5jnx5ie",
          "cogpverzil36gf0gak5jnx5ie",
          "cogpverzil36gf0gak5jnx5ie",
          "cogpverzil36gf0gak5jnx5ie",
          "cogpverzil36gf0gak5jnx5ie",
          "cogpverzil36gf0gak5jnx5ie",
          "cogpverzil36gf0gak5jnx5ie",
          "cogpverzil36gf0gak5jnx5ie",
          "cogpverzil36gf0gak5jnx5ie",
          "cogpverzil36gf0gak5jnx5ie",
          "cogpverzil36gf0gak5jnx5ie",
          "cogpverzil36gf0gak5jnx5ie",
          "cogpverzil36gf0gak5jnx5ie",
          "cogpverzil36gf0gak5jnx5ie",
          "cogpverzil36gf0gak5jnx5ie",
          "cogpverzil36gf0gak5jnx5ie",
          "cogpverzil36gf0gak5jnx5ie",
          "cogpverzil36gf0gak5jnx5ie",
          "cogpverzil36gf0gak5jnx5ie",
          "cogpverzil36gf0gak5jnx5ie",
          "cogpverzil36gf0gak5jnx5ie",
          "cogpverzil36gf0gak5jnx5ie",
          "cogpverzil36gf0gak5jnx5ie",
          "cogpverzil36gf0gak5jnx5ie",
          "cogpverzil36gf0gak5jnx5ie",
          "cogpverzil36gf0gak5jnx5ie",
          "cogpverzil36gf0gak5jnx5ie",
          "cogpverzil36gf0gak5jnx5ie",
          "cogpverzil36gf0gak5jnx5ie",
          "cogpverzil36gf0gak5jnx5ie",
          "cogpverzil36gf0gak5jnx5ie",
          "cogpverzil36gf0gak5jnx5ie",
          "cogpverzil36gf0gak5jnx5ie",
          "cogpverzil36gf0gak5jnx5ie",
          "cogpverzil36gf0gak5jnx5ie",
          "cogpverzil36gf0gak5jnx5ie",
          "cogpverzil36gf0gak5jnx5ie",
          "cogpverzil36gf0gak5jnx5ie",
          "cogpverzil36gf0gak5jnx5ie",
          "cogpverzil36gf0gak5jnx5ie",
          "cogpverzil36gf0gak5jnx5ie",
          "cogpverzil36gf0gak5jnx5ie",
          "cogpverzil36gf0gak5jnx5ie",
          "cogpverzil36gf0gak5jnx5ie",
          "cogpverzil36gf0gak5jnx5ie",
          "cogpverzil36gf0gak5jnx5ie",
          "cogpverzil36gf0gak5jnx5ie",
          "cogpverzil36gf0gak5jnx5ie",
          "cogpverzil36gf0gak5jnx5ie",
          "cogpverzil36gf0gak5jnx5ie",
          "cogpverzil36gf0gak5jnx5ie",
          "cogpverzil36gf0gak5jnx5ie",
          "cogpverzil36gf0gak5jnx5ie",
          "cogpverzil36gf0gak5jnx5ie",
          "cogpverzil36gf0gak5jnx5ie",
          "cogpverzil36gf0gak5jnx5ie",
          "cogpverzil36gf0gak5jnx5ie",
          "cogpverzil36gf0gak5jnx5ie",
          "cogpverzil36gf0gak5jnx5ie",
          "cogpverzil36gf0gak5jnx5ie",
          "cogpverzil36gf0gak5jnx5ie",
          "cogpverzil36gf0gak5jnx5ie",
          "cogpverzil36gf0gak5jnx5ie",
          "cogpverzil36gf0gak5jnx5ie",
          "cogpverzil36gf0gak5jnx5ie",
          "cogpverzil36gf0gak5jnx5ie",
          "cogpverzil36gf0gak5jnx5ie",
          "cogpverzil36gf0gak5jnx5ie",
          "cogpverzil36gf0gak5jnx5ie",
          "cogpverzil36gf0gak5jnx5ie",
          "31w4yohdv3v3ysdbz7vdh55xbqg4",
          "31w4yohdv3v3ysdbz7vdh55xbqg4",
          "31w4yohdv3v3ysdbz7vdh55xbqg4",
          "31w4yohdv3v3ysdbz7vdh55xbqg4",
          "31w4yohdv3v3ysdbz7vdh55xbqg4",
          "31w4yohdv3v3ysdbz7vdh55xbqg4",
          "31w4yohdv3v3ysdbz7vdh55xbqg4",
          "31w4yohdv3v3ysdbz7vdh55xbqg4",
          "31w4yohdv3v3ysdbz7vdh55xbqg4",
          "31w4yohdv3v3ysdbz7vdh55xbqg4",
          "gonzaloruiperez",
          "gonzaloruiperez",
          "31w4yohdv3v3ysdbz7vdh55xbqg4",
          "31w4yohdv3v3ysdbz7vdh55xbqg4",
          "31w4yohdv3v3ysdbz7vdh55xbqg4",
          "gonzaloruiperez",
          "gonzaloruiperez",
          "gonzaloruiperez",
          "31w4yohdv3v3ysdbz7vdh55xbqg4",
          "gonzaloruiperez",
          "31w4yohdv3v3ysdbz7vdh55xbqg4",
          "gonzaloruiperez",
          "gonzaloruiperez",
          "gonzaloruiperez",
          "gonzaloruiperez",
          "31w4yohdv3v3ysdbz7vdh55xbqg4",
          "gonzaloruiperez",
          "31w4yohdv3v3ysdbz7vdh55xbqg4",
          "gonzaloruiperez",
          "gonzaloruiperez",
          "gonzaloruiperez",
          "gonzaloruiperez",
          "ja3x0uqkq562hqmpop5rn2nwu",
          "ja3x0uqkq562hqmpop5rn2nwu",
          "ja3x0uqkq562hqmpop5rn2nwu",
          "ja3x0uqkq562hqmpop5rn2nwu",
          "ja3x0uqkq562hqmpop5rn2nwu",
          "ja3x0uqkq562hqmpop5rn2nwu",
          "ja3x0uqkq562hqmpop5rn2nwu",
          "ja3x0uqkq562hqmpop5rn2nwu",
          "ja3x0uqkq562hqmpop5rn2nwu",
          "gonzaloruiperez",
          "gonzaloruiperez",
          "yanruwj88",
          "yanruwj88",
          "yanruwj88",
          "yanruwj88",
          "yanruwj88",
          "yanruwj88",
          "yanruwj88",
          "yanruwj88",
          "yanruwj88",
          "yanruwj88",
          "uif1cyf5sf7nr34a5s0f40ctb",
          "uif1cyf5sf7nr34a5s0f40ctb",
          "uif1cyf5sf7nr34a5s0f40ctb",
          "uif1cyf5sf7nr34a5s0f40ctb",
          "uif1cyf5sf7nr34a5s0f40ctb",
          "uif1cyf5sf7nr34a5s0f40ctb",
          "uif1cyf5sf7nr34a5s0f40ctb",
          "uif1cyf5sf7nr34a5s0f40ctb",
          "uif1cyf5sf7nr34a5s0f40ctb",
          "uif1cyf5sf7nr34a5s0f40ctb",
          "uif1cyf5sf7nr34a5s0f40ctb",
          "uif1cyf5sf7nr34a5s0f40ctb",
          "uif1cyf5sf7nr34a5s0f40ctb",
          "uif1cyf5sf7nr34a5s0f40ctb",
          "uif1cyf5sf7nr34a5s0f40ctb",
          "uif1cyf5sf7nr34a5s0f40ctb",
          "uif1cyf5sf7nr34a5s0f40ctb",
          "uif1cyf5sf7nr34a5s0f40ctb",
          "uif1cyf5sf7nr34a5s0f40ctb",
          "uif1cyf5sf7nr34a5s0f40ctb",
          "uif1cyf5sf7nr34a5s0f40ctb",
          "uif1cyf5sf7nr34a5s0f40ctb",
          "uif1cyf5sf7nr34a5s0f40ctb",
          "uif1cyf5sf7nr34a5s0f40ctb",
          "uif1cyf5sf7nr34a5s0f40ctb",
          "uif1cyf5sf7nr34a5s0f40ctb",
          "uif1cyf5sf7nr34a5s0f40ctb",
          "uif1cyf5sf7nr34a5s0f40ctb",
          "uif1cyf5sf7nr34a5s0f40ctb",
          "uif1cyf5sf7nr34a5s0f40ctb",
          "uif1cyf5sf7nr34a5s0f40ctb",
          "uif1cyf5sf7nr34a5s0f40ctb",
          "uif1cyf5sf7nr34a5s0f40ctb",
          "uif1cyf5sf7nr34a5s0f40ctb",
          "uif1cyf5sf7nr34a5s0f40ctb",
          "uif1cyf5sf7nr34a5s0f40ctb",
          "uif1cyf5sf7nr34a5s0f40ctb",
          "uif1cyf5sf7nr34a5s0f40ctb",
          "uif1cyf5sf7nr34a5s0f40ctb",
          "uif1cyf5sf7nr34a5s0f40ctb",
          "uif1cyf5sf7nr34a5s0f40ctb",
          "uif1cyf5sf7nr34a5s0f40ctb",
          "uif1cyf5sf7nr34a5s0f40ctb",
          "uif1cyf5sf7nr34a5s0f40ctb",
          "uif1cyf5sf7nr34a5s0f40ctb",
          "uif1cyf5sf7nr34a5s0f40ctb",
          "uif1cyf5sf7nr34a5s0f40ctb",
          "uif1cyf5sf7nr34a5s0f40ctb",
          "uif1cyf5sf7nr34a5s0f40ctb",
          "uif1cyf5sf7nr34a5s0f40ctb",
          "uif1cyf5sf7nr34a5s0f40ctb",
          "ja3x0uqkq562hqmpop5rn2nwu",
          "ja3x0uqkq562hqmpop5rn2nwu",
          "ja3x0uqkq562hqmpop5rn2nwu",
          "ja3x0uqkq562hqmpop5rn2nwu",
          "yanruwj88",
          "yanruwj88",
          "yanruwj88",
          "yanruwj88",
          "yanruwj88",
          "yanruwj88",
          "yanruwj88",
          "yanruwj88",
          "yanruwj88",
          "yanruwj88",
          "yanruwj88",
          "yanruwj88",
          "yanruwj88",
          "yanruwj88",
          "yanruwj88",
          "yanruwj88",
          "yanruwj88",
          "yanruwj88",
          "yanruwj88",
          "yanruwj88",
          "yanruwj88",
          "yanruwj88",
          "yanruwj88",
          "yanruwj88",
          "yanruwj88",
          "gonzaloruiperez",
          "uif1cyf5sf7nr34a5s0f40ctb",
          "uif1cyf5sf7nr34a5s0f40ctb",
          "uif1cyf5sf7nr34a5s0f40ctb",
          "uif1cyf5sf7nr34a5s0f40ctb",
          "uif1cyf5sf7nr34a5s0f40ctb",
          "uif1cyf5sf7nr34a5s0f40ctb",
          "uif1cyf5sf7nr34a5s0f40ctb",
          "uif1cyf5sf7nr34a5s0f40ctb",
          "uif1cyf5sf7nr34a5s0f40ctb",
          "uif1cyf5sf7nr34a5s0f40ctb",
          "uif1cyf5sf7nr34a5s0f40ctb",
          "uif1cyf5sf7nr34a5s0f40ctb",
          "uif1cyf5sf7nr34a5s0f40ctb",
          "uif1cyf5sf7nr34a5s0f40ctb",
          "gonzaloruiperez",
          "gonzaloruiperez",
          "gonzaloruiperez",
          "gonzaloruiperez",
          "gonzaloruiperez",
          "uif1cyf5sf7nr34a5s0f40ctb",
          "uif1cyf5sf7nr34a5s0f40ctb",
          "uif1cyf5sf7nr34a5s0f40ctb",
          "uif1cyf5sf7nr34a5s0f40ctb",
          "uif1cyf5sf7nr34a5s0f40ctb",
          "uif1cyf5sf7nr34a5s0f40ctb",
          "uif1cyf5sf7nr34a5s0f40ctb",
          "uif1cyf5sf7nr34a5s0f40ctb",
          "uif1cyf5sf7nr34a5s0f40ctb",
          "uif1cyf5sf7nr34a5s0f40ctb",
          "uif1cyf5sf7nr34a5s0f40ctb",
          "ja3x0uqkq562hqmpop5rn2nwu",
          "uif1cyf5sf7nr34a5s0f40ctb",
          "ja3x0uqkq562hqmpop5rn2nwu"
         ],
         "x0": " ",
         "xaxis": "x",
         "y": [
          0.462,
          0.561,
          0.318,
          0.129,
          0.613,
          0.189,
          0.475,
          0.797,
          0.735,
          0.504,
          0.526,
          0.526,
          0.526,
          0.852,
          0.326,
          0.706,
          0.785,
          0.728,
          0.366,
          0.361,
          0.626,
          0.446,
          0.465,
          0.531,
          0.141,
          0.168,
          0.318,
          0.621,
          0.848,
          0.848,
          0.848,
          0.524,
          0.731,
          0.731,
          0.504,
          0.504,
          0.538,
          0.386,
          0.74,
          0.523,
          0.213,
          0.464,
          0.73,
          0.896,
          0.814,
          0.846,
          0.629,
          0.854,
          0.276,
          0.461,
          0.693,
          0.57,
          0.57,
          0.403,
          0.403,
          0.489,
          0.489,
          0.0974,
          0.524,
          0.524,
          0.524,
          0.916,
          0.721,
          0.611,
          0.434,
          0.694,
          0.694,
          0.191,
          0.402,
          0.867,
          0.294,
          0.294,
          0.784,
          0.843,
          0.843,
          0.904,
          0.904,
          0.9,
          0.382,
          0.388,
          0.388,
          0.686,
          0.666,
          0.666,
          0.625,
          0.25,
          0.25,
          0.776,
          0.86,
          0.648,
          0.648,
          0.648,
          0.789,
          0.753,
          0.753,
          0.219,
          0.782,
          0.585,
          0.859,
          0.844,
          0.844,
          0.844,
          0.281,
          0.764,
          0.745,
          0.61,
          0.969,
          0.682,
          0.682,
          0.866,
          0.562,
          0.952,
          0.55,
          0.55,
          0.517,
          0.928,
          0.961,
          0.669,
          0.658,
          0.692,
          0.88,
          0.88,
          0.865,
          0.883,
          0.69,
          0.315,
          0.257,
          0.219,
          0.219,
          0.331,
          0.523,
          0.483,
          0.679,
          0.451,
          0.569,
          0.662,
          0.42,
          0.598,
          0.137,
          0.137,
          0.271,
          0.332,
          0.332,
          0.409,
          0.346,
          0.557,
          0.247,
          0.19,
          0.438,
          0.4,
          0.181,
          0.196,
          0.0832,
          0.727,
          0.766,
          0.334,
          0.413,
          0.112,
          0.496,
          0.217,
          0.162,
          0.581,
          0.443,
          0.512,
          0.244,
          0.54,
          0.725,
          0.474,
          0.569,
          0.464,
          0.536,
          0.38,
          0.628,
          0.183,
          0.255,
          0.723,
          0.735,
          0.225,
          0.308,
          0.737,
          0.532,
          0.892,
          0.892,
          0.565,
          0.565,
          0.64,
          0.738,
          0.589,
          0.589,
          0.589,
          0.542,
          0.892,
          0.124,
          0.35,
          0.195,
          0.743,
          0.0903,
          0.587,
          0.692,
          0.711,
          0.937,
          0.937,
          0.603,
          0.104,
          0.6,
          0.55,
          0.635,
          0.229,
          0.374,
          0.32,
          0.342,
          0.716,
          0.716,
          0.374,
          0.56,
          0.56,
          0.657,
          0.537,
          0.62,
          0.62,
          0.293,
          0.498,
          0.602,
          0.602,
          0.446,
          0.337,
          0.312,
          0.312,
          0.574,
          0.574,
          0.481,
          0.316,
          0.388,
          0.535,
          0.343,
          0.403,
          0.557,
          0.673,
          0.386,
          0.526,
          0.482,
          0.797,
          0.656,
          0.516
         ],
         "y0": " ",
         "yaxis": "y"
        }
       ],
       "layout": {
        "boxmode": "group",
        "legend": {
         "tracegroupgap": 0
        },
        "template": {
         "data": {
          "bar": [
           {
            "error_x": {
             "color": "#2a3f5f"
            },
            "error_y": {
             "color": "#2a3f5f"
            },
            "marker": {
             "line": {
              "color": "#E5ECF6",
              "width": 0.5
             },
             "pattern": {
              "fillmode": "overlay",
              "size": 10,
              "solidity": 0.2
             }
            },
            "type": "bar"
           }
          ],
          "barpolar": [
           {
            "marker": {
             "line": {
              "color": "#E5ECF6",
              "width": 0.5
             },
             "pattern": {
              "fillmode": "overlay",
              "size": 10,
              "solidity": 0.2
             }
            },
            "type": "barpolar"
           }
          ],
          "carpet": [
           {
            "aaxis": {
             "endlinecolor": "#2a3f5f",
             "gridcolor": "white",
             "linecolor": "white",
             "minorgridcolor": "white",
             "startlinecolor": "#2a3f5f"
            },
            "baxis": {
             "endlinecolor": "#2a3f5f",
             "gridcolor": "white",
             "linecolor": "white",
             "minorgridcolor": "white",
             "startlinecolor": "#2a3f5f"
            },
            "type": "carpet"
           }
          ],
          "choropleth": [
           {
            "colorbar": {
             "outlinewidth": 0,
             "ticks": ""
            },
            "type": "choropleth"
           }
          ],
          "contour": [
           {
            "colorbar": {
             "outlinewidth": 0,
             "ticks": ""
            },
            "colorscale": [
             [
              0,
              "#0d0887"
             ],
             [
              0.1111111111111111,
              "#46039f"
             ],
             [
              0.2222222222222222,
              "#7201a8"
             ],
             [
              0.3333333333333333,
              "#9c179e"
             ],
             [
              0.4444444444444444,
              "#bd3786"
             ],
             [
              0.5555555555555556,
              "#d8576b"
             ],
             [
              0.6666666666666666,
              "#ed7953"
             ],
             [
              0.7777777777777778,
              "#fb9f3a"
             ],
             [
              0.8888888888888888,
              "#fdca26"
             ],
             [
              1,
              "#f0f921"
             ]
            ],
            "type": "contour"
           }
          ],
          "contourcarpet": [
           {
            "colorbar": {
             "outlinewidth": 0,
             "ticks": ""
            },
            "type": "contourcarpet"
           }
          ],
          "heatmap": [
           {
            "colorbar": {
             "outlinewidth": 0,
             "ticks": ""
            },
            "colorscale": [
             [
              0,
              "#0d0887"
             ],
             [
              0.1111111111111111,
              "#46039f"
             ],
             [
              0.2222222222222222,
              "#7201a8"
             ],
             [
              0.3333333333333333,
              "#9c179e"
             ],
             [
              0.4444444444444444,
              "#bd3786"
             ],
             [
              0.5555555555555556,
              "#d8576b"
             ],
             [
              0.6666666666666666,
              "#ed7953"
             ],
             [
              0.7777777777777778,
              "#fb9f3a"
             ],
             [
              0.8888888888888888,
              "#fdca26"
             ],
             [
              1,
              "#f0f921"
             ]
            ],
            "type": "heatmap"
           }
          ],
          "heatmapgl": [
           {
            "colorbar": {
             "outlinewidth": 0,
             "ticks": ""
            },
            "colorscale": [
             [
              0,
              "#0d0887"
             ],
             [
              0.1111111111111111,
              "#46039f"
             ],
             [
              0.2222222222222222,
              "#7201a8"
             ],
             [
              0.3333333333333333,
              "#9c179e"
             ],
             [
              0.4444444444444444,
              "#bd3786"
             ],
             [
              0.5555555555555556,
              "#d8576b"
             ],
             [
              0.6666666666666666,
              "#ed7953"
             ],
             [
              0.7777777777777778,
              "#fb9f3a"
             ],
             [
              0.8888888888888888,
              "#fdca26"
             ],
             [
              1,
              "#f0f921"
             ]
            ],
            "type": "heatmapgl"
           }
          ],
          "histogram": [
           {
            "marker": {
             "pattern": {
              "fillmode": "overlay",
              "size": 10,
              "solidity": 0.2
             }
            },
            "type": "histogram"
           }
          ],
          "histogram2d": [
           {
            "colorbar": {
             "outlinewidth": 0,
             "ticks": ""
            },
            "colorscale": [
             [
              0,
              "#0d0887"
             ],
             [
              0.1111111111111111,
              "#46039f"
             ],
             [
              0.2222222222222222,
              "#7201a8"
             ],
             [
              0.3333333333333333,
              "#9c179e"
             ],
             [
              0.4444444444444444,
              "#bd3786"
             ],
             [
              0.5555555555555556,
              "#d8576b"
             ],
             [
              0.6666666666666666,
              "#ed7953"
             ],
             [
              0.7777777777777778,
              "#fb9f3a"
             ],
             [
              0.8888888888888888,
              "#fdca26"
             ],
             [
              1,
              "#f0f921"
             ]
            ],
            "type": "histogram2d"
           }
          ],
          "histogram2dcontour": [
           {
            "colorbar": {
             "outlinewidth": 0,
             "ticks": ""
            },
            "colorscale": [
             [
              0,
              "#0d0887"
             ],
             [
              0.1111111111111111,
              "#46039f"
             ],
             [
              0.2222222222222222,
              "#7201a8"
             ],
             [
              0.3333333333333333,
              "#9c179e"
             ],
             [
              0.4444444444444444,
              "#bd3786"
             ],
             [
              0.5555555555555556,
              "#d8576b"
             ],
             [
              0.6666666666666666,
              "#ed7953"
             ],
             [
              0.7777777777777778,
              "#fb9f3a"
             ],
             [
              0.8888888888888888,
              "#fdca26"
             ],
             [
              1,
              "#f0f921"
             ]
            ],
            "type": "histogram2dcontour"
           }
          ],
          "mesh3d": [
           {
            "colorbar": {
             "outlinewidth": 0,
             "ticks": ""
            },
            "type": "mesh3d"
           }
          ],
          "parcoords": [
           {
            "line": {
             "colorbar": {
              "outlinewidth": 0,
              "ticks": ""
             }
            },
            "type": "parcoords"
           }
          ],
          "pie": [
           {
            "automargin": true,
            "type": "pie"
           }
          ],
          "scatter": [
           {
            "fillpattern": {
             "fillmode": "overlay",
             "size": 10,
             "solidity": 0.2
            },
            "type": "scatter"
           }
          ],
          "scatter3d": [
           {
            "line": {
             "colorbar": {
              "outlinewidth": 0,
              "ticks": ""
             }
            },
            "marker": {
             "colorbar": {
              "outlinewidth": 0,
              "ticks": ""
             }
            },
            "type": "scatter3d"
           }
          ],
          "scattercarpet": [
           {
            "marker": {
             "colorbar": {
              "outlinewidth": 0,
              "ticks": ""
             }
            },
            "type": "scattercarpet"
           }
          ],
          "scattergeo": [
           {
            "marker": {
             "colorbar": {
              "outlinewidth": 0,
              "ticks": ""
             }
            },
            "type": "scattergeo"
           }
          ],
          "scattergl": [
           {
            "marker": {
             "colorbar": {
              "outlinewidth": 0,
              "ticks": ""
             }
            },
            "type": "scattergl"
           }
          ],
          "scattermapbox": [
           {
            "marker": {
             "colorbar": {
              "outlinewidth": 0,
              "ticks": ""
             }
            },
            "type": "scattermapbox"
           }
          ],
          "scatterpolar": [
           {
            "marker": {
             "colorbar": {
              "outlinewidth": 0,
              "ticks": ""
             }
            },
            "type": "scatterpolar"
           }
          ],
          "scatterpolargl": [
           {
            "marker": {
             "colorbar": {
              "outlinewidth": 0,
              "ticks": ""
             }
            },
            "type": "scatterpolargl"
           }
          ],
          "scatterternary": [
           {
            "marker": {
             "colorbar": {
              "outlinewidth": 0,
              "ticks": ""
             }
            },
            "type": "scatterternary"
           }
          ],
          "surface": [
           {
            "colorbar": {
             "outlinewidth": 0,
             "ticks": ""
            },
            "colorscale": [
             [
              0,
              "#0d0887"
             ],
             [
              0.1111111111111111,
              "#46039f"
             ],
             [
              0.2222222222222222,
              "#7201a8"
             ],
             [
              0.3333333333333333,
              "#9c179e"
             ],
             [
              0.4444444444444444,
              "#bd3786"
             ],
             [
              0.5555555555555556,
              "#d8576b"
             ],
             [
              0.6666666666666666,
              "#ed7953"
             ],
             [
              0.7777777777777778,
              "#fb9f3a"
             ],
             [
              0.8888888888888888,
              "#fdca26"
             ],
             [
              1,
              "#f0f921"
             ]
            ],
            "type": "surface"
           }
          ],
          "table": [
           {
            "cells": {
             "fill": {
              "color": "#EBF0F8"
             },
             "line": {
              "color": "white"
             }
            },
            "header": {
             "fill": {
              "color": "#C8D4E3"
             },
             "line": {
              "color": "white"
             }
            },
            "type": "table"
           }
          ]
         },
         "layout": {
          "annotationdefaults": {
           "arrowcolor": "#2a3f5f",
           "arrowhead": 0,
           "arrowwidth": 1
          },
          "autotypenumbers": "strict",
          "coloraxis": {
           "colorbar": {
            "outlinewidth": 0,
            "ticks": ""
           }
          },
          "colorscale": {
           "diverging": [
            [
             0,
             "#8e0152"
            ],
            [
             0.1,
             "#c51b7d"
            ],
            [
             0.2,
             "#de77ae"
            ],
            [
             0.3,
             "#f1b6da"
            ],
            [
             0.4,
             "#fde0ef"
            ],
            [
             0.5,
             "#f7f7f7"
            ],
            [
             0.6,
             "#e6f5d0"
            ],
            [
             0.7,
             "#b8e186"
            ],
            [
             0.8,
             "#7fbc41"
            ],
            [
             0.9,
             "#4d9221"
            ],
            [
             1,
             "#276419"
            ]
           ],
           "sequential": [
            [
             0,
             "#0d0887"
            ],
            [
             0.1111111111111111,
             "#46039f"
            ],
            [
             0.2222222222222222,
             "#7201a8"
            ],
            [
             0.3333333333333333,
             "#9c179e"
            ],
            [
             0.4444444444444444,
             "#bd3786"
            ],
            [
             0.5555555555555556,
             "#d8576b"
            ],
            [
             0.6666666666666666,
             "#ed7953"
            ],
            [
             0.7777777777777778,
             "#fb9f3a"
            ],
            [
             0.8888888888888888,
             "#fdca26"
            ],
            [
             1,
             "#f0f921"
            ]
           ],
           "sequentialminus": [
            [
             0,
             "#0d0887"
            ],
            [
             0.1111111111111111,
             "#46039f"
            ],
            [
             0.2222222222222222,
             "#7201a8"
            ],
            [
             0.3333333333333333,
             "#9c179e"
            ],
            [
             0.4444444444444444,
             "#bd3786"
            ],
            [
             0.5555555555555556,
             "#d8576b"
            ],
            [
             0.6666666666666666,
             "#ed7953"
            ],
            [
             0.7777777777777778,
             "#fb9f3a"
            ],
            [
             0.8888888888888888,
             "#fdca26"
            ],
            [
             1,
             "#f0f921"
            ]
           ]
          },
          "colorway": [
           "#636efa",
           "#EF553B",
           "#00cc96",
           "#ab63fa",
           "#FFA15A",
           "#19d3f3",
           "#FF6692",
           "#B6E880",
           "#FF97FF",
           "#FECB52"
          ],
          "font": {
           "color": "#2a3f5f"
          },
          "geo": {
           "bgcolor": "white",
           "lakecolor": "white",
           "landcolor": "#E5ECF6",
           "showlakes": true,
           "showland": true,
           "subunitcolor": "white"
          },
          "hoverlabel": {
           "align": "left"
          },
          "hovermode": "closest",
          "mapbox": {
           "style": "light"
          },
          "paper_bgcolor": "white",
          "plot_bgcolor": "#E5ECF6",
          "polar": {
           "angularaxis": {
            "gridcolor": "white",
            "linecolor": "white",
            "ticks": ""
           },
           "bgcolor": "#E5ECF6",
           "radialaxis": {
            "gridcolor": "white",
            "linecolor": "white",
            "ticks": ""
           }
          },
          "scene": {
           "xaxis": {
            "backgroundcolor": "#E5ECF6",
            "gridcolor": "white",
            "gridwidth": 2,
            "linecolor": "white",
            "showbackground": true,
            "ticks": "",
            "zerolinecolor": "white"
           },
           "yaxis": {
            "backgroundcolor": "#E5ECF6",
            "gridcolor": "white",
            "gridwidth": 2,
            "linecolor": "white",
            "showbackground": true,
            "ticks": "",
            "zerolinecolor": "white"
           },
           "zaxis": {
            "backgroundcolor": "#E5ECF6",
            "gridcolor": "white",
            "gridwidth": 2,
            "linecolor": "white",
            "showbackground": true,
            "ticks": "",
            "zerolinecolor": "white"
           }
          },
          "shapedefaults": {
           "line": {
            "color": "#2a3f5f"
           }
          },
          "ternary": {
           "aaxis": {
            "gridcolor": "white",
            "linecolor": "white",
            "ticks": ""
           },
           "baxis": {
            "gridcolor": "white",
            "linecolor": "white",
            "ticks": ""
           },
           "bgcolor": "#E5ECF6",
           "caxis": {
            "gridcolor": "white",
            "linecolor": "white",
            "ticks": ""
           }
          },
          "title": {
           "x": 0.05
          },
          "xaxis": {
           "automargin": true,
           "gridcolor": "white",
           "linecolor": "white",
           "ticks": "",
           "title": {
            "standoff": 15
           },
           "zerolinecolor": "white",
           "zerolinewidth": 2
          },
          "yaxis": {
           "automargin": true,
           "gridcolor": "white",
           "linecolor": "white",
           "ticks": "",
           "title": {
            "standoff": 15
           },
           "zerolinecolor": "white",
           "zerolinewidth": 2
          }
         }
        },
        "title": {
         "text": "Comparación de la Valencia entre Usuarios"
        },
        "xaxis": {
         "anchor": "y",
         "domain": [
          0,
          1
         ],
         "title": {
          "text": "usuario"
         }
        },
        "yaxis": {
         "anchor": "x",
         "domain": [
          0,
          1
         ],
         "title": {
          "text": "Valencia (Felicidad)"
         }
        }
       }
      }
     },
     "metadata": {},
     "output_type": "display_data"
    }
   ],
   "source": [
    "# 4. Comparación de la Valencia (Felicidad) entre los Usuarios\n",
    "fig4 = px.box(df, x=\"usuario\", y=\"valence\", title=\"Comparación de la Valencia entre Usuarios\", \n",
    "              labels={\"valence\": \"Valencia (Felicidad)\"})\n",
    "fig4.show()"
   ]
  },
  {
   "cell_type": "code",
   "execution_count": 41,
   "metadata": {},
   "outputs": [
    {
     "data": {
      "text/html": [
       "<div>\n",
       "<style scoped>\n",
       "    .dataframe tbody tr th:only-of-type {\n",
       "        vertical-align: middle;\n",
       "    }\n",
       "\n",
       "    .dataframe tbody tr th {\n",
       "        vertical-align: top;\n",
       "    }\n",
       "\n",
       "    .dataframe thead th {\n",
       "        text-align: right;\n",
       "    }\n",
       "</style>\n",
       "<table border=\"1\" class=\"dataframe\">\n",
       "  <thead>\n",
       "    <tr style=\"text-align: right;\">\n",
       "      <th></th>\n",
       "      <th>artist</th>\n",
       "      <th>popularity</th>\n",
       "    </tr>\n",
       "  </thead>\n",
       "  <tbody>\n",
       "    <tr>\n",
       "      <th>74</th>\n",
       "      <td>Omar Courtz, De La Rose</td>\n",
       "      <td>88.0</td>\n",
       "    </tr>\n",
       "    <tr>\n",
       "      <th>8</th>\n",
       "      <td>Benson Boone</td>\n",
       "      <td>87.0</td>\n",
       "    </tr>\n",
       "    <tr>\n",
       "      <th>85</th>\n",
       "      <td>Post Malone, Morgan Wallen</td>\n",
       "      <td>86.0</td>\n",
       "    </tr>\n",
       "    <tr>\n",
       "      <th>70</th>\n",
       "      <td>Natasha Bedingfield</td>\n",
       "      <td>86.0</td>\n",
       "    </tr>\n",
       "    <tr>\n",
       "      <th>22</th>\n",
       "      <td>Coldplay</td>\n",
       "      <td>83.0</td>\n",
       "    </tr>\n",
       "  </tbody>\n",
       "</table>\n",
       "</div>"
      ],
      "text/plain": [
       "                        artist  popularity\n",
       "74     Omar Courtz, De La Rose        88.0\n",
       "8                 Benson Boone        87.0\n",
       "85  Post Malone, Morgan Wallen        86.0\n",
       "70         Natasha Bedingfield        86.0\n",
       "22                    Coldplay        83.0"
      ]
     },
     "execution_count": 41,
     "metadata": {},
     "output_type": "execute_result"
    }
   ],
   "source": [
    "df_artistas_explode = df.explode(\"artist\")\n",
    "conteo = df_artistas_explode.groupby(\"artist\")[\"popularity\"].mean().reset_index().sort_values(by= \"popularity\", ascending = False)\n",
    "conteo = conteo.nlargest(20, \"popularity\")\n",
    "conteo.head()"
   ]
  },
  {
   "cell_type": "code",
   "execution_count": 42,
   "metadata": {},
   "outputs": [
    {
     "data": {
      "application/vnd.plotly.v1+json": {
       "config": {
        "plotlyServerURL": "https://plot.ly"
       },
       "data": [
        {
         "alignmentgroup": "True",
         "hovertemplate": "Artista=%{x}<br>popularity=%{y}<extra></extra>",
         "legendgroup": "",
         "marker": {
          "color": "#636efa",
          "pattern": {
           "shape": ""
          }
         },
         "name": "",
         "offsetgroup": "",
         "orientation": "v",
         "showlegend": false,
         "textposition": "auto",
         "type": "bar",
         "x": [
          "Omar Courtz, De La Rose",
          "Benson Boone",
          "Post Malone, Morgan Wallen",
          "Natasha Bedingfield",
          "Coldplay",
          "Rvssian, Rauw Alejandro, Ayra Starr",
          "The Weeknd, Playboi Carti, Madonna",
          "Billie Eilish",
          "Radiohead",
          "Bizarrap, Quevedo",
          "Jaxomy, Agatino Romero, Raffaella Carrà",
          "Outkast",
          "Black Eyed Peas",
          "Dua Lipa",
          "Milky Chance",
          "Corinne Bailey Rae",
          "Jet",
          "Owl City, Carly Rae Jepsen",
          "Deftones",
          "Laufey"
         ],
         "xaxis": "x",
         "y": [
          88,
          87,
          86,
          86,
          83,
          83,
          83,
          81,
          81,
          81,
          81,
          81,
          80,
          80,
          79,
          77,
          76,
          76,
          76,
          75.25
         ],
         "yaxis": "y"
        }
       ],
       "layout": {
        "barmode": "relative",
        "legend": {
         "tracegroupgap": 0
        },
        "template": {
         "data": {
          "bar": [
           {
            "error_x": {
             "color": "#2a3f5f"
            },
            "error_y": {
             "color": "#2a3f5f"
            },
            "marker": {
             "line": {
              "color": "#E5ECF6",
              "width": 0.5
             },
             "pattern": {
              "fillmode": "overlay",
              "size": 10,
              "solidity": 0.2
             }
            },
            "type": "bar"
           }
          ],
          "barpolar": [
           {
            "marker": {
             "line": {
              "color": "#E5ECF6",
              "width": 0.5
             },
             "pattern": {
              "fillmode": "overlay",
              "size": 10,
              "solidity": 0.2
             }
            },
            "type": "barpolar"
           }
          ],
          "carpet": [
           {
            "aaxis": {
             "endlinecolor": "#2a3f5f",
             "gridcolor": "white",
             "linecolor": "white",
             "minorgridcolor": "white",
             "startlinecolor": "#2a3f5f"
            },
            "baxis": {
             "endlinecolor": "#2a3f5f",
             "gridcolor": "white",
             "linecolor": "white",
             "minorgridcolor": "white",
             "startlinecolor": "#2a3f5f"
            },
            "type": "carpet"
           }
          ],
          "choropleth": [
           {
            "colorbar": {
             "outlinewidth": 0,
             "ticks": ""
            },
            "type": "choropleth"
           }
          ],
          "contour": [
           {
            "colorbar": {
             "outlinewidth": 0,
             "ticks": ""
            },
            "colorscale": [
             [
              0,
              "#0d0887"
             ],
             [
              0.1111111111111111,
              "#46039f"
             ],
             [
              0.2222222222222222,
              "#7201a8"
             ],
             [
              0.3333333333333333,
              "#9c179e"
             ],
             [
              0.4444444444444444,
              "#bd3786"
             ],
             [
              0.5555555555555556,
              "#d8576b"
             ],
             [
              0.6666666666666666,
              "#ed7953"
             ],
             [
              0.7777777777777778,
              "#fb9f3a"
             ],
             [
              0.8888888888888888,
              "#fdca26"
             ],
             [
              1,
              "#f0f921"
             ]
            ],
            "type": "contour"
           }
          ],
          "contourcarpet": [
           {
            "colorbar": {
             "outlinewidth": 0,
             "ticks": ""
            },
            "type": "contourcarpet"
           }
          ],
          "heatmap": [
           {
            "colorbar": {
             "outlinewidth": 0,
             "ticks": ""
            },
            "colorscale": [
             [
              0,
              "#0d0887"
             ],
             [
              0.1111111111111111,
              "#46039f"
             ],
             [
              0.2222222222222222,
              "#7201a8"
             ],
             [
              0.3333333333333333,
              "#9c179e"
             ],
             [
              0.4444444444444444,
              "#bd3786"
             ],
             [
              0.5555555555555556,
              "#d8576b"
             ],
             [
              0.6666666666666666,
              "#ed7953"
             ],
             [
              0.7777777777777778,
              "#fb9f3a"
             ],
             [
              0.8888888888888888,
              "#fdca26"
             ],
             [
              1,
              "#f0f921"
             ]
            ],
            "type": "heatmap"
           }
          ],
          "heatmapgl": [
           {
            "colorbar": {
             "outlinewidth": 0,
             "ticks": ""
            },
            "colorscale": [
             [
              0,
              "#0d0887"
             ],
             [
              0.1111111111111111,
              "#46039f"
             ],
             [
              0.2222222222222222,
              "#7201a8"
             ],
             [
              0.3333333333333333,
              "#9c179e"
             ],
             [
              0.4444444444444444,
              "#bd3786"
             ],
             [
              0.5555555555555556,
              "#d8576b"
             ],
             [
              0.6666666666666666,
              "#ed7953"
             ],
             [
              0.7777777777777778,
              "#fb9f3a"
             ],
             [
              0.8888888888888888,
              "#fdca26"
             ],
             [
              1,
              "#f0f921"
             ]
            ],
            "type": "heatmapgl"
           }
          ],
          "histogram": [
           {
            "marker": {
             "pattern": {
              "fillmode": "overlay",
              "size": 10,
              "solidity": 0.2
             }
            },
            "type": "histogram"
           }
          ],
          "histogram2d": [
           {
            "colorbar": {
             "outlinewidth": 0,
             "ticks": ""
            },
            "colorscale": [
             [
              0,
              "#0d0887"
             ],
             [
              0.1111111111111111,
              "#46039f"
             ],
             [
              0.2222222222222222,
              "#7201a8"
             ],
             [
              0.3333333333333333,
              "#9c179e"
             ],
             [
              0.4444444444444444,
              "#bd3786"
             ],
             [
              0.5555555555555556,
              "#d8576b"
             ],
             [
              0.6666666666666666,
              "#ed7953"
             ],
             [
              0.7777777777777778,
              "#fb9f3a"
             ],
             [
              0.8888888888888888,
              "#fdca26"
             ],
             [
              1,
              "#f0f921"
             ]
            ],
            "type": "histogram2d"
           }
          ],
          "histogram2dcontour": [
           {
            "colorbar": {
             "outlinewidth": 0,
             "ticks": ""
            },
            "colorscale": [
             [
              0,
              "#0d0887"
             ],
             [
              0.1111111111111111,
              "#46039f"
             ],
             [
              0.2222222222222222,
              "#7201a8"
             ],
             [
              0.3333333333333333,
              "#9c179e"
             ],
             [
              0.4444444444444444,
              "#bd3786"
             ],
             [
              0.5555555555555556,
              "#d8576b"
             ],
             [
              0.6666666666666666,
              "#ed7953"
             ],
             [
              0.7777777777777778,
              "#fb9f3a"
             ],
             [
              0.8888888888888888,
              "#fdca26"
             ],
             [
              1,
              "#f0f921"
             ]
            ],
            "type": "histogram2dcontour"
           }
          ],
          "mesh3d": [
           {
            "colorbar": {
             "outlinewidth": 0,
             "ticks": ""
            },
            "type": "mesh3d"
           }
          ],
          "parcoords": [
           {
            "line": {
             "colorbar": {
              "outlinewidth": 0,
              "ticks": ""
             }
            },
            "type": "parcoords"
           }
          ],
          "pie": [
           {
            "automargin": true,
            "type": "pie"
           }
          ],
          "scatter": [
           {
            "fillpattern": {
             "fillmode": "overlay",
             "size": 10,
             "solidity": 0.2
            },
            "type": "scatter"
           }
          ],
          "scatter3d": [
           {
            "line": {
             "colorbar": {
              "outlinewidth": 0,
              "ticks": ""
             }
            },
            "marker": {
             "colorbar": {
              "outlinewidth": 0,
              "ticks": ""
             }
            },
            "type": "scatter3d"
           }
          ],
          "scattercarpet": [
           {
            "marker": {
             "colorbar": {
              "outlinewidth": 0,
              "ticks": ""
             }
            },
            "type": "scattercarpet"
           }
          ],
          "scattergeo": [
           {
            "marker": {
             "colorbar": {
              "outlinewidth": 0,
              "ticks": ""
             }
            },
            "type": "scattergeo"
           }
          ],
          "scattergl": [
           {
            "marker": {
             "colorbar": {
              "outlinewidth": 0,
              "ticks": ""
             }
            },
            "type": "scattergl"
           }
          ],
          "scattermapbox": [
           {
            "marker": {
             "colorbar": {
              "outlinewidth": 0,
              "ticks": ""
             }
            },
            "type": "scattermapbox"
           }
          ],
          "scatterpolar": [
           {
            "marker": {
             "colorbar": {
              "outlinewidth": 0,
              "ticks": ""
             }
            },
            "type": "scatterpolar"
           }
          ],
          "scatterpolargl": [
           {
            "marker": {
             "colorbar": {
              "outlinewidth": 0,
              "ticks": ""
             }
            },
            "type": "scatterpolargl"
           }
          ],
          "scatterternary": [
           {
            "marker": {
             "colorbar": {
              "outlinewidth": 0,
              "ticks": ""
             }
            },
            "type": "scatterternary"
           }
          ],
          "surface": [
           {
            "colorbar": {
             "outlinewidth": 0,
             "ticks": ""
            },
            "colorscale": [
             [
              0,
              "#0d0887"
             ],
             [
              0.1111111111111111,
              "#46039f"
             ],
             [
              0.2222222222222222,
              "#7201a8"
             ],
             [
              0.3333333333333333,
              "#9c179e"
             ],
             [
              0.4444444444444444,
              "#bd3786"
             ],
             [
              0.5555555555555556,
              "#d8576b"
             ],
             [
              0.6666666666666666,
              "#ed7953"
             ],
             [
              0.7777777777777778,
              "#fb9f3a"
             ],
             [
              0.8888888888888888,
              "#fdca26"
             ],
             [
              1,
              "#f0f921"
             ]
            ],
            "type": "surface"
           }
          ],
          "table": [
           {
            "cells": {
             "fill": {
              "color": "#EBF0F8"
             },
             "line": {
              "color": "white"
             }
            },
            "header": {
             "fill": {
              "color": "#C8D4E3"
             },
             "line": {
              "color": "white"
             }
            },
            "type": "table"
           }
          ]
         },
         "layout": {
          "annotationdefaults": {
           "arrowcolor": "#2a3f5f",
           "arrowhead": 0,
           "arrowwidth": 1
          },
          "autotypenumbers": "strict",
          "coloraxis": {
           "colorbar": {
            "outlinewidth": 0,
            "ticks": ""
           }
          },
          "colorscale": {
           "diverging": [
            [
             0,
             "#8e0152"
            ],
            [
             0.1,
             "#c51b7d"
            ],
            [
             0.2,
             "#de77ae"
            ],
            [
             0.3,
             "#f1b6da"
            ],
            [
             0.4,
             "#fde0ef"
            ],
            [
             0.5,
             "#f7f7f7"
            ],
            [
             0.6,
             "#e6f5d0"
            ],
            [
             0.7,
             "#b8e186"
            ],
            [
             0.8,
             "#7fbc41"
            ],
            [
             0.9,
             "#4d9221"
            ],
            [
             1,
             "#276419"
            ]
           ],
           "sequential": [
            [
             0,
             "#0d0887"
            ],
            [
             0.1111111111111111,
             "#46039f"
            ],
            [
             0.2222222222222222,
             "#7201a8"
            ],
            [
             0.3333333333333333,
             "#9c179e"
            ],
            [
             0.4444444444444444,
             "#bd3786"
            ],
            [
             0.5555555555555556,
             "#d8576b"
            ],
            [
             0.6666666666666666,
             "#ed7953"
            ],
            [
             0.7777777777777778,
             "#fb9f3a"
            ],
            [
             0.8888888888888888,
             "#fdca26"
            ],
            [
             1,
             "#f0f921"
            ]
           ],
           "sequentialminus": [
            [
             0,
             "#0d0887"
            ],
            [
             0.1111111111111111,
             "#46039f"
            ],
            [
             0.2222222222222222,
             "#7201a8"
            ],
            [
             0.3333333333333333,
             "#9c179e"
            ],
            [
             0.4444444444444444,
             "#bd3786"
            ],
            [
             0.5555555555555556,
             "#d8576b"
            ],
            [
             0.6666666666666666,
             "#ed7953"
            ],
            [
             0.7777777777777778,
             "#fb9f3a"
            ],
            [
             0.8888888888888888,
             "#fdca26"
            ],
            [
             1,
             "#f0f921"
            ]
           ]
          },
          "colorway": [
           "#636efa",
           "#EF553B",
           "#00cc96",
           "#ab63fa",
           "#FFA15A",
           "#19d3f3",
           "#FF6692",
           "#B6E880",
           "#FF97FF",
           "#FECB52"
          ],
          "font": {
           "color": "#2a3f5f"
          },
          "geo": {
           "bgcolor": "white",
           "lakecolor": "white",
           "landcolor": "#E5ECF6",
           "showlakes": true,
           "showland": true,
           "subunitcolor": "white"
          },
          "hoverlabel": {
           "align": "left"
          },
          "hovermode": "closest",
          "mapbox": {
           "style": "light"
          },
          "paper_bgcolor": "white",
          "plot_bgcolor": "#E5ECF6",
          "polar": {
           "angularaxis": {
            "gridcolor": "white",
            "linecolor": "white",
            "ticks": ""
           },
           "bgcolor": "#E5ECF6",
           "radialaxis": {
            "gridcolor": "white",
            "linecolor": "white",
            "ticks": ""
           }
          },
          "scene": {
           "xaxis": {
            "backgroundcolor": "#E5ECF6",
            "gridcolor": "white",
            "gridwidth": 2,
            "linecolor": "white",
            "showbackground": true,
            "ticks": "",
            "zerolinecolor": "white"
           },
           "yaxis": {
            "backgroundcolor": "#E5ECF6",
            "gridcolor": "white",
            "gridwidth": 2,
            "linecolor": "white",
            "showbackground": true,
            "ticks": "",
            "zerolinecolor": "white"
           },
           "zaxis": {
            "backgroundcolor": "#E5ECF6",
            "gridcolor": "white",
            "gridwidth": 2,
            "linecolor": "white",
            "showbackground": true,
            "ticks": "",
            "zerolinecolor": "white"
           }
          },
          "shapedefaults": {
           "line": {
            "color": "#2a3f5f"
           }
          },
          "ternary": {
           "aaxis": {
            "gridcolor": "white",
            "linecolor": "white",
            "ticks": ""
           },
           "baxis": {
            "gridcolor": "white",
            "linecolor": "white",
            "ticks": ""
           },
           "bgcolor": "#E5ECF6",
           "caxis": {
            "gridcolor": "white",
            "linecolor": "white",
            "ticks": ""
           }
          },
          "title": {
           "x": 0.05
          },
          "xaxis": {
           "automargin": true,
           "gridcolor": "white",
           "linecolor": "white",
           "ticks": "",
           "title": {
            "standoff": 15
           },
           "zerolinecolor": "white",
           "zerolinewidth": 2
          },
          "yaxis": {
           "automargin": true,
           "gridcolor": "white",
           "linecolor": "white",
           "ticks": "",
           "title": {
            "standoff": 15
           },
           "zerolinecolor": "white",
           "zerolinewidth": 2
          }
         }
        },
        "title": {
         "text": "Artistas más Populares por Número de Canciones"
        },
        "xaxis": {
         "anchor": "y",
         "domain": [
          0,
          1
         ],
         "title": {
          "text": "Artista"
         }
        },
        "yaxis": {
         "anchor": "x",
         "domain": [
          0,
          1
         ],
         "title": {
          "text": "popularity"
         }
        }
       }
      }
     },
     "metadata": {},
     "output_type": "display_data"
    }
   ],
   "source": [
    "# 5. Artistas más Populares por Número de Canciones\n",
    "fig5 = px.bar(conteo, x=\"artist\", y = \"popularity\", title=\"Artistas más Populares por Número de Canciones\", \n",
    "                    labels={\"artist\": \"Artista\"})\n",
    "fig5.show()"
   ]
  },
  {
   "cell_type": "code",
   "execution_count": 43,
   "metadata": {},
   "outputs": [
    {
     "data": {
      "application/vnd.plotly.v1+json": {
       "config": {
        "plotlyServerURL": "https://plot.ly"
       },
       "data": [
        {
         "alignmentgroup": "True",
         "bingroup": "x",
         "hovertemplate": "Duración (ms)=%{x}<br>count=%{y}<extra></extra>",
         "legendgroup": "",
         "marker": {
          "color": "#636efa",
          "pattern": {
           "shape": ""
          }
         },
         "name": "",
         "nbinsx": 50,
         "offsetgroup": "",
         "orientation": "v",
         "showlegend": false,
         "type": "histogram",
         "x": [
          155471,
          202446,
          222747,
          231547,
          270507,
          222240,
          277200,
          275893,
          176569,
          177149,
          192871,
          192871,
          192871,
          220963,
          227373,
          209520,
          184615,
          313684,
          193297,
          237654,
          178267,
          243987,
          235342,
          198432,
          228261,
          299867,
          219474,
          185905,
          215467,
          215467,
          215467,
          181075,
          178206,
          178206,
          204000,
          204000,
          217667,
          183410,
          192191,
          272733,
          239894,
          213000,
          289587,
          153480,
          263733,
          169824,
          259333,
          172232,
          147767,
          199060,
          216587,
          180120,
          180120,
          234653,
          234653,
          147692,
          147692,
          301013,
          176471,
          176471,
          176471,
          219133,
          228560,
          186427,
          198177,
          224281,
          224281,
          186562,
          209573,
          212440,
          156375,
          156375,
          215366,
          289519,
          289519,
          127458,
          127458,
          125362,
          215000,
          223320,
          223320,
          165195,
          213699,
          213699,
          189067,
          164471,
          164471,
          177453,
          283833,
          193039,
          193039,
          193039,
          175333,
          253813,
          253813,
          180304,
          126672,
          189560,
          205000,
          144846,
          144846,
          144846,
          230868,
          194302,
          174203,
          289133,
          168445,
          205933,
          205933,
          185918,
          194088,
          167273,
          198938,
          198938,
          220057,
          157880,
          172850,
          166216,
          164893,
          224693,
          227576,
          227576,
          159787,
          167080,
          166707,
          243500,
          213213,
          236041,
          236041,
          236000,
          157964,
          213176,
          192637,
          228205,
          209596,
          219800,
          238232,
          277821,
          170731,
          170731,
          214197,
          160435,
          160435,
          188410,
          242352,
          267300,
          193653,
          298027,
          289140,
          232813,
          168227,
          280547,
          172517,
          248227,
          225893,
          235318,
          264375,
          255392,
          137646,
          227808,
          275493,
          248867,
          273893,
          216566,
          304573,
          204307,
          208971,
          217128,
          230309,
          190334,
          203797,
          208890,
          234781,
          232492,
          276006,
          171731,
          184000,
          210668,
          263943,
          168479,
          229877,
          190000,
          190000,
          222653,
          222653,
          224805,
          217800,
          243661,
          243661,
          243661,
          215360,
          140080,
          295533,
          257480,
          169410,
          169573,
          234267,
          150007,
          141654,
          216759,
          148112,
          148112,
          213800,
          238640,
          208296,
          173640,
          175044,
          256759,
          190348,
          213482,
          199604,
          168000,
          168000,
          153000,
          158290,
          158290,
          188663,
          168000,
          165904,
          165904,
          149954,
          131370,
          222308,
          222308,
          217600,
          547107,
          223112,
          223112,
          183095,
          183095,
          174235,
          257107,
          212267,
          259173,
          282188,
          206227,
          267300,
          193344,
          191747,
          170991,
          303693,
          198560,
          139394,
          209680
         ],
         "xaxis": "x",
         "yaxis": "y"
        }
       ],
       "layout": {
        "barmode": "relative",
        "legend": {
         "tracegroupgap": 0
        },
        "template": {
         "data": {
          "bar": [
           {
            "error_x": {
             "color": "#2a3f5f"
            },
            "error_y": {
             "color": "#2a3f5f"
            },
            "marker": {
             "line": {
              "color": "#E5ECF6",
              "width": 0.5
             },
             "pattern": {
              "fillmode": "overlay",
              "size": 10,
              "solidity": 0.2
             }
            },
            "type": "bar"
           }
          ],
          "barpolar": [
           {
            "marker": {
             "line": {
              "color": "#E5ECF6",
              "width": 0.5
             },
             "pattern": {
              "fillmode": "overlay",
              "size": 10,
              "solidity": 0.2
             }
            },
            "type": "barpolar"
           }
          ],
          "carpet": [
           {
            "aaxis": {
             "endlinecolor": "#2a3f5f",
             "gridcolor": "white",
             "linecolor": "white",
             "minorgridcolor": "white",
             "startlinecolor": "#2a3f5f"
            },
            "baxis": {
             "endlinecolor": "#2a3f5f",
             "gridcolor": "white",
             "linecolor": "white",
             "minorgridcolor": "white",
             "startlinecolor": "#2a3f5f"
            },
            "type": "carpet"
           }
          ],
          "choropleth": [
           {
            "colorbar": {
             "outlinewidth": 0,
             "ticks": ""
            },
            "type": "choropleth"
           }
          ],
          "contour": [
           {
            "colorbar": {
             "outlinewidth": 0,
             "ticks": ""
            },
            "colorscale": [
             [
              0,
              "#0d0887"
             ],
             [
              0.1111111111111111,
              "#46039f"
             ],
             [
              0.2222222222222222,
              "#7201a8"
             ],
             [
              0.3333333333333333,
              "#9c179e"
             ],
             [
              0.4444444444444444,
              "#bd3786"
             ],
             [
              0.5555555555555556,
              "#d8576b"
             ],
             [
              0.6666666666666666,
              "#ed7953"
             ],
             [
              0.7777777777777778,
              "#fb9f3a"
             ],
             [
              0.8888888888888888,
              "#fdca26"
             ],
             [
              1,
              "#f0f921"
             ]
            ],
            "type": "contour"
           }
          ],
          "contourcarpet": [
           {
            "colorbar": {
             "outlinewidth": 0,
             "ticks": ""
            },
            "type": "contourcarpet"
           }
          ],
          "heatmap": [
           {
            "colorbar": {
             "outlinewidth": 0,
             "ticks": ""
            },
            "colorscale": [
             [
              0,
              "#0d0887"
             ],
             [
              0.1111111111111111,
              "#46039f"
             ],
             [
              0.2222222222222222,
              "#7201a8"
             ],
             [
              0.3333333333333333,
              "#9c179e"
             ],
             [
              0.4444444444444444,
              "#bd3786"
             ],
             [
              0.5555555555555556,
              "#d8576b"
             ],
             [
              0.6666666666666666,
              "#ed7953"
             ],
             [
              0.7777777777777778,
              "#fb9f3a"
             ],
             [
              0.8888888888888888,
              "#fdca26"
             ],
             [
              1,
              "#f0f921"
             ]
            ],
            "type": "heatmap"
           }
          ],
          "heatmapgl": [
           {
            "colorbar": {
             "outlinewidth": 0,
             "ticks": ""
            },
            "colorscale": [
             [
              0,
              "#0d0887"
             ],
             [
              0.1111111111111111,
              "#46039f"
             ],
             [
              0.2222222222222222,
              "#7201a8"
             ],
             [
              0.3333333333333333,
              "#9c179e"
             ],
             [
              0.4444444444444444,
              "#bd3786"
             ],
             [
              0.5555555555555556,
              "#d8576b"
             ],
             [
              0.6666666666666666,
              "#ed7953"
             ],
             [
              0.7777777777777778,
              "#fb9f3a"
             ],
             [
              0.8888888888888888,
              "#fdca26"
             ],
             [
              1,
              "#f0f921"
             ]
            ],
            "type": "heatmapgl"
           }
          ],
          "histogram": [
           {
            "marker": {
             "pattern": {
              "fillmode": "overlay",
              "size": 10,
              "solidity": 0.2
             }
            },
            "type": "histogram"
           }
          ],
          "histogram2d": [
           {
            "colorbar": {
             "outlinewidth": 0,
             "ticks": ""
            },
            "colorscale": [
             [
              0,
              "#0d0887"
             ],
             [
              0.1111111111111111,
              "#46039f"
             ],
             [
              0.2222222222222222,
              "#7201a8"
             ],
             [
              0.3333333333333333,
              "#9c179e"
             ],
             [
              0.4444444444444444,
              "#bd3786"
             ],
             [
              0.5555555555555556,
              "#d8576b"
             ],
             [
              0.6666666666666666,
              "#ed7953"
             ],
             [
              0.7777777777777778,
              "#fb9f3a"
             ],
             [
              0.8888888888888888,
              "#fdca26"
             ],
             [
              1,
              "#f0f921"
             ]
            ],
            "type": "histogram2d"
           }
          ],
          "histogram2dcontour": [
           {
            "colorbar": {
             "outlinewidth": 0,
             "ticks": ""
            },
            "colorscale": [
             [
              0,
              "#0d0887"
             ],
             [
              0.1111111111111111,
              "#46039f"
             ],
             [
              0.2222222222222222,
              "#7201a8"
             ],
             [
              0.3333333333333333,
              "#9c179e"
             ],
             [
              0.4444444444444444,
              "#bd3786"
             ],
             [
              0.5555555555555556,
              "#d8576b"
             ],
             [
              0.6666666666666666,
              "#ed7953"
             ],
             [
              0.7777777777777778,
              "#fb9f3a"
             ],
             [
              0.8888888888888888,
              "#fdca26"
             ],
             [
              1,
              "#f0f921"
             ]
            ],
            "type": "histogram2dcontour"
           }
          ],
          "mesh3d": [
           {
            "colorbar": {
             "outlinewidth": 0,
             "ticks": ""
            },
            "type": "mesh3d"
           }
          ],
          "parcoords": [
           {
            "line": {
             "colorbar": {
              "outlinewidth": 0,
              "ticks": ""
             }
            },
            "type": "parcoords"
           }
          ],
          "pie": [
           {
            "automargin": true,
            "type": "pie"
           }
          ],
          "scatter": [
           {
            "fillpattern": {
             "fillmode": "overlay",
             "size": 10,
             "solidity": 0.2
            },
            "type": "scatter"
           }
          ],
          "scatter3d": [
           {
            "line": {
             "colorbar": {
              "outlinewidth": 0,
              "ticks": ""
             }
            },
            "marker": {
             "colorbar": {
              "outlinewidth": 0,
              "ticks": ""
             }
            },
            "type": "scatter3d"
           }
          ],
          "scattercarpet": [
           {
            "marker": {
             "colorbar": {
              "outlinewidth": 0,
              "ticks": ""
             }
            },
            "type": "scattercarpet"
           }
          ],
          "scattergeo": [
           {
            "marker": {
             "colorbar": {
              "outlinewidth": 0,
              "ticks": ""
             }
            },
            "type": "scattergeo"
           }
          ],
          "scattergl": [
           {
            "marker": {
             "colorbar": {
              "outlinewidth": 0,
              "ticks": ""
             }
            },
            "type": "scattergl"
           }
          ],
          "scattermapbox": [
           {
            "marker": {
             "colorbar": {
              "outlinewidth": 0,
              "ticks": ""
             }
            },
            "type": "scattermapbox"
           }
          ],
          "scatterpolar": [
           {
            "marker": {
             "colorbar": {
              "outlinewidth": 0,
              "ticks": ""
             }
            },
            "type": "scatterpolar"
           }
          ],
          "scatterpolargl": [
           {
            "marker": {
             "colorbar": {
              "outlinewidth": 0,
              "ticks": ""
             }
            },
            "type": "scatterpolargl"
           }
          ],
          "scatterternary": [
           {
            "marker": {
             "colorbar": {
              "outlinewidth": 0,
              "ticks": ""
             }
            },
            "type": "scatterternary"
           }
          ],
          "surface": [
           {
            "colorbar": {
             "outlinewidth": 0,
             "ticks": ""
            },
            "colorscale": [
             [
              0,
              "#0d0887"
             ],
             [
              0.1111111111111111,
              "#46039f"
             ],
             [
              0.2222222222222222,
              "#7201a8"
             ],
             [
              0.3333333333333333,
              "#9c179e"
             ],
             [
              0.4444444444444444,
              "#bd3786"
             ],
             [
              0.5555555555555556,
              "#d8576b"
             ],
             [
              0.6666666666666666,
              "#ed7953"
             ],
             [
              0.7777777777777778,
              "#fb9f3a"
             ],
             [
              0.8888888888888888,
              "#fdca26"
             ],
             [
              1,
              "#f0f921"
             ]
            ],
            "type": "surface"
           }
          ],
          "table": [
           {
            "cells": {
             "fill": {
              "color": "#EBF0F8"
             },
             "line": {
              "color": "white"
             }
            },
            "header": {
             "fill": {
              "color": "#C8D4E3"
             },
             "line": {
              "color": "white"
             }
            },
            "type": "table"
           }
          ]
         },
         "layout": {
          "annotationdefaults": {
           "arrowcolor": "#2a3f5f",
           "arrowhead": 0,
           "arrowwidth": 1
          },
          "autotypenumbers": "strict",
          "coloraxis": {
           "colorbar": {
            "outlinewidth": 0,
            "ticks": ""
           }
          },
          "colorscale": {
           "diverging": [
            [
             0,
             "#8e0152"
            ],
            [
             0.1,
             "#c51b7d"
            ],
            [
             0.2,
             "#de77ae"
            ],
            [
             0.3,
             "#f1b6da"
            ],
            [
             0.4,
             "#fde0ef"
            ],
            [
             0.5,
             "#f7f7f7"
            ],
            [
             0.6,
             "#e6f5d0"
            ],
            [
             0.7,
             "#b8e186"
            ],
            [
             0.8,
             "#7fbc41"
            ],
            [
             0.9,
             "#4d9221"
            ],
            [
             1,
             "#276419"
            ]
           ],
           "sequential": [
            [
             0,
             "#0d0887"
            ],
            [
             0.1111111111111111,
             "#46039f"
            ],
            [
             0.2222222222222222,
             "#7201a8"
            ],
            [
             0.3333333333333333,
             "#9c179e"
            ],
            [
             0.4444444444444444,
             "#bd3786"
            ],
            [
             0.5555555555555556,
             "#d8576b"
            ],
            [
             0.6666666666666666,
             "#ed7953"
            ],
            [
             0.7777777777777778,
             "#fb9f3a"
            ],
            [
             0.8888888888888888,
             "#fdca26"
            ],
            [
             1,
             "#f0f921"
            ]
           ],
           "sequentialminus": [
            [
             0,
             "#0d0887"
            ],
            [
             0.1111111111111111,
             "#46039f"
            ],
            [
             0.2222222222222222,
             "#7201a8"
            ],
            [
             0.3333333333333333,
             "#9c179e"
            ],
            [
             0.4444444444444444,
             "#bd3786"
            ],
            [
             0.5555555555555556,
             "#d8576b"
            ],
            [
             0.6666666666666666,
             "#ed7953"
            ],
            [
             0.7777777777777778,
             "#fb9f3a"
            ],
            [
             0.8888888888888888,
             "#fdca26"
            ],
            [
             1,
             "#f0f921"
            ]
           ]
          },
          "colorway": [
           "#636efa",
           "#EF553B",
           "#00cc96",
           "#ab63fa",
           "#FFA15A",
           "#19d3f3",
           "#FF6692",
           "#B6E880",
           "#FF97FF",
           "#FECB52"
          ],
          "font": {
           "color": "#2a3f5f"
          },
          "geo": {
           "bgcolor": "white",
           "lakecolor": "white",
           "landcolor": "#E5ECF6",
           "showlakes": true,
           "showland": true,
           "subunitcolor": "white"
          },
          "hoverlabel": {
           "align": "left"
          },
          "hovermode": "closest",
          "mapbox": {
           "style": "light"
          },
          "paper_bgcolor": "white",
          "plot_bgcolor": "#E5ECF6",
          "polar": {
           "angularaxis": {
            "gridcolor": "white",
            "linecolor": "white",
            "ticks": ""
           },
           "bgcolor": "#E5ECF6",
           "radialaxis": {
            "gridcolor": "white",
            "linecolor": "white",
            "ticks": ""
           }
          },
          "scene": {
           "xaxis": {
            "backgroundcolor": "#E5ECF6",
            "gridcolor": "white",
            "gridwidth": 2,
            "linecolor": "white",
            "showbackground": true,
            "ticks": "",
            "zerolinecolor": "white"
           },
           "yaxis": {
            "backgroundcolor": "#E5ECF6",
            "gridcolor": "white",
            "gridwidth": 2,
            "linecolor": "white",
            "showbackground": true,
            "ticks": "",
            "zerolinecolor": "white"
           },
           "zaxis": {
            "backgroundcolor": "#E5ECF6",
            "gridcolor": "white",
            "gridwidth": 2,
            "linecolor": "white",
            "showbackground": true,
            "ticks": "",
            "zerolinecolor": "white"
           }
          },
          "shapedefaults": {
           "line": {
            "color": "#2a3f5f"
           }
          },
          "ternary": {
           "aaxis": {
            "gridcolor": "white",
            "linecolor": "white",
            "ticks": ""
           },
           "baxis": {
            "gridcolor": "white",
            "linecolor": "white",
            "ticks": ""
           },
           "bgcolor": "#E5ECF6",
           "caxis": {
            "gridcolor": "white",
            "linecolor": "white",
            "ticks": ""
           }
          },
          "title": {
           "x": 0.05
          },
          "xaxis": {
           "automargin": true,
           "gridcolor": "white",
           "linecolor": "white",
           "ticks": "",
           "title": {
            "standoff": 15
           },
           "zerolinecolor": "white",
           "zerolinewidth": 2
          },
          "yaxis": {
           "automargin": true,
           "gridcolor": "white",
           "linecolor": "white",
           "ticks": "",
           "title": {
            "standoff": 15
           },
           "zerolinecolor": "white",
           "zerolinewidth": 2
          }
         }
        },
        "title": {
         "text": "Distribución de la Duración de las Canciones"
        },
        "xaxis": {
         "anchor": "y",
         "domain": [
          0,
          1
         ],
         "title": {
          "text": "Duración (ms)"
         }
        },
        "yaxis": {
         "anchor": "x",
         "domain": [
          0,
          1
         ],
         "title": {
          "text": "count"
         }
        }
       }
      }
     },
     "metadata": {},
     "output_type": "display_data"
    }
   ],
   "source": [
    "# 6. Distribución de la Duración de las Canciones\n",
    "fig6 = px.histogram(df, x=\"duration_ms\", nbins=50, title=\"Distribución de la Duración de las Canciones\",\n",
    "                    labels={\"duration_ms\": \"Duración (ms)\"})\n",
    "fig6.show()"
   ]
  },
  {
   "cell_type": "code",
   "execution_count": 44,
   "metadata": {},
   "outputs": [
    {
     "data": {
      "application/vnd.plotly.v1+json": {
       "config": {
        "plotlyServerURL": "https://plot.ly"
       },
       "data": [
        {
         "hovertemplate": "Fecha=%{x}<br>Popularidad=%{y}<extra></extra>",
         "legendgroup": "",
         "marker": {
          "color": "#636efa",
          "symbol": "circle"
         },
         "mode": "markers",
         "name": "",
         "orientation": "v",
         "showlegend": false,
         "type": "scatter",
         "x": [
          "2024-06-07",
          "2020-10-02",
          "2016-12-05",
          "2024-09-01",
          "2000-10-31",
          "2017-10-20",
          "2024-05-17",
          "1993-11-23",
          "2021-12-01",
          "2024-09-06",
          "2021-05-14",
          "2021-05-14",
          "2021-05-14",
          "2022-04-21",
          "2019-04-05",
          "2013-01-01",
          "2023-06-23",
          "2013-05-31",
          "2016-10-28",
          "2018-03-29",
          "2001-01-01",
          "2012-01-01",
          "2011-01-01",
          "2023-04-23",
          "2022-07-13",
          "1997-10-27",
          "2019-06-13",
          "2021-12-01",
          "2023-06-02",
          "2023-06-02",
          "2023-06-02",
          "2024-05-24",
          "2024-05-10",
          "2024-05-10",
          "2021-09-24",
          "2021-09-24",
          "2011-03-29",
          "2023-07-28",
          "2015-04-07",
          "2009-09-01",
          "2013-01-01",
          "2018-10-26",
          "1978-11-02",
          "2023-05-12",
          "2013-01-08",
          "2021-12-01",
          "2004-08-30",
          "2021-05-21",
          "2019-04-12",
          "2024-01-19",
          "2018-02-23",
          "2020-04-30",
          "2020-04-30",
          "2010-08-24",
          "2010-08-24",
          "2023-06-21",
          "2023-06-21",
          "2015-09-11",
          "2016-08-12",
          "2016-08-12",
          "2016-08-12",
          "2007",
          "2004-03-02",
          "2019-10-17",
          "2021-05-28",
          "2017-09-29",
          "2017-09-29",
          "2023-06-02",
          "2002-01-01",
          "2006-04-10",
          "2023-12-22",
          "2023-12-22",
          "2022-11-25",
          "2016-10-25",
          "2016-10-25",
          "2023-06-02",
          "2023-06-02",
          "2023-02-28",
          "2020-01-25",
          "2024-09-20",
          "2024-09-20",
          "2023-09-21",
          "2024-07-11",
          "2024-07-11",
          "2024-04-18",
          "2024-04-26",
          "2024-04-26",
          "1998-07-13",
          "1998-07-29",
          "2024-04-03",
          "2024-04-03",
          "2024-04-03",
          "2008-01-05",
          "2013-09-23",
          "2013-09-23",
          "2024-01-18",
          "2018-05-10",
          "2006-08-15",
          "2001",
          "2024-03-29",
          "2024-03-29",
          "2024-03-29",
          "2023-12-01",
          "2015-04-08",
          "2024-02-16",
          "2009-01-01",
          "1997-08-01",
          "2012-08-17",
          "2012-08-17",
          "2024-05-03",
          "2019-03-29",
          "2022-11-04",
          "2022-07-06",
          "2022-07-06",
          "2010",
          "2018-10-26",
          "2017-11-24",
          "2021-05-13",
          "2019-04-12",
          "2001-03-12",
          "2024-08-30",
          "2024-08-30",
          "2024-06-28",
          "2024-06-28",
          "2024-06-28",
          "2024-04-26",
          "2024-04-26",
          "2021-06-22",
          "2021-06-22",
          "2024-02-29",
          "2016-01-01",
          "2023-10-27",
          "2016-01-01",
          "2018-05-25",
          "2023-10-27",
          "2023-10-27",
          "2023-10-27",
          "2016-01-01",
          "2021-05-13",
          "2021-05-13",
          "2023-10-27",
          "2022-11-25",
          "2022-11-25",
          "2020-02-21",
          "2023-10-27",
          "2023-02-17",
          "2023-11-03",
          "2023-11-03",
          "2018-03-09",
          "2013-10-29",
          "2013-10-29",
          "2023-11-03",
          "2018-03-09",
          "2023-11-03",
          "2023-11-03",
          "2018-03-09",
          "2021-10-29",
          "2023-06-15",
          "2021-10-29",
          "2021-10-29",
          "2015-09-18",
          "2015-09-18",
          "2012-04-12",
          "2015-07-14",
          "2012-04-12",
          "2023-07-13",
          "2023-05-12",
          "2021-05-07",
          "2021-05-07",
          "2021-05-07",
          "2023-05-12",
          "2023-05-12",
          "2023-05-12",
          "2021-05-07",
          "2023-05-12",
          "2023-05-12",
          "2020-03-02",
          "2020-06-12",
          "2023-05-12",
          "2021-05-07",
          "2023-05-12",
          "2020-01-23",
          "2020-01-23",
          "2018-05-17",
          "2018-05-17",
          "2020-05-27",
          "1994",
          "2019-01-04",
          "2019-01-04",
          "2019-01-04",
          "2006-01-01",
          "2022-04-08",
          "2005-06-07",
          "1995-03-13",
          "2017-08-31",
          "2023-05-11",
          "2023-09-08",
          "2023-03-24",
          "2023-02-28",
          "2021-05-21",
          "2020-02-07",
          "2020-02-07",
          "2003-09-15",
          "1993-02-22",
          "2020-12-04",
          "2022-08-26",
          "2021-05-21",
          "2021-10-15",
          "2019-10-04",
          "2022-07-01",
          "2021-05-20",
          "2021-11-15",
          "2021-11-15",
          "2024-06-21",
          "2024-04-21",
          "2024-04-21",
          "2022-12-25",
          "2021-07-31",
          "2022-03-09",
          "2022-03-09",
          "2022-01-04",
          "2022-01-04",
          "2023-06-13",
          "2023-06-13",
          "2022-08-10",
          "1973-01-01",
          "2007-02-19",
          "2007-02-19",
          "2022-05-20",
          "2022-05-20",
          "2024-01-10",
          "2014-09-22",
          "2022-03-25",
          "2016-09-16",
          "2021-10-21",
          "2022-10-06",
          "2023-10-27",
          "2017-11-17",
          "2010-02-23",
          "2023-10-27",
          "2008-04-21",
          "2001-10-23",
          "2024-08-16",
          "2019-02-21"
         ],
         "xaxis": "x",
         "y": [
          59,
          42,
          20,
          3,
          81,
          49,
          30,
          54,
          64,
          26,
          29,
          29,
          29,
          39,
          49,
          63,
          52,
          79,
          53,
          53,
          72,
          66,
          29,
          17,
          48,
          76,
          21,
          56,
          83,
          83,
          83,
          17,
          86,
          86,
          40,
          40,
          74,
          58,
          75,
          57,
          75,
          33,
          65,
          22,
          65,
          61,
          86,
          61,
          0,
          33,
          49,
          31,
          31,
          65,
          65,
          43,
          43,
          55,
          38,
          38,
          38,
          33,
          76,
          51,
          12,
          0,
          0,
          45,
          60,
          32,
          45,
          45,
          49,
          37,
          37,
          51,
          51,
          54,
          0,
          88,
          88,
          34,
          73,
          73,
          74,
          70,
          70,
          59,
          61,
          83,
          83,
          83,
          66,
          14,
          14,
          87,
          44,
          72,
          24,
          81,
          81,
          81,
          54,
          48,
          42,
          80,
          64,
          76,
          76,
          80,
          81,
          69,
          81,
          81,
          0,
          63,
          62,
          50,
          49,
          70,
          64,
          64,
          61,
          68,
          74,
          62,
          71,
          55,
          55,
          63,
          42,
          44,
          19,
          32,
          39,
          46,
          50,
          30,
          48,
          48,
          54,
          52,
          52,
          40,
          53,
          46,
          47,
          42,
          51,
          49,
          54,
          53,
          59,
          40,
          45,
          52,
          39,
          45,
          41,
          45,
          55,
          58,
          58,
          60,
          60,
          53,
          48,
          58,
          45,
          55,
          61,
          47,
          49,
          60,
          58,
          51,
          62,
          57,
          65,
          58,
          62,
          40,
          40,
          67,
          67,
          54,
          46,
          39,
          39,
          39,
          77,
          66,
          83,
          76,
          59,
          75,
          76,
          37,
          33,
          61,
          38,
          38,
          76,
          86,
          58,
          79,
          65,
          48,
          16,
          52,
          72,
          1,
          1,
          0,
          0,
          0,
          0,
          0,
          0,
          0,
          0,
          0,
          0,
          0,
          0,
          75,
          74,
          74,
          31,
          31,
          20,
          54,
          48,
          46,
          48,
          62,
          56,
          51,
          52,
          45,
          58,
          63,
          48,
          80
         ],
         "yaxis": "y"
        }
       ],
       "layout": {
        "legend": {
         "tracegroupgap": 0
        },
        "template": {
         "data": {
          "bar": [
           {
            "error_x": {
             "color": "#2a3f5f"
            },
            "error_y": {
             "color": "#2a3f5f"
            },
            "marker": {
             "line": {
              "color": "#E5ECF6",
              "width": 0.5
             },
             "pattern": {
              "fillmode": "overlay",
              "size": 10,
              "solidity": 0.2
             }
            },
            "type": "bar"
           }
          ],
          "barpolar": [
           {
            "marker": {
             "line": {
              "color": "#E5ECF6",
              "width": 0.5
             },
             "pattern": {
              "fillmode": "overlay",
              "size": 10,
              "solidity": 0.2
             }
            },
            "type": "barpolar"
           }
          ],
          "carpet": [
           {
            "aaxis": {
             "endlinecolor": "#2a3f5f",
             "gridcolor": "white",
             "linecolor": "white",
             "minorgridcolor": "white",
             "startlinecolor": "#2a3f5f"
            },
            "baxis": {
             "endlinecolor": "#2a3f5f",
             "gridcolor": "white",
             "linecolor": "white",
             "minorgridcolor": "white",
             "startlinecolor": "#2a3f5f"
            },
            "type": "carpet"
           }
          ],
          "choropleth": [
           {
            "colorbar": {
             "outlinewidth": 0,
             "ticks": ""
            },
            "type": "choropleth"
           }
          ],
          "contour": [
           {
            "colorbar": {
             "outlinewidth": 0,
             "ticks": ""
            },
            "colorscale": [
             [
              0,
              "#0d0887"
             ],
             [
              0.1111111111111111,
              "#46039f"
             ],
             [
              0.2222222222222222,
              "#7201a8"
             ],
             [
              0.3333333333333333,
              "#9c179e"
             ],
             [
              0.4444444444444444,
              "#bd3786"
             ],
             [
              0.5555555555555556,
              "#d8576b"
             ],
             [
              0.6666666666666666,
              "#ed7953"
             ],
             [
              0.7777777777777778,
              "#fb9f3a"
             ],
             [
              0.8888888888888888,
              "#fdca26"
             ],
             [
              1,
              "#f0f921"
             ]
            ],
            "type": "contour"
           }
          ],
          "contourcarpet": [
           {
            "colorbar": {
             "outlinewidth": 0,
             "ticks": ""
            },
            "type": "contourcarpet"
           }
          ],
          "heatmap": [
           {
            "colorbar": {
             "outlinewidth": 0,
             "ticks": ""
            },
            "colorscale": [
             [
              0,
              "#0d0887"
             ],
             [
              0.1111111111111111,
              "#46039f"
             ],
             [
              0.2222222222222222,
              "#7201a8"
             ],
             [
              0.3333333333333333,
              "#9c179e"
             ],
             [
              0.4444444444444444,
              "#bd3786"
             ],
             [
              0.5555555555555556,
              "#d8576b"
             ],
             [
              0.6666666666666666,
              "#ed7953"
             ],
             [
              0.7777777777777778,
              "#fb9f3a"
             ],
             [
              0.8888888888888888,
              "#fdca26"
             ],
             [
              1,
              "#f0f921"
             ]
            ],
            "type": "heatmap"
           }
          ],
          "heatmapgl": [
           {
            "colorbar": {
             "outlinewidth": 0,
             "ticks": ""
            },
            "colorscale": [
             [
              0,
              "#0d0887"
             ],
             [
              0.1111111111111111,
              "#46039f"
             ],
             [
              0.2222222222222222,
              "#7201a8"
             ],
             [
              0.3333333333333333,
              "#9c179e"
             ],
             [
              0.4444444444444444,
              "#bd3786"
             ],
             [
              0.5555555555555556,
              "#d8576b"
             ],
             [
              0.6666666666666666,
              "#ed7953"
             ],
             [
              0.7777777777777778,
              "#fb9f3a"
             ],
             [
              0.8888888888888888,
              "#fdca26"
             ],
             [
              1,
              "#f0f921"
             ]
            ],
            "type": "heatmapgl"
           }
          ],
          "histogram": [
           {
            "marker": {
             "pattern": {
              "fillmode": "overlay",
              "size": 10,
              "solidity": 0.2
             }
            },
            "type": "histogram"
           }
          ],
          "histogram2d": [
           {
            "colorbar": {
             "outlinewidth": 0,
             "ticks": ""
            },
            "colorscale": [
             [
              0,
              "#0d0887"
             ],
             [
              0.1111111111111111,
              "#46039f"
             ],
             [
              0.2222222222222222,
              "#7201a8"
             ],
             [
              0.3333333333333333,
              "#9c179e"
             ],
             [
              0.4444444444444444,
              "#bd3786"
             ],
             [
              0.5555555555555556,
              "#d8576b"
             ],
             [
              0.6666666666666666,
              "#ed7953"
             ],
             [
              0.7777777777777778,
              "#fb9f3a"
             ],
             [
              0.8888888888888888,
              "#fdca26"
             ],
             [
              1,
              "#f0f921"
             ]
            ],
            "type": "histogram2d"
           }
          ],
          "histogram2dcontour": [
           {
            "colorbar": {
             "outlinewidth": 0,
             "ticks": ""
            },
            "colorscale": [
             [
              0,
              "#0d0887"
             ],
             [
              0.1111111111111111,
              "#46039f"
             ],
             [
              0.2222222222222222,
              "#7201a8"
             ],
             [
              0.3333333333333333,
              "#9c179e"
             ],
             [
              0.4444444444444444,
              "#bd3786"
             ],
             [
              0.5555555555555556,
              "#d8576b"
             ],
             [
              0.6666666666666666,
              "#ed7953"
             ],
             [
              0.7777777777777778,
              "#fb9f3a"
             ],
             [
              0.8888888888888888,
              "#fdca26"
             ],
             [
              1,
              "#f0f921"
             ]
            ],
            "type": "histogram2dcontour"
           }
          ],
          "mesh3d": [
           {
            "colorbar": {
             "outlinewidth": 0,
             "ticks": ""
            },
            "type": "mesh3d"
           }
          ],
          "parcoords": [
           {
            "line": {
             "colorbar": {
              "outlinewidth": 0,
              "ticks": ""
             }
            },
            "type": "parcoords"
           }
          ],
          "pie": [
           {
            "automargin": true,
            "type": "pie"
           }
          ],
          "scatter": [
           {
            "fillpattern": {
             "fillmode": "overlay",
             "size": 10,
             "solidity": 0.2
            },
            "type": "scatter"
           }
          ],
          "scatter3d": [
           {
            "line": {
             "colorbar": {
              "outlinewidth": 0,
              "ticks": ""
             }
            },
            "marker": {
             "colorbar": {
              "outlinewidth": 0,
              "ticks": ""
             }
            },
            "type": "scatter3d"
           }
          ],
          "scattercarpet": [
           {
            "marker": {
             "colorbar": {
              "outlinewidth": 0,
              "ticks": ""
             }
            },
            "type": "scattercarpet"
           }
          ],
          "scattergeo": [
           {
            "marker": {
             "colorbar": {
              "outlinewidth": 0,
              "ticks": ""
             }
            },
            "type": "scattergeo"
           }
          ],
          "scattergl": [
           {
            "marker": {
             "colorbar": {
              "outlinewidth": 0,
              "ticks": ""
             }
            },
            "type": "scattergl"
           }
          ],
          "scattermapbox": [
           {
            "marker": {
             "colorbar": {
              "outlinewidth": 0,
              "ticks": ""
             }
            },
            "type": "scattermapbox"
           }
          ],
          "scatterpolar": [
           {
            "marker": {
             "colorbar": {
              "outlinewidth": 0,
              "ticks": ""
             }
            },
            "type": "scatterpolar"
           }
          ],
          "scatterpolargl": [
           {
            "marker": {
             "colorbar": {
              "outlinewidth": 0,
              "ticks": ""
             }
            },
            "type": "scatterpolargl"
           }
          ],
          "scatterternary": [
           {
            "marker": {
             "colorbar": {
              "outlinewidth": 0,
              "ticks": ""
             }
            },
            "type": "scatterternary"
           }
          ],
          "surface": [
           {
            "colorbar": {
             "outlinewidth": 0,
             "ticks": ""
            },
            "colorscale": [
             [
              0,
              "#0d0887"
             ],
             [
              0.1111111111111111,
              "#46039f"
             ],
             [
              0.2222222222222222,
              "#7201a8"
             ],
             [
              0.3333333333333333,
              "#9c179e"
             ],
             [
              0.4444444444444444,
              "#bd3786"
             ],
             [
              0.5555555555555556,
              "#d8576b"
             ],
             [
              0.6666666666666666,
              "#ed7953"
             ],
             [
              0.7777777777777778,
              "#fb9f3a"
             ],
             [
              0.8888888888888888,
              "#fdca26"
             ],
             [
              1,
              "#f0f921"
             ]
            ],
            "type": "surface"
           }
          ],
          "table": [
           {
            "cells": {
             "fill": {
              "color": "#EBF0F8"
             },
             "line": {
              "color": "white"
             }
            },
            "header": {
             "fill": {
              "color": "#C8D4E3"
             },
             "line": {
              "color": "white"
             }
            },
            "type": "table"
           }
          ]
         },
         "layout": {
          "annotationdefaults": {
           "arrowcolor": "#2a3f5f",
           "arrowhead": 0,
           "arrowwidth": 1
          },
          "autotypenumbers": "strict",
          "coloraxis": {
           "colorbar": {
            "outlinewidth": 0,
            "ticks": ""
           }
          },
          "colorscale": {
           "diverging": [
            [
             0,
             "#8e0152"
            ],
            [
             0.1,
             "#c51b7d"
            ],
            [
             0.2,
             "#de77ae"
            ],
            [
             0.3,
             "#f1b6da"
            ],
            [
             0.4,
             "#fde0ef"
            ],
            [
             0.5,
             "#f7f7f7"
            ],
            [
             0.6,
             "#e6f5d0"
            ],
            [
             0.7,
             "#b8e186"
            ],
            [
             0.8,
             "#7fbc41"
            ],
            [
             0.9,
             "#4d9221"
            ],
            [
             1,
             "#276419"
            ]
           ],
           "sequential": [
            [
             0,
             "#0d0887"
            ],
            [
             0.1111111111111111,
             "#46039f"
            ],
            [
             0.2222222222222222,
             "#7201a8"
            ],
            [
             0.3333333333333333,
             "#9c179e"
            ],
            [
             0.4444444444444444,
             "#bd3786"
            ],
            [
             0.5555555555555556,
             "#d8576b"
            ],
            [
             0.6666666666666666,
             "#ed7953"
            ],
            [
             0.7777777777777778,
             "#fb9f3a"
            ],
            [
             0.8888888888888888,
             "#fdca26"
            ],
            [
             1,
             "#f0f921"
            ]
           ],
           "sequentialminus": [
            [
             0,
             "#0d0887"
            ],
            [
             0.1111111111111111,
             "#46039f"
            ],
            [
             0.2222222222222222,
             "#7201a8"
            ],
            [
             0.3333333333333333,
             "#9c179e"
            ],
            [
             0.4444444444444444,
             "#bd3786"
            ],
            [
             0.5555555555555556,
             "#d8576b"
            ],
            [
             0.6666666666666666,
             "#ed7953"
            ],
            [
             0.7777777777777778,
             "#fb9f3a"
            ],
            [
             0.8888888888888888,
             "#fdca26"
            ],
            [
             1,
             "#f0f921"
            ]
           ]
          },
          "colorway": [
           "#636efa",
           "#EF553B",
           "#00cc96",
           "#ab63fa",
           "#FFA15A",
           "#19d3f3",
           "#FF6692",
           "#B6E880",
           "#FF97FF",
           "#FECB52"
          ],
          "font": {
           "color": "#2a3f5f"
          },
          "geo": {
           "bgcolor": "white",
           "lakecolor": "white",
           "landcolor": "#E5ECF6",
           "showlakes": true,
           "showland": true,
           "subunitcolor": "white"
          },
          "hoverlabel": {
           "align": "left"
          },
          "hovermode": "closest",
          "mapbox": {
           "style": "light"
          },
          "paper_bgcolor": "white",
          "plot_bgcolor": "#E5ECF6",
          "polar": {
           "angularaxis": {
            "gridcolor": "white",
            "linecolor": "white",
            "ticks": ""
           },
           "bgcolor": "#E5ECF6",
           "radialaxis": {
            "gridcolor": "white",
            "linecolor": "white",
            "ticks": ""
           }
          },
          "scene": {
           "xaxis": {
            "backgroundcolor": "#E5ECF6",
            "gridcolor": "white",
            "gridwidth": 2,
            "linecolor": "white",
            "showbackground": true,
            "ticks": "",
            "zerolinecolor": "white"
           },
           "yaxis": {
            "backgroundcolor": "#E5ECF6",
            "gridcolor": "white",
            "gridwidth": 2,
            "linecolor": "white",
            "showbackground": true,
            "ticks": "",
            "zerolinecolor": "white"
           },
           "zaxis": {
            "backgroundcolor": "#E5ECF6",
            "gridcolor": "white",
            "gridwidth": 2,
            "linecolor": "white",
            "showbackground": true,
            "ticks": "",
            "zerolinecolor": "white"
           }
          },
          "shapedefaults": {
           "line": {
            "color": "#2a3f5f"
           }
          },
          "ternary": {
           "aaxis": {
            "gridcolor": "white",
            "linecolor": "white",
            "ticks": ""
           },
           "baxis": {
            "gridcolor": "white",
            "linecolor": "white",
            "ticks": ""
           },
           "bgcolor": "#E5ECF6",
           "caxis": {
            "gridcolor": "white",
            "linecolor": "white",
            "ticks": ""
           }
          },
          "title": {
           "x": 0.05
          },
          "xaxis": {
           "automargin": true,
           "gridcolor": "white",
           "linecolor": "white",
           "ticks": "",
           "title": {
            "standoff": 15
           },
           "zerolinecolor": "white",
           "zerolinewidth": 2
          },
          "yaxis": {
           "automargin": true,
           "gridcolor": "white",
           "linecolor": "white",
           "ticks": "",
           "title": {
            "standoff": 15
           },
           "zerolinecolor": "white",
           "zerolinewidth": 2
          }
         }
        },
        "title": {
         "text": "Popularidad de las Canciones a lo Largo del Tiempo"
        },
        "xaxis": {
         "anchor": "y",
         "domain": [
          0,
          1
         ],
         "title": {
          "text": "Fecha"
         }
        },
        "yaxis": {
         "anchor": "x",
         "domain": [
          0,
          1
         ],
         "title": {
          "text": "Popularidad"
         }
        }
       }
      }
     },
     "metadata": {},
     "output_type": "display_data"
    }
   ],
   "source": [
    "# 7. Popularidad de las Canciones a lo Largo del Tiempo\n",
    "fig7 = px.scatter(df, x=\"date\", y=\"popularity\", title=\"Popularidad de las Canciones a lo Largo del Tiempo\",\n",
    "                  labels={\"date\": \"Fecha\", \"popularity\": \"Popularidad\"})\n",
    "fig7.show()\n"
   ]
  },
  {
   "cell_type": "code",
   "execution_count": 45,
   "metadata": {},
   "outputs": [
    {
     "data": {
      "application/vnd.plotly.v1+json": {
       "config": {
        "plotlyServerURL": "https://plot.ly"
       },
       "data": [
        {
         "hovertemplate": "Energía=%{x}<br>Valencia (Felicidad)=%{y}<extra></extra>",
         "legendgroup": "",
         "marker": {
          "color": "#636efa",
          "symbol": "circle"
         },
         "mode": "markers",
         "name": "",
         "orientation": "v",
         "showlegend": false,
         "type": "scatter",
         "x": [
          0.839,
          0.98,
          0.803,
          0.797,
          0.806,
          0.65,
          0.744,
          0.767,
          0.557,
          0.96,
          0.619,
          0.619,
          0.619,
          0.661,
          0.707,
          0.913,
          0.794,
          0.581,
          0.459,
          0.877,
          0.914,
          0.825,
          0.852,
          0.938,
          0.844,
          0.965,
          0.805,
          0.61,
          0.674,
          0.674,
          0.674,
          0.979,
          0.855,
          0.855,
          0.509,
          0.509,
          0.834,
          0.907,
          0.702,
          0.93,
          0.894,
          0.767,
          0.571,
          0.79,
          0.776,
          0.612,
          0.8,
          0.89,
          0.657,
          0.931,
          0.821,
          0.862,
          0.862,
          0.753,
          0.753,
          0.507,
          0.507,
          0.827,
          0.813,
          0.813,
          0.813,
          0.746,
          0.878,
          0.726,
          0.861,
          0.444,
          0.444,
          0.536,
          0.955,
          0.943,
          0.632,
          0.632,
          0.783,
          0.904,
          0.904,
          0.649,
          0.649,
          0.578,
          0.561,
          0.681,
          0.681,
          0.75,
          0.729,
          0.729,
          0.657,
          0.388,
          0.388,
          0.985,
          0.931,
          0.709,
          0.709,
          0.709,
          0.999,
          0.992,
          0.992,
          0.471,
          0.966,
          0.74,
          0.943,
          0.936,
          0.936,
          0.936,
          0.635,
          0.966,
          0.683,
          0.766,
          0.975,
          0.872,
          0.872,
          0.789,
          0.425,
          0.685,
          0.782,
          0.782,
          0.747,
          0.881,
          0.597,
          0.736,
          0.746,
          0.716,
          0.78,
          0.78,
          0.933,
          0.673,
          0.724,
          0.343,
          0.419,
          0.643,
          0.643,
          0.891,
          0.624,
          0.689,
          0.967,
          0.728,
          0.849,
          0.858,
          0.878,
          0.631,
          0.279,
          0.279,
          0.816,
          0.589,
          0.589,
          0.695,
          0.852,
          0.887,
          0.722,
          0.686,
          0.838,
          0.517,
          0.544,
          0.745,
          0.311,
          0.66,
          0.93,
          0.812,
          0.334,
          0.541,
          0.742,
          0.652,
          0.791,
          0.85,
          0.51,
          0.81,
          0.73,
          0.85,
          0.945,
          0.825,
          0.736,
          0.781,
          0.898,
          0.844,
          0.87,
          0.721,
          0.793,
          0.778,
          0.938,
          0.783,
          0.688,
          0.904,
          0.792,
          0.719,
          0.719,
          0.636,
          0.636,
          0.943,
          0.735,
          0.838,
          0.838,
          0.838,
          0.511,
          0.701,
          0.417,
          0.383,
          0.0894,
          0.405,
          0.112,
          0.822,
          0.787,
          0.623,
          0.932,
          0.932,
          0.957,
          0.43,
          0.845,
          0.353,
          0.856,
          0.115,
          0.408,
          0.616,
          0.718,
          0.911,
          0.911,
          0.744,
          0.407,
          0.407,
          0.878,
          0.751,
          0.858,
          0.858,
          0.768,
          0.754,
          0.53,
          0.53,
          0.429,
          0.834,
          0.954,
          0.954,
          0.905,
          0.905,
          0.358,
          0.715,
          0.905,
          0.81,
          0.911,
          0.875,
          0.887,
          0.537,
          0.919,
          0.5,
          0.742,
          0.935,
          0.374,
          0.548
         ],
         "xaxis": "x",
         "y": [
          0.462,
          0.561,
          0.318,
          0.129,
          0.613,
          0.189,
          0.475,
          0.797,
          0.735,
          0.504,
          0.526,
          0.526,
          0.526,
          0.852,
          0.326,
          0.706,
          0.785,
          0.728,
          0.366,
          0.361,
          0.626,
          0.446,
          0.465,
          0.531,
          0.141,
          0.168,
          0.318,
          0.621,
          0.848,
          0.848,
          0.848,
          0.524,
          0.731,
          0.731,
          0.504,
          0.504,
          0.538,
          0.386,
          0.74,
          0.523,
          0.213,
          0.464,
          0.73,
          0.896,
          0.814,
          0.846,
          0.629,
          0.854,
          0.276,
          0.461,
          0.693,
          0.57,
          0.57,
          0.403,
          0.403,
          0.489,
          0.489,
          0.0974,
          0.524,
          0.524,
          0.524,
          0.916,
          0.721,
          0.611,
          0.434,
          0.694,
          0.694,
          0.191,
          0.402,
          0.867,
          0.294,
          0.294,
          0.784,
          0.843,
          0.843,
          0.904,
          0.904,
          0.9,
          0.382,
          0.388,
          0.388,
          0.686,
          0.666,
          0.666,
          0.625,
          0.25,
          0.25,
          0.776,
          0.86,
          0.648,
          0.648,
          0.648,
          0.789,
          0.753,
          0.753,
          0.219,
          0.782,
          0.585,
          0.859,
          0.844,
          0.844,
          0.844,
          0.281,
          0.764,
          0.745,
          0.61,
          0.969,
          0.682,
          0.682,
          0.866,
          0.562,
          0.952,
          0.55,
          0.55,
          0.517,
          0.928,
          0.961,
          0.669,
          0.658,
          0.692,
          0.88,
          0.88,
          0.865,
          0.883,
          0.69,
          0.315,
          0.257,
          0.219,
          0.219,
          0.331,
          0.523,
          0.483,
          0.679,
          0.451,
          0.569,
          0.662,
          0.42,
          0.598,
          0.137,
          0.137,
          0.271,
          0.332,
          0.332,
          0.409,
          0.346,
          0.557,
          0.247,
          0.19,
          0.438,
          0.4,
          0.181,
          0.196,
          0.0832,
          0.727,
          0.766,
          0.334,
          0.413,
          0.112,
          0.496,
          0.217,
          0.162,
          0.581,
          0.443,
          0.512,
          0.244,
          0.54,
          0.725,
          0.474,
          0.569,
          0.464,
          0.536,
          0.38,
          0.628,
          0.183,
          0.255,
          0.723,
          0.735,
          0.225,
          0.308,
          0.737,
          0.532,
          0.892,
          0.892,
          0.565,
          0.565,
          0.64,
          0.738,
          0.589,
          0.589,
          0.589,
          0.542,
          0.892,
          0.124,
          0.35,
          0.195,
          0.743,
          0.0903,
          0.587,
          0.692,
          0.711,
          0.937,
          0.937,
          0.603,
          0.104,
          0.6,
          0.55,
          0.635,
          0.229,
          0.374,
          0.32,
          0.342,
          0.716,
          0.716,
          0.374,
          0.56,
          0.56,
          0.657,
          0.537,
          0.62,
          0.62,
          0.293,
          0.498,
          0.602,
          0.602,
          0.446,
          0.337,
          0.312,
          0.312,
          0.574,
          0.574,
          0.481,
          0.316,
          0.388,
          0.535,
          0.343,
          0.403,
          0.557,
          0.673,
          0.386,
          0.526,
          0.482,
          0.797,
          0.656,
          0.516
         ],
         "yaxis": "y"
        }
       ],
       "layout": {
        "legend": {
         "tracegroupgap": 0
        },
        "template": {
         "data": {
          "bar": [
           {
            "error_x": {
             "color": "#2a3f5f"
            },
            "error_y": {
             "color": "#2a3f5f"
            },
            "marker": {
             "line": {
              "color": "#E5ECF6",
              "width": 0.5
             },
             "pattern": {
              "fillmode": "overlay",
              "size": 10,
              "solidity": 0.2
             }
            },
            "type": "bar"
           }
          ],
          "barpolar": [
           {
            "marker": {
             "line": {
              "color": "#E5ECF6",
              "width": 0.5
             },
             "pattern": {
              "fillmode": "overlay",
              "size": 10,
              "solidity": 0.2
             }
            },
            "type": "barpolar"
           }
          ],
          "carpet": [
           {
            "aaxis": {
             "endlinecolor": "#2a3f5f",
             "gridcolor": "white",
             "linecolor": "white",
             "minorgridcolor": "white",
             "startlinecolor": "#2a3f5f"
            },
            "baxis": {
             "endlinecolor": "#2a3f5f",
             "gridcolor": "white",
             "linecolor": "white",
             "minorgridcolor": "white",
             "startlinecolor": "#2a3f5f"
            },
            "type": "carpet"
           }
          ],
          "choropleth": [
           {
            "colorbar": {
             "outlinewidth": 0,
             "ticks": ""
            },
            "type": "choropleth"
           }
          ],
          "contour": [
           {
            "colorbar": {
             "outlinewidth": 0,
             "ticks": ""
            },
            "colorscale": [
             [
              0,
              "#0d0887"
             ],
             [
              0.1111111111111111,
              "#46039f"
             ],
             [
              0.2222222222222222,
              "#7201a8"
             ],
             [
              0.3333333333333333,
              "#9c179e"
             ],
             [
              0.4444444444444444,
              "#bd3786"
             ],
             [
              0.5555555555555556,
              "#d8576b"
             ],
             [
              0.6666666666666666,
              "#ed7953"
             ],
             [
              0.7777777777777778,
              "#fb9f3a"
             ],
             [
              0.8888888888888888,
              "#fdca26"
             ],
             [
              1,
              "#f0f921"
             ]
            ],
            "type": "contour"
           }
          ],
          "contourcarpet": [
           {
            "colorbar": {
             "outlinewidth": 0,
             "ticks": ""
            },
            "type": "contourcarpet"
           }
          ],
          "heatmap": [
           {
            "colorbar": {
             "outlinewidth": 0,
             "ticks": ""
            },
            "colorscale": [
             [
              0,
              "#0d0887"
             ],
             [
              0.1111111111111111,
              "#46039f"
             ],
             [
              0.2222222222222222,
              "#7201a8"
             ],
             [
              0.3333333333333333,
              "#9c179e"
             ],
             [
              0.4444444444444444,
              "#bd3786"
             ],
             [
              0.5555555555555556,
              "#d8576b"
             ],
             [
              0.6666666666666666,
              "#ed7953"
             ],
             [
              0.7777777777777778,
              "#fb9f3a"
             ],
             [
              0.8888888888888888,
              "#fdca26"
             ],
             [
              1,
              "#f0f921"
             ]
            ],
            "type": "heatmap"
           }
          ],
          "heatmapgl": [
           {
            "colorbar": {
             "outlinewidth": 0,
             "ticks": ""
            },
            "colorscale": [
             [
              0,
              "#0d0887"
             ],
             [
              0.1111111111111111,
              "#46039f"
             ],
             [
              0.2222222222222222,
              "#7201a8"
             ],
             [
              0.3333333333333333,
              "#9c179e"
             ],
             [
              0.4444444444444444,
              "#bd3786"
             ],
             [
              0.5555555555555556,
              "#d8576b"
             ],
             [
              0.6666666666666666,
              "#ed7953"
             ],
             [
              0.7777777777777778,
              "#fb9f3a"
             ],
             [
              0.8888888888888888,
              "#fdca26"
             ],
             [
              1,
              "#f0f921"
             ]
            ],
            "type": "heatmapgl"
           }
          ],
          "histogram": [
           {
            "marker": {
             "pattern": {
              "fillmode": "overlay",
              "size": 10,
              "solidity": 0.2
             }
            },
            "type": "histogram"
           }
          ],
          "histogram2d": [
           {
            "colorbar": {
             "outlinewidth": 0,
             "ticks": ""
            },
            "colorscale": [
             [
              0,
              "#0d0887"
             ],
             [
              0.1111111111111111,
              "#46039f"
             ],
             [
              0.2222222222222222,
              "#7201a8"
             ],
             [
              0.3333333333333333,
              "#9c179e"
             ],
             [
              0.4444444444444444,
              "#bd3786"
             ],
             [
              0.5555555555555556,
              "#d8576b"
             ],
             [
              0.6666666666666666,
              "#ed7953"
             ],
             [
              0.7777777777777778,
              "#fb9f3a"
             ],
             [
              0.8888888888888888,
              "#fdca26"
             ],
             [
              1,
              "#f0f921"
             ]
            ],
            "type": "histogram2d"
           }
          ],
          "histogram2dcontour": [
           {
            "colorbar": {
             "outlinewidth": 0,
             "ticks": ""
            },
            "colorscale": [
             [
              0,
              "#0d0887"
             ],
             [
              0.1111111111111111,
              "#46039f"
             ],
             [
              0.2222222222222222,
              "#7201a8"
             ],
             [
              0.3333333333333333,
              "#9c179e"
             ],
             [
              0.4444444444444444,
              "#bd3786"
             ],
             [
              0.5555555555555556,
              "#d8576b"
             ],
             [
              0.6666666666666666,
              "#ed7953"
             ],
             [
              0.7777777777777778,
              "#fb9f3a"
             ],
             [
              0.8888888888888888,
              "#fdca26"
             ],
             [
              1,
              "#f0f921"
             ]
            ],
            "type": "histogram2dcontour"
           }
          ],
          "mesh3d": [
           {
            "colorbar": {
             "outlinewidth": 0,
             "ticks": ""
            },
            "type": "mesh3d"
           }
          ],
          "parcoords": [
           {
            "line": {
             "colorbar": {
              "outlinewidth": 0,
              "ticks": ""
             }
            },
            "type": "parcoords"
           }
          ],
          "pie": [
           {
            "automargin": true,
            "type": "pie"
           }
          ],
          "scatter": [
           {
            "fillpattern": {
             "fillmode": "overlay",
             "size": 10,
             "solidity": 0.2
            },
            "type": "scatter"
           }
          ],
          "scatter3d": [
           {
            "line": {
             "colorbar": {
              "outlinewidth": 0,
              "ticks": ""
             }
            },
            "marker": {
             "colorbar": {
              "outlinewidth": 0,
              "ticks": ""
             }
            },
            "type": "scatter3d"
           }
          ],
          "scattercarpet": [
           {
            "marker": {
             "colorbar": {
              "outlinewidth": 0,
              "ticks": ""
             }
            },
            "type": "scattercarpet"
           }
          ],
          "scattergeo": [
           {
            "marker": {
             "colorbar": {
              "outlinewidth": 0,
              "ticks": ""
             }
            },
            "type": "scattergeo"
           }
          ],
          "scattergl": [
           {
            "marker": {
             "colorbar": {
              "outlinewidth": 0,
              "ticks": ""
             }
            },
            "type": "scattergl"
           }
          ],
          "scattermapbox": [
           {
            "marker": {
             "colorbar": {
              "outlinewidth": 0,
              "ticks": ""
             }
            },
            "type": "scattermapbox"
           }
          ],
          "scatterpolar": [
           {
            "marker": {
             "colorbar": {
              "outlinewidth": 0,
              "ticks": ""
             }
            },
            "type": "scatterpolar"
           }
          ],
          "scatterpolargl": [
           {
            "marker": {
             "colorbar": {
              "outlinewidth": 0,
              "ticks": ""
             }
            },
            "type": "scatterpolargl"
           }
          ],
          "scatterternary": [
           {
            "marker": {
             "colorbar": {
              "outlinewidth": 0,
              "ticks": ""
             }
            },
            "type": "scatterternary"
           }
          ],
          "surface": [
           {
            "colorbar": {
             "outlinewidth": 0,
             "ticks": ""
            },
            "colorscale": [
             [
              0,
              "#0d0887"
             ],
             [
              0.1111111111111111,
              "#46039f"
             ],
             [
              0.2222222222222222,
              "#7201a8"
             ],
             [
              0.3333333333333333,
              "#9c179e"
             ],
             [
              0.4444444444444444,
              "#bd3786"
             ],
             [
              0.5555555555555556,
              "#d8576b"
             ],
             [
              0.6666666666666666,
              "#ed7953"
             ],
             [
              0.7777777777777778,
              "#fb9f3a"
             ],
             [
              0.8888888888888888,
              "#fdca26"
             ],
             [
              1,
              "#f0f921"
             ]
            ],
            "type": "surface"
           }
          ],
          "table": [
           {
            "cells": {
             "fill": {
              "color": "#EBF0F8"
             },
             "line": {
              "color": "white"
             }
            },
            "header": {
             "fill": {
              "color": "#C8D4E3"
             },
             "line": {
              "color": "white"
             }
            },
            "type": "table"
           }
          ]
         },
         "layout": {
          "annotationdefaults": {
           "arrowcolor": "#2a3f5f",
           "arrowhead": 0,
           "arrowwidth": 1
          },
          "autotypenumbers": "strict",
          "coloraxis": {
           "colorbar": {
            "outlinewidth": 0,
            "ticks": ""
           }
          },
          "colorscale": {
           "diverging": [
            [
             0,
             "#8e0152"
            ],
            [
             0.1,
             "#c51b7d"
            ],
            [
             0.2,
             "#de77ae"
            ],
            [
             0.3,
             "#f1b6da"
            ],
            [
             0.4,
             "#fde0ef"
            ],
            [
             0.5,
             "#f7f7f7"
            ],
            [
             0.6,
             "#e6f5d0"
            ],
            [
             0.7,
             "#b8e186"
            ],
            [
             0.8,
             "#7fbc41"
            ],
            [
             0.9,
             "#4d9221"
            ],
            [
             1,
             "#276419"
            ]
           ],
           "sequential": [
            [
             0,
             "#0d0887"
            ],
            [
             0.1111111111111111,
             "#46039f"
            ],
            [
             0.2222222222222222,
             "#7201a8"
            ],
            [
             0.3333333333333333,
             "#9c179e"
            ],
            [
             0.4444444444444444,
             "#bd3786"
            ],
            [
             0.5555555555555556,
             "#d8576b"
            ],
            [
             0.6666666666666666,
             "#ed7953"
            ],
            [
             0.7777777777777778,
             "#fb9f3a"
            ],
            [
             0.8888888888888888,
             "#fdca26"
            ],
            [
             1,
             "#f0f921"
            ]
           ],
           "sequentialminus": [
            [
             0,
             "#0d0887"
            ],
            [
             0.1111111111111111,
             "#46039f"
            ],
            [
             0.2222222222222222,
             "#7201a8"
            ],
            [
             0.3333333333333333,
             "#9c179e"
            ],
            [
             0.4444444444444444,
             "#bd3786"
            ],
            [
             0.5555555555555556,
             "#d8576b"
            ],
            [
             0.6666666666666666,
             "#ed7953"
            ],
            [
             0.7777777777777778,
             "#fb9f3a"
            ],
            [
             0.8888888888888888,
             "#fdca26"
            ],
            [
             1,
             "#f0f921"
            ]
           ]
          },
          "colorway": [
           "#636efa",
           "#EF553B",
           "#00cc96",
           "#ab63fa",
           "#FFA15A",
           "#19d3f3",
           "#FF6692",
           "#B6E880",
           "#FF97FF",
           "#FECB52"
          ],
          "font": {
           "color": "#2a3f5f"
          },
          "geo": {
           "bgcolor": "white",
           "lakecolor": "white",
           "landcolor": "#E5ECF6",
           "showlakes": true,
           "showland": true,
           "subunitcolor": "white"
          },
          "hoverlabel": {
           "align": "left"
          },
          "hovermode": "closest",
          "mapbox": {
           "style": "light"
          },
          "paper_bgcolor": "white",
          "plot_bgcolor": "#E5ECF6",
          "polar": {
           "angularaxis": {
            "gridcolor": "white",
            "linecolor": "white",
            "ticks": ""
           },
           "bgcolor": "#E5ECF6",
           "radialaxis": {
            "gridcolor": "white",
            "linecolor": "white",
            "ticks": ""
           }
          },
          "scene": {
           "xaxis": {
            "backgroundcolor": "#E5ECF6",
            "gridcolor": "white",
            "gridwidth": 2,
            "linecolor": "white",
            "showbackground": true,
            "ticks": "",
            "zerolinecolor": "white"
           },
           "yaxis": {
            "backgroundcolor": "#E5ECF6",
            "gridcolor": "white",
            "gridwidth": 2,
            "linecolor": "white",
            "showbackground": true,
            "ticks": "",
            "zerolinecolor": "white"
           },
           "zaxis": {
            "backgroundcolor": "#E5ECF6",
            "gridcolor": "white",
            "gridwidth": 2,
            "linecolor": "white",
            "showbackground": true,
            "ticks": "",
            "zerolinecolor": "white"
           }
          },
          "shapedefaults": {
           "line": {
            "color": "#2a3f5f"
           }
          },
          "ternary": {
           "aaxis": {
            "gridcolor": "white",
            "linecolor": "white",
            "ticks": ""
           },
           "baxis": {
            "gridcolor": "white",
            "linecolor": "white",
            "ticks": ""
           },
           "bgcolor": "#E5ECF6",
           "caxis": {
            "gridcolor": "white",
            "linecolor": "white",
            "ticks": ""
           }
          },
          "title": {
           "x": 0.05
          },
          "xaxis": {
           "automargin": true,
           "gridcolor": "white",
           "linecolor": "white",
           "ticks": "",
           "title": {
            "standoff": 15
           },
           "zerolinecolor": "white",
           "zerolinewidth": 2
          },
          "yaxis": {
           "automargin": true,
           "gridcolor": "white",
           "linecolor": "white",
           "ticks": "",
           "title": {
            "standoff": 15
           },
           "zerolinecolor": "white",
           "zerolinewidth": 2
          }
         }
        },
        "title": {
         "text": "Relación entre Energía y Valencia (Felicidad)"
        },
        "xaxis": {
         "anchor": "y",
         "domain": [
          0,
          1
         ],
         "title": {
          "text": "Energía"
         }
        },
        "yaxis": {
         "anchor": "x",
         "domain": [
          0,
          1
         ],
         "title": {
          "text": "Valencia (Felicidad)"
         }
        }
       }
      }
     },
     "metadata": {},
     "output_type": "display_data"
    }
   ],
   "source": [
    "# 8. Relación entre Energía y Valencia (Felicidad)\n",
    "fig8 = px.scatter(df, x=\"energy\", y=\"valence\", title=\"Relación entre Energía y Valencia (Felicidad)\",\n",
    "                  labels={\"energy\": \"Energía\", \"valence\": \"Valencia (Felicidad)\"})\n",
    "fig8.show()\n"
   ]
  },
  {
   "cell_type": "code",
   "execution_count": 46,
   "metadata": {},
   "outputs": [
    {
     "data": {
      "application/vnd.plotly.v1+json": {
       "config": {
        "plotlyServerURL": "https://plot.ly"
       },
       "data": [
        {
         "alignmentgroup": "True",
         "bingroup": "x",
         "hovertemplate": "Tempo (BPM)=%{x}<br>count=%{y}<extra></extra>",
         "legendgroup": "",
         "marker": {
          "color": "#636efa",
          "pattern": {
           "shape": ""
          }
         },
         "name": "",
         "nbinsx": 40,
         "offsetgroup": "",
         "orientation": "v",
         "showlegend": false,
         "type": "histogram",
         "x": [
          105.059,
          119.041,
          120.057,
          165.023,
          94.948,
          106.888,
          200.542,
          91.719,
          140.048,
          157.09,
          155.057,
          155.057,
          155.057,
          119.979,
          85.912,
          122.007,
          155.95,
          114.016,
          86.38,
          136.967,
          196.482,
          95.01,
          97.87,
          124.015,
          92.044,
          92.615,
          114.009,
          95.815,
          99.022,
          99.022,
          99.022,
          100.511,
          127.986,
          127.986,
          127.143,
          127.143,
          164.02,
          169.948,
          94.006,
          150.12,
          126.03,
          120.001,
          77.335,
          179.91,
          89.996,
          100.023,
          100.011,
          113.06,
          119.01,
          150.081,
          122.009,
          160.09,
          160.09,
          125.007,
          125.007,
          130.003,
          130.003,
          114.987,
          102.033,
          102.033,
          102.033,
          122.001,
          127.905,
          153.972,
          107.055,
          179.977,
          179.977,
          166.901,
          119.126,
          104.017,
          90.005,
          90.005,
          141.07,
          141.966,
          141.966,
          161.98,
          161.98,
          92.352,
          95.995,
          155.079,
          155.079,
          149.965,
          97.02,
          97.02,
          159.995,
          81.231,
          81.231,
          134.909,
          158.517,
          99.993,
          99.993,
          99.993,
          164.822,
          154.016,
          154.016,
          105.029,
          159.122,
          169.914,
          157.714,
          151.019,
          151.019,
          151.019,
          129.952,
          130.06,
          119.953,
          127.966,
          132.967,
          126.05,
          126.05,
          116.985,
          135.128,
          132.005,
          128.033,
          128.033,
          95.003,
          193.788,
          106.556,
          147.897,
          137.968,
          123.474,
          98.992,
          98.992,
          140.026,
          104.995,
          108.982,
          140.035,
          139.109,
          125.938,
          125.938,
          95.089,
          117.143,
          129.993,
          154.804,
          155.088,
          170.96,
          128.028,
          156.95,
          141.049,
          145.247,
          145.247,
          150.471,
          137.86,
          137.86,
          124.992,
          147.826,
          150.023,
          192.025,
          165.816,
          156.914,
          89.635,
          107.051,
          96.014,
          81.937,
          83.604,
          137.93,
          116.959,
          154.167,
          86.139,
          93.951,
          143.974,
          105.042,
          149.946,
          134.024,
          144.924,
          151.965,
          104.005,
          153.855,
          123.011,
          128.025,
          118.076,
          74.983,
          131.038,
          127.024,
          85.988,
          107.079,
          127.046,
          130.008,
          124.994,
          159.913,
          146.039,
          96.992,
          99.011,
          99.011,
          105.005,
          105.005,
          75.093,
          107.612,
          110.057,
          110.057,
          110.057,
          96.038,
          130.091,
          138.178,
          87.568,
          87.641,
          81.89,
          76.244,
          126.127,
          80.449,
          100.991,
          147.04,
          147.04,
          105.105,
          91.844,
          159.953,
          165.888,
          96.966,
          103.402,
          127.918,
          110.346,
          127.949,
          128.019,
          128.019,
          120.068,
          90.996,
          90.996,
          90.163,
          74.414,
          111.023,
          111.023,
          156.039,
          161.941,
          83.025,
          83.025,
          149.936,
          118.222,
          128.016,
          128.016,
          123.981,
          123.981,
          78.443,
          129.999,
          128.016,
          136.988,
          157.831,
          64.319,
          150.023,
          110.982,
          140.009,
          159.029,
          92.959,
          92.478,
          98.985,
          94.925
         ],
         "xaxis": "x",
         "yaxis": "y"
        }
       ],
       "layout": {
        "barmode": "relative",
        "legend": {
         "tracegroupgap": 0
        },
        "template": {
         "data": {
          "bar": [
           {
            "error_x": {
             "color": "#2a3f5f"
            },
            "error_y": {
             "color": "#2a3f5f"
            },
            "marker": {
             "line": {
              "color": "#E5ECF6",
              "width": 0.5
             },
             "pattern": {
              "fillmode": "overlay",
              "size": 10,
              "solidity": 0.2
             }
            },
            "type": "bar"
           }
          ],
          "barpolar": [
           {
            "marker": {
             "line": {
              "color": "#E5ECF6",
              "width": 0.5
             },
             "pattern": {
              "fillmode": "overlay",
              "size": 10,
              "solidity": 0.2
             }
            },
            "type": "barpolar"
           }
          ],
          "carpet": [
           {
            "aaxis": {
             "endlinecolor": "#2a3f5f",
             "gridcolor": "white",
             "linecolor": "white",
             "minorgridcolor": "white",
             "startlinecolor": "#2a3f5f"
            },
            "baxis": {
             "endlinecolor": "#2a3f5f",
             "gridcolor": "white",
             "linecolor": "white",
             "minorgridcolor": "white",
             "startlinecolor": "#2a3f5f"
            },
            "type": "carpet"
           }
          ],
          "choropleth": [
           {
            "colorbar": {
             "outlinewidth": 0,
             "ticks": ""
            },
            "type": "choropleth"
           }
          ],
          "contour": [
           {
            "colorbar": {
             "outlinewidth": 0,
             "ticks": ""
            },
            "colorscale": [
             [
              0,
              "#0d0887"
             ],
             [
              0.1111111111111111,
              "#46039f"
             ],
             [
              0.2222222222222222,
              "#7201a8"
             ],
             [
              0.3333333333333333,
              "#9c179e"
             ],
             [
              0.4444444444444444,
              "#bd3786"
             ],
             [
              0.5555555555555556,
              "#d8576b"
             ],
             [
              0.6666666666666666,
              "#ed7953"
             ],
             [
              0.7777777777777778,
              "#fb9f3a"
             ],
             [
              0.8888888888888888,
              "#fdca26"
             ],
             [
              1,
              "#f0f921"
             ]
            ],
            "type": "contour"
           }
          ],
          "contourcarpet": [
           {
            "colorbar": {
             "outlinewidth": 0,
             "ticks": ""
            },
            "type": "contourcarpet"
           }
          ],
          "heatmap": [
           {
            "colorbar": {
             "outlinewidth": 0,
             "ticks": ""
            },
            "colorscale": [
             [
              0,
              "#0d0887"
             ],
             [
              0.1111111111111111,
              "#46039f"
             ],
             [
              0.2222222222222222,
              "#7201a8"
             ],
             [
              0.3333333333333333,
              "#9c179e"
             ],
             [
              0.4444444444444444,
              "#bd3786"
             ],
             [
              0.5555555555555556,
              "#d8576b"
             ],
             [
              0.6666666666666666,
              "#ed7953"
             ],
             [
              0.7777777777777778,
              "#fb9f3a"
             ],
             [
              0.8888888888888888,
              "#fdca26"
             ],
             [
              1,
              "#f0f921"
             ]
            ],
            "type": "heatmap"
           }
          ],
          "heatmapgl": [
           {
            "colorbar": {
             "outlinewidth": 0,
             "ticks": ""
            },
            "colorscale": [
             [
              0,
              "#0d0887"
             ],
             [
              0.1111111111111111,
              "#46039f"
             ],
             [
              0.2222222222222222,
              "#7201a8"
             ],
             [
              0.3333333333333333,
              "#9c179e"
             ],
             [
              0.4444444444444444,
              "#bd3786"
             ],
             [
              0.5555555555555556,
              "#d8576b"
             ],
             [
              0.6666666666666666,
              "#ed7953"
             ],
             [
              0.7777777777777778,
              "#fb9f3a"
             ],
             [
              0.8888888888888888,
              "#fdca26"
             ],
             [
              1,
              "#f0f921"
             ]
            ],
            "type": "heatmapgl"
           }
          ],
          "histogram": [
           {
            "marker": {
             "pattern": {
              "fillmode": "overlay",
              "size": 10,
              "solidity": 0.2
             }
            },
            "type": "histogram"
           }
          ],
          "histogram2d": [
           {
            "colorbar": {
             "outlinewidth": 0,
             "ticks": ""
            },
            "colorscale": [
             [
              0,
              "#0d0887"
             ],
             [
              0.1111111111111111,
              "#46039f"
             ],
             [
              0.2222222222222222,
              "#7201a8"
             ],
             [
              0.3333333333333333,
              "#9c179e"
             ],
             [
              0.4444444444444444,
              "#bd3786"
             ],
             [
              0.5555555555555556,
              "#d8576b"
             ],
             [
              0.6666666666666666,
              "#ed7953"
             ],
             [
              0.7777777777777778,
              "#fb9f3a"
             ],
             [
              0.8888888888888888,
              "#fdca26"
             ],
             [
              1,
              "#f0f921"
             ]
            ],
            "type": "histogram2d"
           }
          ],
          "histogram2dcontour": [
           {
            "colorbar": {
             "outlinewidth": 0,
             "ticks": ""
            },
            "colorscale": [
             [
              0,
              "#0d0887"
             ],
             [
              0.1111111111111111,
              "#46039f"
             ],
             [
              0.2222222222222222,
              "#7201a8"
             ],
             [
              0.3333333333333333,
              "#9c179e"
             ],
             [
              0.4444444444444444,
              "#bd3786"
             ],
             [
              0.5555555555555556,
              "#d8576b"
             ],
             [
              0.6666666666666666,
              "#ed7953"
             ],
             [
              0.7777777777777778,
              "#fb9f3a"
             ],
             [
              0.8888888888888888,
              "#fdca26"
             ],
             [
              1,
              "#f0f921"
             ]
            ],
            "type": "histogram2dcontour"
           }
          ],
          "mesh3d": [
           {
            "colorbar": {
             "outlinewidth": 0,
             "ticks": ""
            },
            "type": "mesh3d"
           }
          ],
          "parcoords": [
           {
            "line": {
             "colorbar": {
              "outlinewidth": 0,
              "ticks": ""
             }
            },
            "type": "parcoords"
           }
          ],
          "pie": [
           {
            "automargin": true,
            "type": "pie"
           }
          ],
          "scatter": [
           {
            "fillpattern": {
             "fillmode": "overlay",
             "size": 10,
             "solidity": 0.2
            },
            "type": "scatter"
           }
          ],
          "scatter3d": [
           {
            "line": {
             "colorbar": {
              "outlinewidth": 0,
              "ticks": ""
             }
            },
            "marker": {
             "colorbar": {
              "outlinewidth": 0,
              "ticks": ""
             }
            },
            "type": "scatter3d"
           }
          ],
          "scattercarpet": [
           {
            "marker": {
             "colorbar": {
              "outlinewidth": 0,
              "ticks": ""
             }
            },
            "type": "scattercarpet"
           }
          ],
          "scattergeo": [
           {
            "marker": {
             "colorbar": {
              "outlinewidth": 0,
              "ticks": ""
             }
            },
            "type": "scattergeo"
           }
          ],
          "scattergl": [
           {
            "marker": {
             "colorbar": {
              "outlinewidth": 0,
              "ticks": ""
             }
            },
            "type": "scattergl"
           }
          ],
          "scattermapbox": [
           {
            "marker": {
             "colorbar": {
              "outlinewidth": 0,
              "ticks": ""
             }
            },
            "type": "scattermapbox"
           }
          ],
          "scatterpolar": [
           {
            "marker": {
             "colorbar": {
              "outlinewidth": 0,
              "ticks": ""
             }
            },
            "type": "scatterpolar"
           }
          ],
          "scatterpolargl": [
           {
            "marker": {
             "colorbar": {
              "outlinewidth": 0,
              "ticks": ""
             }
            },
            "type": "scatterpolargl"
           }
          ],
          "scatterternary": [
           {
            "marker": {
             "colorbar": {
              "outlinewidth": 0,
              "ticks": ""
             }
            },
            "type": "scatterternary"
           }
          ],
          "surface": [
           {
            "colorbar": {
             "outlinewidth": 0,
             "ticks": ""
            },
            "colorscale": [
             [
              0,
              "#0d0887"
             ],
             [
              0.1111111111111111,
              "#46039f"
             ],
             [
              0.2222222222222222,
              "#7201a8"
             ],
             [
              0.3333333333333333,
              "#9c179e"
             ],
             [
              0.4444444444444444,
              "#bd3786"
             ],
             [
              0.5555555555555556,
              "#d8576b"
             ],
             [
              0.6666666666666666,
              "#ed7953"
             ],
             [
              0.7777777777777778,
              "#fb9f3a"
             ],
             [
              0.8888888888888888,
              "#fdca26"
             ],
             [
              1,
              "#f0f921"
             ]
            ],
            "type": "surface"
           }
          ],
          "table": [
           {
            "cells": {
             "fill": {
              "color": "#EBF0F8"
             },
             "line": {
              "color": "white"
             }
            },
            "header": {
             "fill": {
              "color": "#C8D4E3"
             },
             "line": {
              "color": "white"
             }
            },
            "type": "table"
           }
          ]
         },
         "layout": {
          "annotationdefaults": {
           "arrowcolor": "#2a3f5f",
           "arrowhead": 0,
           "arrowwidth": 1
          },
          "autotypenumbers": "strict",
          "coloraxis": {
           "colorbar": {
            "outlinewidth": 0,
            "ticks": ""
           }
          },
          "colorscale": {
           "diverging": [
            [
             0,
             "#8e0152"
            ],
            [
             0.1,
             "#c51b7d"
            ],
            [
             0.2,
             "#de77ae"
            ],
            [
             0.3,
             "#f1b6da"
            ],
            [
             0.4,
             "#fde0ef"
            ],
            [
             0.5,
             "#f7f7f7"
            ],
            [
             0.6,
             "#e6f5d0"
            ],
            [
             0.7,
             "#b8e186"
            ],
            [
             0.8,
             "#7fbc41"
            ],
            [
             0.9,
             "#4d9221"
            ],
            [
             1,
             "#276419"
            ]
           ],
           "sequential": [
            [
             0,
             "#0d0887"
            ],
            [
             0.1111111111111111,
             "#46039f"
            ],
            [
             0.2222222222222222,
             "#7201a8"
            ],
            [
             0.3333333333333333,
             "#9c179e"
            ],
            [
             0.4444444444444444,
             "#bd3786"
            ],
            [
             0.5555555555555556,
             "#d8576b"
            ],
            [
             0.6666666666666666,
             "#ed7953"
            ],
            [
             0.7777777777777778,
             "#fb9f3a"
            ],
            [
             0.8888888888888888,
             "#fdca26"
            ],
            [
             1,
             "#f0f921"
            ]
           ],
           "sequentialminus": [
            [
             0,
             "#0d0887"
            ],
            [
             0.1111111111111111,
             "#46039f"
            ],
            [
             0.2222222222222222,
             "#7201a8"
            ],
            [
             0.3333333333333333,
             "#9c179e"
            ],
            [
             0.4444444444444444,
             "#bd3786"
            ],
            [
             0.5555555555555556,
             "#d8576b"
            ],
            [
             0.6666666666666666,
             "#ed7953"
            ],
            [
             0.7777777777777778,
             "#fb9f3a"
            ],
            [
             0.8888888888888888,
             "#fdca26"
            ],
            [
             1,
             "#f0f921"
            ]
           ]
          },
          "colorway": [
           "#636efa",
           "#EF553B",
           "#00cc96",
           "#ab63fa",
           "#FFA15A",
           "#19d3f3",
           "#FF6692",
           "#B6E880",
           "#FF97FF",
           "#FECB52"
          ],
          "font": {
           "color": "#2a3f5f"
          },
          "geo": {
           "bgcolor": "white",
           "lakecolor": "white",
           "landcolor": "#E5ECF6",
           "showlakes": true,
           "showland": true,
           "subunitcolor": "white"
          },
          "hoverlabel": {
           "align": "left"
          },
          "hovermode": "closest",
          "mapbox": {
           "style": "light"
          },
          "paper_bgcolor": "white",
          "plot_bgcolor": "#E5ECF6",
          "polar": {
           "angularaxis": {
            "gridcolor": "white",
            "linecolor": "white",
            "ticks": ""
           },
           "bgcolor": "#E5ECF6",
           "radialaxis": {
            "gridcolor": "white",
            "linecolor": "white",
            "ticks": ""
           }
          },
          "scene": {
           "xaxis": {
            "backgroundcolor": "#E5ECF6",
            "gridcolor": "white",
            "gridwidth": 2,
            "linecolor": "white",
            "showbackground": true,
            "ticks": "",
            "zerolinecolor": "white"
           },
           "yaxis": {
            "backgroundcolor": "#E5ECF6",
            "gridcolor": "white",
            "gridwidth": 2,
            "linecolor": "white",
            "showbackground": true,
            "ticks": "",
            "zerolinecolor": "white"
           },
           "zaxis": {
            "backgroundcolor": "#E5ECF6",
            "gridcolor": "white",
            "gridwidth": 2,
            "linecolor": "white",
            "showbackground": true,
            "ticks": "",
            "zerolinecolor": "white"
           }
          },
          "shapedefaults": {
           "line": {
            "color": "#2a3f5f"
           }
          },
          "ternary": {
           "aaxis": {
            "gridcolor": "white",
            "linecolor": "white",
            "ticks": ""
           },
           "baxis": {
            "gridcolor": "white",
            "linecolor": "white",
            "ticks": ""
           },
           "bgcolor": "#E5ECF6",
           "caxis": {
            "gridcolor": "white",
            "linecolor": "white",
            "ticks": ""
           }
          },
          "title": {
           "x": 0.05
          },
          "xaxis": {
           "automargin": true,
           "gridcolor": "white",
           "linecolor": "white",
           "ticks": "",
           "title": {
            "standoff": 15
           },
           "zerolinecolor": "white",
           "zerolinewidth": 2
          },
          "yaxis": {
           "automargin": true,
           "gridcolor": "white",
           "linecolor": "white",
           "ticks": "",
           "title": {
            "standoff": 15
           },
           "zerolinecolor": "white",
           "zerolinewidth": 2
          }
         }
        },
        "title": {
         "text": "Distribución del Tempo de las Canciones"
        },
        "xaxis": {
         "anchor": "y",
         "domain": [
          0,
          1
         ],
         "title": {
          "text": "Tempo (BPM)"
         }
        },
        "yaxis": {
         "anchor": "x",
         "domain": [
          0,
          1
         ],
         "title": {
          "text": "count"
         }
        }
       }
      }
     },
     "metadata": {},
     "output_type": "display_data"
    }
   ],
   "source": [
    "# 5. Distribución del Tempo de las Canciones\n",
    "fig9 = px.histogram(df, x=\"tempo\", nbins=40, title=\"Distribución del Tempo de las Canciones\",\n",
    "                    labels={\"tempo\": \"Tempo (BPM)\"})\n",
    "fig9.show()"
   ]
  },
  {
   "cell_type": "code",
   "execution_count": 47,
   "metadata": {},
   "outputs": [
    {
     "data": {
      "application/vnd.plotly.v1+json": {
       "config": {
        "plotlyServerURL": "https://plot.ly"
       },
       "data": [
        {
         "alignmentgroup": "True",
         "hovertemplate": "Explícito=%{x}<br>Popularidad=%{y}<extra></extra>",
         "legendgroup": "",
         "marker": {
          "color": "#636efa"
         },
         "name": "",
         "notched": false,
         "offsetgroup": "",
         "orientation": "v",
         "showlegend": false,
         "type": "box",
         "x": [
          true,
          false,
          false,
          true,
          true,
          true,
          true,
          true,
          true,
          true,
          false,
          false,
          false,
          false,
          false,
          false,
          false,
          false,
          false,
          false,
          true,
          false,
          false,
          false,
          false,
          false,
          false,
          true,
          true,
          true,
          true,
          false,
          true,
          true,
          false,
          false,
          true,
          true,
          false,
          false,
          false,
          false,
          false,
          false,
          false,
          true,
          false,
          false,
          false,
          false,
          false,
          false,
          false,
          false,
          false,
          false,
          false,
          false,
          false,
          false,
          false,
          false,
          false,
          true,
          true,
          true,
          true,
          false,
          true,
          false,
          false,
          false,
          false,
          false,
          false,
          false,
          false,
          true,
          false,
          false,
          false,
          false,
          false,
          false,
          true,
          false,
          false,
          false,
          false,
          false,
          false,
          false,
          false,
          false,
          false,
          false,
          false,
          false,
          false,
          false,
          false,
          false,
          false,
          false,
          true,
          false,
          false,
          false,
          false,
          false,
          false,
          false,
          false,
          false,
          false,
          false,
          false,
          false,
          false,
          false,
          false,
          false,
          false,
          false,
          false,
          false,
          false,
          false,
          false,
          false,
          false,
          false,
          false,
          false,
          false,
          true,
          true,
          false,
          false,
          false,
          false,
          false,
          false,
          false,
          true,
          false,
          false,
          false,
          false,
          false,
          false,
          false,
          false,
          false,
          false,
          false,
          false,
          false,
          false,
          false,
          false,
          false,
          false,
          false,
          false,
          false,
          false,
          false,
          false,
          false,
          false,
          false,
          false,
          false,
          false,
          false,
          false,
          false,
          false,
          false,
          false,
          false,
          false,
          false,
          false,
          false,
          false,
          false,
          false,
          false,
          false,
          false,
          false,
          false,
          false,
          false,
          false,
          true,
          true,
          false,
          false,
          false,
          false,
          true,
          false,
          false,
          false,
          false,
          true,
          false,
          true,
          true,
          true,
          false,
          true,
          true,
          true,
          false,
          false,
          false,
          true,
          true,
          false,
          false,
          true,
          false,
          false,
          false,
          false,
          false,
          false,
          false,
          false,
          false,
          false,
          false,
          false,
          false,
          false,
          false,
          false,
          false,
          false,
          false
         ],
         "x0": " ",
         "xaxis": "x",
         "y": [
          59,
          42,
          20,
          3,
          81,
          49,
          30,
          54,
          64,
          26,
          29,
          29,
          29,
          39,
          49,
          63,
          52,
          79,
          53,
          53,
          72,
          66,
          29,
          17,
          48,
          76,
          21,
          56,
          83,
          83,
          83,
          17,
          86,
          86,
          40,
          40,
          74,
          58,
          75,
          57,
          75,
          33,
          65,
          22,
          65,
          61,
          86,
          61,
          0,
          33,
          49,
          31,
          31,
          65,
          65,
          43,
          43,
          55,
          38,
          38,
          38,
          33,
          76,
          51,
          12,
          0,
          0,
          45,
          60,
          32,
          45,
          45,
          49,
          37,
          37,
          51,
          51,
          54,
          0,
          88,
          88,
          34,
          73,
          73,
          74,
          70,
          70,
          59,
          61,
          83,
          83,
          83,
          66,
          14,
          14,
          87,
          44,
          72,
          24,
          81,
          81,
          81,
          54,
          48,
          42,
          80,
          64,
          76,
          76,
          80,
          81,
          69,
          81,
          81,
          0,
          63,
          62,
          50,
          49,
          70,
          64,
          64,
          61,
          68,
          74,
          62,
          71,
          55,
          55,
          63,
          42,
          44,
          19,
          32,
          39,
          46,
          50,
          30,
          48,
          48,
          54,
          52,
          52,
          40,
          53,
          46,
          47,
          42,
          51,
          49,
          54,
          53,
          59,
          40,
          45,
          52,
          39,
          45,
          41,
          45,
          55,
          58,
          58,
          60,
          60,
          53,
          48,
          58,
          45,
          55,
          61,
          47,
          49,
          60,
          58,
          51,
          62,
          57,
          65,
          58,
          62,
          40,
          40,
          67,
          67,
          54,
          46,
          39,
          39,
          39,
          77,
          66,
          83,
          76,
          59,
          75,
          76,
          37,
          33,
          61,
          38,
          38,
          76,
          86,
          58,
          79,
          65,
          48,
          16,
          52,
          72,
          1,
          1,
          0,
          0,
          0,
          0,
          0,
          0,
          0,
          0,
          0,
          0,
          0,
          0,
          75,
          74,
          74,
          31,
          31,
          20,
          54,
          48,
          46,
          48,
          62,
          56,
          51,
          52,
          45,
          58,
          63,
          48,
          80
         ],
         "y0": " ",
         "yaxis": "y"
        }
       ],
       "layout": {
        "boxmode": "group",
        "legend": {
         "tracegroupgap": 0
        },
        "template": {
         "data": {
          "bar": [
           {
            "error_x": {
             "color": "#2a3f5f"
            },
            "error_y": {
             "color": "#2a3f5f"
            },
            "marker": {
             "line": {
              "color": "#E5ECF6",
              "width": 0.5
             },
             "pattern": {
              "fillmode": "overlay",
              "size": 10,
              "solidity": 0.2
             }
            },
            "type": "bar"
           }
          ],
          "barpolar": [
           {
            "marker": {
             "line": {
              "color": "#E5ECF6",
              "width": 0.5
             },
             "pattern": {
              "fillmode": "overlay",
              "size": 10,
              "solidity": 0.2
             }
            },
            "type": "barpolar"
           }
          ],
          "carpet": [
           {
            "aaxis": {
             "endlinecolor": "#2a3f5f",
             "gridcolor": "white",
             "linecolor": "white",
             "minorgridcolor": "white",
             "startlinecolor": "#2a3f5f"
            },
            "baxis": {
             "endlinecolor": "#2a3f5f",
             "gridcolor": "white",
             "linecolor": "white",
             "minorgridcolor": "white",
             "startlinecolor": "#2a3f5f"
            },
            "type": "carpet"
           }
          ],
          "choropleth": [
           {
            "colorbar": {
             "outlinewidth": 0,
             "ticks": ""
            },
            "type": "choropleth"
           }
          ],
          "contour": [
           {
            "colorbar": {
             "outlinewidth": 0,
             "ticks": ""
            },
            "colorscale": [
             [
              0,
              "#0d0887"
             ],
             [
              0.1111111111111111,
              "#46039f"
             ],
             [
              0.2222222222222222,
              "#7201a8"
             ],
             [
              0.3333333333333333,
              "#9c179e"
             ],
             [
              0.4444444444444444,
              "#bd3786"
             ],
             [
              0.5555555555555556,
              "#d8576b"
             ],
             [
              0.6666666666666666,
              "#ed7953"
             ],
             [
              0.7777777777777778,
              "#fb9f3a"
             ],
             [
              0.8888888888888888,
              "#fdca26"
             ],
             [
              1,
              "#f0f921"
             ]
            ],
            "type": "contour"
           }
          ],
          "contourcarpet": [
           {
            "colorbar": {
             "outlinewidth": 0,
             "ticks": ""
            },
            "type": "contourcarpet"
           }
          ],
          "heatmap": [
           {
            "colorbar": {
             "outlinewidth": 0,
             "ticks": ""
            },
            "colorscale": [
             [
              0,
              "#0d0887"
             ],
             [
              0.1111111111111111,
              "#46039f"
             ],
             [
              0.2222222222222222,
              "#7201a8"
             ],
             [
              0.3333333333333333,
              "#9c179e"
             ],
             [
              0.4444444444444444,
              "#bd3786"
             ],
             [
              0.5555555555555556,
              "#d8576b"
             ],
             [
              0.6666666666666666,
              "#ed7953"
             ],
             [
              0.7777777777777778,
              "#fb9f3a"
             ],
             [
              0.8888888888888888,
              "#fdca26"
             ],
             [
              1,
              "#f0f921"
             ]
            ],
            "type": "heatmap"
           }
          ],
          "heatmapgl": [
           {
            "colorbar": {
             "outlinewidth": 0,
             "ticks": ""
            },
            "colorscale": [
             [
              0,
              "#0d0887"
             ],
             [
              0.1111111111111111,
              "#46039f"
             ],
             [
              0.2222222222222222,
              "#7201a8"
             ],
             [
              0.3333333333333333,
              "#9c179e"
             ],
             [
              0.4444444444444444,
              "#bd3786"
             ],
             [
              0.5555555555555556,
              "#d8576b"
             ],
             [
              0.6666666666666666,
              "#ed7953"
             ],
             [
              0.7777777777777778,
              "#fb9f3a"
             ],
             [
              0.8888888888888888,
              "#fdca26"
             ],
             [
              1,
              "#f0f921"
             ]
            ],
            "type": "heatmapgl"
           }
          ],
          "histogram": [
           {
            "marker": {
             "pattern": {
              "fillmode": "overlay",
              "size": 10,
              "solidity": 0.2
             }
            },
            "type": "histogram"
           }
          ],
          "histogram2d": [
           {
            "colorbar": {
             "outlinewidth": 0,
             "ticks": ""
            },
            "colorscale": [
             [
              0,
              "#0d0887"
             ],
             [
              0.1111111111111111,
              "#46039f"
             ],
             [
              0.2222222222222222,
              "#7201a8"
             ],
             [
              0.3333333333333333,
              "#9c179e"
             ],
             [
              0.4444444444444444,
              "#bd3786"
             ],
             [
              0.5555555555555556,
              "#d8576b"
             ],
             [
              0.6666666666666666,
              "#ed7953"
             ],
             [
              0.7777777777777778,
              "#fb9f3a"
             ],
             [
              0.8888888888888888,
              "#fdca26"
             ],
             [
              1,
              "#f0f921"
             ]
            ],
            "type": "histogram2d"
           }
          ],
          "histogram2dcontour": [
           {
            "colorbar": {
             "outlinewidth": 0,
             "ticks": ""
            },
            "colorscale": [
             [
              0,
              "#0d0887"
             ],
             [
              0.1111111111111111,
              "#46039f"
             ],
             [
              0.2222222222222222,
              "#7201a8"
             ],
             [
              0.3333333333333333,
              "#9c179e"
             ],
             [
              0.4444444444444444,
              "#bd3786"
             ],
             [
              0.5555555555555556,
              "#d8576b"
             ],
             [
              0.6666666666666666,
              "#ed7953"
             ],
             [
              0.7777777777777778,
              "#fb9f3a"
             ],
             [
              0.8888888888888888,
              "#fdca26"
             ],
             [
              1,
              "#f0f921"
             ]
            ],
            "type": "histogram2dcontour"
           }
          ],
          "mesh3d": [
           {
            "colorbar": {
             "outlinewidth": 0,
             "ticks": ""
            },
            "type": "mesh3d"
           }
          ],
          "parcoords": [
           {
            "line": {
             "colorbar": {
              "outlinewidth": 0,
              "ticks": ""
             }
            },
            "type": "parcoords"
           }
          ],
          "pie": [
           {
            "automargin": true,
            "type": "pie"
           }
          ],
          "scatter": [
           {
            "fillpattern": {
             "fillmode": "overlay",
             "size": 10,
             "solidity": 0.2
            },
            "type": "scatter"
           }
          ],
          "scatter3d": [
           {
            "line": {
             "colorbar": {
              "outlinewidth": 0,
              "ticks": ""
             }
            },
            "marker": {
             "colorbar": {
              "outlinewidth": 0,
              "ticks": ""
             }
            },
            "type": "scatter3d"
           }
          ],
          "scattercarpet": [
           {
            "marker": {
             "colorbar": {
              "outlinewidth": 0,
              "ticks": ""
             }
            },
            "type": "scattercarpet"
           }
          ],
          "scattergeo": [
           {
            "marker": {
             "colorbar": {
              "outlinewidth": 0,
              "ticks": ""
             }
            },
            "type": "scattergeo"
           }
          ],
          "scattergl": [
           {
            "marker": {
             "colorbar": {
              "outlinewidth": 0,
              "ticks": ""
             }
            },
            "type": "scattergl"
           }
          ],
          "scattermapbox": [
           {
            "marker": {
             "colorbar": {
              "outlinewidth": 0,
              "ticks": ""
             }
            },
            "type": "scattermapbox"
           }
          ],
          "scatterpolar": [
           {
            "marker": {
             "colorbar": {
              "outlinewidth": 0,
              "ticks": ""
             }
            },
            "type": "scatterpolar"
           }
          ],
          "scatterpolargl": [
           {
            "marker": {
             "colorbar": {
              "outlinewidth": 0,
              "ticks": ""
             }
            },
            "type": "scatterpolargl"
           }
          ],
          "scatterternary": [
           {
            "marker": {
             "colorbar": {
              "outlinewidth": 0,
              "ticks": ""
             }
            },
            "type": "scatterternary"
           }
          ],
          "surface": [
           {
            "colorbar": {
             "outlinewidth": 0,
             "ticks": ""
            },
            "colorscale": [
             [
              0,
              "#0d0887"
             ],
             [
              0.1111111111111111,
              "#46039f"
             ],
             [
              0.2222222222222222,
              "#7201a8"
             ],
             [
              0.3333333333333333,
              "#9c179e"
             ],
             [
              0.4444444444444444,
              "#bd3786"
             ],
             [
              0.5555555555555556,
              "#d8576b"
             ],
             [
              0.6666666666666666,
              "#ed7953"
             ],
             [
              0.7777777777777778,
              "#fb9f3a"
             ],
             [
              0.8888888888888888,
              "#fdca26"
             ],
             [
              1,
              "#f0f921"
             ]
            ],
            "type": "surface"
           }
          ],
          "table": [
           {
            "cells": {
             "fill": {
              "color": "#EBF0F8"
             },
             "line": {
              "color": "white"
             }
            },
            "header": {
             "fill": {
              "color": "#C8D4E3"
             },
             "line": {
              "color": "white"
             }
            },
            "type": "table"
           }
          ]
         },
         "layout": {
          "annotationdefaults": {
           "arrowcolor": "#2a3f5f",
           "arrowhead": 0,
           "arrowwidth": 1
          },
          "autotypenumbers": "strict",
          "coloraxis": {
           "colorbar": {
            "outlinewidth": 0,
            "ticks": ""
           }
          },
          "colorscale": {
           "diverging": [
            [
             0,
             "#8e0152"
            ],
            [
             0.1,
             "#c51b7d"
            ],
            [
             0.2,
             "#de77ae"
            ],
            [
             0.3,
             "#f1b6da"
            ],
            [
             0.4,
             "#fde0ef"
            ],
            [
             0.5,
             "#f7f7f7"
            ],
            [
             0.6,
             "#e6f5d0"
            ],
            [
             0.7,
             "#b8e186"
            ],
            [
             0.8,
             "#7fbc41"
            ],
            [
             0.9,
             "#4d9221"
            ],
            [
             1,
             "#276419"
            ]
           ],
           "sequential": [
            [
             0,
             "#0d0887"
            ],
            [
             0.1111111111111111,
             "#46039f"
            ],
            [
             0.2222222222222222,
             "#7201a8"
            ],
            [
             0.3333333333333333,
             "#9c179e"
            ],
            [
             0.4444444444444444,
             "#bd3786"
            ],
            [
             0.5555555555555556,
             "#d8576b"
            ],
            [
             0.6666666666666666,
             "#ed7953"
            ],
            [
             0.7777777777777778,
             "#fb9f3a"
            ],
            [
             0.8888888888888888,
             "#fdca26"
            ],
            [
             1,
             "#f0f921"
            ]
           ],
           "sequentialminus": [
            [
             0,
             "#0d0887"
            ],
            [
             0.1111111111111111,
             "#46039f"
            ],
            [
             0.2222222222222222,
             "#7201a8"
            ],
            [
             0.3333333333333333,
             "#9c179e"
            ],
            [
             0.4444444444444444,
             "#bd3786"
            ],
            [
             0.5555555555555556,
             "#d8576b"
            ],
            [
             0.6666666666666666,
             "#ed7953"
            ],
            [
             0.7777777777777778,
             "#fb9f3a"
            ],
            [
             0.8888888888888888,
             "#fdca26"
            ],
            [
             1,
             "#f0f921"
            ]
           ]
          },
          "colorway": [
           "#636efa",
           "#EF553B",
           "#00cc96",
           "#ab63fa",
           "#FFA15A",
           "#19d3f3",
           "#FF6692",
           "#B6E880",
           "#FF97FF",
           "#FECB52"
          ],
          "font": {
           "color": "#2a3f5f"
          },
          "geo": {
           "bgcolor": "white",
           "lakecolor": "white",
           "landcolor": "#E5ECF6",
           "showlakes": true,
           "showland": true,
           "subunitcolor": "white"
          },
          "hoverlabel": {
           "align": "left"
          },
          "hovermode": "closest",
          "mapbox": {
           "style": "light"
          },
          "paper_bgcolor": "white",
          "plot_bgcolor": "#E5ECF6",
          "polar": {
           "angularaxis": {
            "gridcolor": "white",
            "linecolor": "white",
            "ticks": ""
           },
           "bgcolor": "#E5ECF6",
           "radialaxis": {
            "gridcolor": "white",
            "linecolor": "white",
            "ticks": ""
           }
          },
          "scene": {
           "xaxis": {
            "backgroundcolor": "#E5ECF6",
            "gridcolor": "white",
            "gridwidth": 2,
            "linecolor": "white",
            "showbackground": true,
            "ticks": "",
            "zerolinecolor": "white"
           },
           "yaxis": {
            "backgroundcolor": "#E5ECF6",
            "gridcolor": "white",
            "gridwidth": 2,
            "linecolor": "white",
            "showbackground": true,
            "ticks": "",
            "zerolinecolor": "white"
           },
           "zaxis": {
            "backgroundcolor": "#E5ECF6",
            "gridcolor": "white",
            "gridwidth": 2,
            "linecolor": "white",
            "showbackground": true,
            "ticks": "",
            "zerolinecolor": "white"
           }
          },
          "shapedefaults": {
           "line": {
            "color": "#2a3f5f"
           }
          },
          "ternary": {
           "aaxis": {
            "gridcolor": "white",
            "linecolor": "white",
            "ticks": ""
           },
           "baxis": {
            "gridcolor": "white",
            "linecolor": "white",
            "ticks": ""
           },
           "bgcolor": "#E5ECF6",
           "caxis": {
            "gridcolor": "white",
            "linecolor": "white",
            "ticks": ""
           }
          },
          "title": {
           "x": 0.05
          },
          "xaxis": {
           "automargin": true,
           "gridcolor": "white",
           "linecolor": "white",
           "ticks": "",
           "title": {
            "standoff": 15
           },
           "zerolinecolor": "white",
           "zerolinewidth": 2
          },
          "yaxis": {
           "automargin": true,
           "gridcolor": "white",
           "linecolor": "white",
           "ticks": "",
           "title": {
            "standoff": 15
           },
           "zerolinecolor": "white",
           "zerolinewidth": 2
          }
         }
        },
        "title": {
         "text": "Popularidad de las Canciones Explicitas vs No Explicitas"
        },
        "xaxis": {
         "anchor": "y",
         "domain": [
          0,
          1
         ],
         "title": {
          "text": "Explícito"
         }
        },
        "yaxis": {
         "anchor": "x",
         "domain": [
          0,
          1
         ],
         "title": {
          "text": "Popularidad"
         }
        }
       }
      }
     },
     "metadata": {},
     "output_type": "display_data"
    }
   ],
   "source": [
    "# 10. Relación entre la Popularidad y el Nivel de Explicit\n",
    "fig10 = px.box(df, x=\"explicit\", y=\"popularity\", title=\"Popularidad de las Canciones Explicitas vs No Explicitas\",\n",
    "               labels={\"explicit\": \"Explícito\", \"popularity\": \"Popularidad\"})\n",
    "fig10.show()"
   ]
  },
  {
   "cell_type": "code",
   "execution_count": null,
   "metadata": {},
   "outputs": [],
   "source": []
  }
 ],
 "metadata": {
  "kernelspec": {
   "display_name": "contenido",
   "language": "python",
   "name": "python3"
  },
  "language_info": {
   "codemirror_mode": {
    "name": "ipython",
    "version": 3
   },
   "file_extension": ".py",
   "mimetype": "text/x-python",
   "name": "python",
   "nbconvert_exporter": "python",
   "pygments_lexer": "ipython3",
   "version": "3.11.8"
  }
 },
 "nbformat": 4,
 "nbformat_minor": 2
}
