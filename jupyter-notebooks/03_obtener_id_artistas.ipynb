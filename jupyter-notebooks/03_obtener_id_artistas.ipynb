{
 "cells": [
  {
   "cell_type": "code",
   "execution_count": 2,
   "metadata": {},
   "outputs": [],
   "source": [
    "# Tratamiento de datos\n",
    "# -----------------------------------------------------------------------\n",
    "import pandas as pd\n",
    "import numpy as np\n",
    "# Requests\n",
    "import requests\n",
    "from time import sleep\n",
    "from tqdm import tqdm\n",
    "\n",
    "# Para convertir de string a diccionario\n",
    "import ast\n",
    "\n",
    "import sys\n",
    "sys.path.append(\"../\")\n",
    "import src.soporte_spotify as api"
   ]
  },
  {
   "cell_type": "code",
   "execution_count": 3,
   "metadata": {},
   "outputs": [
    {
     "data": {
      "text/plain": [
       "{'country': 'ES',\n",
       " 'display_name': 'MrApple',\n",
       " 'email': 'ruiperezgonzalo4@gmail.com',\n",
       " 'explicit_content': {'filter_enabled': False, 'filter_locked': False},\n",
       " 'external_urls': {'spotify': 'https://open.spotify.com/user/gonzaloruiperez'},\n",
       " 'followers': {'href': None, 'total': 0},\n",
       " 'href': 'https://api.spotify.com/v1/users/gonzaloruiperez',\n",
       " 'id': 'gonzaloruiperez',\n",
       " 'images': [],\n",
       " 'product': 'premium',\n",
       " 'type': 'user',\n",
       " 'uri': 'spotify:user:gonzaloruiperez'}"
      ]
     },
     "execution_count": 3,
     "metadata": {},
     "output_type": "execute_result"
    }
   ],
   "source": [
    "sp = api.load_credentials()\n",
    "sp.current_user()"
   ]
  },
  {
   "cell_type": "markdown",
   "metadata": {},
   "source": [
    "# Verificar si nos han bloqueado\n",
    "- Tenemos un limite diario y si no spotify devuelve 429, algo que con spotipy no se ve, asi que usamos requests"
   ]
  },
  {
   "cell_type": "code",
   "execution_count": 4,
   "metadata": {},
   "outputs": [
    {
     "name": "stdout",
     "output_type": "stream",
     "text": [
      "Token obtenido con éxito\n",
      "429, Detalles: Too many requests\n",
      "{'cache-control': 'private, max-age=0', 'retry-after': '77300', 'access-control-allow-origin': '*', 'access-control-allow-headers': 'Accept, App-Platform, Authorization, Content-Type, Origin, Retry-After, Spotify-App-Version, X-Cloud-Trace-Context, client-token, content-access-token', 'access-control-allow-methods': 'GET, POST, OPTIONS, PUT, DELETE, PATCH', 'access-control-allow-credentials': 'true', 'access-control-max-age': '604800', 'content-encoding': 'gzip', 'strict-transport-security': 'max-age=31536000', 'x-content-type-options': 'nosniff', 'date': 'Fri, 03 Jan 2025 15:34:07 GMT', 'server': 'envoy', 'Via': 'HTTP/2 edgeproxy, 1.1 google', 'Alt-Svc': 'h3=\":443\"; ma=2592000,h3-29=\":443\"; ma=2592000', 'Transfer-Encoding': 'chunked'}\n"
     ]
    }
   ],
   "source": [
    "token = api.request_token()\n",
    "playlist_id = \"1IMxg7e2dwhawHaoBfWWIH\" \n",
    "url = f\"https://api.spotify.com/v1/playlists/{playlist_id}\"\n",
    "\n",
    "headers = {\n",
    "    \"Authorization\": f\"Bearer {token}\"\n",
    "}\n",
    "\n",
    "response = requests.get(url, headers=headers)\n",
    "\n",
    "\n",
    "print(f\"{response.status_code}, Detalles: {response.text}\")\n",
    "print(response.headers)\n"
   ]
  },
  {
   "cell_type": "code",
   "execution_count": 5,
   "metadata": {},
   "outputs": [],
   "source": [
    "zara = pd.read_csv('../datos/01 Spotify/01_followers_zara.csv',index_col=0)\n",
    "primark = pd.read_csv(\"../datos/01 Spotify/02_followers_primark.csv\",index_col=0)\n",
    "nike = pd.read_csv(\"../datos/01 Spotify/03_followers_nike.csv\",index_col=0)\n",
    "adidas = pd.read_csv(\"../datos/01 Spotify/04_followers_adidas.csv\",index_col=0)\n",
    "hm = pd.read_csv(\"../datos/01 Spotify/05_followers_hm.csv\",index_col=0)\n",
    "pullbear = pd.read_csv(\"../datos/01 Spotify/06_followers_pull_and_bear.csv\",index_col=0)\n",
    "bershka = pd.read_csv(\"../datos/01 Spotify/07_followers_bershka.csv\",index_col=0)\n",
    "stradivarius = pd.read_csv(\"../datos/01 Spotify/08_followers_stradivarius.csv\",index_col=0)\n",
    "mango = pd.read_csv(\"../datos/01 Spotify/09_followers_mango.csv\",index_col=0)\n",
    "desigual = pd.read_csv(\"../datos/01 Spotify/10_followers_desigual.csv\",index_col=0)"
   ]
  },
  {
   "cell_type": "markdown",
   "metadata": {},
   "source": [
    "# Zara\n",
    "### Obtener ID canciones\n",
    "- Por cada id de playlist, sacaremos los tracks con su respectivo id de canción\n"
   ]
  },
  {
   "cell_type": "code",
   "execution_count": 6,
   "metadata": {},
   "outputs": [
    {
     "data": {
      "text/html": [
       "<div>\n",
       "<style scoped>\n",
       "    .dataframe tbody tr th:only-of-type {\n",
       "        vertical-align: middle;\n",
       "    }\n",
       "\n",
       "    .dataframe tbody tr th {\n",
       "        vertical-align: top;\n",
       "    }\n",
       "\n",
       "    .dataframe thead th {\n",
       "        text-align: right;\n",
       "    }\n",
       "</style>\n",
       "<table border=\"1\" class=\"dataframe\">\n",
       "  <thead>\n",
       "    <tr style=\"text-align: right;\">\n",
       "      <th></th>\n",
       "      <th>brand</th>\n",
       "      <th>username</th>\n",
       "      <th>user_id</th>\n",
       "      <th>playlists</th>\n",
       "    </tr>\n",
       "  </thead>\n",
       "  <tbody>\n",
       "    <tr>\n",
       "      <th>501</th>\n",
       "      <td>Zara</td>\n",
       "      <td>maizpuro</td>\n",
       "      <td>maizpuro</td>\n",
       "      <td>{'Mara SOUL ': '4jxi1tC1b0Q0JEVll9CyvH', 'Luna...</td>\n",
       "    </tr>\n",
       "  </tbody>\n",
       "</table>\n",
       "</div>"
      ],
      "text/plain": [
       "    brand  username   user_id  \\\n",
       "501  Zara  maizpuro  maizpuro   \n",
       "\n",
       "                                             playlists  \n",
       "501  {'Mara SOUL ': '4jxi1tC1b0Q0JEVll9CyvH', 'Luna...  "
      ]
     },
     "execution_count": 6,
     "metadata": {},
     "output_type": "execute_result"
    }
   ],
   "source": [
    "zara.sample()"
   ]
  },
  {
   "cell_type": "markdown",
   "metadata": {},
   "source": [
    "### Convertir columna playlists a diccionario\n",
    "- utilizamos la librería ast para obtener el diccionario"
   ]
  },
  {
   "cell_type": "code",
   "execution_count": 7,
   "metadata": {},
   "outputs": [
    {
     "data": {
      "text/plain": [
       "dict"
      ]
     },
     "execution_count": 7,
     "metadata": {},
     "output_type": "execute_result"
    }
   ],
   "source": [
    "zara[\"playlists\"] = zara[\"playlists\"].apply(ast.literal_eval)\n",
    "type(zara[\"playlists\"][0])"
   ]
  },
  {
   "cell_type": "markdown",
   "metadata": {},
   "source": [
    "### Sacamos a una lista todos los ids de playlists"
   ]
  },
  {
   "cell_type": "code",
   "execution_count": 8,
   "metadata": {},
   "outputs": [],
   "source": [
    "playlist_ids = []\n",
    "for ids in zara[\"playlists\"]:\n",
    "    playlist_ids.append(list(ids.values()))\n",
    "\n",
    "zara[\"playlist_ids\"] = playlist_ids"
   ]
  },
  {
   "cell_type": "markdown",
   "metadata": {},
   "source": [
    "### Obtener los artistas de cada usuario"
   ]
  },
  {
   "cell_type": "code",
   "execution_count": 1,
   "metadata": {},
   "outputs": [
    {
     "name": "stderr",
     "output_type": "stream",
     "text": [
      "Obteniendo artistas:   0%|          | 0/873 [00:00<?, ?it/s]"
     ]
    },
    {
     "name": "stdout",
     "output_type": "stream",
     "text": [
      "Error 429: Rate limit alcanzado. Esperando 77300 segundos...\n"
     ]
    }
   ],
   "source": [
    "lista_artistas = []\n",
    "for id_playlist in tqdm(zara[\"playlist_ids\"], desc=\"Obteniendo artistas\"):\n",
    "   artistas =  api.obtener_artistas(sp, id_playlist)\n",
    "   lista_artistas.append(artistas)\n",
    "\n",
    "zara[\"artistas\"] = lista_artistas\n",
    "zara.to_csv(\"../datos/01 Spotify/00_GuardadoZara.csv\")"
   ]
  }
 ],
 "metadata": {
  "kernelspec": {
   "display_name": "Proyecto-Final",
   "language": "python",
   "name": "python3"
  },
  "language_info": {
   "codemirror_mode": {
    "name": "ipython",
    "version": 3
   },
   "file_extension": ".py",
   "mimetype": "text/x-python",
   "name": "python",
   "nbconvert_exporter": "python",
   "pygments_lexer": "ipython3",
   "version": "3.11.9"
  }
 },
 "nbformat": 4,
 "nbformat_minor": 2
}
