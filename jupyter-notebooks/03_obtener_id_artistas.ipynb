{
 "cells": [
  {
   "cell_type": "code",
   "execution_count": 1,
   "metadata": {},
   "outputs": [],
   "source": [
    "# Tratamiento de datos\n",
    "# -----------------------------------------------------------------------\n",
    "import pandas as pd\n",
    "import numpy as np\n",
    "# Requests\n",
    "import requests\n",
    "from time import sleep\n",
    "from tqdm import tqdm\n",
    "\n",
    "# Para convertir de string a diccionario\n",
    "import ast\n",
    "import os\n",
    "import json\n",
    "\n",
    "import sys\n",
    "sys.path.append(\"../\")\n",
    "import src.soporte_spotify as api"
   ]
  },
  {
   "cell_type": "code",
   "execution_count": 2,
   "metadata": {},
   "outputs": [
    {
     "data": {
      "text/plain": [
       "{'country': 'ES',\n",
       " 'display_name': 'MrApple',\n",
       " 'email': 'ruiperezgonzalo4@gmail.com',\n",
       " 'explicit_content': {'filter_enabled': False, 'filter_locked': False},\n",
       " 'external_urls': {'spotify': 'https://open.spotify.com/user/gonzaloruiperez'},\n",
       " 'followers': {'href': None, 'total': 0},\n",
       " 'href': 'https://api.spotify.com/v1/users/gonzaloruiperez',\n",
       " 'id': 'gonzaloruiperez',\n",
       " 'images': [],\n",
       " 'product': 'premium',\n",
       " 'type': 'user',\n",
       " 'uri': 'spotify:user:gonzaloruiperez'}"
      ]
     },
     "execution_count": 2,
     "metadata": {},
     "output_type": "execute_result"
    }
   ],
   "source": [
    "sp = api.load_credentials()\n",
    "sp.current_user()"
   ]
  },
  {
   "cell_type": "markdown",
   "metadata": {},
   "source": [
    "# Verificar si nos han bloqueado\n",
    "- Tenemos un limite diario y si no spotify devuelve 429, algo que con spotipy no se ve, asi que usamos requests"
   ]
  },
  {
   "cell_type": "code",
   "execution_count": 3,
   "metadata": {},
   "outputs": [
    {
     "name": "stdout",
     "output_type": "stream",
     "text": [
      "Token obtenido con éxito\n",
      "429, Detalles: Too many requests\n",
      "{'cache-control': 'private, max-age=0', 'retry-after': '80730', 'access-control-allow-origin': '*', 'access-control-allow-headers': 'Accept, App-Platform, Authorization, Content-Type, Origin, Retry-After, Spotify-App-Version, X-Cloud-Trace-Context, client-token, content-access-token', 'access-control-allow-methods': 'GET, POST, OPTIONS, PUT, DELETE, PATCH', 'access-control-allow-credentials': 'true', 'access-control-max-age': '604800', 'content-encoding': 'gzip', 'strict-transport-security': 'max-age=31536000', 'x-content-type-options': 'nosniff', 'date': 'Fri, 10 Jan 2025 11:49:13 GMT', 'server': 'envoy', 'Via': 'HTTP/2 edgeproxy, 1.1 google', 'Alt-Svc': 'h3=\":443\"; ma=2592000,h3-29=\":443\"; ma=2592000', 'Transfer-Encoding': 'chunked'}\n"
     ]
    }
   ],
   "source": [
    "token = api.request_token()\n",
    "playlist_id = \"1IMxg7e2dwhawHaoBfWWIH\" \n",
    "url = f\"https://api.spotify.com/v1/playlists/{playlist_id}\"\n",
    "\n",
    "headers = {\n",
    "    \"Authorization\": f\"Bearer {token}\"\n",
    "}\n",
    "\n",
    "response = requests.get(url, headers=headers)\n",
    "\n",
    "\n",
    "print(f\"{response.status_code}, Detalles: {response.text}\")\n",
    "print(response.headers)\n"
   ]
  },
  {
   "cell_type": "code",
   "execution_count": 4,
   "metadata": {},
   "outputs": [],
   "source": [
    "zara = pd.read_csv('../datos/01 Spotify/01_followers_zara.csv',index_col=0)\n",
    "primark = pd.read_csv(\"../datos/01 Spotify/02_followers_primark.csv\",index_col=0)\n",
    "nike = pd.read_csv(\"../datos/01 Spotify/03_followers_nike.csv\",index_col=0)\n",
    "adidas = pd.read_csv(\"../datos/01 Spotify/04_followers_adidas.csv\",index_col=0)\n",
    "hm = pd.read_csv(\"../datos/01 Spotify/05_followers_hm.csv\",index_col=0)\n",
    "pullbear = pd.read_csv(\"../datos/01 Spotify/06_followers_pull_and_bear.csv\",index_col=0)\n",
    "bershka = pd.read_csv(\"../datos/01 Spotify/07_followers_bershka.csv\",index_col=0)\n",
    "stradivarius = pd.read_csv(\"../datos/01 Spotify/08_followers_stradivarius.csv\",index_col=0)\n",
    "mango = pd.read_csv(\"../datos/01 Spotify/09_followers_mango.csv\",index_col=0)\n",
    "desigual = pd.read_csv(\"../datos/01 Spotify/10_followers_desigual.csv\",index_col=0)"
   ]
  },
  {
   "cell_type": "markdown",
   "metadata": {},
   "source": [
    "# Zara\n",
    "### Obtener ID canciones\n",
    "- Por cada id de playlist, sacaremos los tracks con su respectivo id de canción\n"
   ]
  },
  {
   "cell_type": "code",
   "execution_count": 5,
   "metadata": {},
   "outputs": [
    {
     "data": {
      "text/html": [
       "<div>\n",
       "<style scoped>\n",
       "    .dataframe tbody tr th:only-of-type {\n",
       "        vertical-align: middle;\n",
       "    }\n",
       "\n",
       "    .dataframe tbody tr th {\n",
       "        vertical-align: top;\n",
       "    }\n",
       "\n",
       "    .dataframe thead th {\n",
       "        text-align: right;\n",
       "    }\n",
       "</style>\n",
       "<table border=\"1\" class=\"dataframe\">\n",
       "  <thead>\n",
       "    <tr style=\"text-align: right;\">\n",
       "      <th></th>\n",
       "      <th>brand</th>\n",
       "      <th>username</th>\n",
       "      <th>user_id</th>\n",
       "      <th>playlists</th>\n",
       "    </tr>\n",
       "  </thead>\n",
       "  <tbody>\n",
       "    <tr>\n",
       "      <th>130</th>\n",
       "      <td>Zara</td>\n",
       "      <td>batel</td>\n",
       "      <td>312qhxx6buvxvyrg2sc4p6zh7ug4</td>\n",
       "      <td>{\"ג'יפסי\": '0WeOFVkewufVfnpv4LoEft', 'אברהם טל...</td>\n",
       "    </tr>\n",
       "  </tbody>\n",
       "</table>\n",
       "</div>"
      ],
      "text/plain": [
       "    brand username                       user_id  \\\n",
       "130  Zara    batel  312qhxx6buvxvyrg2sc4p6zh7ug4   \n",
       "\n",
       "                                             playlists  \n",
       "130  {\"ג'יפסי\": '0WeOFVkewufVfnpv4LoEft', 'אברהם טל...  "
      ]
     },
     "execution_count": 5,
     "metadata": {},
     "output_type": "execute_result"
    }
   ],
   "source": [
    "zara.sample()"
   ]
  },
  {
   "cell_type": "markdown",
   "metadata": {},
   "source": [
    "### Convertir columna playlists a diccionario\n",
    "- utilizamos la librería ast para obtener el diccionario"
   ]
  },
  {
   "cell_type": "code",
   "execution_count": 6,
   "metadata": {},
   "outputs": [
    {
     "data": {
      "text/plain": [
       "dict"
      ]
     },
     "execution_count": 6,
     "metadata": {},
     "output_type": "execute_result"
    }
   ],
   "source": [
    "zara[\"playlists\"] = zara[\"playlists\"].apply(ast.literal_eval)\n",
    "type(zara[\"playlists\"][0])"
   ]
  },
  {
   "cell_type": "markdown",
   "metadata": {},
   "source": [
    "### Sacamos a una lista todos los ids de playlists y otra con máximo 10\n",
    "- Limitamos a 10 playlists para que usuarios con más no desbalanceen al resto!"
   ]
  },
  {
   "cell_type": "code",
   "execution_count": 7,
   "metadata": {},
   "outputs": [],
   "source": [
    "playlist_ids = []\n",
    "for ids in zara[\"playlists\"]:\n",
    "    playlist_ids.append(list(ids.values()))\n",
    "\n",
    "zara[\"playlist_ids\"] = playlist_ids\n",
    "zara[\"playlist_ids_limited\"] = zara[\"playlist_ids\"].apply(lambda x: x[:10] if isinstance(x,list) else x)"
   ]
  },
  {
   "cell_type": "code",
   "execution_count": 8,
   "metadata": {},
   "outputs": [
    {
     "data": {
      "text/html": [
       "<div>\n",
       "<style scoped>\n",
       "    .dataframe tbody tr th:only-of-type {\n",
       "        vertical-align: middle;\n",
       "    }\n",
       "\n",
       "    .dataframe tbody tr th {\n",
       "        vertical-align: top;\n",
       "    }\n",
       "\n",
       "    .dataframe thead th {\n",
       "        text-align: right;\n",
       "    }\n",
       "</style>\n",
       "<table border=\"1\" class=\"dataframe\">\n",
       "  <thead>\n",
       "    <tr style=\"text-align: right;\">\n",
       "      <th></th>\n",
       "      <th>brand</th>\n",
       "      <th>username</th>\n",
       "      <th>user_id</th>\n",
       "      <th>playlists</th>\n",
       "      <th>playlist_ids</th>\n",
       "      <th>playlist_ids_limited</th>\n",
       "      <th>artistas</th>\n",
       "    </tr>\n",
       "  </thead>\n",
       "  <tbody>\n",
       "    <tr>\n",
       "      <th>0</th>\n",
       "      <td>Zara</td>\n",
       "      <td>!                                             ...</td>\n",
       "      <td>31vbe3hoptpfuzrvfqxalxi5tepu</td>\n",
       "      <td>{'Best Songs Ever': '1IMxg7e2dwhawHaoBfWWIH'}</td>\n",
       "      <td>['1IMxg7e2dwhawHaoBfWWIH']</td>\n",
       "      <td>['1IMxg7e2dwhawHaoBfWWIH']</td>\n",
       "      <td>{\"3qm84nBOXUEQ2vnTfUTTFC\": \"Guns N' Roses\", \"6...</td>\n",
       "    </tr>\n",
       "    <tr>\n",
       "      <th>1</th>\n",
       "      <td>Zara</td>\n",
       "      <td>$Slab</td>\n",
       "      <td>31gevswudwftwxxcbfszt5o2u5ta</td>\n",
       "      <td>{'fylabstoken.netlify.app': '4YWWifgQd3JLFEFxC...</td>\n",
       "      <td>['4YWWifgQd3JLFEFxCW6x3I']</td>\n",
       "      <td>['4YWWifgQd3JLFEFxCW6x3I']</td>\n",
       "      <td>{}</td>\n",
       "    </tr>\n",
       "    <tr>\n",
       "      <th>2</th>\n",
       "      <td>Zara</td>\n",
       "      <td>-M's- Café &amp; Bar</td>\n",
       "      <td>lpet16qfnsa9zn97li98q8c50</td>\n",
       "      <td>{'Bach, J.S.: Organ Works': '0odoqvp5UQ4g80ODi...</td>\n",
       "      <td>['0odoqvp5UQ4g80ODiidFKm', '3NhcYwnSqua8GvXr6C...</td>\n",
       "      <td>['0odoqvp5UQ4g80ODiidFKm', '3NhcYwnSqua8GvXr6C...</td>\n",
       "      <td>{\"5aIqB5nVVvmFsvSdExz408\": \"Johann Sebastian B...</td>\n",
       "    </tr>\n",
       "    <tr>\n",
       "      <th>3</th>\n",
       "      <td>Zara</td>\n",
       "      <td>. BR STORE</td>\n",
       "      <td>22d35vgyrjr3ywbwpnolontry</td>\n",
       "      <td>{'Meu Verão Brasil ✌🏼': '00hEjNe3OBE1C9ooiR2UI...</td>\n",
       "      <td>['00hEjNe3OBE1C9ooiR2UIV', '5alYUj2HYhBmLvreNG...</td>\n",
       "      <td>['00hEjNe3OBE1C9ooiR2UIV', '5alYUj2HYhBmLvreNG...</td>\n",
       "      <td>{\"37W5idqXpnDRxbgtXBW5nN\": \"Clara Mendes\", \"3y...</td>\n",
       "    </tr>\n",
       "    <tr>\n",
       "      <th>4</th>\n",
       "      <td>Zara</td>\n",
       "      <td>11120410121</td>\n",
       "      <td>11120410121</td>\n",
       "      <td>{'Fiestas Horcajo': '1s8Uk2EJji7AxBR4qWGH1g', ...</td>\n",
       "      <td>['1s8Uk2EJji7AxBR4qWGH1g', '2ddUcOB22VC5yR2Pp7...</td>\n",
       "      <td>['1s8Uk2EJji7AxBR4qWGH1g', '2ddUcOB22VC5yR2Pp7...</td>\n",
       "      <td>{\"2fiiGUBgPsIKDCE0bTthnl\": \"Ska-P\", \"6J6yx1t3n...</td>\n",
       "    </tr>\n",
       "    <tr>\n",
       "      <th>...</th>\n",
       "      <td>...</td>\n",
       "      <td>...</td>\n",
       "      <td>...</td>\n",
       "      <td>...</td>\n",
       "      <td>...</td>\n",
       "      <td>...</td>\n",
       "      <td>...</td>\n",
       "    </tr>\n",
       "    <tr>\n",
       "      <th>262</th>\n",
       "      <td>Zara</td>\n",
       "      <td>Enes</td>\n",
       "      <td>o85kfbeziici4kkbtktmqnfsx</td>\n",
       "      <td>{'Meine Playlist Nr. 1': '6B1YFXrUMZl9lSxFco5q...</td>\n",
       "      <td>['6B1YFXrUMZl9lSxFco5qtA']</td>\n",
       "      <td>['6B1YFXrUMZl9lSxFco5qtA']</td>\n",
       "      <td>{}</td>\n",
       "    </tr>\n",
       "    <tr>\n",
       "      <th>263</th>\n",
       "      <td>Zara</td>\n",
       "      <td>ENGEL</td>\n",
       "      <td>424syj2h6jcy66qge77bzwuoe</td>\n",
       "      <td>{'OT 23/24 BEST BY ENGEL': '2wOY3pE2nXoGSY7vHV...</td>\n",
       "      <td>['2wOY3pE2nXoGSY7vHVoQyJ', '4fg0AsJmaehnyLEGQQ...</td>\n",
       "      <td>['2wOY3pE2nXoGSY7vHVoQyJ', '4fg0AsJmaehnyLEGQQ...</td>\n",
       "      <td>{\"0HgzUc7N5MqMv2ZwQFv9H0\": \"MAYO\", \"0aA3vWOE6E...</td>\n",
       "    </tr>\n",
       "    <tr>\n",
       "      <th>264</th>\n",
       "      <td>Zara</td>\n",
       "      <td>Enio Roboredo Sanches</td>\n",
       "      <td>enio.sanches</td>\n",
       "      <td>{'MTF': '4AzyUSLwYlrI0odWStunwR', 'To download...</td>\n",
       "      <td>['4AzyUSLwYlrI0odWStunwR', '2wpcqOYdIFCrQ3WYOx...</td>\n",
       "      <td>['4AzyUSLwYlrI0odWStunwR', '2wpcqOYdIFCrQ3WYOx...</td>\n",
       "      <td>{\"3r5vRW2MU6y539p7NRcTCt\": \"88DS\", \"17TFSnqADE...</td>\n",
       "    </tr>\n",
       "    <tr>\n",
       "      <th>265</th>\n",
       "      <td>Zara</td>\n",
       "      <td>eru</td>\n",
       "      <td>1285025015</td>\n",
       "      <td>{'benadryl submarine vibes': '6vWa2hywiHokpsG2...</td>\n",
       "      <td>['6vWa2hywiHokpsG24jKqBm', '2bbghy0KLSlsWIglbP...</td>\n",
       "      <td>['6vWa2hywiHokpsG24jKqBm', '2bbghy0KLSlsWIglbP...</td>\n",
       "      <td>{\"2gPLG9mGaU67woC5L0luYA\": \"Lil Ugly Mane\", \"7...</td>\n",
       "    </tr>\n",
       "    <tr>\n",
       "      <th>266</th>\n",
       "      <td>Zara</td>\n",
       "      <td>ESCUELA TENAC</td>\n",
       "      <td>vicentea.tomas</td>\n",
       "      <td>{'LOS 60': '2pGRH6SXP0v4nChyse7SjA', '☕️ DESAY...</td>\n",
       "      <td>['2pGRH6SXP0v4nChyse7SjA', '4bJH0TdfUjrezTvSRS...</td>\n",
       "      <td>['2pGRH6SXP0v4nChyse7SjA', '4bJH0TdfUjrezTvSRS...</td>\n",
       "      <td>{\"4etuCZVdP8yiNPn4xf0ie5\": \"Julio Iglesias\", \"...</td>\n",
       "    </tr>\n",
       "  </tbody>\n",
       "</table>\n",
       "<p>267 rows × 7 columns</p>\n",
       "</div>"
      ],
      "text/plain": [
       "    brand                                           username  \\\n",
       "0    Zara  !                                             ...   \n",
       "1    Zara                                              $Slab   \n",
       "2    Zara                                   -M's- Café & Bar   \n",
       "3    Zara                                         . BR STORE   \n",
       "4    Zara                                        11120410121   \n",
       "..    ...                                                ...   \n",
       "262  Zara                                               Enes   \n",
       "263  Zara                                              ENGEL   \n",
       "264  Zara                              Enio Roboredo Sanches   \n",
       "265  Zara                                                eru   \n",
       "266  Zara                                      ESCUELA TENAC   \n",
       "\n",
       "                          user_id  \\\n",
       "0    31vbe3hoptpfuzrvfqxalxi5tepu   \n",
       "1    31gevswudwftwxxcbfszt5o2u5ta   \n",
       "2       lpet16qfnsa9zn97li98q8c50   \n",
       "3       22d35vgyrjr3ywbwpnolontry   \n",
       "4                     11120410121   \n",
       "..                            ...   \n",
       "262     o85kfbeziici4kkbtktmqnfsx   \n",
       "263     424syj2h6jcy66qge77bzwuoe   \n",
       "264                  enio.sanches   \n",
       "265                    1285025015   \n",
       "266                vicentea.tomas   \n",
       "\n",
       "                                             playlists  \\\n",
       "0        {'Best Songs Ever': '1IMxg7e2dwhawHaoBfWWIH'}   \n",
       "1    {'fylabstoken.netlify.app': '4YWWifgQd3JLFEFxC...   \n",
       "2    {'Bach, J.S.: Organ Works': '0odoqvp5UQ4g80ODi...   \n",
       "3    {'Meu Verão Brasil ✌🏼': '00hEjNe3OBE1C9ooiR2UI...   \n",
       "4    {'Fiestas Horcajo': '1s8Uk2EJji7AxBR4qWGH1g', ...   \n",
       "..                                                 ...   \n",
       "262  {'Meine Playlist Nr. 1': '6B1YFXrUMZl9lSxFco5q...   \n",
       "263  {'OT 23/24 BEST BY ENGEL': '2wOY3pE2nXoGSY7vHV...   \n",
       "264  {'MTF': '4AzyUSLwYlrI0odWStunwR', 'To download...   \n",
       "265  {'benadryl submarine vibes': '6vWa2hywiHokpsG2...   \n",
       "266  {'LOS 60': '2pGRH6SXP0v4nChyse7SjA', '☕️ DESAY...   \n",
       "\n",
       "                                          playlist_ids  \\\n",
       "0                           ['1IMxg7e2dwhawHaoBfWWIH']   \n",
       "1                           ['4YWWifgQd3JLFEFxCW6x3I']   \n",
       "2    ['0odoqvp5UQ4g80ODiidFKm', '3NhcYwnSqua8GvXr6C...   \n",
       "3    ['00hEjNe3OBE1C9ooiR2UIV', '5alYUj2HYhBmLvreNG...   \n",
       "4    ['1s8Uk2EJji7AxBR4qWGH1g', '2ddUcOB22VC5yR2Pp7...   \n",
       "..                                                 ...   \n",
       "262                         ['6B1YFXrUMZl9lSxFco5qtA']   \n",
       "263  ['2wOY3pE2nXoGSY7vHVoQyJ', '4fg0AsJmaehnyLEGQQ...   \n",
       "264  ['4AzyUSLwYlrI0odWStunwR', '2wpcqOYdIFCrQ3WYOx...   \n",
       "265  ['6vWa2hywiHokpsG24jKqBm', '2bbghy0KLSlsWIglbP...   \n",
       "266  ['2pGRH6SXP0v4nChyse7SjA', '4bJH0TdfUjrezTvSRS...   \n",
       "\n",
       "                                  playlist_ids_limited  \\\n",
       "0                           ['1IMxg7e2dwhawHaoBfWWIH']   \n",
       "1                           ['4YWWifgQd3JLFEFxCW6x3I']   \n",
       "2    ['0odoqvp5UQ4g80ODiidFKm', '3NhcYwnSqua8GvXr6C...   \n",
       "3    ['00hEjNe3OBE1C9ooiR2UIV', '5alYUj2HYhBmLvreNG...   \n",
       "4    ['1s8Uk2EJji7AxBR4qWGH1g', '2ddUcOB22VC5yR2Pp7...   \n",
       "..                                                 ...   \n",
       "262                         ['6B1YFXrUMZl9lSxFco5qtA']   \n",
       "263  ['2wOY3pE2nXoGSY7vHVoQyJ', '4fg0AsJmaehnyLEGQQ...   \n",
       "264  ['4AzyUSLwYlrI0odWStunwR', '2wpcqOYdIFCrQ3WYOx...   \n",
       "265  ['6vWa2hywiHokpsG24jKqBm', '2bbghy0KLSlsWIglbP...   \n",
       "266  ['2pGRH6SXP0v4nChyse7SjA', '4bJH0TdfUjrezTvSRS...   \n",
       "\n",
       "                                              artistas  \n",
       "0    {\"3qm84nBOXUEQ2vnTfUTTFC\": \"Guns N' Roses\", \"6...  \n",
       "1                                                   {}  \n",
       "2    {\"5aIqB5nVVvmFsvSdExz408\": \"Johann Sebastian B...  \n",
       "3    {\"37W5idqXpnDRxbgtXBW5nN\": \"Clara Mendes\", \"3y...  \n",
       "4    {\"2fiiGUBgPsIKDCE0bTthnl\": \"Ska-P\", \"6J6yx1t3n...  \n",
       "..                                                 ...  \n",
       "262                                                 {}  \n",
       "263  {\"0HgzUc7N5MqMv2ZwQFv9H0\": \"MAYO\", \"0aA3vWOE6E...  \n",
       "264  {\"3r5vRW2MU6y539p7NRcTCt\": \"88DS\", \"17TFSnqADE...  \n",
       "265  {\"2gPLG9mGaU67woC5L0luYA\": \"Lil Ugly Mane\", \"7...  \n",
       "266  {\"4etuCZVdP8yiNPn4xf0ie5\": \"Julio Iglesias\", \"...  \n",
       "\n",
       "[267 rows x 7 columns]"
      ]
     },
     "execution_count": 8,
     "metadata": {},
     "output_type": "execute_result"
    }
   ],
   "source": [
    "output_file = \"../datos/01 Spotify/00_GuardadoZara.csv\"\n",
    "\n",
    "# Cargar progreso si existe un archivo previo\n",
    "if os.path.exists(output_file):\n",
    "    zara = pd.read_csv(output_file)\n",
    "\n",
    "zara[zara[\"artistas\"].notna()]"
   ]
  },
  {
   "cell_type": "markdown",
   "metadata": {},
   "source": [
    "### Obtener los artistas de cada usuario"
   ]
  },
  {
   "cell_type": "code",
   "execution_count": null,
   "metadata": {},
   "outputs": [
    {
     "name": "stderr",
     "output_type": "stream",
     "text": [
      "Obteniendo artistas:   0%|          | 0/873 [00:00<?, ?it/s]"
     ]
    },
    {
     "name": "stdout",
     "output_type": "stream",
     "text": [
      "267\n",
      "Rate limit alcanzado. Esperando 80730 segundos...\n"
     ]
    }
   ],
   "source": [
    "lista_artistas = []\n",
    "output_file = \"../datos/01 Spotify/00_GuardadoZara.csv\"\n",
    "\n",
    "# Cargar progreso si existe un archivo previo\n",
    "if os.path.exists(output_file):\n",
    "    zara = pd.read_csv(output_file)\n",
    "    lista_artistas = zara[\"artistas\"].tolist()\n",
    "else:\n",
    "    zara[\"artistas\"] = None\n",
    "\n",
    "# Procesar playlists limitadas\n",
    "for idx, id_playlist in enumerate(tqdm(zara[\"playlist_ids_limited\"], desc=\"Obteniendo artistas\")):\n",
    "    if pd.notna(zara.loc[idx, \"artistas\"]):\n",
    "        continue\n",
    "    print(idx)\n",
    "    # Solicitar token y obtener artistas\n",
    "    token = api.request_token(silent=True)\n",
    "    artistas = api.obtener_artistas(token, id_playlist)\n",
    "    lista_artistas.append(artistas)\n",
    "\n",
    "    # Guardar los artistas como JSON\n",
    "    zara.loc[idx, \"artistas\"] = json.dumps(artistas)\n",
    "\n",
    "    # Guardar el progreso después de cada iteración\n",
    "    zara.to_csv(output_file, index=False)"
   ]
  }
 ],
 "metadata": {
  "kernelspec": {
   "display_name": "Proyecto-Final-Hackio",
   "language": "python",
   "name": "python3"
  },
  "language_info": {
   "codemirror_mode": {
    "name": "ipython",
    "version": 3
   },
   "file_extension": ".py",
   "mimetype": "text/x-python",
   "name": "python",
   "nbconvert_exporter": "python",
   "pygments_lexer": "ipython3",
   "version": "3.11.9"
  }
 },
 "nbformat": 4,
 "nbformat_minor": 2
}
