{
 "cells": [
  {
   "cell_type": "code",
   "execution_count": 1,
   "metadata": {},
   "outputs": [],
   "source": [
    "# Importamos las librerías que necesitamos\n",
    "\n",
    "# Librerías de extracción de datos\n",
    "# -----------------------------------------------------------------------\n",
    "from bs4 import BeautifulSoup\n",
    "import requests\n",
    "from tqdm import tqdm\n",
    "# Tratamiento de datos\n",
    "# -----------------------------------------------------------------------\n",
    "import pandas as pd\n",
    "import numpy as np\n",
    "import datetime\n",
    "\n",
    "# Importamos las librerías que necesitamos\n",
    "\n",
    "# Librerías de extracción de datos\n",
    "# -----------------------------------------------------------------------\n",
    "\n",
    "# Importaciones:\n",
    "# Beautifulsoup\n",
    "from bs4 import BeautifulSoup\n",
    "\n",
    "# Requests\n",
    "import requests\n",
    "\n",
    "import pandas as pd\n",
    "import numpy as np\n",
    "\n",
    "from time import sleep\n",
    "import random\n",
    "# Importar librerías para automatización de navegadores web con Selenium\n",
    "# -----------------------------------------------------------------------\n",
    "from selenium import webdriver  # Selenium es una herramienta para automatizar la interacción con navegadores web.\n",
    "from webdriver_manager.chrome import ChromeDriverManager  # ChromeDriverManager gestiona la instalación del controlador de Chrome.\n",
    "from selenium.webdriver.common.keys import Keys  # Keys es útil para simular eventos de teclado en Selenium.\n",
    "from selenium.webdriver.support.ui import Select  # Select se utiliza para interactuar con elementos <select> en páginas web.\n",
    "from selenium.webdriver.support.ui import WebDriverWait\n",
    "from selenium.webdriver.support import expected_conditions as EC\n",
    "from selenium.common.exceptions import NoSuchElementException # Excepciones comunes de selenium que nos podemos encontrar \n",
    "\n",
    "import sys\n",
    "sys.path.append(\"../\")\n",
    "import src.soporte_spotify as api"
   ]
  },
  {
   "cell_type": "code",
   "execution_count": 2,
   "metadata": {},
   "outputs": [
    {
     "data": {
      "text/plain": [
       "{'country': 'ES',\n",
       " 'display_name': 'MrApple',\n",
       " 'email': 'ruiperezgonzalo4@gmail.com',\n",
       " 'explicit_content': {'filter_enabled': False, 'filter_locked': False},\n",
       " 'external_urls': {'spotify': 'https://open.spotify.com/user/gonzaloruiperez'},\n",
       " 'followers': {'href': None, 'total': 0},\n",
       " 'href': 'https://api.spotify.com/v1/users/gonzaloruiperez',\n",
       " 'id': 'gonzaloruiperez',\n",
       " 'images': [],\n",
       " 'product': 'premium',\n",
       " 'type': 'user',\n",
       " 'uri': 'spotify:user:gonzaloruiperez'}"
      ]
     },
     "execution_count": 2,
     "metadata": {},
     "output_type": "execute_result"
    }
   ],
   "source": [
    "sp = api.load_credentials()\n",
    "sp.current_user()"
   ]
  },
  {
   "cell_type": "markdown",
   "metadata": {},
   "source": [
    "# Obtener datos de marcas\n",
    "- Vamos a obtener los 1000 primeros usuarios de cada marca y extraeremos los géneros musicales que escuchan\n",
    "### Nota Importante\n",
    "- Spotify no me deja acceder a los ids de usuarios que siguen a un usuario, pero investigando, en el html, ponen el id de usuario en la parte de \"followers\"\n",
    "- No puedo ver por playlists los usuarios\n",
    "- Pero puedo ver por marca el perfil de música que se escucha\n",
    "- accediendo aqui con selenium o beautiful soup\n",
    "    - https://open.spotify.com/user/r6ivwuv0ebk346hhxo446pbfv/followers (perfil zara)\n",
    "    - No necesito iniciar sesión\n",
    "- En el HTML puedo extraer los ids de usuarios"
   ]
  },
  {
   "cell_type": "markdown",
   "metadata": {},
   "source": [
    "# Zara"
   ]
  },
  {
   "cell_type": "code",
   "execution_count": 3,
   "metadata": {},
   "outputs": [],
   "source": [
    "zara = api.obtener_html_followers(\"r6ivwuv0ebk346hhxo446pbfv\")"
   ]
  },
  {
   "cell_type": "code",
   "execution_count": 4,
   "metadata": {},
   "outputs": [
    {
     "name": "stderr",
     "output_type": "stream",
     "text": [
      " 57%|█████▋    | 574/1000 [00:55<00:25, 16.91it/s]HTTP Error for GET to https://api.spotify.com/v1/users/de with Params: {} returned 404 due to Resource not found\n",
      " 58%|█████▊    | 578/1000 [00:55<00:24, 16.94it/s]"
     ]
    },
    {
     "name": "stdout",
     "output_type": "stream",
     "text": [
      "No se ha podido obtener el usuario de\n"
     ]
    },
    {
     "name": "stderr",
     "output_type": "stream",
     "text": [
      " 86%|████████▌ | 858/1000 [01:28<01:23,  1.70it/s]"
     ]
    },
    {
     "name": "stdout",
     "output_type": "stream",
     "text": [
      "No se ha podido obtener el usuario 12124254270\n"
     ]
    },
    {
     "name": "stderr",
     "output_type": "stream",
     "text": [
      "100%|██████████| 1000/1000 [01:41<00:00,  9.83it/s]\n"
     ]
    }
   ],
   "source": [
    "df_zara = api.extraer_ids_usuario(sp,\"Zara\",zara)"
   ]
  },
  {
   "cell_type": "code",
   "execution_count": 6,
   "metadata": {},
   "outputs": [
    {
     "data": {
      "text/html": [
       "<div>\n",
       "<style scoped>\n",
       "    .dataframe tbody tr th:only-of-type {\n",
       "        vertical-align: middle;\n",
       "    }\n",
       "\n",
       "    .dataframe tbody tr th {\n",
       "        vertical-align: top;\n",
       "    }\n",
       "\n",
       "    .dataframe thead th {\n",
       "        text-align: right;\n",
       "    }\n",
       "</style>\n",
       "<table border=\"1\" class=\"dataframe\">\n",
       "  <thead>\n",
       "    <tr style=\"text-align: right;\">\n",
       "      <th></th>\n",
       "      <th>brand</th>\n",
       "      <th>username</th>\n",
       "      <th>user_id</th>\n",
       "    </tr>\n",
       "  </thead>\n",
       "  <tbody>\n",
       "    <tr>\n",
       "      <th>0</th>\n",
       "      <td>Zara</td>\n",
       "      <td>!                                             ...</td>\n",
       "      <td>31vbe3hoptpfuzrvfqxalxi5tepu</td>\n",
       "    </tr>\n",
       "    <tr>\n",
       "      <th>1</th>\n",
       "      <td>Zara</td>\n",
       "      <td>$Slab</td>\n",
       "      <td>31gevswudwftwxxcbfszt5o2u5ta</td>\n",
       "    </tr>\n",
       "    <tr>\n",
       "      <th>2</th>\n",
       "      <td>Zara</td>\n",
       "      <td>-M's- Café &amp; Bar</td>\n",
       "      <td>lpet16qfnsa9zn97li98q8c50</td>\n",
       "    </tr>\n",
       "    <tr>\n",
       "      <th>3</th>\n",
       "      <td>Zara</td>\n",
       "      <td>. BR STORE</td>\n",
       "      <td>22d35vgyrjr3ywbwpnolontry</td>\n",
       "    </tr>\n",
       "    <tr>\n",
       "      <th>4</th>\n",
       "      <td>Zara</td>\n",
       "      <td>.Sneha.</td>\n",
       "      <td>et1fo5kqg7ovda96k920cxrg1</td>\n",
       "    </tr>\n",
       "  </tbody>\n",
       "</table>\n",
       "</div>"
      ],
      "text/plain": [
       "  brand                                           username  \\\n",
       "0  Zara  !                                             ...   \n",
       "1  Zara                                              $Slab   \n",
       "2  Zara                                   -M's- Café & Bar   \n",
       "3  Zara                                         . BR STORE   \n",
       "4  Zara                                            .Sneha.   \n",
       "\n",
       "                        user_id  \n",
       "0  31vbe3hoptpfuzrvfqxalxi5tepu  \n",
       "1  31gevswudwftwxxcbfszt5o2u5ta  \n",
       "2     lpet16qfnsa9zn97li98q8c50  \n",
       "3     22d35vgyrjr3ywbwpnolontry  \n",
       "4     et1fo5kqg7ovda96k920cxrg1  "
      ]
     },
     "execution_count": 6,
     "metadata": {},
     "output_type": "execute_result"
    }
   ],
   "source": [
    "df_zara.to_csv(\"../datos/01 Spotify/01_followers_zara.csv\")\n",
    "df_zara.head()"
   ]
  },
  {
   "cell_type": "markdown",
   "metadata": {},
   "source": [
    "# Puma\n",
    "- https://open.spotify.com/user/9213i9iraxpm6ohp7wyc72ndp\n",
    "- user: 9213i9iraxpm6ohp7wyc72ndp"
   ]
  },
  {
   "cell_type": "markdown",
   "metadata": {},
   "source": [
    "# Nike\n",
    "- https://open.spotify.com/user/nikerunclub \n",
    "- user: nikerunclub "
   ]
  },
  {
   "cell_type": "markdown",
   "metadata": {},
   "source": [
    "# Adidas\n",
    "- https://open.spotify.com/user/430wexvtgeypb6zdn45ge9c76 \n",
    "- 430wexvtgeypb6zdn45ge9c76 "
   ]
  },
  {
   "cell_type": "code",
   "execution_count": null,
   "metadata": {},
   "outputs": [],
   "source": []
  }
 ],
 "metadata": {
  "kernelspec": {
   "display_name": "Proyecto-Final",
   "language": "python",
   "name": "python3"
  },
  "language_info": {
   "codemirror_mode": {
    "name": "ipython",
    "version": 3
   },
   "file_extension": ".py",
   "mimetype": "text/x-python",
   "name": "python",
   "nbconvert_exporter": "python",
   "pygments_lexer": "ipython3",
   "version": "3.11.9"
  }
 },
 "nbformat": 4,
 "nbformat_minor": 2
}
