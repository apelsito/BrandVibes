{
 "cells": [
  {
   "cell_type": "code",
   "execution_count": 2,
   "metadata": {},
   "outputs": [],
   "source": [
    "# Importamos las librerías que necesitamos\n",
    "\n",
    "# Librerías de extracción de datos\n",
    "# -----------------------------------------------------------------------\n",
    "from bs4 import BeautifulSoup\n",
    "import requests\n",
    "from tqdm import tqdm\n",
    "# Tratamiento de datos\n",
    "# -----------------------------------------------------------------------\n",
    "import pandas as pd\n",
    "import numpy as np\n",
    "import datetime\n",
    "\n",
    "# Importamos las librerías que necesitamos\n",
    "\n",
    "# Librerías de extracción de datos\n",
    "# -----------------------------------------------------------------------\n",
    "\n",
    "# Importaciones:\n",
    "# Beautifulsoup\n",
    "from bs4 import BeautifulSoup\n",
    "\n",
    "# Requests\n",
    "import requests\n",
    "\n",
    "import pandas as pd\n",
    "import numpy as np\n",
    "\n",
    "from time import sleep\n",
    "import random\n",
    "# Importar librerías para automatización de navegadores web con Selenium\n",
    "# -----------------------------------------------------------------------\n",
    "from selenium import webdriver  # Selenium es una herramienta para automatizar la interacción con navegadores web.\n",
    "from webdriver_manager.chrome import ChromeDriverManager  # ChromeDriverManager gestiona la instalación del controlador de Chrome.\n",
    "from selenium.webdriver.common.keys import Keys  # Keys es útil para simular eventos de teclado en Selenium.\n",
    "from selenium.webdriver.support.ui import Select  # Select se utiliza para interactuar con elementos <select> en páginas web.\n",
    "from selenium.webdriver.support.ui import WebDriverWait\n",
    "from selenium.webdriver.support import expected_conditions as EC\n",
    "from selenium.common.exceptions import NoSuchElementException # Excepciones comunes de selenium que nos podemos encontrar \n",
    "\n",
    "import sys\n",
    "sys.path.append(\"../\")\n",
    "import src.soporte_spotify as api"
   ]
  },
  {
   "cell_type": "code",
   "execution_count": 5,
   "metadata": {},
   "outputs": [
    {
     "data": {
      "text/plain": [
       "{'country': 'ES',\n",
       " 'display_name': 'MrApple',\n",
       " 'email': 'ruiperezgonzalo4@gmail.com',\n",
       " 'explicit_content': {'filter_enabled': False, 'filter_locked': False},\n",
       " 'external_urls': {'spotify': 'https://open.spotify.com/user/gonzaloruiperez'},\n",
       " 'followers': {'href': None, 'total': 0},\n",
       " 'href': 'https://api.spotify.com/v1/users/gonzaloruiperez',\n",
       " 'id': 'gonzaloruiperez',\n",
       " 'images': [],\n",
       " 'product': 'premium',\n",
       " 'type': 'user',\n",
       " 'uri': 'spotify:user:gonzaloruiperez'}"
      ]
     },
     "execution_count": 5,
     "metadata": {},
     "output_type": "execute_result"
    }
   ],
   "source": [
    "sp = api.load_credentials()\n",
    "sp.current_user()"
   ]
  },
  {
   "cell_type": "markdown",
   "metadata": {},
   "source": [
    "# Obtener datos de marcas\n",
    "- Vamos a obtener los 1000 primeros usuarios de cada marca y extraeremos los géneros musicales que escuchan\n",
    "    - Zara\n",
    "    - Primark\n",
    "    - Nike\n",
    "    - Adidas\n",
    "    - H&M\n",
    "    - Pull & Bear\n",
    "    - bershka\n",
    "    - Stradivarius\n",
    "    - Mango\n",
    "    - Desigual\n",
    "### Nota Importante\n",
    "- Spotify no me deja acceder a los ids de usuarios que siguen a un usuario, pero investigando, en el html, ponen el id de usuario en la parte de \"followers\"\n",
    "- No puedo ver por playlists los usuarios\n",
    "- Pero puedo ver por marca el perfil de música que se escucha\n",
    "- accediendo aqui con selenium o beautiful soup\n",
    "    - https://open.spotify.com/user/r6ivwuv0ebk346hhxo446pbfv/followers (perfil zara)\n",
    "    - No necesito iniciar sesión\n",
    "- En el HTML puedo extraer los ids de usuarios"
   ]
  },
  {
   "cell_type": "markdown",
   "metadata": {},
   "source": [
    "# Zara\n",
    "- https://open.spotify.com/user/r6ivwuv0ebk346hhxo446pbfv/followers\n",
    "- r6ivwuv0ebk346hhxo446pbfv"
   ]
  },
  {
   "cell_type": "code",
   "execution_count": 5,
   "metadata": {},
   "outputs": [
    {
     "name": "stdout",
     "output_type": "stream",
     "text": [
      "Iniciando Extracción de Ids Usuario\n"
     ]
    },
    {
     "name": "stderr",
     "output_type": "stream",
     "text": [
      " 57%|█████▋    | 572/1000 [00:55<00:30, 13.92it/s]HTTP Error for GET to https://api.spotify.com/v1/users/de with Params: {} returned 404 due to Resource not found\n",
      " 57%|█████▋    | 574/1000 [00:55<00:30, 13.90it/s]"
     ]
    },
    {
     "name": "stdout",
     "output_type": "stream",
     "text": [
      "No se ha podido obtener el usuario de\n"
     ]
    },
    {
     "name": "stderr",
     "output_type": "stream",
     "text": [
      "100%|██████████| 1000/1000 [01:39<00:00, 10.10it/s]\n"
     ]
    },
    {
     "data": {
      "text/html": [
       "<div>\n",
       "<style scoped>\n",
       "    .dataframe tbody tr th:only-of-type {\n",
       "        vertical-align: middle;\n",
       "    }\n",
       "\n",
       "    .dataframe tbody tr th {\n",
       "        vertical-align: top;\n",
       "    }\n",
       "\n",
       "    .dataframe thead th {\n",
       "        text-align: right;\n",
       "    }\n",
       "</style>\n",
       "<table border=\"1\" class=\"dataframe\">\n",
       "  <thead>\n",
       "    <tr style=\"text-align: right;\">\n",
       "      <th></th>\n",
       "      <th>brand</th>\n",
       "      <th>username</th>\n",
       "      <th>user_id</th>\n",
       "    </tr>\n",
       "  </thead>\n",
       "  <tbody>\n",
       "    <tr>\n",
       "      <th>0</th>\n",
       "      <td>Zara</td>\n",
       "      <td>!                                             ...</td>\n",
       "      <td>31vbe3hoptpfuzrvfqxalxi5tepu</td>\n",
       "    </tr>\n",
       "    <tr>\n",
       "      <th>1</th>\n",
       "      <td>Zara</td>\n",
       "      <td>$Slab</td>\n",
       "      <td>31gevswudwftwxxcbfszt5o2u5ta</td>\n",
       "    </tr>\n",
       "    <tr>\n",
       "      <th>2</th>\n",
       "      <td>Zara</td>\n",
       "      <td>-M's- Café &amp; Bar</td>\n",
       "      <td>lpet16qfnsa9zn97li98q8c50</td>\n",
       "    </tr>\n",
       "    <tr>\n",
       "      <th>3</th>\n",
       "      <td>Zara</td>\n",
       "      <td>. BR STORE</td>\n",
       "      <td>22d35vgyrjr3ywbwpnolontry</td>\n",
       "    </tr>\n",
       "    <tr>\n",
       "      <th>4</th>\n",
       "      <td>Zara</td>\n",
       "      <td>.Sneha.</td>\n",
       "      <td>et1fo5kqg7ovda96k920cxrg1</td>\n",
       "    </tr>\n",
       "  </tbody>\n",
       "</table>\n",
       "</div>"
      ],
      "text/plain": [
       "  brand                                           username  \\\n",
       "0  Zara  !                                             ...   \n",
       "1  Zara                                              $Slab   \n",
       "2  Zara                                   -M's- Café & Bar   \n",
       "3  Zara                                         . BR STORE   \n",
       "4  Zara                                            .Sneha.   \n",
       "\n",
       "                        user_id  \n",
       "0  31vbe3hoptpfuzrvfqxalxi5tepu  \n",
       "1  31gevswudwftwxxcbfszt5o2u5ta  \n",
       "2     lpet16qfnsa9zn97li98q8c50  \n",
       "3     22d35vgyrjr3ywbwpnolontry  \n",
       "4     et1fo5kqg7ovda96k920cxrg1  "
      ]
     },
     "execution_count": 5,
     "metadata": {},
     "output_type": "execute_result"
    }
   ],
   "source": [
    "zara = api.obtener_html_followers(\"r6ivwuv0ebk346hhxo446pbfv\")\n",
    "df_zara = api.extraer_ids_usuario(sp,\"Zara\",zara)\n",
    "df_zara.to_csv(\"../datos/01 Spotify/01_followers_zara.csv\")\n",
    "df_zara.head()"
   ]
  },
  {
   "cell_type": "markdown",
   "metadata": {},
   "source": [
    "# Primark\n",
    "- https://open.spotify.com/user/1u0ewgq4b77l1ttu6j4oyaylw\n",
    "- user: 1u0ewgq4b77l1ttu6j4oyaylw"
   ]
  },
  {
   "cell_type": "code",
   "execution_count": 17,
   "metadata": {},
   "outputs": [
    {
     "name": "stdout",
     "output_type": "stream",
     "text": [
      "Iniciando Extracción de Ids Usuario\n"
     ]
    },
    {
     "name": "stderr",
     "output_type": "stream",
     "text": [
      "  3%|▎         | 34/1000 [00:02<00:58, 16.41it/s]HTTP Error for GET to https://api.spotify.com/v1/users/ikbenafke with Params: {} returned 404 due to Resource not found\n",
      "  4%|▍         | 38/1000 [00:02<01:00, 15.85it/s]"
     ]
    },
    {
     "name": "stdout",
     "output_type": "stream",
     "text": [
      "No se ha podido obtener el usuario ikbenafke\n"
     ]
    },
    {
     "name": "stderr",
     "output_type": "stream",
     "text": [
      " 34%|███▍      | 342/1000 [00:34<00:49, 13.20it/s]HTTP Error for GET to https://api.spotify.com/v1/users/de with Params: {} returned 404 due to Resource not found\n",
      " 35%|███▍      | 346/1000 [00:34<00:45, 14.23it/s]"
     ]
    },
    {
     "name": "stdout",
     "output_type": "stream",
     "text": [
      "No se ha podido obtener el usuario de\n"
     ]
    },
    {
     "name": "stderr",
     "output_type": "stream",
     "text": [
      " 93%|█████████▎| 930/1000 [01:32<00:04, 15.12it/s]HTTP Error for GET to https://api.spotify.com/v1/users/space_cow with Params: {} returned 404 due to Resource not found\n",
      " 93%|█████████▎| 934/1000 [01:32<00:04, 15.59it/s]"
     ]
    },
    {
     "name": "stdout",
     "output_type": "stream",
     "text": [
      "No se ha podido obtener el usuario space_cow\n"
     ]
    },
    {
     "name": "stderr",
     "output_type": "stream",
     "text": [
      "100%|██████████| 1000/1000 [01:40<00:00,  9.94it/s]\n"
     ]
    },
    {
     "data": {
      "text/html": [
       "<div>\n",
       "<style scoped>\n",
       "    .dataframe tbody tr th:only-of-type {\n",
       "        vertical-align: middle;\n",
       "    }\n",
       "\n",
       "    .dataframe tbody tr th {\n",
       "        vertical-align: top;\n",
       "    }\n",
       "\n",
       "    .dataframe thead th {\n",
       "        text-align: right;\n",
       "    }\n",
       "</style>\n",
       "<table border=\"1\" class=\"dataframe\">\n",
       "  <thead>\n",
       "    <tr style=\"text-align: right;\">\n",
       "      <th></th>\n",
       "      <th>brand</th>\n",
       "      <th>username</th>\n",
       "      <th>user_id</th>\n",
       "    </tr>\n",
       "  </thead>\n",
       "  <tbody>\n",
       "    <tr>\n",
       "      <th>0</th>\n",
       "      <td>Primark</td>\n",
       "      <td>!</td>\n",
       "      <td>31t663tvni5jdvmgzvmsmczcdf6i</td>\n",
       "    </tr>\n",
       "    <tr>\n",
       "      <th>1</th>\n",
       "      <td>Primark</td>\n",
       "      <td>!</td>\n",
       "      <td>j8dtlhfwmoflxuorlu25s1nqs</td>\n",
       "    </tr>\n",
       "    <tr>\n",
       "      <th>2</th>\n",
       "      <td>Primark</td>\n",
       "      <td>0omrjhlirnqfen3ikg6806ee6</td>\n",
       "      <td>0omrjhlirnqfen3ikg6806ee6</td>\n",
       "    </tr>\n",
       "    <tr>\n",
       "      <th>3</th>\n",
       "      <td>Primark</td>\n",
       "      <td>11124898037</td>\n",
       "      <td>11124898037</td>\n",
       "    </tr>\n",
       "    <tr>\n",
       "      <th>4</th>\n",
       "      <td>Primark</td>\n",
       "      <td>1113439568</td>\n",
       "      <td>1113439568</td>\n",
       "    </tr>\n",
       "  </tbody>\n",
       "</table>\n",
       "</div>"
      ],
      "text/plain": [
       "     brand                   username                       user_id\n",
       "0  Primark                          !  31t663tvni5jdvmgzvmsmczcdf6i\n",
       "1  Primark                          !     j8dtlhfwmoflxuorlu25s1nqs\n",
       "2  Primark  0omrjhlirnqfen3ikg6806ee6     0omrjhlirnqfen3ikg6806ee6\n",
       "3  Primark                11124898037                   11124898037\n",
       "4  Primark                 1113439568                    1113439568"
      ]
     },
     "execution_count": 17,
     "metadata": {},
     "output_type": "execute_result"
    }
   ],
   "source": [
    "primark = api.obtener_html_followers(\"1u0ewgq4b77l1ttu6j4oyaylw\")\n",
    "df_primark = api.extraer_ids_usuario(sp,\"Primark\",primark)\n",
    "df_primark.to_csv(\"../datos/01 Spotify/02_followers_primark.csv\")\n",
    "df_primark.head()"
   ]
  },
  {
   "cell_type": "markdown",
   "metadata": {},
   "source": [
    "# Nike\n",
    "- https://open.spotify.com/user/nikerunclub \n",
    "- user: nikerunclub "
   ]
  },
  {
   "cell_type": "code",
   "execution_count": 7,
   "metadata": {},
   "outputs": [
    {
     "name": "stdout",
     "output_type": "stream",
     "text": [
      "Iniciando Extracción de Ids Usuario\n"
     ]
    },
    {
     "name": "stderr",
     "output_type": "stream",
     "text": [
      " 35%|███▍      | 348/1000 [00:32<00:49, 13.11it/s]HTTP Error for GET to https://api.spotify.com/v1/users/ca with Params: {} returned 404 due to Resource not found\n",
      " 35%|███▌      | 350/1000 [00:32<00:47, 13.79it/s]"
     ]
    },
    {
     "name": "stdout",
     "output_type": "stream",
     "text": [
      "No se ha podido obtener el usuario ca\n"
     ]
    },
    {
     "name": "stderr",
     "output_type": "stream",
     "text": [
      " 58%|█████▊    | 582/1000 [00:53<00:26, 15.49it/s]HTTP Error for GET to https://api.spotify.com/v1/users/de with Params: {} returned 404 due to Resource not found\n",
      " 59%|█████▊    | 586/1000 [00:53<00:26, 15.78it/s]"
     ]
    },
    {
     "name": "stdout",
     "output_type": "stream",
     "text": [
      "No se ha podido obtener el usuario de\n"
     ]
    },
    {
     "name": "stderr",
     "output_type": "stream",
     "text": [
      " 75%|███████▌  | 754/1000 [01:12<00:19, 12.77it/s]HTTP Error for GET to https://api.spotify.com/v1/users/prime1956 with Params: {} returned 404 due to Resource not found\n",
      " 76%|███████▌  | 758/1000 [01:12<00:17, 13.54it/s]"
     ]
    },
    {
     "name": "stdout",
     "output_type": "stream",
     "text": [
      "No se ha podido obtener el usuario prime1956\n"
     ]
    },
    {
     "name": "stderr",
     "output_type": "stream",
     "text": [
      " 86%|████████▌ | 862/1000 [01:22<00:09, 14.21it/s]HTTP Error for GET to https://api.spotify.com/v1/users/pierre.cahill with Params: {} returned 404 due to Resource not found\n",
      " 87%|████████▋ | 866/1000 [01:23<00:08, 15.54it/s]"
     ]
    },
    {
     "name": "stdout",
     "output_type": "stream",
     "text": [
      "No se ha podido obtener el usuario pierre.cahill\n"
     ]
    },
    {
     "name": "stderr",
     "output_type": "stream",
     "text": [
      "100%|██████████| 1000/1000 [01:37<00:00, 10.24it/s]\n"
     ]
    },
    {
     "data": {
      "text/html": [
       "<div>\n",
       "<style scoped>\n",
       "    .dataframe tbody tr th:only-of-type {\n",
       "        vertical-align: middle;\n",
       "    }\n",
       "\n",
       "    .dataframe tbody tr th {\n",
       "        vertical-align: top;\n",
       "    }\n",
       "\n",
       "    .dataframe thead th {\n",
       "        text-align: right;\n",
       "    }\n",
       "</style>\n",
       "<table border=\"1\" class=\"dataframe\">\n",
       "  <thead>\n",
       "    <tr style=\"text-align: right;\">\n",
       "      <th></th>\n",
       "      <th>brand</th>\n",
       "      <th>username</th>\n",
       "      <th>user_id</th>\n",
       "    </tr>\n",
       "  </thead>\n",
       "  <tbody>\n",
       "    <tr>\n",
       "      <th>0</th>\n",
       "      <td>Nike</td>\n",
       "      <td>#niberg112</td>\n",
       "      <td>%23niberg112</td>\n",
       "    </tr>\n",
       "    <tr>\n",
       "      <th>1</th>\n",
       "      <td>Nike</td>\n",
       "      <td>104.3nowfm</td>\n",
       "      <td>104.3nowfm</td>\n",
       "    </tr>\n",
       "    <tr>\n",
       "      <th>2</th>\n",
       "      <td>Nike</td>\n",
       "      <td>11102221493</td>\n",
       "      <td>11102221493</td>\n",
       "    </tr>\n",
       "    <tr>\n",
       "      <th>3</th>\n",
       "      <td>Nike</td>\n",
       "      <td>11129094089</td>\n",
       "      <td>11129094089</td>\n",
       "    </tr>\n",
       "    <tr>\n",
       "      <th>4</th>\n",
       "      <td>Nike</td>\n",
       "      <td>11136291185</td>\n",
       "      <td>11136291185</td>\n",
       "    </tr>\n",
       "  </tbody>\n",
       "</table>\n",
       "</div>"
      ],
      "text/plain": [
       "  brand     username       user_id\n",
       "0  Nike   #niberg112  %23niberg112\n",
       "1  Nike   104.3nowfm    104.3nowfm\n",
       "2  Nike  11102221493   11102221493\n",
       "3  Nike  11129094089   11129094089\n",
       "4  Nike  11136291185   11136291185"
      ]
     },
     "execution_count": 7,
     "metadata": {},
     "output_type": "execute_result"
    }
   ],
   "source": [
    "nike = api.obtener_html_followers(\"nikerunclub\")\n",
    "df_nike = api.extraer_ids_usuario(sp,\"Nike\",nike)\n",
    "df_nike.to_csv(\"../datos/01 Spotify/03_followers_nike.csv\")\n",
    "df_nike.head()"
   ]
  },
  {
   "cell_type": "markdown",
   "metadata": {},
   "source": [
    "# Adidas\n",
    "- https://open.spotify.com/user/430wexvtgeypb6zdn45ge9c76 \n",
    "- 430wexvtgeypb6zdn45ge9c76 "
   ]
  },
  {
   "cell_type": "code",
   "execution_count": 8,
   "metadata": {},
   "outputs": [
    {
     "name": "stdout",
     "output_type": "stream",
     "text": [
      "Iniciando Extracción de Ids Usuario\n"
     ]
    },
    {
     "name": "stderr",
     "output_type": "stream",
     "text": [
      " 10%|█         | 100/1000 [00:06<01:00, 14.78it/s]HTTP Error for GET to https://api.spotify.com/v1/users/de with Params: {} returned 404 due to Resource not found\n",
      " 10%|█         | 104/1000 [00:07<00:55, 16.02it/s]"
     ]
    },
    {
     "name": "stdout",
     "output_type": "stream",
     "text": [
      "No se ha podido obtener el usuario de\n"
     ]
    },
    {
     "name": "stderr",
     "output_type": "stream",
     "text": [
      " 18%|█▊        | 182/1000 [00:15<01:00, 13.50it/s]HTTP Error for GET to https://api.spotify.com/v1/users/ca with Params: {} returned 404 due to Resource not found\n",
      " 18%|█▊        | 184/1000 [00:16<00:57, 14.20it/s]"
     ]
    },
    {
     "name": "stdout",
     "output_type": "stream",
     "text": [
      "No se ha podido obtener el usuario ca\n"
     ]
    },
    {
     "name": "stderr",
     "output_type": "stream",
     "text": [
      "100%|██████████| 1000/1000 [01:37<00:00, 10.28it/s]\n"
     ]
    },
    {
     "data": {
      "text/html": [
       "<div>\n",
       "<style scoped>\n",
       "    .dataframe tbody tr th:only-of-type {\n",
       "        vertical-align: middle;\n",
       "    }\n",
       "\n",
       "    .dataframe tbody tr th {\n",
       "        vertical-align: top;\n",
       "    }\n",
       "\n",
       "    .dataframe thead th {\n",
       "        text-align: right;\n",
       "    }\n",
       "</style>\n",
       "<table border=\"1\" class=\"dataframe\">\n",
       "  <thead>\n",
       "    <tr style=\"text-align: right;\">\n",
       "      <th></th>\n",
       "      <th>brand</th>\n",
       "      <th>username</th>\n",
       "      <th>user_id</th>\n",
       "    </tr>\n",
       "  </thead>\n",
       "  <tbody>\n",
       "    <tr>\n",
       "      <th>0</th>\n",
       "      <td>Adidas</td>\n",
       "      <td>- ZEN -</td>\n",
       "      <td>michiko476</td>\n",
       "    </tr>\n",
       "    <tr>\n",
       "      <th>1</th>\n",
       "      <td>Adidas</td>\n",
       "      <td>-M's- Café &amp; Bar</td>\n",
       "      <td>lpet16qfnsa9zn97li98q8c50</td>\n",
       "    </tr>\n",
       "    <tr>\n",
       "      <th>2</th>\n",
       "      <td>Adidas</td>\n",
       "      <td>pia</td>\n",
       "      <td>pia</td>\n",
       "    </tr>\n",
       "    <tr>\n",
       "      <th>3</th>\n",
       "      <td>Adidas</td>\n",
       "      <td>00</td>\n",
       "      <td>31sepz6hkia2k6apcy7zd3focgsq</td>\n",
       "    </tr>\n",
       "    <tr>\n",
       "      <th>4</th>\n",
       "      <td>Adidas</td>\n",
       "      <td>11100832652</td>\n",
       "      <td>11100832652</td>\n",
       "    </tr>\n",
       "  </tbody>\n",
       "</table>\n",
       "</div>"
      ],
      "text/plain": [
       "    brand          username                       user_id\n",
       "0  Adidas           - ZEN -                    michiko476\n",
       "1  Adidas  -M's- Café & Bar     lpet16qfnsa9zn97li98q8c50\n",
       "2  Adidas               pia                           pia\n",
       "3  Adidas                00  31sepz6hkia2k6apcy7zd3focgsq\n",
       "4  Adidas       11100832652                   11100832652"
      ]
     },
     "execution_count": 15,
     "metadata": {},
     "output_type": "execute_result"
    }
   ],
   "source": [
    "adidas = api.obtener_html_followers(\"430wexvtgeypb6zdn45ge9c76\")\n",
    "df_adidas = api.extraer_ids_usuario(sp,\"Adidas\",adidas)\n",
    "df_adidas.to_csv(\"../datos/01 Spotify/04_followers_adidas.csv\")\n",
    "df_adidas.head()"
   ]
  },
  {
   "cell_type": "markdown",
   "metadata": {},
   "source": [
    "# H&M\n",
    "- https://open.spotify.com/user/hm\n",
    "- hm"
   ]
  },
  {
   "cell_type": "code",
   "execution_count": 9,
   "metadata": {},
   "outputs": [
    {
     "name": "stdout",
     "output_type": "stream",
     "text": [
      "Iniciando Extracción de Ids Usuario\n"
     ]
    },
    {
     "name": "stderr",
     "output_type": "stream",
     "text": [
      " 10%|█         | 100/1000 [00:06<00:57, 15.76it/s]HTTP Error for GET to https://api.spotify.com/v1/users/de with Params: {} returned 404 due to Resource not found\n",
      " 10%|█         | 104/1000 [00:06<00:56, 15.99it/s]"
     ]
    },
    {
     "name": "stdout",
     "output_type": "stream",
     "text": [
      "No se ha podido obtener el usuario de\n"
     ]
    },
    {
     "name": "stderr",
     "output_type": "stream",
     "text": [
      " 30%|███       | 302/1000 [00:32<09:24,  1.24it/s]"
     ]
    },
    {
     "name": "stdout",
     "output_type": "stream",
     "text": [
      "No se ha podido obtener el usuario esseddik\n"
     ]
    },
    {
     "name": "stderr",
     "output_type": "stream",
     "text": [
      "100%|██████████| 1000/1000 [01:43<00:00,  9.65it/s]\n"
     ]
    },
    {
     "data": {
      "text/html": [
       "<div>\n",
       "<style scoped>\n",
       "    .dataframe tbody tr th:only-of-type {\n",
       "        vertical-align: middle;\n",
       "    }\n",
       "\n",
       "    .dataframe tbody tr th {\n",
       "        vertical-align: top;\n",
       "    }\n",
       "\n",
       "    .dataframe thead th {\n",
       "        text-align: right;\n",
       "    }\n",
       "</style>\n",
       "<table border=\"1\" class=\"dataframe\">\n",
       "  <thead>\n",
       "    <tr style=\"text-align: right;\">\n",
       "      <th></th>\n",
       "      <th>brand</th>\n",
       "      <th>username</th>\n",
       "      <th>user_id</th>\n",
       "    </tr>\n",
       "  </thead>\n",
       "  <tbody>\n",
       "    <tr>\n",
       "      <th>0</th>\n",
       "      <td>H&amp;M</td>\n",
       "      <td>-M's- Café &amp; Bar</td>\n",
       "      <td>lpet16qfnsa9zn97li98q8c50</td>\n",
       "    </tr>\n",
       "    <tr>\n",
       "      <th>1</th>\n",
       "      <td>H&amp;M</td>\n",
       "      <td>...alma...</td>\n",
       "      <td>...alma...</td>\n",
       "    </tr>\n",
       "    <tr>\n",
       "      <th>2</th>\n",
       "      <td>H&amp;M</td>\n",
       "      <td>na.v</td>\n",
       "      <td>na.v</td>\n",
       "    </tr>\n",
       "    <tr>\n",
       "      <th>3</th>\n",
       "      <td>H&amp;M</td>\n",
       "      <td>11102209368</td>\n",
       "      <td>11102209368</td>\n",
       "    </tr>\n",
       "    <tr>\n",
       "      <th>4</th>\n",
       "      <td>H&amp;M</td>\n",
       "      <td>11131773068</td>\n",
       "      <td>11131773068</td>\n",
       "    </tr>\n",
       "  </tbody>\n",
       "</table>\n",
       "</div>"
      ],
      "text/plain": [
       "  brand          username                    user_id\n",
       "0   H&M  -M's- Café & Bar  lpet16qfnsa9zn97li98q8c50\n",
       "1   H&M        ...alma...                 ...alma...\n",
       "2   H&M              na.v                       na.v\n",
       "3   H&M       11102209368                11102209368\n",
       "4   H&M       11131773068                11131773068"
      ]
     },
     "execution_count": 9,
     "metadata": {},
     "output_type": "execute_result"
    }
   ],
   "source": [
    "hm = api.obtener_html_followers(\"hm\")\n",
    "df_hm = api.extraer_ids_usuario(sp,\"H&M\",hm)\n",
    "df_hm.to_csv(\"../datos/01 Spotify/05_followers_hm.csv\")\n",
    "df_hm.head()"
   ]
  },
  {
   "cell_type": "markdown",
   "metadata": {},
   "source": [
    "# Pull & Bear\n",
    "- https://open.spotify.com/user/pull_and_bear\n",
    "- pull_and_bear"
   ]
  },
  {
   "cell_type": "code",
   "execution_count": 10,
   "metadata": {},
   "outputs": [
    {
     "name": "stdout",
     "output_type": "stream",
     "text": [
      "Iniciando Extracción de Ids Usuario\n"
     ]
    },
    {
     "name": "stderr",
     "output_type": "stream",
     "text": [
      " 56%|█████▋    | 564/1000 [00:53<00:31, 13.70it/s]HTTP Error for GET to https://api.spotify.com/v1/users/ with Params: {} returned 404 due to Service not found\n",
      " 57%|█████▋    | 567/1000 [00:53<00:29, 14.89it/s]"
     ]
    },
    {
     "name": "stdout",
     "output_type": "stream",
     "text": [
      "No se ha podido obtener el usuario \n"
     ]
    },
    {
     "name": "stderr",
     "output_type": "stream",
     "text": [
      " 94%|█████████▍| 941/1000 [01:32<00:04, 14.58it/s]HTTP Error for GET to https://api.spotify.com/v1/users/uson100 with Params: {} returned 404 due to Resource not found\n",
      " 94%|█████████▍| 945/1000 [01:32<00:03, 15.46it/s]"
     ]
    },
    {
     "name": "stdout",
     "output_type": "stream",
     "text": [
      "No se ha podido obtener el usuario uson100\n"
     ]
    },
    {
     "name": "stderr",
     "output_type": "stream",
     "text": [
      "100%|██████████| 1000/1000 [01:36<00:00, 10.32it/s]\n"
     ]
    },
    {
     "data": {
      "text/html": [
       "<div>\n",
       "<style scoped>\n",
       "    .dataframe tbody tr th:only-of-type {\n",
       "        vertical-align: middle;\n",
       "    }\n",
       "\n",
       "    .dataframe tbody tr th {\n",
       "        vertical-align: top;\n",
       "    }\n",
       "\n",
       "    .dataframe thead th {\n",
       "        text-align: right;\n",
       "    }\n",
       "</style>\n",
       "<table border=\"1\" class=\"dataframe\">\n",
       "  <thead>\n",
       "    <tr style=\"text-align: right;\">\n",
       "      <th></th>\n",
       "      <th>brand</th>\n",
       "      <th>username</th>\n",
       "      <th>user_id</th>\n",
       "    </tr>\n",
       "  </thead>\n",
       "  <tbody>\n",
       "    <tr>\n",
       "      <th>0</th>\n",
       "      <td>Pull &amp; Bear</td>\n",
       "      <td>085643640156</td>\n",
       "      <td>085643640156</td>\n",
       "    </tr>\n",
       "    <tr>\n",
       "      <th>1</th>\n",
       "      <td>Pull &amp; Bear</td>\n",
       "      <td>1110107678</td>\n",
       "      <td>1110107678</td>\n",
       "    </tr>\n",
       "    <tr>\n",
       "      <th>2</th>\n",
       "      <td>Pull &amp; Bear</td>\n",
       "      <td>11120385510</td>\n",
       "      <td>11120385510</td>\n",
       "    </tr>\n",
       "    <tr>\n",
       "      <th>3</th>\n",
       "      <td>Pull &amp; Bear</td>\n",
       "      <td>11123777698</td>\n",
       "      <td>11123777698</td>\n",
       "    </tr>\n",
       "    <tr>\n",
       "      <th>4</th>\n",
       "      <td>Pull &amp; Bear</td>\n",
       "      <td>1113725576</td>\n",
       "      <td>1113725576</td>\n",
       "    </tr>\n",
       "  </tbody>\n",
       "</table>\n",
       "</div>"
      ],
      "text/plain": [
       "         brand      username       user_id\n",
       "0  Pull & Bear  085643640156  085643640156\n",
       "1  Pull & Bear    1110107678    1110107678\n",
       "2  Pull & Bear   11120385510   11120385510\n",
       "3  Pull & Bear   11123777698   11123777698\n",
       "4  Pull & Bear    1113725576    1113725576"
      ]
     },
     "execution_count": 10,
     "metadata": {},
     "output_type": "execute_result"
    }
   ],
   "source": [
    "pullbear = api.obtener_html_followers(\"pull_and_bear\")\n",
    "df_pullbear = api.extraer_ids_usuario(sp,\"Pull & Bear\",pullbear)\n",
    "df_pullbear.to_csv(\"../datos/01 Spotify/06_followers_pull_and_bear.csv\")\n",
    "df_pullbear.head()"
   ]
  },
  {
   "cell_type": "markdown",
   "metadata": {},
   "source": [
    "# bershka\n",
    "- https://open.spotify.com/user/bershka\n",
    "- bershka"
   ]
  },
  {
   "cell_type": "code",
   "execution_count": 11,
   "metadata": {},
   "outputs": [
    {
     "name": "stdout",
     "output_type": "stream",
     "text": [
      "Iniciando Extracción de Ids Usuario\n"
     ]
    },
    {
     "name": "stderr",
     "output_type": "stream",
     "text": [
      " 45%|████▍     | 448/1000 [00:40<00:42, 12.93it/s]HTTP Error for GET to https://api.spotify.com/v1/users/paul_troncoso with Params: {} returned 404 due to Resource not found\n",
      " 45%|████▌     | 452/1000 [00:41<00:38, 14.36it/s]"
     ]
    },
    {
     "name": "stdout",
     "output_type": "stream",
     "text": [
      "No se ha podido obtener el usuario paul_troncoso\n"
     ]
    },
    {
     "name": "stderr",
     "output_type": "stream",
     "text": [
      " 79%|███████▉  | 788/1000 [01:16<00:25,  8.20it/s]HTTP Error for GET to https://api.spotify.com/v1/users/prevenier with Params: {} returned 404 due to Resource not found\n",
      " 79%|███████▉  | 792/1000 [01:16<00:18, 11.11it/s]"
     ]
    },
    {
     "name": "stdout",
     "output_type": "stream",
     "text": [
      "No se ha podido obtener el usuario prevenier\n"
     ]
    },
    {
     "name": "stderr",
     "output_type": "stream",
     "text": [
      " 97%|█████████▋| 974/1000 [01:39<00:21,  1.20it/s]"
     ]
    },
    {
     "name": "stdout",
     "output_type": "stream",
     "text": [
      "No se ha podido obtener el usuario qxbds6uhl3badkx1aabqh1r2b\n"
     ]
    },
    {
     "name": "stderr",
     "output_type": "stream",
     "text": [
      "100%|██████████| 1000/1000 [01:40<00:00,  9.91it/s]\n"
     ]
    },
    {
     "data": {
      "text/html": [
       "<div>\n",
       "<style scoped>\n",
       "    .dataframe tbody tr th:only-of-type {\n",
       "        vertical-align: middle;\n",
       "    }\n",
       "\n",
       "    .dataframe tbody tr th {\n",
       "        vertical-align: top;\n",
       "    }\n",
       "\n",
       "    .dataframe thead th {\n",
       "        text-align: right;\n",
       "    }\n",
       "</style>\n",
       "<table border=\"1\" class=\"dataframe\">\n",
       "  <thead>\n",
       "    <tr style=\"text-align: right;\">\n",
       "      <th></th>\n",
       "      <th>brand</th>\n",
       "      <th>username</th>\n",
       "      <th>user_id</th>\n",
       "    </tr>\n",
       "  </thead>\n",
       "  <tbody>\n",
       "    <tr>\n",
       "      <th>0</th>\n",
       "      <td>bershka</td>\n",
       "      <td>#Le best pirate du 29🫰🏽</td>\n",
       "      <td>31isbbalyd67pojnb3cbsapmgnn4</td>\n",
       "    </tr>\n",
       "    <tr>\n",
       "      <th>1</th>\n",
       "      <td>bershka</td>\n",
       "      <td>1000DREAM</td>\n",
       "      <td>21mk74v7ql2vtczy2jii2ub3i</td>\n",
       "    </tr>\n",
       "    <tr>\n",
       "      <th>2</th>\n",
       "      <td>bershka</td>\n",
       "      <td>11122894351</td>\n",
       "      <td>11122894351</td>\n",
       "    </tr>\n",
       "    <tr>\n",
       "      <th>3</th>\n",
       "      <td>bershka</td>\n",
       "      <td>1112631774</td>\n",
       "      <td>1112631774</td>\n",
       "    </tr>\n",
       "    <tr>\n",
       "      <th>4</th>\n",
       "      <td>bershka</td>\n",
       "      <td>11132116328</td>\n",
       "      <td>11132116328</td>\n",
       "    </tr>\n",
       "  </tbody>\n",
       "</table>\n",
       "</div>"
      ],
      "text/plain": [
       "     brand                 username                       user_id\n",
       "0  bershka  #Le best pirate du 29🫰🏽  31isbbalyd67pojnb3cbsapmgnn4\n",
       "1  bershka                1000DREAM     21mk74v7ql2vtczy2jii2ub3i\n",
       "2  bershka              11122894351                   11122894351\n",
       "3  bershka               1112631774                    1112631774\n",
       "4  bershka              11132116328                   11132116328"
      ]
     },
     "execution_count": 11,
     "metadata": {},
     "output_type": "execute_result"
    }
   ],
   "source": [
    "bershka = api.obtener_html_followers(\"bershka\")\n",
    "df_bershka = api.extraer_ids_usuario(sp,\"bershka\",bershka)\n",
    "df_bershka.to_csv(\"../datos/01 Spotify/07_followers_bershka.csv\")\n",
    "df_bershka.head()"
   ]
  },
  {
   "cell_type": "markdown",
   "metadata": {},
   "source": [
    "# Stradivarius\n",
    "- https://open.spotify.com/user/stradivas\n",
    "- stradivas"
   ]
  },
  {
   "cell_type": "code",
   "execution_count": 12,
   "metadata": {},
   "outputs": [
    {
     "name": "stdout",
     "output_type": "stream",
     "text": [
      "Iniciando Extracción de Ids Usuario\n"
     ]
    },
    {
     "name": "stderr",
     "output_type": "stream",
     "text": [
      " 29%|██▉       | 294/1000 [00:31<07:01,  1.68it/s]"
     ]
    },
    {
     "name": "stdout",
     "output_type": "stream",
     "text": [
      "No se ha podido obtener el usuario edcss\n"
     ]
    },
    {
     "name": "stderr",
     "output_type": "stream",
     "text": [
      "100%|██████████| 1000/1000 [01:40<00:00,  9.97it/s]\n"
     ]
    },
    {
     "data": {
      "text/html": [
       "<div>\n",
       "<style scoped>\n",
       "    .dataframe tbody tr th:only-of-type {\n",
       "        vertical-align: middle;\n",
       "    }\n",
       "\n",
       "    .dataframe tbody tr th {\n",
       "        vertical-align: top;\n",
       "    }\n",
       "\n",
       "    .dataframe thead th {\n",
       "        text-align: right;\n",
       "    }\n",
       "</style>\n",
       "<table border=\"1\" class=\"dataframe\">\n",
       "  <thead>\n",
       "    <tr style=\"text-align: right;\">\n",
       "      <th></th>\n",
       "      <th>brand</th>\n",
       "      <th>username</th>\n",
       "      <th>user_id</th>\n",
       "    </tr>\n",
       "  </thead>\n",
       "  <tbody>\n",
       "    <tr>\n",
       "      <th>0</th>\n",
       "      <td>Stradivarius</td>\n",
       "      <td>!</td>\n",
       "      <td>31bv4hwlp3xnaumn5laycpkglioy</td>\n",
       "    </tr>\n",
       "    <tr>\n",
       "      <th>1</th>\n",
       "      <td>Stradivarius</td>\n",
       "      <td>!                                             ...</td>\n",
       "      <td>31b4vdnqnpcrbnf2fveg3fuaw42e</td>\n",
       "    </tr>\n",
       "    <tr>\n",
       "      <th>2</th>\n",
       "      <td>Stradivarius</td>\n",
       "      <td>!              No More Lullabies</td>\n",
       "      <td>12100249023</td>\n",
       "    </tr>\n",
       "    <tr>\n",
       "      <th>3</th>\n",
       "      <td>Stradivarius</td>\n",
       "      <td>*erasmus*</td>\n",
       "      <td>%2Aerasmus%2A</td>\n",
       "    </tr>\n",
       "    <tr>\n",
       "      <th>4</th>\n",
       "      <td>Stradivarius</td>\n",
       "      <td>11122332522</td>\n",
       "      <td>11122332522</td>\n",
       "    </tr>\n",
       "  </tbody>\n",
       "</table>\n",
       "</div>"
      ],
      "text/plain": [
       "          brand                                           username  \\\n",
       "0  Stradivarius                                                  !   \n",
       "1  Stradivarius  !                                             ...   \n",
       "2  Stradivarius                   !              No More Lullabies   \n",
       "3  Stradivarius                                          *erasmus*   \n",
       "4  Stradivarius                                        11122332522   \n",
       "\n",
       "                        user_id  \n",
       "0  31bv4hwlp3xnaumn5laycpkglioy  \n",
       "1  31b4vdnqnpcrbnf2fveg3fuaw42e  \n",
       "2                   12100249023  \n",
       "3                 %2Aerasmus%2A  \n",
       "4                   11122332522  "
      ]
     },
     "execution_count": 12,
     "metadata": {},
     "output_type": "execute_result"
    }
   ],
   "source": [
    "stradivarius = api.obtener_html_followers(\"stradivas\")\n",
    "df_stradivarius = api.extraer_ids_usuario(sp,\"Stradivarius\",stradivarius)\n",
    "df_stradivarius.to_csv(\"../datos/01 Spotify/08_followers_stradivarius.csv\")\n",
    "df_stradivarius.head()"
   ]
  },
  {
   "cell_type": "markdown",
   "metadata": {},
   "source": [
    "# Mango\n",
    "- https://open.spotify.com/user/mango_official\n",
    "- mango_official"
   ]
  },
  {
   "cell_type": "code",
   "execution_count": 13,
   "metadata": {},
   "outputs": [
    {
     "name": "stdout",
     "output_type": "stream",
     "text": [
      "Iniciando Extracción de Ids Usuario\n"
     ]
    },
    {
     "name": "stderr",
     "output_type": "stream",
     "text": [
      "100%|██████████| 1000/1000 [01:38<00:00, 10.16it/s]\n"
     ]
    },
    {
     "data": {
      "text/html": [
       "<div>\n",
       "<style scoped>\n",
       "    .dataframe tbody tr th:only-of-type {\n",
       "        vertical-align: middle;\n",
       "    }\n",
       "\n",
       "    .dataframe tbody tr th {\n",
       "        vertical-align: top;\n",
       "    }\n",
       "\n",
       "    .dataframe thead th {\n",
       "        text-align: right;\n",
       "    }\n",
       "</style>\n",
       "<table border=\"1\" class=\"dataframe\">\n",
       "  <thead>\n",
       "    <tr style=\"text-align: right;\">\n",
       "      <th></th>\n",
       "      <th>brand</th>\n",
       "      <th>username</th>\n",
       "      <th>user_id</th>\n",
       "    </tr>\n",
       "  </thead>\n",
       "  <tbody>\n",
       "    <tr>\n",
       "      <th>0</th>\n",
       "      <td>Mango</td>\n",
       "      <td>!</td>\n",
       "      <td>31bv4hwlp3xnaumn5laycpkglioy</td>\n",
       "    </tr>\n",
       "    <tr>\n",
       "      <th>1</th>\n",
       "      <td>Mango</td>\n",
       "      <td>!              No More Lullabies</td>\n",
       "      <td>12100249023</td>\n",
       "    </tr>\n",
       "    <tr>\n",
       "      <th>2</th>\n",
       "      <td>Mango</td>\n",
       "      <td>031222angel</td>\n",
       "      <td>031222angel</td>\n",
       "    </tr>\n",
       "    <tr>\n",
       "      <th>3</th>\n",
       "      <td>Mango</td>\n",
       "      <td>11137603170</td>\n",
       "      <td>11137603170</td>\n",
       "    </tr>\n",
       "    <tr>\n",
       "      <th>4</th>\n",
       "      <td>Mango</td>\n",
       "      <td>11158891998</td>\n",
       "      <td>11158891998</td>\n",
       "    </tr>\n",
       "  </tbody>\n",
       "</table>\n",
       "</div>"
      ],
      "text/plain": [
       "   brand                          username                       user_id\n",
       "0  Mango                                 !  31bv4hwlp3xnaumn5laycpkglioy\n",
       "1  Mango  !              No More Lullabies                   12100249023\n",
       "2  Mango                       031222angel                   031222angel\n",
       "3  Mango                       11137603170                   11137603170\n",
       "4  Mango                       11158891998                   11158891998"
      ]
     },
     "execution_count": 13,
     "metadata": {},
     "output_type": "execute_result"
    }
   ],
   "source": [
    "mango = api.obtener_html_followers(\"mango_official\")\n",
    "df_mango = api.extraer_ids_usuario(sp,\"Mango\",mango)\n",
    "df_mango.to_csv(\"../datos/01 Spotify/09_followers_mango.csv\")\n",
    "df_mango.head()"
   ]
  },
  {
   "cell_type": "markdown",
   "metadata": {},
   "source": [
    "# Desigual\n",
    "- https://open.spotify.com/user/1119086036\n",
    "- 1119086036"
   ]
  },
  {
   "cell_type": "code",
   "execution_count": 14,
   "metadata": {},
   "outputs": [
    {
     "name": "stdout",
     "output_type": "stream",
     "text": [
      "Iniciando Extracción de Ids Usuario\n"
     ]
    },
    {
     "name": "stderr",
     "output_type": "stream",
     "text": [
      " 25%|██▍       | 248/1000 [00:23<01:01, 12.23it/s]HTTP Error for GET to https://api.spotify.com/v1/users/ with Params: {} returned 404 due to Service not found\n",
      " 25%|██▌       | 251/1000 [00:23<00:55, 13.60it/s]"
     ]
    },
    {
     "name": "stdout",
     "output_type": "stream",
     "text": [
      "No se ha podido obtener el usuario \n"
     ]
    },
    {
     "name": "stderr",
     "output_type": "stream",
     "text": [
      " 88%|████████▊ | 885/1000 [01:26<00:07, 15.22it/s]HTTP Error for GET to https://api.spotify.com/v1/users/ with Params: {} returned 404 due to Service not found\n",
      " 89%|████████▊ | 887/1000 [01:26<00:07, 16.14it/s]"
     ]
    },
    {
     "name": "stdout",
     "output_type": "stream",
     "text": [
      "No se ha podido obtener el usuario \n"
     ]
    },
    {
     "name": "stderr",
     "output_type": "stream",
     "text": [
      "100%|██████████| 1000/1000 [01:37<00:00, 10.25it/s]\n"
     ]
    },
    {
     "data": {
      "text/html": [
       "<div>\n",
       "<style scoped>\n",
       "    .dataframe tbody tr th:only-of-type {\n",
       "        vertical-align: middle;\n",
       "    }\n",
       "\n",
       "    .dataframe tbody tr th {\n",
       "        vertical-align: top;\n",
       "    }\n",
       "\n",
       "    .dataframe thead th {\n",
       "        text-align: right;\n",
       "    }\n",
       "</style>\n",
       "<table border=\"1\" class=\"dataframe\">\n",
       "  <thead>\n",
       "    <tr style=\"text-align: right;\">\n",
       "      <th></th>\n",
       "      <th>brand</th>\n",
       "      <th>username</th>\n",
       "      <th>user_id</th>\n",
       "    </tr>\n",
       "  </thead>\n",
       "  <tbody>\n",
       "    <tr>\n",
       "      <th>0</th>\n",
       "      <td>Desigual</td>\n",
       "      <td>-M's- Café &amp; Bar</td>\n",
       "      <td>lpet16qfnsa9zn97li98q8c50</td>\n",
       "    </tr>\n",
       "    <tr>\n",
       "      <th>1</th>\n",
       "      <td>Desigual</td>\n",
       "      <td>11140026434</td>\n",
       "      <td>11140026434</td>\n",
       "    </tr>\n",
       "    <tr>\n",
       "      <th>2</th>\n",
       "      <td>Desigual</td>\n",
       "      <td>1128877460</td>\n",
       "      <td>1128877460</td>\n",
       "    </tr>\n",
       "    <tr>\n",
       "      <th>3</th>\n",
       "      <td>Desigual</td>\n",
       "      <td>1133606734</td>\n",
       "      <td>1133606734</td>\n",
       "    </tr>\n",
       "    <tr>\n",
       "      <th>4</th>\n",
       "      <td>Desigual</td>\n",
       "      <td>1149224198</td>\n",
       "      <td>1149224198</td>\n",
       "    </tr>\n",
       "  </tbody>\n",
       "</table>\n",
       "</div>"
      ],
      "text/plain": [
       "      brand          username                    user_id\n",
       "0  Desigual  -M's- Café & Bar  lpet16qfnsa9zn97li98q8c50\n",
       "1  Desigual       11140026434                11140026434\n",
       "2  Desigual        1128877460                 1128877460\n",
       "3  Desigual        1133606734                 1133606734\n",
       "4  Desigual        1149224198                 1149224198"
      ]
     },
     "execution_count": 14,
     "metadata": {},
     "output_type": "execute_result"
    }
   ],
   "source": [
    "desigual = api.obtener_html_followers(\"1119086036\")\n",
    "df_desigual = api.extraer_ids_usuario(sp,\"Desigual\",desigual)\n",
    "df_desigual.to_csv(\"../datos/01 Spotify/10_followers_desigual.csv\")\n",
    "df_desigual.head()"
   ]
  }
 ],
 "metadata": {
  "kernelspec": {
   "display_name": "Proyecto-Final",
   "language": "python",
   "name": "python3"
  },
  "language_info": {
   "codemirror_mode": {
    "name": "ipython",
    "version": 3
   },
   "file_extension": ".py",
   "mimetype": "text/x-python",
   "name": "python",
   "nbconvert_exporter": "python",
   "pygments_lexer": "ipython3",
   "version": "3.11.9"
  }
 },
 "nbformat": 4,
 "nbformat_minor": 2
}
