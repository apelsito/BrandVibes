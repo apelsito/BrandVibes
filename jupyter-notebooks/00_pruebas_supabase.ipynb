{
 "cells": [
  {
   "cell_type": "code",
   "execution_count": 1,
   "metadata": {},
   "outputs": [],
   "source": [
    "import os\n",
    "import sys\n",
    "from tqdm import tqdm\n",
    "sys.path.append(\"../\")\n",
    "from supabase import create_client, Client\n",
    "from dotenv import load_dotenv\n",
    "import pandas as pd\n",
    "import src.soporte_streamlit_usuarios as spot\n",
    "# Cargar variables de entorno\n",
    "load_dotenv()\n",
    "\n",
    "# Configuración de Supabase\n",
    "url = os.getenv(\"project_url\")\n",
    "key = os.getenv(\"browser_safe_key\")\n",
    "supabase: Client = create_client(url, key)\n",
    "\n",
    "import src.soporte_spotify as api\n",
    "from time import sleep"
   ]
  },
  {
   "cell_type": "code",
   "execution_count": 2,
   "metadata": {},
   "outputs": [],
   "source": [
    "sp = api.load_credentials()"
   ]
  },
  {
   "cell_type": "code",
   "execution_count": 3,
   "metadata": {},
   "outputs": [],
   "source": [
    "primark = pd.read_csv(\"../datos/01 Spotify/02_followers_primark.csv\",index_col=0)"
   ]
  },
  {
   "cell_type": "code",
   "execution_count": null,
   "metadata": {},
   "outputs": [
    {
     "name": "stderr",
     "output_type": "stream",
     "text": [
      "  0%|          | 0/926 [00:00<?, ?it/s]"
     ]
    }
   ],
   "source": [
    "lista_playlists = []\n",
    "for id in tqdm(primark[\"user_id\"]):\n",
    "    playlists = api.obtener_playlists(sp,id)\n",
    "    lista_playlists.append(playlists)\n",
    "    sleep(0.1)\n",
    "\n",
    "primark[\"playlists\"] = lista_playlists"
   ]
  }
 ],
 "metadata": {
  "kernelspec": {
   "display_name": "Proyecto-Final",
   "language": "python",
   "name": "python3"
  },
  "language_info": {
   "codemirror_mode": {
    "name": "ipython",
    "version": 3
   },
   "file_extension": ".py",
   "mimetype": "text/x-python",
   "name": "python",
   "nbconvert_exporter": "python",
   "pygments_lexer": "ipython3",
   "version": "3.11.9"
  }
 },
 "nbformat": 4,
 "nbformat_minor": 2
}
