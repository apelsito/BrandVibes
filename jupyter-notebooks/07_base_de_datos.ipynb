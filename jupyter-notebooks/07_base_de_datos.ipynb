{
 "cells": [
  {
   "cell_type": "markdown",
   "metadata": {},
   "source": [
    "# Vamos a utilizar SupaBase\n",
    "- Una Base de datos en la nube que usa PostgreSQL\n",
    "- Allí almacenaremos los datos recopilados\n",
    "- La idea es poder tener la app funcionando desde cualquier lugar, que sea pública\n",
    "- pip install python-dotenv psycopg2\n",
    "\n",
    "Todo lo de aquí lo pasaremos a Funciones para facilitar subir datos en caso de ser necesario"
   ]
  },
  {
   "cell_type": "code",
   "execution_count": 2,
   "metadata": {},
   "outputs": [],
   "source": [
    "import sys\n",
    "sys.path.append(\"../\")\n",
    "import src.soporte_sql as sql\n",
    "import pandas as pd\n",
    "import ast"
   ]
  },
  {
   "cell_type": "code",
   "execution_count": 10,
   "metadata": {},
   "outputs": [
    {
     "name": "stdout",
     "output_type": "stream",
     "text": [
      "Conectado a la base de datos\n"
     ]
    }
   ],
   "source": [
    "conexion = sql.conectar_bd()"
   ]
  },
  {
   "cell_type": "markdown",
   "metadata": {},
   "source": [
    "# Crear tablas\n",
    "- Vamos a organizarlo por tablas"
   ]
  },
  {
   "cell_type": "code",
   "execution_count": 11,
   "metadata": {},
   "outputs": [
    {
     "data": {
      "text/html": [
       "<div>\n",
       "<style scoped>\n",
       "    .dataframe tbody tr th:only-of-type {\n",
       "        vertical-align: middle;\n",
       "    }\n",
       "\n",
       "    .dataframe tbody tr th {\n",
       "        vertical-align: top;\n",
       "    }\n",
       "\n",
       "    .dataframe thead th {\n",
       "        text-align: right;\n",
       "    }\n",
       "</style>\n",
       "<table border=\"1\" class=\"dataframe\">\n",
       "  <thead>\n",
       "    <tr style=\"text-align: right;\">\n",
       "      <th></th>\n",
       "      <th>brand</th>\n",
       "      <th>username</th>\n",
       "      <th>user_id</th>\n",
       "      <th>playlists</th>\n",
       "      <th>playlist_ids</th>\n",
       "      <th>playlist_ids_limited</th>\n",
       "      <th>artistas</th>\n",
       "    </tr>\n",
       "  </thead>\n",
       "  <tbody>\n",
       "    <tr>\n",
       "      <th>449</th>\n",
       "      <td>Zara</td>\n",
       "      <td>Lorena</td>\n",
       "      <td>teaaz8r3v1bui9dalkw9s8u1f</td>\n",
       "      <td>{\"DINNER MUSIC 2024/2025 🍷 New Year's chill co...</td>\n",
       "      <td>['2xPb74xnQZOh0FLPUw4ra6', '02SQYftwBgd64eeYXU...</td>\n",
       "      <td>['2xPb74xnQZOh0FLPUw4ra6', '02SQYftwBgd64eeYXU...</td>\n",
       "      <td>{'6lkrkVSqgzJZz2jguafSAy': 'Bossa Nova Covers'...</td>\n",
       "    </tr>\n",
       "  </tbody>\n",
       "</table>\n",
       "</div>"
      ],
      "text/plain": [
       "    brand username                    user_id  \\\n",
       "449  Zara   Lorena  teaaz8r3v1bui9dalkw9s8u1f   \n",
       "\n",
       "                                             playlists  \\\n",
       "449  {\"DINNER MUSIC 2024/2025 🍷 New Year's chill co...   \n",
       "\n",
       "                                          playlist_ids  \\\n",
       "449  ['2xPb74xnQZOh0FLPUw4ra6', '02SQYftwBgd64eeYXU...   \n",
       "\n",
       "                                  playlist_ids_limited  \\\n",
       "449  ['2xPb74xnQZOh0FLPUw4ra6', '02SQYftwBgd64eeYXU...   \n",
       "\n",
       "                                              artistas  \n",
       "449  {'6lkrkVSqgzJZz2jguafSAy': 'Bossa Nova Covers'...  "
      ]
     },
     "execution_count": 11,
     "metadata": {},
     "output_type": "execute_result"
    }
   ],
   "source": [
    "df = pd.read_csv(\"../datos/01 Spotify/01_followers_zara.csv\")\n",
    "df.sample()"
   ]
  },
  {
   "cell_type": "code",
   "execution_count": 12,
   "metadata": {},
   "outputs": [
    {
     "data": {
      "text/html": [
       "<div>\n",
       "<style scoped>\n",
       "    .dataframe tbody tr th:only-of-type {\n",
       "        vertical-align: middle;\n",
       "    }\n",
       "\n",
       "    .dataframe tbody tr th {\n",
       "        vertical-align: top;\n",
       "    }\n",
       "\n",
       "    .dataframe thead th {\n",
       "        text-align: right;\n",
       "    }\n",
       "</style>\n",
       "<table border=\"1\" class=\"dataframe\">\n",
       "  <thead>\n",
       "    <tr style=\"text-align: right;\">\n",
       "      <th></th>\n",
       "      <th>brand</th>\n",
       "      <th>followers</th>\n",
       "      <th>unique_artists</th>\n",
       "      <th>artist_ranking</th>\n",
       "      <th>genres</th>\n",
       "      <th>genres_ranking</th>\n",
       "    </tr>\n",
       "  </thead>\n",
       "  <tbody>\n",
       "    <tr>\n",
       "      <th>0</th>\n",
       "      <td>Zara</td>\n",
       "      <td>848</td>\n",
       "      <td>{'3qm84nBOXUEQ2vnTfUTTFC': \"Guns N' Roses\", '6...</td>\n",
       "      <td>[('The Weeknd', 346), ('Dua Lipa', 298), ('Col...</td>\n",
       "      <td>['rock', 'glam metal', 'hard rock', 'classic r...</td>\n",
       "      <td>[('lo-fi', 1637), ('lo-fi beats', 1235), ('afr...</td>\n",
       "    </tr>\n",
       "  </tbody>\n",
       "</table>\n",
       "</div>"
      ],
      "text/plain": [
       "  brand  followers                                     unique_artists  \\\n",
       "0  Zara        848  {'3qm84nBOXUEQ2vnTfUTTFC': \"Guns N' Roses\", '6...   \n",
       "\n",
       "                                      artist_ranking  \\\n",
       "0  [('The Weeknd', 346), ('Dua Lipa', 298), ('Col...   \n",
       "\n",
       "                                              genres  \\\n",
       "0  ['rock', 'glam metal', 'hard rock', 'classic r...   \n",
       "\n",
       "                                      genres_ranking  \n",
       "0  [('lo-fi', 1637), ('lo-fi beats', 1235), ('afr...  "
      ]
     },
     "execution_count": 12,
     "metadata": {},
     "output_type": "execute_result"
    }
   ],
   "source": [
    "df2 = pd.read_csv(\"../datos/01 Spotify/01 Resumen Marcas/resumen_zara.csv\")\n",
    "df2.sample()"
   ]
  },
  {
   "cell_type": "markdown",
   "metadata": {},
   "source": [
    "# Tabla Brands\n",
    "- Aquí almacenaremos los nombres de las marcas y su user id\n",
    "### Crear Dataframe con formato tabla"
   ]
  },
  {
   "cell_type": "code",
   "execution_count": 13,
   "metadata": {},
   "outputs": [
    {
     "data": {
      "text/html": [
       "<div>\n",
       "<style scoped>\n",
       "    .dataframe tbody tr th:only-of-type {\n",
       "        vertical-align: middle;\n",
       "    }\n",
       "\n",
       "    .dataframe tbody tr th {\n",
       "        vertical-align: top;\n",
       "    }\n",
       "\n",
       "    .dataframe thead th {\n",
       "        text-align: right;\n",
       "    }\n",
       "</style>\n",
       "<table border=\"1\" class=\"dataframe\">\n",
       "  <thead>\n",
       "    <tr style=\"text-align: right;\">\n",
       "      <th></th>\n",
       "      <th>brand</th>\n",
       "      <th>user_id</th>\n",
       "      <th>url</th>\n",
       "    </tr>\n",
       "  </thead>\n",
       "  <tbody>\n",
       "    <tr>\n",
       "      <th>0</th>\n",
       "      <td>zara</td>\n",
       "      <td>r6ivwuv0ebk346hhxo446pbfv</td>\n",
       "      <td>https://open.spotify.com/user/r6ivwuv0ebk346hh...</td>\n",
       "    </tr>\n",
       "    <tr>\n",
       "      <th>1</th>\n",
       "      <td>primark</td>\n",
       "      <td>1u0ewgq4b77l1ttu6j4oyaylw</td>\n",
       "      <td>https://open.spotify.com/user/1u0ewgq4b77l1ttu...</td>\n",
       "    </tr>\n",
       "    <tr>\n",
       "      <th>2</th>\n",
       "      <td>nike</td>\n",
       "      <td>nikerunclub</td>\n",
       "      <td>https://open.spotify.com/user/nikerunclub</td>\n",
       "    </tr>\n",
       "    <tr>\n",
       "      <th>3</th>\n",
       "      <td>adidas</td>\n",
       "      <td>430wexvtgeypb6zdn45ge9c76</td>\n",
       "      <td>https://open.spotify.com/user/430wexvtgeypb6zd...</td>\n",
       "    </tr>\n",
       "    <tr>\n",
       "      <th>4</th>\n",
       "      <td>h &amp; m</td>\n",
       "      <td>hm</td>\n",
       "      <td>https://open.spotify.com/user/hm</td>\n",
       "    </tr>\n",
       "    <tr>\n",
       "      <th>5</th>\n",
       "      <td>pull &amp; bear</td>\n",
       "      <td>pull_and_bear</td>\n",
       "      <td>https://open.spotify.com/user/pull_and_bear</td>\n",
       "    </tr>\n",
       "    <tr>\n",
       "      <th>6</th>\n",
       "      <td>bershka</td>\n",
       "      <td>bershka</td>\n",
       "      <td>https://open.spotify.com/user/bershka</td>\n",
       "    </tr>\n",
       "    <tr>\n",
       "      <th>7</th>\n",
       "      <td>stradivarius</td>\n",
       "      <td>stradivas</td>\n",
       "      <td>https://open.spotify.com/user/stradivas</td>\n",
       "    </tr>\n",
       "    <tr>\n",
       "      <th>8</th>\n",
       "      <td>mango</td>\n",
       "      <td>mango_official</td>\n",
       "      <td>https://open.spotify.com/user/mango_official</td>\n",
       "    </tr>\n",
       "    <tr>\n",
       "      <th>9</th>\n",
       "      <td>desigual</td>\n",
       "      <td>1119086036</td>\n",
       "      <td>https://open.spotify.com/user/1119086036</td>\n",
       "    </tr>\n",
       "  </tbody>\n",
       "</table>\n",
       "</div>"
      ],
      "text/plain": [
       "          brand                    user_id  \\\n",
       "0          zara  r6ivwuv0ebk346hhxo446pbfv   \n",
       "1       primark  1u0ewgq4b77l1ttu6j4oyaylw   \n",
       "2          nike                nikerunclub   \n",
       "3        adidas  430wexvtgeypb6zdn45ge9c76   \n",
       "4         h & m                         hm   \n",
       "5   pull & bear              pull_and_bear   \n",
       "6       bershka                    bershka   \n",
       "7  stradivarius                  stradivas   \n",
       "8         mango             mango_official   \n",
       "9      desigual                 1119086036   \n",
       "\n",
       "                                                 url  \n",
       "0  https://open.spotify.com/user/r6ivwuv0ebk346hh...  \n",
       "1  https://open.spotify.com/user/1u0ewgq4b77l1ttu...  \n",
       "2          https://open.spotify.com/user/nikerunclub  \n",
       "3  https://open.spotify.com/user/430wexvtgeypb6zd...  \n",
       "4                   https://open.spotify.com/user/hm  \n",
       "5        https://open.spotify.com/user/pull_and_bear  \n",
       "6              https://open.spotify.com/user/bershka  \n",
       "7            https://open.spotify.com/user/stradivas  \n",
       "8       https://open.spotify.com/user/mango_official  \n",
       "9           https://open.spotify.com/user/1119086036  "
      ]
     },
     "execution_count": 13,
     "metadata": {},
     "output_type": "execute_result"
    }
   ],
   "source": [
    "dictio_marcas = {\n",
    "    \"zara\" : \"r6ivwuv0ebk346hhxo446pbfv\",\n",
    "    \"primark\" : \"1u0ewgq4b77l1ttu6j4oyaylw\",\n",
    "    \"nike\" : \"nikerunclub\",\n",
    "    \"adidas\" : \"430wexvtgeypb6zdn45ge9c76\",\n",
    "    \"h & m\" : \"hm\",\n",
    "    \"pull & bear\" : \"pull_and_bear\",\n",
    "    \"bershka\" : \"bershka\",\n",
    "    \"stradivarius\" : \"stradivas\",\n",
    "    \"mango\" : \"mango_official\",\n",
    "    \"desigual\" : \"1119086036\"\n",
    "}\n",
    "brands = pd.DataFrame({\n",
    "    \"brand\" : list(dictio_marcas.keys()),\n",
    "    \"user_id\" : list(dictio_marcas.values())\n",
    "})\n",
    "\n",
    "url_list = []\n",
    "for id in brands[\"user_id\"]:\n",
    "    url_list.append(f\"https://open.spotify.com/user/{id}\")\n",
    "brands[\"url\"] = url_list\n",
    "brands"
   ]
  },
  {
   "cell_type": "markdown",
   "metadata": {},
   "source": [
    "### Crear tabla y subir los contenidos del DF"
   ]
  },
  {
   "cell_type": "code",
   "execution_count": 14,
   "metadata": {},
   "outputs": [
    {
     "name": "stdout",
     "output_type": "stream",
     "text": [
      "Conectado a la base de datos\n",
      "Se ha modificado correctamente la base de Datos\n"
     ]
    }
   ],
   "source": [
    "conexion = sql.conectar_bd()\n",
    "query = '''CREATE TABLE brands (\n",
    "            id BIGINT PRIMARY KEY GENERATED ALWAYS AS IDENTITY,\n",
    "            name VARCHAR UNIQUE NOT NULL,\n",
    "            user_id VARCHAR UNIQUE NOT NULL,\n",
    "            url VARCHAR UNIQUE NOT NULL\n",
    "            );'''\n",
    "sql.modificar_bd(conexion,query)"
   ]
  },
  {
   "cell_type": "code",
   "execution_count": 15,
   "metadata": {},
   "outputs": [
    {
     "name": "stdout",
     "output_type": "stream",
     "text": [
      "Conectado a la base de datos\n",
      "Se han añadido los valores correctamente\n"
     ]
    }
   ],
   "source": [
    "conexion = sql.conectar_bd()\n",
    "query = '''INSERT INTO brands(name,user_id,url) VALUES (%s,%s,%s)'''\n",
    "sql.insertar_muchos_datos(conexion,query,sql.generar_tupla(brands))"
   ]
  },
  {
   "cell_type": "code",
   "execution_count": 16,
   "metadata": {},
   "outputs": [],
   "source": [
    "brands.to_csv(\"../datos/02 Base de Datos/tabla_brands.csv\",index=False)"
   ]
  },
  {
   "cell_type": "markdown",
   "metadata": {},
   "source": [
    "# Tabla Followers\n",
    "- Aquí estará toda la información de los seguidores, y de que marca provienen"
   ]
  },
  {
   "cell_type": "code",
   "execution_count": 35,
   "metadata": {},
   "outputs": [],
   "source": [
    "zara = pd.read_csv('../datos/01 Spotify/01_followers_zara.csv')\n",
    "primark = pd.read_csv(\"../datos/01 Spotify/02_followers_primark.csv\",index_col=0)\n",
    "nike = pd.read_csv(\"../datos/01 Spotify/03_followers_nike.csv\",index_col=0)\n",
    "adidas = pd.read_csv(\"../datos/01 Spotify/04_followers_adidas.csv\",index_col=0)\n",
    "hm = pd.read_csv(\"../datos/01 Spotify/05_followers_hm.csv\",index_col=0)\n",
    "pullbear = pd.read_csv(\"../datos/01 Spotify/06_followers_pull_and_bear.csv\",index_col=0)\n",
    "bershka = pd.read_csv(\"../datos/01 Spotify/07_followers_bershka.csv\",index_col=0)\n",
    "stradivarius = pd.read_csv(\"../datos/01 Spotify/08_followers_stradivarius.csv\",index_col=0)\n",
    "mango = pd.read_csv(\"../datos/01 Spotify/09_followers_mango.csv\",index_col=0)\n",
    "desigual = pd.read_csv(\"../datos/01 Spotify/10_followers_desigual.csv\",index_col=0)"
   ]
  },
  {
   "cell_type": "code",
   "execution_count": 36,
   "metadata": {},
   "outputs": [
    {
     "data": {
      "text/html": [
       "<div>\n",
       "<style scoped>\n",
       "    .dataframe tbody tr th:only-of-type {\n",
       "        vertical-align: middle;\n",
       "    }\n",
       "\n",
       "    .dataframe tbody tr th {\n",
       "        vertical-align: top;\n",
       "    }\n",
       "\n",
       "    .dataframe thead th {\n",
       "        text-align: right;\n",
       "    }\n",
       "</style>\n",
       "<table border=\"1\" class=\"dataframe\">\n",
       "  <thead>\n",
       "    <tr style=\"text-align: right;\">\n",
       "      <th></th>\n",
       "      <th>username</th>\n",
       "      <th>user_id</th>\n",
       "      <th>brand</th>\n",
       "    </tr>\n",
       "  </thead>\n",
       "  <tbody>\n",
       "    <tr>\n",
       "      <th>227</th>\n",
       "      <td>Dinni⁎˳.:*♡☆</td>\n",
       "      <td>eyn8r2s414eh4uq369esvxg8s</td>\n",
       "      <td>H&amp;M</td>\n",
       "    </tr>\n",
       "  </tbody>\n",
       "</table>\n",
       "</div>"
      ],
      "text/plain": [
       "         username                    user_id brand\n",
       "227  Dinni⁎˳.:*♡☆  eyn8r2s414eh4uq369esvxg8s   H&M"
      ]
     },
     "execution_count": 36,
     "metadata": {},
     "output_type": "execute_result"
    }
   ],
   "source": [
    "zara = zara[[\"brand\",\"username\",\"user_id\"]]\n",
    "primark = primark[[\"brand\",\"username\",\"user_id\"]]\n",
    "nike = nike[[\"brand\",\"username\",\"user_id\"]]\n",
    "adidas = adidas[[\"brand\",\"username\",\"user_id\"]]\n",
    "hm = hm[[\"brand\",\"username\",\"user_id\"]]\n",
    "pullbear = pullbear[[\"brand\",\"username\",\"user_id\"]]\n",
    "bershka = bershka[[\"brand\",\"username\",\"user_id\"]]\n",
    "stradivarius = stradivarius[[\"brand\",\"username\",\"user_id\"]]\n",
    "mango = mango[[\"brand\",\"username\",\"user_id\"]]\n",
    "desigual = desigual[[\"brand\",\"username\",\"user_id\"]]\n",
    "followers = pd.concat([zara,primark,nike,adidas,hm,pullbear,bershka,stradivarius,mango,desigual])\n",
    "followers = followers[[\"username\",\"user_id\",\"brand\"]]\n",
    "followers.sample()"
   ]
  },
  {
   "cell_type": "markdown",
   "metadata": {},
   "source": [
    "### Preparar tabla\n",
    "- Pasamos \"brand\" al id que tenemos en la tabla \"brands\" para llamara a la clave foránea"
   ]
  },
  {
   "cell_type": "code",
   "execution_count": 37,
   "metadata": {},
   "outputs": [
    {
     "data": {
      "text/html": [
       "<div>\n",
       "<style scoped>\n",
       "    .dataframe tbody tr th:only-of-type {\n",
       "        vertical-align: middle;\n",
       "    }\n",
       "\n",
       "    .dataframe tbody tr th {\n",
       "        vertical-align: top;\n",
       "    }\n",
       "\n",
       "    .dataframe thead th {\n",
       "        text-align: right;\n",
       "    }\n",
       "</style>\n",
       "<table border=\"1\" class=\"dataframe\">\n",
       "  <thead>\n",
       "    <tr style=\"text-align: right;\">\n",
       "      <th></th>\n",
       "      <th>username</th>\n",
       "      <th>user_id</th>\n",
       "      <th>brand</th>\n",
       "    </tr>\n",
       "  </thead>\n",
       "  <tbody>\n",
       "    <tr>\n",
       "      <th>236</th>\n",
       "      <td>cicrrr</td>\n",
       "      <td>cicrrr</td>\n",
       "      <td>6</td>\n",
       "    </tr>\n",
       "  </tbody>\n",
       "</table>\n",
       "</div>"
      ],
      "text/plain": [
       "    username user_id  brand\n",
       "236   cicrrr  cicrrr      6"
      ]
     },
     "execution_count": 37,
     "metadata": {},
     "output_type": "execute_result"
    }
   ],
   "source": [
    "dictio_brand = {\n",
    "    \"Zara\": 1,\n",
    "    \"Primark\": 2,\n",
    "    \"Nike\": 3,\n",
    "    \"Adidas\": 4,\n",
    "    \"H&M\": 5,\n",
    "    \"Pull & Bear\": 6,\n",
    "    \"bershka\": 7,\n",
    "    \"Stradivarius\": 8,\n",
    "    \"Mango\": 9,\n",
    "    \"Desigual\": 10\n",
    "}\n",
    "followers[\"brand\"] = followers[\"brand\"].map(dictio_brand)\n",
    "followers.sample()"
   ]
  },
  {
   "cell_type": "markdown",
   "metadata": {},
   "source": [
    "### Crear tabla y subir los contenidos del DF"
   ]
  },
  {
   "cell_type": "code",
   "execution_count": 38,
   "metadata": {},
   "outputs": [
    {
     "name": "stdout",
     "output_type": "stream",
     "text": [
      "Conectado a la base de datos\n",
      "Se ha modificado correctamente la base de Datos\n"
     ]
    }
   ],
   "source": [
    "conexion = sql.conectar_bd()\n",
    "query = ''' CREATE TABLE followers (\n",
    "            id BIGINT PRIMARY KEY GENERATED ALWAYS AS IDENTITY,\n",
    "            username VARCHAR NOT NULL,\n",
    "            user_id VARCHAR NOT NULL,\n",
    "            brand_id BIGINT REFERENCES brands(id) ON DELETE CASCADE\n",
    "            );'''\n",
    "sql.modificar_bd(conexion,query)"
   ]
  },
  {
   "cell_type": "code",
   "execution_count": null,
   "metadata": {},
   "outputs": [
    {
     "name": "stdout",
     "output_type": "stream",
     "text": [
      "Conectado a la base de datos\n",
      "Se han añadido los valores correctamente\n"
     ]
    }
   ],
   "source": [
    "conexion = sql.conectar_bd()\n",
    "query = '''INSERT INTO followers(username,user_id,brand_id) VALUES (%s,%s,%s)'''\n",
    "sql.insertar_muchos_datos(conexion,query,sql.generar_tupla(followers))"
   ]
  },
  {
   "cell_type": "code",
   "execution_count": 41,
   "metadata": {},
   "outputs": [],
   "source": [
    "followers.to_csv(\"../datos/02 Base de Datos/02_tabla_followers.csv\",index=False)"
   ]
  },
  {
   "cell_type": "markdown",
   "metadata": {},
   "source": [
    "# Tabla Playlists\n",
    "- Esta tabla tendra cada playlist con su id, su nombre y la marca de donde procede\n",
    "- además estarán referenciadas por brand y user_id"
   ]
  },
  {
   "cell_type": "code",
   "execution_count": 101,
   "metadata": {},
   "outputs": [],
   "source": [
    "zara = pd.read_csv('../datos/01 Spotify/01_followers_zara.csv')\n",
    "primark = pd.read_csv(\"../datos/01 Spotify/02_followers_primark.csv\",index_col=0)\n",
    "nike = pd.read_csv(\"../datos/01 Spotify/03_followers_nike.csv\",index_col=0)\n",
    "adidas = pd.read_csv(\"../datos/01 Spotify/04_followers_adidas.csv\",index_col=0)\n",
    "hm = pd.read_csv(\"../datos/01 Spotify/05_followers_hm.csv\",index_col=0)\n",
    "pullbear = pd.read_csv(\"../datos/01 Spotify/06_followers_pull_and_bear.csv\",index_col=0)\n",
    "bershka = pd.read_csv(\"../datos/01 Spotify/07_followers_bershka.csv\",index_col=0)\n",
    "stradivarius = pd.read_csv(\"../datos/01 Spotify/08_followers_stradivarius.csv\",index_col=0)\n",
    "mango = pd.read_csv(\"../datos/01 Spotify/09_followers_mango.csv\",index_col=0)\n",
    "desigual = pd.read_csv(\"../datos/01 Spotify/10_followers_desigual.csv\",index_col=0)\n",
    "zara = zara[[\"brand\",\"username\",\"user_id\",\"playlists\"]]\n",
    "playlists = pd.concat([zara,primark,nike,adidas,hm,pullbear,bershka,stradivarius,mango,desigual])"
   ]
  },
  {
   "cell_type": "markdown",
   "metadata": {},
   "source": [
    "### Obtenemos el id de los usuarios haciendo una consulta a la bd"
   ]
  },
  {
   "cell_type": "code",
   "execution_count": 102,
   "metadata": {},
   "outputs": [
    {
     "name": "stdout",
     "output_type": "stream",
     "text": [
      "Conectado a la base de datos\n"
     ]
    },
    {
     "data": {
      "text/html": [
       "<div>\n",
       "<style scoped>\n",
       "    .dataframe tbody tr th:only-of-type {\n",
       "        vertical-align: middle;\n",
       "    }\n",
       "\n",
       "    .dataframe tbody tr th {\n",
       "        vertical-align: top;\n",
       "    }\n",
       "\n",
       "    .dataframe thead th {\n",
       "        text-align: right;\n",
       "    }\n",
       "</style>\n",
       "<table border=\"1\" class=\"dataframe\">\n",
       "  <thead>\n",
       "    <tr style=\"text-align: right;\">\n",
       "      <th></th>\n",
       "      <th>id</th>\n",
       "      <th>user_id</th>\n",
       "      <th>username</th>\n",
       "    </tr>\n",
       "  </thead>\n",
       "  <tbody>\n",
       "    <tr>\n",
       "      <th>3758</th>\n",
       "      <td>3759</td>\n",
       "      <td>n5pntaz8mzfbyj6pcqd10sk4w</td>\n",
       "      <td>D4bren</td>\n",
       "    </tr>\n",
       "  </tbody>\n",
       "</table>\n",
       "</div>"
      ],
      "text/plain": [
       "        id                    user_id username\n",
       "3758  3759  n5pntaz8mzfbyj6pcqd10sk4w   D4bren"
      ]
     },
     "execution_count": 102,
     "metadata": {},
     "output_type": "execute_result"
    }
   ],
   "source": [
    "conexion = sql.conectar_bd()\n",
    "query = '''SELECT * FROM followers'''\n",
    "df_users = sql.consulta_sql(conexion,query)\n",
    "df_users = df_users[[\"id\",\"user_id\",\"username\"]]\n",
    "df_users.sample()"
   ]
  },
  {
   "cell_type": "markdown",
   "metadata": {},
   "source": [
    "### Realizamos merge y convertimos a diccionario \"playlists\""
   ]
  },
  {
   "cell_type": "code",
   "execution_count": 103,
   "metadata": {},
   "outputs": [
    {
     "data": {
      "text/html": [
       "<div>\n",
       "<style scoped>\n",
       "    .dataframe tbody tr th:only-of-type {\n",
       "        vertical-align: middle;\n",
       "    }\n",
       "\n",
       "    .dataframe tbody tr th {\n",
       "        vertical-align: top;\n",
       "    }\n",
       "\n",
       "    .dataframe thead th {\n",
       "        text-align: right;\n",
       "    }\n",
       "</style>\n",
       "<table border=\"1\" class=\"dataframe\">\n",
       "  <thead>\n",
       "    <tr style=\"text-align: right;\">\n",
       "      <th></th>\n",
       "      <th>id</th>\n",
       "      <th>playlists</th>\n",
       "    </tr>\n",
       "  </thead>\n",
       "  <tbody>\n",
       "    <tr>\n",
       "      <th>6890</th>\n",
       "      <td>5643</td>\n",
       "      <td>{'Navidad': '6VEY42tqjOurvtSuc4F4Ay', 'Bonus':...</td>\n",
       "    </tr>\n",
       "  </tbody>\n",
       "</table>\n",
       "</div>"
      ],
      "text/plain": [
       "        id                                          playlists\n",
       "6890  5643  {'Navidad': '6VEY42tqjOurvtSuc4F4Ay', 'Bonus':..."
      ]
     },
     "execution_count": 103,
     "metadata": {},
     "output_type": "execute_result"
    }
   ],
   "source": [
    "unir = pd.merge(left=df_users,right=playlists,on=\"user_id\")\n",
    "playlists = unir[[\"id\",\"playlists\"]]\n",
    "playlists[\"playlists\"] = playlists[\"playlists\"].apply(ast.literal_eval)\n",
    "playlists.sample()"
   ]
  },
  {
   "cell_type": "markdown",
   "metadata": {},
   "source": [
    "### Creamos un Dataframe que:\n",
    "- tendra el id del usuario a quien pertenece\n",
    "- nombre de la playlist\n",
    "- id de la playlist\n",
    "- Uno por fila"
   ]
  },
  {
   "cell_type": "code",
   "execution_count": 104,
   "metadata": {},
   "outputs": [
    {
     "data": {
      "text/html": [
       "<div>\n",
       "<style scoped>\n",
       "    .dataframe tbody tr th:only-of-type {\n",
       "        vertical-align: middle;\n",
       "    }\n",
       "\n",
       "    .dataframe tbody tr th {\n",
       "        vertical-align: top;\n",
       "    }\n",
       "\n",
       "    .dataframe thead th {\n",
       "        text-align: right;\n",
       "    }\n",
       "</style>\n",
       "<table border=\"1\" class=\"dataframe\">\n",
       "  <thead>\n",
       "    <tr style=\"text-align: right;\">\n",
       "      <th></th>\n",
       "      <th>playlist_name</th>\n",
       "      <th>playlist_id</th>\n",
       "      <th>id</th>\n",
       "    </tr>\n",
       "  </thead>\n",
       "  <tbody>\n",
       "    <tr>\n",
       "      <th>55835</th>\n",
       "      <td>💐🍂</td>\n",
       "      <td>7Ez2es9sveVEW2ywOwWfVJ</td>\n",
       "      <td>1947</td>\n",
       "    </tr>\n",
       "  </tbody>\n",
       "</table>\n",
       "</div>"
      ],
      "text/plain": [
       "      playlist_name             playlist_id    id\n",
       "55835            💐🍂  7Ez2es9sveVEW2ywOwWfVJ  1947"
      ]
     },
     "execution_count": 104,
     "metadata": {},
     "output_type": "execute_result"
    }
   ],
   "source": [
    "id_list = []\n",
    "playlist_names = []\n",
    "playlist_ids = []\n",
    "\n",
    "for index, fila in playlists.iterrows():\n",
    "    user_id = fila[\"id\"]\n",
    "    playlist = fila[\"playlists\"]\n",
    "\n",
    "    for playlist_name, playlist_id in playlist.items():\n",
    "        id_list.append(user_id)\n",
    "        playlist_names.append(playlist_name)\n",
    "        playlist_ids.append(playlist_id)\n",
    "\n",
    "playlists =  pd.DataFrame({\n",
    "    \"id\" : id_list,\n",
    "    \"playlist_name\" : playlist_names,\n",
    "    \"playlist_id\" : playlist_ids\n",
    "})\n",
    "playlists = playlists[[\"playlist_name\",\"playlist_id\",\"id\"]]\n",
    "playlists.to_csv(\"../datos/02 Base de Datos/03_tabla_playlists.csv\", index=False)\n",
    "playlists.sample()"
   ]
  },
  {
   "cell_type": "markdown",
   "metadata": {},
   "source": [
    "### Crear Tabla"
   ]
  },
  {
   "cell_type": "code",
   "execution_count": 105,
   "metadata": {},
   "outputs": [
    {
     "name": "stdout",
     "output_type": "stream",
     "text": [
      "Conectado a la base de datos\n",
      "Se ha modificado correctamente la base de Datos\n"
     ]
    }
   ],
   "source": [
    "conexion = sql.conectar_bd()\n",
    "query = ''' CREATE TABLE playlists (\n",
    "            id BIGINT PRIMARY KEY GENERATED ALWAYS AS IDENTITY,\n",
    "            playlist_name VARCHAR NOT NULL,\n",
    "            playlist_id VARCHAR NOT NULL,\n",
    "            follower_id BIGINT REFERENCES followers(id) ON DELETE CASCADE\n",
    "            );'''\n",
    "sql.modificar_bd(conexion,query)"
   ]
  },
  {
   "cell_type": "code",
   "execution_count": 106,
   "metadata": {},
   "outputs": [
    {
     "name": "stdout",
     "output_type": "stream",
     "text": [
      "Conectado a la base de datos\n",
      "Se han añadido los valores correctamente\n"
     ]
    }
   ],
   "source": [
    "conexion = sql.conectar_bd()\n",
    "query = '''INSERT INTO playlists(playlist_name,playlist_id,follower_id) VALUES (%s,%s,%s)'''\n",
    "sql.insertar_muchos_datos(conexion,query,sql.generar_tupla(playlists))"
   ]
  },
  {
   "cell_type": "markdown",
   "metadata": {},
   "source": [
    "# Tabla Reduced Playlists\n",
    "- Esta tabla busca tener solo los ids de las playlists que finalmente se usaron para sacar los artistas y géneros.\n",
    "- De esta forma guardamos todas las playlists en un lado y por otro lado, mostramos las que finalmente usamos."
   ]
  },
  {
   "cell_type": "code",
   "execution_count": 107,
   "metadata": {},
   "outputs": [],
   "source": [
    "# Cargar los datasets de las marcas\n",
    "zara = pd.read_csv('../datos/01 Spotify/01_followers_zara.csv')\n",
    "primark = pd.read_csv(\"../datos/01 Spotify/02_followers_primark.csv\", index_col=0)\n",
    "nike = pd.read_csv(\"../datos/01 Spotify/03_followers_nike.csv\", index_col=0)\n",
    "adidas = pd.read_csv(\"../datos/01 Spotify/04_followers_adidas.csv\", index_col=0)\n",
    "hm = pd.read_csv(\"../datos/01 Spotify/05_followers_hm.csv\", index_col=0)\n",
    "pullbear = pd.read_csv(\"../datos/01 Spotify/06_followers_pull_and_bear.csv\", index_col=0)\n",
    "bershka = pd.read_csv(\"../datos/01 Spotify/07_followers_bershka.csv\", index_col=0)\n",
    "stradivarius = pd.read_csv(\"../datos/01 Spotify/08_followers_stradivarius.csv\", index_col=0)\n",
    "mango = pd.read_csv(\"../datos/01 Spotify/09_followers_mango.csv\", index_col=0)\n",
    "desigual = pd.read_csv(\"../datos/01 Spotify/10_followers_desigual.csv\", index_col=0)\n",
    "\n",
    "# Seleccionar columnas clave de Zara\n",
    "zara = zara[[\"brand\", \"username\", \"user_id\", \"playlists\"]]\n",
    "\n",
    "# Concatenar todos los datasets en un único DataFrame\n",
    "playlists = pd.concat([zara, primark, nike, adidas, hm, pullbear, bershka, stradivarius, mango, desigual])\n",
    "# Convertir las cadenas de texto de la columna \"playlists\" a diccionarios reales\n",
    "playlists[\"playlists\"] = playlists[\"playlists\"].apply(ast.literal_eval)"
   ]
  },
  {
   "cell_type": "markdown",
   "metadata": {},
   "source": [
    "### Reducir a 10 elementos por diccionario\n",
    "- Será las playlists que usemos para sacar los géneros"
   ]
  },
  {
   "cell_type": "code",
   "execution_count": 108,
   "metadata": {},
   "outputs": [],
   "source": [
    "# Lista para almacenar los diccionarios reducidos\n",
    "reduced_playlists_list = []\n",
    "\n",
    "# Iterar sobre cada diccionario en la columna \"playlists\"\n",
    "for dict_item in playlists[\"playlists\"]:\n",
    "    reduced_dict = {}  # Diccionario reducido\n",
    "    count = 0  # Contador para elementos procesados\n",
    "\n",
    "    # Iterar sobre los elementos del diccionario y limitar a 10\n",
    "    for key, value in dict_item.items():\n",
    "        if count < 10:\n",
    "            reduced_dict[key] = value\n",
    "            count += 1\n",
    "        else:\n",
    "            break\n",
    "    \n",
    "    # Agregar el diccionario reducido a la lista\n",
    "    reduced_playlists_list.append(reduced_dict)\n",
    "\n",
    "# Crear la nueva columna \"reduced_playlists\" en el DataFrame\n",
    "playlists[\"reduced_playlists\"] = reduced_playlists_list"
   ]
  },
  {
   "cell_type": "code",
   "execution_count": 109,
   "metadata": {},
   "outputs": [
    {
     "data": {
      "text/html": [
       "<div>\n",
       "<style scoped>\n",
       "    .dataframe tbody tr th:only-of-type {\n",
       "        vertical-align: middle;\n",
       "    }\n",
       "\n",
       "    .dataframe tbody tr th {\n",
       "        vertical-align: top;\n",
       "    }\n",
       "\n",
       "    .dataframe thead th {\n",
       "        text-align: right;\n",
       "    }\n",
       "</style>\n",
       "<table border=\"1\" class=\"dataframe\">\n",
       "  <thead>\n",
       "    <tr style=\"text-align: right;\">\n",
       "      <th></th>\n",
       "      <th>user_id</th>\n",
       "      <th>reduced_playlists</th>\n",
       "    </tr>\n",
       "  </thead>\n",
       "  <tbody>\n",
       "    <tr>\n",
       "      <th>542</th>\n",
       "      <td>lele029</td>\n",
       "      <td>{'Lélé': '5ud4RQdsz5w61ED0BdOPbu', 'Enfants': ...</td>\n",
       "    </tr>\n",
       "  </tbody>\n",
       "</table>\n",
       "</div>"
      ],
      "text/plain": [
       "     user_id                                  reduced_playlists\n",
       "542  lele029  {'Lélé': '5ud4RQdsz5w61ED0BdOPbu', 'Enfants': ..."
      ]
     },
     "execution_count": 109,
     "metadata": {},
     "output_type": "execute_result"
    }
   ],
   "source": [
    "playlists = playlists[[\"user_id\",\"reduced_playlists\"]]\n",
    "playlists.sample()"
   ]
  },
  {
   "cell_type": "markdown",
   "metadata": {},
   "source": [
    "### Obtenemos el id de los usuarios haciendo una consulta a la bd"
   ]
  },
  {
   "cell_type": "code",
   "execution_count": 110,
   "metadata": {},
   "outputs": [
    {
     "name": "stdout",
     "output_type": "stream",
     "text": [
      "Conectado a la base de datos\n"
     ]
    },
    {
     "data": {
      "text/html": [
       "<div>\n",
       "<style scoped>\n",
       "    .dataframe tbody tr th:only-of-type {\n",
       "        vertical-align: middle;\n",
       "    }\n",
       "\n",
       "    .dataframe tbody tr th {\n",
       "        vertical-align: top;\n",
       "    }\n",
       "\n",
       "    .dataframe thead th {\n",
       "        text-align: right;\n",
       "    }\n",
       "</style>\n",
       "<table border=\"1\" class=\"dataframe\">\n",
       "  <thead>\n",
       "    <tr style=\"text-align: right;\">\n",
       "      <th></th>\n",
       "      <th>id</th>\n",
       "      <th>user_id</th>\n",
       "      <th>username</th>\n",
       "    </tr>\n",
       "  </thead>\n",
       "  <tbody>\n",
       "    <tr>\n",
       "      <th>7005</th>\n",
       "      <td>7006</td>\n",
       "      <td>researchingtheweb</td>\n",
       "      <td>researchingtheweb</td>\n",
       "    </tr>\n",
       "  </tbody>\n",
       "</table>\n",
       "</div>"
      ],
      "text/plain": [
       "        id            user_id           username\n",
       "7005  7006  researchingtheweb  researchingtheweb"
      ]
     },
     "execution_count": 110,
     "metadata": {},
     "output_type": "execute_result"
    }
   ],
   "source": [
    "conexion = sql.conectar_bd()\n",
    "query = '''SELECT * FROM followers'''\n",
    "df_users = sql.consulta_sql(conexion,query)\n",
    "df_users = df_users[[\"id\",\"user_id\",\"username\"]]\n",
    "df_users.sample()"
   ]
  },
  {
   "cell_type": "markdown",
   "metadata": {},
   "source": [
    "### Realizamos merge y convertimos a diccionario \"playlists\""
   ]
  },
  {
   "cell_type": "code",
   "execution_count": 111,
   "metadata": {},
   "outputs": [
    {
     "data": {
      "text/html": [
       "<div>\n",
       "<style scoped>\n",
       "    .dataframe tbody tr th:only-of-type {\n",
       "        vertical-align: middle;\n",
       "    }\n",
       "\n",
       "    .dataframe tbody tr th {\n",
       "        vertical-align: top;\n",
       "    }\n",
       "\n",
       "    .dataframe thead th {\n",
       "        text-align: right;\n",
       "    }\n",
       "</style>\n",
       "<table border=\"1\" class=\"dataframe\">\n",
       "  <thead>\n",
       "    <tr style=\"text-align: right;\">\n",
       "      <th></th>\n",
       "      <th>id</th>\n",
       "      <th>reduced_playlists</th>\n",
       "    </tr>\n",
       "  </thead>\n",
       "  <tbody>\n",
       "    <tr>\n",
       "      <th>4975</th>\n",
       "      <td>4079</td>\n",
       "      <td>{'Spinning L': '6Kh64jKMmR2nirHMnVCDT5', 'Lẞ^2...</td>\n",
       "    </tr>\n",
       "  </tbody>\n",
       "</table>\n",
       "</div>"
      ],
      "text/plain": [
       "        id                                  reduced_playlists\n",
       "4975  4079  {'Spinning L': '6Kh64jKMmR2nirHMnVCDT5', 'Lẞ^2..."
      ]
     },
     "execution_count": 111,
     "metadata": {},
     "output_type": "execute_result"
    }
   ],
   "source": [
    "unir = pd.merge(left=df_users,right=playlists,on=\"user_id\")\n",
    "playlists = unir[[\"id\",\"reduced_playlists\"]]\n",
    "playlists.sample()"
   ]
  },
  {
   "cell_type": "code",
   "execution_count": 112,
   "metadata": {},
   "outputs": [
    {
     "data": {
      "text/html": [
       "<div>\n",
       "<style scoped>\n",
       "    .dataframe tbody tr th:only-of-type {\n",
       "        vertical-align: middle;\n",
       "    }\n",
       "\n",
       "    .dataframe tbody tr th {\n",
       "        vertical-align: top;\n",
       "    }\n",
       "\n",
       "    .dataframe thead th {\n",
       "        text-align: right;\n",
       "    }\n",
       "</style>\n",
       "<table border=\"1\" class=\"dataframe\">\n",
       "  <thead>\n",
       "    <tr style=\"text-align: right;\">\n",
       "      <th></th>\n",
       "      <th>playlist_name</th>\n",
       "      <th>playlist_id</th>\n",
       "      <th>id</th>\n",
       "    </tr>\n",
       "  </thead>\n",
       "  <tbody>\n",
       "    <tr>\n",
       "      <th>17505</th>\n",
       "      <td>Musikquiz Clara</td>\n",
       "      <td>1nQcSQBv39Y109HgekQ7ye</td>\n",
       "      <td>2060</td>\n",
       "    </tr>\n",
       "  </tbody>\n",
       "</table>\n",
       "</div>"
      ],
      "text/plain": [
       "         playlist_name             playlist_id    id\n",
       "17505  Musikquiz Clara  1nQcSQBv39Y109HgekQ7ye  2060"
      ]
     },
     "execution_count": 112,
     "metadata": {},
     "output_type": "execute_result"
    }
   ],
   "source": [
    "id_list = []\n",
    "playlist_names = []\n",
    "playlist_ids = []\n",
    "\n",
    "for index, fila in playlists.iterrows():\n",
    "    user_id = fila[\"id\"]\n",
    "    playlist = fila[\"reduced_playlists\"]\n",
    "\n",
    "    for playlist_name, playlist_id in playlist.items():\n",
    "        id_list.append(user_id)\n",
    "        playlist_names.append(playlist_name)\n",
    "        playlist_ids.append(playlist_id)\n",
    "\n",
    "playlists =  pd.DataFrame({\n",
    "    \"id\" : id_list,\n",
    "    \"playlist_name\" : playlist_names,\n",
    "    \"playlist_id\" : playlist_ids\n",
    "})\n",
    "playlists = playlists[[\"playlist_name\",\"playlist_id\",\"id\"]]\n",
    "playlists.to_csv(\"../datos/02 Base de Datos/04_tabla_reduced_playlists.csv\", index=False)\n",
    "playlists.sample()"
   ]
  },
  {
   "cell_type": "markdown",
   "metadata": {},
   "source": [
    "### Crear Tabla"
   ]
  },
  {
   "cell_type": "code",
   "execution_count": 113,
   "metadata": {},
   "outputs": [
    {
     "name": "stdout",
     "output_type": "stream",
     "text": [
      "Conectado a la base de datos\n",
      "Se ha modificado correctamente la base de Datos\n"
     ]
    }
   ],
   "source": [
    "conexion = sql.conectar_bd()\n",
    "query = ''' CREATE TABLE reduced_playlists (\n",
    "            id BIGINT PRIMARY KEY GENERATED ALWAYS AS IDENTITY,\n",
    "            playlist_name VARCHAR NOT NULL,\n",
    "            playlist_id VARCHAR NOT NULL,\n",
    "            follower_id BIGINT REFERENCES followers(id) ON DELETE CASCADE\n",
    "        );'''\n",
    "sql.modificar_bd(conexion,query)"
   ]
  },
  {
   "cell_type": "code",
   "execution_count": 114,
   "metadata": {},
   "outputs": [
    {
     "name": "stdout",
     "output_type": "stream",
     "text": [
      "Conectado a la base de datos\n",
      "Se han añadido los valores correctamente\n"
     ]
    }
   ],
   "source": [
    "conexion = sql.conectar_bd()\n",
    "query = '''INSERT INTO reduced_playlists(playlist_name,playlist_id,follower_id) VALUES (%s,%s,%s)'''\n",
    "sql.insertar_muchos_datos(conexion,query,sql.generar_tupla(playlists))"
   ]
  },
  {
   "cell_type": "markdown",
   "metadata": {},
   "source": [
    "# Tabla Artistas\n",
    "- Tiene el nombre del Artista\n",
    "- Conectado a la playlist de la que viene\n",
    "- Conectado a la marca del que proviene"
   ]
  },
  {
   "cell_type": "code",
   "execution_count": 20,
   "metadata": {},
   "outputs": [
    {
     "data": {
      "text/html": [
       "<div>\n",
       "<style scoped>\n",
       "    .dataframe tbody tr th:only-of-type {\n",
       "        vertical-align: middle;\n",
       "    }\n",
       "\n",
       "    .dataframe tbody tr th {\n",
       "        vertical-align: top;\n",
       "    }\n",
       "\n",
       "    .dataframe thead th {\n",
       "        text-align: right;\n",
       "    }\n",
       "</style>\n",
       "<table border=\"1\" class=\"dataframe\">\n",
       "  <thead>\n",
       "    <tr style=\"text-align: right;\">\n",
       "      <th></th>\n",
       "      <th>brand</th>\n",
       "      <th>followers</th>\n",
       "      <th>unique_artists</th>\n",
       "      <th>artist_ranking</th>\n",
       "      <th>genres</th>\n",
       "      <th>genres_ranking</th>\n",
       "    </tr>\n",
       "  </thead>\n",
       "  <tbody>\n",
       "    <tr>\n",
       "      <th>0</th>\n",
       "      <td>Zara</td>\n",
       "      <td>848</td>\n",
       "      <td>{'3qm84nBOXUEQ2vnTfUTTFC': \"Guns N' Roses\", '6...</td>\n",
       "      <td>[('The Weeknd', 346), ('Dua Lipa', 298), ('Col...</td>\n",
       "      <td>['rock', 'glam metal', 'hard rock', 'classic r...</td>\n",
       "      <td>[('lo-fi', 1637), ('lo-fi beats', 1235), ('afr...</td>\n",
       "    </tr>\n",
       "  </tbody>\n",
       "</table>\n",
       "</div>"
      ],
      "text/plain": [
       "  brand  followers                                     unique_artists  \\\n",
       "0  Zara        848  {'3qm84nBOXUEQ2vnTfUTTFC': \"Guns N' Roses\", '6...   \n",
       "\n",
       "                                      artist_ranking  \\\n",
       "0  [('The Weeknd', 346), ('Dua Lipa', 298), ('Col...   \n",
       "\n",
       "                                              genres  \\\n",
       "0  ['rock', 'glam metal', 'hard rock', 'classic r...   \n",
       "\n",
       "                                      genres_ranking  \n",
       "0  [('lo-fi', 1637), ('lo-fi beats', 1235), ('afr...  "
      ]
     },
     "execution_count": 20,
     "metadata": {},
     "output_type": "execute_result"
    }
   ],
   "source": [
    "artistas = pd.read_csv(\"../datos/01 Spotify/01 Resumen Marcas/resumen_zara.csv\")\n",
    "artistas"
   ]
  },
  {
   "cell_type": "markdown",
   "metadata": {},
   "source": [
    "### Nos quedamos con brand y unique_artists"
   ]
  },
  {
   "cell_type": "code",
   "execution_count": 21,
   "metadata": {},
   "outputs": [
    {
     "data": {
      "text/html": [
       "<div>\n",
       "<style scoped>\n",
       "    .dataframe tbody tr th:only-of-type {\n",
       "        vertical-align: middle;\n",
       "    }\n",
       "\n",
       "    .dataframe tbody tr th {\n",
       "        vertical-align: top;\n",
       "    }\n",
       "\n",
       "    .dataframe thead th {\n",
       "        text-align: right;\n",
       "    }\n",
       "</style>\n",
       "<table border=\"1\" class=\"dataframe\">\n",
       "  <thead>\n",
       "    <tr style=\"text-align: right;\">\n",
       "      <th></th>\n",
       "      <th>brand</th>\n",
       "      <th>unique_artists</th>\n",
       "    </tr>\n",
       "  </thead>\n",
       "  <tbody>\n",
       "    <tr>\n",
       "      <th>0</th>\n",
       "      <td>Zara</td>\n",
       "      <td>{'3qm84nBOXUEQ2vnTfUTTFC': 'Guns N' Roses', '6...</td>\n",
       "    </tr>\n",
       "  </tbody>\n",
       "</table>\n",
       "</div>"
      ],
      "text/plain": [
       "  brand                                     unique_artists\n",
       "0  Zara  {'3qm84nBOXUEQ2vnTfUTTFC': 'Guns N' Roses', '6..."
      ]
     },
     "execution_count": 21,
     "metadata": {},
     "output_type": "execute_result"
    }
   ],
   "source": [
    "artistas = artistas[[\"brand\",\"unique_artists\"]]\n",
    "# Convertimos unique_artists a diccionario\n",
    "artistas[\"unique_artists\"] = artistas[\"unique_artists\"].apply(ast.literal_eval)\n",
    "artistas"
   ]
  },
  {
   "cell_type": "markdown",
   "metadata": {},
   "source": [
    "### Crear tabla separando el diccionario"
   ]
  },
  {
   "cell_type": "code",
   "execution_count": 22,
   "metadata": {},
   "outputs": [
    {
     "data": {
      "text/html": [
       "<div>\n",
       "<style scoped>\n",
       "    .dataframe tbody tr th:only-of-type {\n",
       "        vertical-align: middle;\n",
       "    }\n",
       "\n",
       "    .dataframe tbody tr th {\n",
       "        vertical-align: top;\n",
       "    }\n",
       "\n",
       "    .dataframe thead th {\n",
       "        text-align: right;\n",
       "    }\n",
       "</style>\n",
       "<table border=\"1\" class=\"dataframe\">\n",
       "  <thead>\n",
       "    <tr style=\"text-align: right;\">\n",
       "      <th></th>\n",
       "      <th>artist_name</th>\n",
       "      <th>artist_id</th>\n",
       "      <th>brand_id</th>\n",
       "    </tr>\n",
       "  </thead>\n",
       "  <tbody>\n",
       "    <tr>\n",
       "      <th>0</th>\n",
       "      <td>Guns N' Roses</td>\n",
       "      <td>3qm84nBOXUEQ2vnTfUTTFC</td>\n",
       "      <td>1</td>\n",
       "    </tr>\n",
       "    <tr>\n",
       "      <th>1</th>\n",
       "      <td>Nirvana</td>\n",
       "      <td>6olE6TJLqED3rqDCT0FyPh</td>\n",
       "      <td>1</td>\n",
       "    </tr>\n",
       "    <tr>\n",
       "      <th>2</th>\n",
       "      <td>The Beatles</td>\n",
       "      <td>3WrFJ7ztbogyGnTHbHJFl2</td>\n",
       "      <td>1</td>\n",
       "    </tr>\n",
       "    <tr>\n",
       "      <th>3</th>\n",
       "      <td>Led Zeppelin</td>\n",
       "      <td>36QJpDe2go2KgaRleHCDTp</td>\n",
       "      <td>1</td>\n",
       "    </tr>\n",
       "    <tr>\n",
       "      <th>4</th>\n",
       "      <td>The Rolling Stones</td>\n",
       "      <td>22bE4uQ6baNwSHPVcDxLCe</td>\n",
       "      <td>1</td>\n",
       "    </tr>\n",
       "  </tbody>\n",
       "</table>\n",
       "</div>"
      ],
      "text/plain": [
       "          artist_name               artist_id  brand_id\n",
       "0       Guns N' Roses  3qm84nBOXUEQ2vnTfUTTFC         1\n",
       "1             Nirvana  6olE6TJLqED3rqDCT0FyPh         1\n",
       "2         The Beatles  3WrFJ7ztbogyGnTHbHJFl2         1\n",
       "3        Led Zeppelin  36QJpDe2go2KgaRleHCDTp         1\n",
       "4  The Rolling Stones  22bE4uQ6baNwSHPVcDxLCe         1"
      ]
     },
     "execution_count": 22,
     "metadata": {},
     "output_type": "execute_result"
    }
   ],
   "source": [
    "lista_brand = []\n",
    "nombres_artistas = []\n",
    "ids_artistas = []\n",
    "\n",
    "for dictio in artistas[\"unique_artists\"]:\n",
    "    for artist_id, artist_name in dictio.items():\n",
    "        lista_brand.append(1) # El id de zara en la bd es 1\n",
    "        nombres_artistas.append(artist_name)\n",
    "        ids_artistas.append(artist_id)\n",
    "artistas = pd.DataFrame({\n",
    "    \"artist_name\" : nombres_artistas,\n",
    "    \"artist_id\" : ids_artistas,\n",
    "    \"brand_id\" : lista_brand\n",
    "})\n",
    "artistas.to_csv(\"../datos/02 Base de Datos/05_tabla_artistas_zara.csv\",index=False)\n",
    "artistas.head()"
   ]
  },
  {
   "cell_type": "markdown",
   "metadata": {},
   "source": [
    "### Quitar Nulos"
   ]
  },
  {
   "cell_type": "code",
   "execution_count": 44,
   "metadata": {},
   "outputs": [],
   "source": [
    "artistas.dropna(inplace=True)"
   ]
  },
  {
   "cell_type": "markdown",
   "metadata": {},
   "source": [
    "### Crear Tabla\n",
    "- Empezamos a usar text porque es mucho mejor que varchar para nuestro uso"
   ]
  },
  {
   "cell_type": "code",
   "execution_count": 46,
   "metadata": {},
   "outputs": [
    {
     "name": "stdout",
     "output_type": "stream",
     "text": [
      "Conectado a la base de datos\n",
      "Se ha modificado correctamente la base de Datos\n"
     ]
    }
   ],
   "source": [
    "conexion = sql.conectar_bd()\n",
    "query = ''' create table artists (\n",
    "            id bigint primary key generated always as identity,\n",
    "            artist_name text not null,\n",
    "            artist_id text not null,\n",
    "            brand_id bigint references brands (id) on delete cascade\n",
    "            );'''\n",
    "sql.modificar_bd(conexion,query)"
   ]
  },
  {
   "cell_type": "markdown",
   "metadata": {},
   "source": [
    "### Insertamos Datos"
   ]
  },
  {
   "cell_type": "code",
   "execution_count": 47,
   "metadata": {},
   "outputs": [
    {
     "name": "stdout",
     "output_type": "stream",
     "text": [
      "Conectado a la base de datos\n",
      "Se han añadido los valores correctamente\n"
     ]
    }
   ],
   "source": [
    "conexion = sql.conectar_bd()\n",
    "query = '''INSERT INTO artists(artist_name,artist_id,brand_id) VALUES (%s,%s,%s)'''\n",
    "sql.insertar_muchos_datos(conexion,query,sql.generar_tupla(artistas))"
   ]
  },
  {
   "cell_type": "markdown",
   "metadata": {},
   "source": [
    "# Tabla Ranking Artistas\n",
    "- Tiene el nombre del Artista\n",
    "- Y el número de veces que aparece un artista\n",
    "- Conectado a la marca del que proviene"
   ]
  },
  {
   "cell_type": "code",
   "execution_count": 79,
   "metadata": {},
   "outputs": [],
   "source": [
    "def subir_ranking_artistas(ranking_df,brand_id = 0, ruta_csv = \"../datos/02 Base de Datos/tempsave_ranking.csv\"):\n",
    "    conexion = sql.conectar_bd()\n",
    "    query = ''' SELECT * FROM brands'''\n",
    "    df = sql.consulta_sql(conexion, query)\n",
    "    df = df[[\"id\",\"name\"]]\n",
    "    check = df[\"id\"].tolist()\n",
    "    if brand_id not in check:\n",
    "        print(\"El id de la marca no existe\")\n",
    "        print(\"Los ids de las marcas son:\")\n",
    "        return display(df)\n",
    "\n",
    "    ranking_art = ranking_df[[\"brand\",\"artist_ranking\"]]\n",
    "    # Convertimos unique_artists a lista\n",
    "    ranking_art[\"artist_ranking\"] = ranking_art[\"artist_ranking\"].apply(lambda x: ast.literal_eval(x) if pd.notna(x) else [])\n",
    "    \n",
    "    lista_brands = []\n",
    "    lista_artistas = []\n",
    "    lista_conteos = []\n",
    "    for tuplas in ranking_art[\"artist_ranking\"]:\n",
    "        for artista, conteo in tuplas:\n",
    "            lista_artistas.append(artista)\n",
    "            lista_conteos.append(conteo)\n",
    "            lista_brands.append(brand_id) # el id de la marca\n",
    "\n",
    "    ranking_art = pd.DataFrame({\n",
    "        \"artist_name\" : lista_artistas,\n",
    "        \"number_of_appearances\" : lista_conteos,\n",
    "        \"brand_id\" : lista_brands\n",
    "    })\n",
    "    # Guardar en CSV el archivo\n",
    "    ranking_art.to_csv(ruta_csv,index=False)\n",
    "    conexion = sql.conectar_bd()\n",
    "    query = '''INSERT INTO artists_ranking(artist_name,number_of_appearances,brand_id) VALUES (%s,%s,%s)'''\n",
    "    sql.insertar_muchos_datos(conexion,query,sql.generar_tupla(ranking_art))"
   ]
  },
  {
   "cell_type": "code",
   "execution_count": 65,
   "metadata": {},
   "outputs": [
    {
     "data": {
      "text/html": [
       "<div>\n",
       "<style scoped>\n",
       "    .dataframe tbody tr th:only-of-type {\n",
       "        vertical-align: middle;\n",
       "    }\n",
       "\n",
       "    .dataframe tbody tr th {\n",
       "        vertical-align: top;\n",
       "    }\n",
       "\n",
       "    .dataframe thead th {\n",
       "        text-align: right;\n",
       "    }\n",
       "</style>\n",
       "<table border=\"1\" class=\"dataframe\">\n",
       "  <thead>\n",
       "    <tr style=\"text-align: right;\">\n",
       "      <th></th>\n",
       "      <th>brand</th>\n",
       "      <th>artist_ranking</th>\n",
       "    </tr>\n",
       "  </thead>\n",
       "  <tbody>\n",
       "    <tr>\n",
       "      <th>0</th>\n",
       "      <td>Zara</td>\n",
       "      <td>[(The Weeknd, 346), (Dua Lipa, 298), (Coldplay...</td>\n",
       "    </tr>\n",
       "  </tbody>\n",
       "</table>\n",
       "</div>"
      ],
      "text/plain": [
       "  brand                                     artist_ranking\n",
       "0  Zara  [(The Weeknd, 346), (Dua Lipa, 298), (Coldplay..."
      ]
     },
     "execution_count": 65,
     "metadata": {},
     "output_type": "execute_result"
    }
   ],
   "source": [
    "ranking_art = pd.read_csv(\"../datos/01 Spotify/01 Resumen Marcas/resumen_zara.csv\")\n",
    "ranking_art = ranking_art[[\"brand\",\"artist_ranking\"]]\n",
    "ranking_art[\"artist_ranking\"] = ranking_art[\"artist_ranking\"].apply(lambda x: ast.literal_eval(x) if pd.notna(x) else [])\n",
    "ranking_art"
   ]
  },
  {
   "cell_type": "code",
   "execution_count": 66,
   "metadata": {},
   "outputs": [
    {
     "data": {
      "text/html": [
       "<div>\n",
       "<style scoped>\n",
       "    .dataframe tbody tr th:only-of-type {\n",
       "        vertical-align: middle;\n",
       "    }\n",
       "\n",
       "    .dataframe tbody tr th {\n",
       "        vertical-align: top;\n",
       "    }\n",
       "\n",
       "    .dataframe thead th {\n",
       "        text-align: right;\n",
       "    }\n",
       "</style>\n",
       "<table border=\"1\" class=\"dataframe\">\n",
       "  <thead>\n",
       "    <tr style=\"text-align: right;\">\n",
       "      <th></th>\n",
       "      <th>artist_name</th>\n",
       "      <th>number_of_appearances</th>\n",
       "      <th>brand_id</th>\n",
       "    </tr>\n",
       "  </thead>\n",
       "  <tbody>\n",
       "    <tr>\n",
       "      <th>0</th>\n",
       "      <td>The Weeknd</td>\n",
       "      <td>346</td>\n",
       "      <td>1</td>\n",
       "    </tr>\n",
       "    <tr>\n",
       "      <th>1</th>\n",
       "      <td>Dua Lipa</td>\n",
       "      <td>298</td>\n",
       "      <td>1</td>\n",
       "    </tr>\n",
       "    <tr>\n",
       "      <th>2</th>\n",
       "      <td>Coldplay</td>\n",
       "      <td>282</td>\n",
       "      <td>1</td>\n",
       "    </tr>\n",
       "    <tr>\n",
       "      <th>3</th>\n",
       "      <td>Rihanna</td>\n",
       "      <td>279</td>\n",
       "      <td>1</td>\n",
       "    </tr>\n",
       "    <tr>\n",
       "      <th>4</th>\n",
       "      <td>Billie Eilish</td>\n",
       "      <td>276</td>\n",
       "      <td>1</td>\n",
       "    </tr>\n",
       "  </tbody>\n",
       "</table>\n",
       "</div>"
      ],
      "text/plain": [
       "     artist_name  number_of_appearances  brand_id\n",
       "0     The Weeknd                    346         1\n",
       "1       Dua Lipa                    298         1\n",
       "2       Coldplay                    282         1\n",
       "3        Rihanna                    279         1\n",
       "4  Billie Eilish                    276         1"
      ]
     },
     "execution_count": 66,
     "metadata": {},
     "output_type": "execute_result"
    }
   ],
   "source": [
    "lista_brands = []\n",
    "lista_artistas = []\n",
    "lista_conteos = []\n",
    "for tuplas in ranking_art[\"artist_ranking\"]:\n",
    "    for artista, conteo in tuplas:\n",
    "        lista_artistas.append(artista)\n",
    "        lista_conteos.append(conteo)\n",
    "        lista_brands.append(1) # 1 es zara en la base de datos\n",
    "\n",
    "ranking_art = pd.DataFrame({\n",
    "    \"artist_name\" : lista_artistas,\n",
    "    \"number_of_appearances\" : lista_conteos,\n",
    "    \"brand_id\" : lista_brands\n",
    "})\n",
    "\n",
    "ranking_art.head()"
   ]
  },
  {
   "cell_type": "code",
   "execution_count": 64,
   "metadata": {},
   "outputs": [
    {
     "name": "stdout",
     "output_type": "stream",
     "text": [
      "Conectado a la base de datos\n",
      "Se ha modificado correctamente la base de Datos\n"
     ]
    }
   ],
   "source": [
    "conexion = sql.conectar_bd()\n",
    "query = ''' create table artists_ranking (\n",
    "            id bigint primary key generated always as identity,\n",
    "            artist_name text not null,\n",
    "            number_of_appearances int not null,\n",
    "            brand_id bigint references brands (id) on delete cascade\n",
    "          );'''\n",
    "sql.modificar_bd(conexion,query)"
   ]
  },
  {
   "cell_type": "code",
   "execution_count": 67,
   "metadata": {},
   "outputs": [
    {
     "name": "stdout",
     "output_type": "stream",
     "text": [
      "Conectado a la base de datos\n",
      "Se han añadido los valores correctamente\n"
     ]
    }
   ],
   "source": [
    "conexion = sql.conectar_bd()\n",
    "query = '''INSERT INTO artists_ranking(artist_name,number_of_appearances,brand_id) VALUES (%s,%s,%s)'''\n",
    "sql.insertar_muchos_datos(conexion,query,sql.generar_tupla(ranking_art))"
   ]
  },
  {
   "cell_type": "code",
   "execution_count": 68,
   "metadata": {},
   "outputs": [],
   "source": [
    "ranking_art.to_csv(\"../datos/02 Base de Datos/06_ranking_artistas_zara.csv\",index=False)"
   ]
  }
 ],
 "metadata": {
  "kernelspec": {
   "display_name": "Proyecto-Final",
   "language": "python",
   "name": "python3"
  },
  "language_info": {
   "codemirror_mode": {
    "name": "ipython",
    "version": 3
   },
   "file_extension": ".py",
   "mimetype": "text/x-python",
   "name": "python",
   "nbconvert_exporter": "python",
   "pygments_lexer": "ipython3",
   "version": "3.11.9"
  }
 },
 "nbformat": 4,
 "nbformat_minor": 2
}
