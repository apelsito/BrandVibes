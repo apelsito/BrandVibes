{
 "cells": [
  {
   "cell_type": "markdown",
   "metadata": {},
   "source": [
    "# Contexto\n",
    "- Utilizando la playlist de \"Canciones que te gustan\" obtenemos todos los tracks de ahí\n",
    "- También obtendremos todos los \"Top tracks\" por si el usuario no tuviera de lo otro\n",
    "- La idea es sacar lo mismo que en las marcas:\n",
    "    - Top artistas\n",
    "    - Top géneros\n",
    "    - Top subgéneros"
   ]
  },
  {
   "cell_type": "code",
   "execution_count": 1,
   "metadata": {},
   "outputs": [],
   "source": [
    "import sys\n",
    "sys.path.append(\"../\")\n",
    "import pandas as pd\n",
    "import src.soporte_spotify as api\n",
    "import src.soporte_sql as sql\n",
    "import src.soporte_spotify_streamlit as spot\n",
    "import os\n",
    "from supabase import create_client, Client\n",
    "from dotenv import load_dotenv\n",
    "# Cargar variables de entorno\n",
    "load_dotenv()\n",
    "\n",
    "sp = api.load_credentials()\n",
    "\n",
    "# Configuración de Supabase\n",
    "url = os.getenv(\"project_url\")\n",
    "key = os.getenv(\"browser_safe_key\")\n",
    "supabase: Client = create_client(url, key)"
   ]
  },
  {
   "cell_type": "markdown",
   "metadata": {},
   "source": [
    "# Añadir y subir datos de usuario"
   ]
  },
  {
   "cell_type": "code",
   "execution_count": 4,
   "metadata": {},
   "outputs": [
    {
     "name": "stdout",
     "output_type": "stream",
     "text": [
      "Conectado a la base de datos\n",
      "Se han añadido los valores correctamente\n"
     ]
    }
   ],
   "source": [
    "spot.get_current_user(sp)"
   ]
  },
  {
   "cell_type": "markdown",
   "metadata": {},
   "source": [
    "# Obtener todas las canciones que están en \"Canciones que te gustan\""
   ]
  },
  {
   "cell_type": "code",
   "execution_count": 5,
   "metadata": {},
   "outputs": [
    {
     "name": "stdout",
     "output_type": "stream",
     "text": [
      "Conectado a la base de datos\n",
      "Se han añadido los valores correctamente\n"
     ]
    }
   ],
   "source": [
    "spot.get_all_saved_tracks(sp)"
   ]
  },
  {
   "cell_type": "markdown",
   "metadata": {},
   "source": [
    "# Obtener canciones más escuchadas"
   ]
  },
  {
   "cell_type": "code",
   "execution_count": 6,
   "metadata": {},
   "outputs": [
    {
     "name": "stdout",
     "output_type": "stream",
     "text": [
      "Conectado a la base de datos\n",
      "Se han añadido los valores correctamente\n"
     ]
    }
   ],
   "source": [
    "spot.get_all_top_tracks(sp)"
   ]
  },
  {
   "cell_type": "markdown",
   "metadata": {},
   "source": [
    "# Sacar ranking artistas"
   ]
  },
  {
   "cell_type": "code",
   "execution_count": 4,
   "metadata": {},
   "outputs": [
    {
     "name": "stdout",
     "output_type": "stream",
     "text": [
      "Conectado a la base de datos\n",
      "Se han añadido los valores correctamente\n"
     ]
    }
   ],
   "source": [
    "spot.get_user_artist_ranking(sp, supabase)"
   ]
  },
  {
   "cell_type": "markdown",
   "metadata": {},
   "source": [
    "# Obtener ranking géneros"
   ]
  },
  {
   "cell_type": "code",
   "execution_count": 2,
   "metadata": {},
   "outputs": [
    {
     "name": "stderr",
     "output_type": "stream",
     "text": [
      "Generando Urls: 100%|██████████| 22/22 [00:00<?, ?it/s]\n",
      "Realizando Petición a Spotify: 100%|██████████| 22/22 [00:04<00:00,  4.81it/s]\n"
     ]
    },
    {
     "name": "stdout",
     "output_type": "stream",
     "text": [
      "Subiendo ranking subgéneros\n",
      "Conectado a la base de datos\n",
      "Se han añadido los valores correctamente\n",
      "Subiendo ranking géneros\n",
      "Conectado a la base de datos\n",
      "No se ha podido realizar la operación: not all arguments converted during string formatting\n"
     ]
    }
   ],
   "source": [
    "spot.get_user_genre_and_subgenre_ranking(sp,supabase)"
   ]
  }
 ],
 "metadata": {
  "kernelspec": {
   "display_name": "Proyecto-Final",
   "language": "python",
   "name": "python3"
  },
  "language_info": {
   "codemirror_mode": {
    "name": "ipython",
    "version": 3
   },
   "file_extension": ".py",
   "mimetype": "text/x-python",
   "name": "python",
   "nbconvert_exporter": "python",
   "pygments_lexer": "ipython3",
   "version": "3.11.9"
  }
 },
 "nbformat": 4,
 "nbformat_minor": 2
}
