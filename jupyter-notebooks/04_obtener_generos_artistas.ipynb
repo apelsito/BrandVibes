{
 "cells": [
  {
   "cell_type": "code",
   "execution_count": 60,
   "metadata": {},
   "outputs": [],
   "source": [
    "# Tratamiento de datos\n",
    "# -----------------------------------------------------------------------\n",
    "import pandas as pd\n",
    "import numpy as np\n",
    "# Requests\n",
    "import requests\n",
    "from time import sleep\n",
    "from tqdm import tqdm\n",
    "\n",
    "# Para convertir de string a diccionario\n",
    "import ast\n",
    "import os\n",
    "import json\n",
    "\n",
    "import sys\n",
    "sys.path.append(\"../\")\n",
    "import src.soporte_spotify as api"
   ]
  },
  {
   "cell_type": "code",
   "execution_count": 61,
   "metadata": {},
   "outputs": [],
   "source": [
    "# sp = api.load_credentials()\n",
    "# sp.current_user()"
   ]
  },
  {
   "cell_type": "code",
   "execution_count": 62,
   "metadata": {},
   "outputs": [],
   "source": [
    "zara = pd.read_csv('../datos/01 Spotify/01_followers_zara.csv')"
   ]
  },
  {
   "cell_type": "code",
   "execution_count": 63,
   "metadata": {},
   "outputs": [
    {
     "data": {
      "text/html": [
       "<div>\n",
       "<style scoped>\n",
       "    .dataframe tbody tr th:only-of-type {\n",
       "        vertical-align: middle;\n",
       "    }\n",
       "\n",
       "    .dataframe tbody tr th {\n",
       "        vertical-align: top;\n",
       "    }\n",
       "\n",
       "    .dataframe thead th {\n",
       "        text-align: right;\n",
       "    }\n",
       "</style>\n",
       "<table border=\"1\" class=\"dataframe\">\n",
       "  <thead>\n",
       "    <tr style=\"text-align: right;\">\n",
       "      <th></th>\n",
       "      <th>brand</th>\n",
       "      <th>username</th>\n",
       "      <th>user_id</th>\n",
       "      <th>playlists</th>\n",
       "      <th>playlist_ids</th>\n",
       "      <th>playlist_ids_limited</th>\n",
       "      <th>artistas</th>\n",
       "    </tr>\n",
       "  </thead>\n",
       "  <tbody>\n",
       "    <tr>\n",
       "      <th>444</th>\n",
       "      <td>Zara</td>\n",
       "      <td>Ksenya</td>\n",
       "      <td>31w3ckixld5d37zkjobvwko2c35e</td>\n",
       "      <td>{'the start of new period ': '1dUhimPQKl4eugbl...</td>\n",
       "      <td>['1dUhimPQKl4eugblaUhKMf', '0mJQKF1hxAhPP3UddJ...</td>\n",
       "      <td>['1dUhimPQKl4eugblaUhKMf', '0mJQKF1hxAhPP3UddJ...</td>\n",
       "      <td>{\"1mXqOPpMYngJYilH8L1ZDG\": \"The Real Btx\", \"3e...</td>\n",
       "    </tr>\n",
       "  </tbody>\n",
       "</table>\n",
       "</div>"
      ],
      "text/plain": [
       "    brand username                       user_id  \\\n",
       "444  Zara   Ksenya  31w3ckixld5d37zkjobvwko2c35e   \n",
       "\n",
       "                                             playlists  \\\n",
       "444  {'the start of new period ': '1dUhimPQKl4eugbl...   \n",
       "\n",
       "                                          playlist_ids  \\\n",
       "444  ['1dUhimPQKl4eugblaUhKMf', '0mJQKF1hxAhPP3UddJ...   \n",
       "\n",
       "                                  playlist_ids_limited  \\\n",
       "444  ['1dUhimPQKl4eugblaUhKMf', '0mJQKF1hxAhPP3UddJ...   \n",
       "\n",
       "                                              artistas  \n",
       "444  {\"1mXqOPpMYngJYilH8L1ZDG\": \"The Real Btx\", \"3e...  "
      ]
     },
     "execution_count": 63,
     "metadata": {},
     "output_type": "execute_result"
    }
   ],
   "source": [
    "zara.sample()"
   ]
  },
  {
   "cell_type": "markdown",
   "metadata": {},
   "source": [
    "### Eliminar aquellos users cuyas playlists no tenían artistas (no había canciones)"
   ]
  },
  {
   "cell_type": "code",
   "execution_count": 64,
   "metadata": {},
   "outputs": [],
   "source": [
    "zara = zara.loc[zara[\"artistas\"] != \"{}\"]"
   ]
  },
  {
   "cell_type": "markdown",
   "metadata": {},
   "source": [
    "### Reemplazar null por None para poder convertirlo a diccionarios"
   ]
  },
  {
   "cell_type": "code",
   "execution_count": 75,
   "metadata": {},
   "outputs": [],
   "source": [
    "for idx in zara.index:\n",
    "    zara.loc[idx,\"artistas\"] = zara.loc[idx,\"artistas\"].replace(\"null\",\"None\")"
   ]
  },
  {
   "cell_type": "markdown",
   "metadata": {},
   "source": [
    "### Convertir:\n",
    "- playlists: de STR a dict\n",
    "- playlist_ids: de STR a list\n",
    "- playlist_ids_limited: de STR a list\n",
    "- artistas: de STR a dict"
   ]
  },
  {
   "cell_type": "code",
   "execution_count": 77,
   "metadata": {},
   "outputs": [],
   "source": [
    "zara[\"playlists\"] = zara[\"playlists\"].apply(ast.literal_eval)\n",
    "zara[\"playlist_ids\"] = zara[\"playlist_ids\"].apply(lambda x: ast.literal_eval(x) if pd.notna(x) else [])\n",
    "zara[\"playlist_ids_limited\"] = zara[\"playlist_ids_limited\"].apply(lambda x: ast.literal_eval(x) if pd.notna(x) else [])\n",
    "zara[\"artistas\"] = zara[\"artistas\"].apply(ast.literal_eval)\n",
    "zara.to_csv(\"../datos/01 Spotify/01_followers_zara.csv\",index=False)"
   ]
  },
  {
   "cell_type": "markdown",
   "metadata": {},
   "source": [
    "### Ver cuantos artistas tenemos en total"
   ]
  },
  {
   "cell_type": "code",
   "execution_count": 83,
   "metadata": {},
   "outputs": [
    {
     "data": {
      "text/plain": [
       "323870"
      ]
     },
     "execution_count": 83,
     "metadata": {},
     "output_type": "execute_result"
    }
   ],
   "source": [
    "suma = 0\n",
    "for artista in zara[\"artistas\"]:\n",
    "    suma += len(artista)\n",
    "\n",
    "suma"
   ]
  },
  {
   "cell_type": "markdown",
   "metadata": {},
   "source": [
    "# Diccionario de artistas únicos\n",
    "- Creamos un diccionario de artistas únicos a partir de todos los obtenidos\n",
    "- De forma que solo consultaremos los géneros una sola vez"
   ]
  },
  {
   "cell_type": "markdown",
   "metadata": {},
   "source": [
    "Diccionario Nº Veces que aparece un artista\n",
    "- de los usuarios, obtendremos el número de veces que sale un artista\n",
    "- De esta manera sabremos la popularidad dentro de los seguidores de Zara\n"
   ]
  }
 ],
 "metadata": {
  "kernelspec": {
   "display_name": "Proyecto-Final-Hackio",
   "language": "python",
   "name": "python3"
  },
  "language_info": {
   "codemirror_mode": {
    "name": "ipython",
    "version": 3
   },
   "file_extension": ".py",
   "mimetype": "text/x-python",
   "name": "python",
   "nbconvert_exporter": "python",
   "pygments_lexer": "ipython3",
   "version": "3.11.9"
  }
 },
 "nbformat": 4,
 "nbformat_minor": 2
}
