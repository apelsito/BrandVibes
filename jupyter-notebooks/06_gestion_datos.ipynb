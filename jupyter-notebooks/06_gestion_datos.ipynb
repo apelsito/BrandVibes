{
 "cells": [
  {
   "cell_type": "code",
   "execution_count": 2,
   "metadata": {},
   "outputs": [],
   "source": [
    "import pandas as pd\n",
    "import numpy as np\n",
    "import ast"
   ]
  },
  {
   "cell_type": "code",
   "execution_count": 5,
   "metadata": {},
   "outputs": [
    {
     "data": {
      "text/html": [
       "<div>\n",
       "<style scoped>\n",
       "    .dataframe tbody tr th:only-of-type {\n",
       "        vertical-align: middle;\n",
       "    }\n",
       "\n",
       "    .dataframe tbody tr th {\n",
       "        vertical-align: top;\n",
       "    }\n",
       "\n",
       "    .dataframe thead th {\n",
       "        text-align: right;\n",
       "    }\n",
       "</style>\n",
       "<table border=\"1\" class=\"dataframe\">\n",
       "  <thead>\n",
       "    <tr style=\"text-align: right;\">\n",
       "      <th></th>\n",
       "      <th>brand</th>\n",
       "      <th>followers</th>\n",
       "      <th>unique_artists</th>\n",
       "      <th>artist_ranking</th>\n",
       "      <th>genres</th>\n",
       "      <th>genres_ranking</th>\n",
       "    </tr>\n",
       "  </thead>\n",
       "  <tbody>\n",
       "    <tr>\n",
       "      <th>0</th>\n",
       "      <td>Zara</td>\n",
       "      <td>848</td>\n",
       "      <td>{'3qm84nBOXUEQ2vnTfUTTFC': 'Guns N' Roses', '6...</td>\n",
       "      <td>[(The Weeknd, 346), (Dua Lipa, 298), (Coldplay...</td>\n",
       "      <td>[rock, glam metal, hard rock, classic rock, gr...</td>\n",
       "      <td>[(lo-fi, 1637), (lo-fi beats, 1235), (afro hou...</td>\n",
       "    </tr>\n",
       "  </tbody>\n",
       "</table>\n",
       "</div>"
      ],
      "text/plain": [
       "  brand  followers                                     unique_artists  \\\n",
       "0  Zara        848  {'3qm84nBOXUEQ2vnTfUTTFC': 'Guns N' Roses', '6...   \n",
       "\n",
       "                                      artist_ranking  \\\n",
       "0  [(The Weeknd, 346), (Dua Lipa, 298), (Coldplay...   \n",
       "\n",
       "                                              genres  \\\n",
       "0  [rock, glam metal, hard rock, classic rock, gr...   \n",
       "\n",
       "                                      genres_ranking  \n",
       "0  [(lo-fi, 1637), (lo-fi beats, 1235), (afro hou...  "
      ]
     },
     "execution_count": 5,
     "metadata": {},
     "output_type": "execute_result"
    }
   ],
   "source": [
    "zara = pd.read_csv(\"../datos/01 Spotify/01 Resumen Marcas/resumen_zara.csv\")\n",
    "zara[\"unique_artists\"] = zara[\"unique_artists\"].apply(ast.literal_eval)\n",
    "zara[\"artist_ranking\"] = zara[\"artist_ranking\"].apply(lambda x: ast.literal_eval(x) if pd.notna(x) else [])\n",
    "zara[\"genres\"] = zara[\"genres\"].apply(lambda x: ast.literal_eval(x) if pd.notna(x) else [])\n",
    "zara[\"genres_ranking\"] = zara[\"genres_ranking\"].apply(lambda x: ast.literal_eval(x) if pd.notna(x) else [])\n",
    "zara"
   ]
  }
 ],
 "metadata": {
  "kernelspec": {
   "display_name": "Proyecto-Final",
   "language": "python",
   "name": "python3"
  },
  "language_info": {
   "codemirror_mode": {
    "name": "ipython",
    "version": 3
   },
   "file_extension": ".py",
   "mimetype": "text/x-python",
   "name": "python",
   "nbconvert_exporter": "python",
   "pygments_lexer": "ipython3",
   "version": "3.11.9"
  }
 },
 "nbformat": 4,
 "nbformat_minor": 2
}
