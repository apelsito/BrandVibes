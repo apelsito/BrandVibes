{
 "cells": [
  {
   "cell_type": "markdown",
   "metadata": {},
   "source": [
    "# Que vamos a hacer:\n",
    "### 3 Sistemas de recomendación\n",
    "- Afinidad a Marca por artistas\n",
    "- Afinidad a Marca por géneros\n",
    "- Afinidad a Marca por subgéneros\n",
    "\n",
    "- Tenemos que tener en cuenta que el usuario puede que no coincida con nada\n",
    "- Que los rankings pueden ser de distinta longitud (uno mas largo que el otro)\n",
    "- Que el numero de apariciones no podemos usarlo, debemos usar como peso la posicion del ranking que tenga, pues el numero de apariciones setea un peso distinto e injusto (cantidad de muestras en marca contra solo uno)"
   ]
  },
  {
   "cell_type": "code",
   "execution_count": 1,
   "metadata": {},
   "outputs": [],
   "source": [
    "import sys\n",
    "sys.path.append(\"../\")\n",
    "import pandas as pd\n",
    "from scipy.spatial.distance import pdist, squareform\n",
    "import numpy as np\n",
    "import os\n",
    "from supabase import create_client, Client\n",
    "from dotenv import load_dotenv\n",
    "# Cargar variables de entorno\n",
    "load_dotenv()\n",
    "\n",
    "# Configuración de Supabase\n",
    "url = os.getenv(\"project_url\")\n",
    "key = os.getenv(\"browser_safe_key\")\n",
    "supabase: Client = create_client(url, key)"
   ]
  },
  {
   "cell_type": "markdown",
   "metadata": {},
   "source": [
    "# Afinidad a Marca por artistas"
   ]
  },
  {
   "cell_type": "code",
   "execution_count": 2,
   "metadata": {},
   "outputs": [],
   "source": [
    "ranking_zara = supabase.table(\"artists_ranking\").select(\"artist_name\",\"number_of_appearances\").eq(\"brand_id\",2).order(\"number_of_appearances\",desc=True).execute().data\n",
    "artistas = []\n",
    "apariciones = []\n",
    "for ranking in ranking_zara:\n",
    "    artistas.append(ranking[\"artist_name\"])\n",
    "    apariciones.append(ranking[\"number_of_appearances\"])\n",
    "\n",
    "df_zara = pd.DataFrame({\n",
    "    \"artista\" : artistas,\n",
    "    \"apariciones\" : apariciones\n",
    "})\n",
    "\n",
    "df_zara.index = df_zara.index + 1\n",
    "df_zara.reset_index(inplace=True)\n",
    "df_zara.columns = [\"ranking\",\"artista\",\"apariciones\"]\n",
    "df_zara.drop(columns=\"apariciones\",inplace=True)\n",
    "df_zara[\"artista\"] = df_zara[\"artista\"].astype(str)"
   ]
  },
  {
   "cell_type": "code",
   "execution_count": 3,
   "metadata": {},
   "outputs": [],
   "source": [
    "ranking_user = supabase.table(\"user_artists_ranking\").select(\"artist_name\",\"number_of_appearances\").eq(\"user_id\",\"gonzaloruiperez\").order(\"number_of_appearances\",desc=True).execute().data\n",
    "artistas = []\n",
    "apariciones = []\n",
    "for ranking in ranking_user:\n",
    "    artistas.append(ranking[\"artist_name\"])\n",
    "    apariciones.append(ranking[\"number_of_appearances\"])\n",
    "\n",
    "df_user = pd.DataFrame({\n",
    "    \"artista\" : artistas,\n",
    "    \"apariciones\" : apariciones\n",
    "})\n",
    "\n",
    "df_user.index = df_user.index + 1\n",
    "df_user.reset_index(inplace=True)\n",
    "df_user.columns = [\"ranking\",\"artista\",\"apariciones\"]\n",
    "df_user.drop(columns=\"apariciones\",inplace=True)\n",
    "df_user[\"artista\"] = df_user[\"artista\"].astype(str)"
   ]
  },
  {
   "cell_type": "markdown",
   "metadata": {},
   "source": [
    "# 1 Buscamos los artistas comunes\n",
    "Dejando unicamente aquellos que coinciden con su posición en cada ranking!"
   ]
  },
  {
   "cell_type": "code",
   "execution_count": 4,
   "metadata": {},
   "outputs": [],
   "source": [
    "# Obtener los artistas en común\n",
    "artistas_comunes = set(df_user['artista']).intersection(set(df_zara['artista']))\n",
    "df_user_filtrado = df_user[df_user['artista'].isin(artistas_comunes)]\n",
    "df_zara_filtrado = df_zara[df_zara['artista'].isin(artistas_comunes)]\n",
    "\n",
    "df_user_filtrado.reset_index(drop=True, inplace=True)\n",
    "df_zara_filtrado.reset_index(drop=True, inplace=True)"
   ]
  },
  {
   "cell_type": "markdown",
   "metadata": {},
   "source": [
    "# 2 Asignamos pesos según su posición en el ranking \n",
    "\n",
    "- Fórmula utilizada\n",
    "$$\n",
    "peso = \\frac{1}{\\text{posición}}\n",
    "$$\n",
    "\n",
    "No buscamos complejidad, buscamos que funcione de momento\n"
   ]
  },
  {
   "cell_type": "code",
   "execution_count": 5,
   "metadata": {},
   "outputs": [],
   "source": [
    "# Asignar pesos en base a la posición en el ranking\n",
    "df_user_filtrado[\"peso\"] = 1 / df_user_filtrado[\"ranking\"]\n",
    "df_zara_filtrado[\"peso\"] = 1 / df_zara_filtrado[\"ranking\"]"
   ]
  },
  {
   "cell_type": "markdown",
   "metadata": {},
   "source": [
    "# 3 Normalizamos los pesos\n",
    "- Dado que la longitud y ranking es distinto, debemos normalizar los pesos a la misma escala\n",
    "- De esta forma nos aseguramos de que el cálculo de la afinidad es justo\n",
    "- Fórmula utilizada\n",
    "\n",
    "$$\n",
    "peso\\_normalizado = \\frac{peso\\_original}{\\sum peso\\_original}\n",
    "$$\n",
    "\n",
    "- Ahora los pesos están a la misma escala\n",
    "\n",
    "### Operador /=\n",
    "- Es lo mismo que\n",
    "```python\n",
    "    df_user_filtrado[\"peso\"] = df_user_filtrado[\"peso\"] / df_user_filtrado[\"peso\"].sum()\n",
    "```\n",
    "\n",
    "- Esto garantiza que todos los pesos sumen 1, permitiendo comparaciones justas entre rankings de distinto tamaño.\n",
    "- Normalizar los pesos evita que rankings más largos o cortos afecten injustamente el cálculo de afinidad.\n"
   ]
  },
  {
   "cell_type": "code",
   "execution_count": 6,
   "metadata": {},
   "outputs": [],
   "source": [
    "# Normalizar los pesos para evitar sesgos por diferencias de tamaño\n",
    "df_user_filtrado[\"peso\"] /= df_user_filtrado[\"peso\"].sum()\n",
    "df_zara_filtrado[\"peso\"] /= df_zara_filtrado[\"peso\"].sum()"
   ]
  },
  {
   "cell_type": "markdown",
   "metadata": {},
   "source": [
    "# 4 Poner como index artista y peso se queda como columna"
   ]
  },
  {
   "cell_type": "code",
   "execution_count": 7,
   "metadata": {},
   "outputs": [],
   "source": [
    "df_user_filtrado = df_user_filtrado.set_index(\"artista\")[[\"peso\"]]\n",
    "df_zara_filtrado = df_zara_filtrado.set_index(\"artista\")[[\"peso\"]]"
   ]
  },
  {
   "cell_type": "markdown",
   "metadata": {},
   "source": [
    "# 5 Renombrar columnas"
   ]
  },
  {
   "cell_type": "code",
   "execution_count": 8,
   "metadata": {},
   "outputs": [],
   "source": [
    "df_user_filtrado.rename(columns={\"peso\":\"peso_user\"},inplace=True)\n",
    "df_zara_filtrado.rename(columns={\"peso\":\"peso_marca\"},inplace=True)"
   ]
  },
  {
   "cell_type": "markdown",
   "metadata": {},
   "source": [
    "# 6 Fusionar los DataFrames en uno solo alineado por artista"
   ]
  },
  {
   "cell_type": "code",
   "execution_count": 9,
   "metadata": {},
   "outputs": [
    {
     "data": {
      "text/html": [
       "<div>\n",
       "<style scoped>\n",
       "    .dataframe tbody tr th:only-of-type {\n",
       "        vertical-align: middle;\n",
       "    }\n",
       "\n",
       "    .dataframe tbody tr th {\n",
       "        vertical-align: top;\n",
       "    }\n",
       "\n",
       "    .dataframe thead th {\n",
       "        text-align: right;\n",
       "    }\n",
       "</style>\n",
       "<table border=\"1\" class=\"dataframe\">\n",
       "  <thead>\n",
       "    <tr style=\"text-align: right;\">\n",
       "      <th></th>\n",
       "      <th>peso_user</th>\n",
       "      <th>peso_marca</th>\n",
       "    </tr>\n",
       "    <tr>\n",
       "      <th>artista</th>\n",
       "      <th></th>\n",
       "      <th></th>\n",
       "    </tr>\n",
       "  </thead>\n",
       "  <tbody>\n",
       "    <tr>\n",
       "      <th>dave rodgers</th>\n",
       "      <td>0.150431</td>\n",
       "      <td>0.000002</td>\n",
       "    </tr>\n",
       "    <tr>\n",
       "      <th>Hardwell</th>\n",
       "      <td>0.075215</td>\n",
       "      <td>0.000236</td>\n",
       "    </tr>\n",
       "    <tr>\n",
       "      <th>David Guetta</th>\n",
       "      <td>0.050144</td>\n",
       "      <td>0.033783</td>\n",
       "    </tr>\n",
       "    <tr>\n",
       "      <th>Max Coveri</th>\n",
       "      <td>0.037608</td>\n",
       "      <td>0.000004</td>\n",
       "    </tr>\n",
       "    <tr>\n",
       "      <th>Bizarrap</th>\n",
       "      <td>0.030086</td>\n",
       "      <td>0.000704</td>\n",
       "    </tr>\n",
       "  </tbody>\n",
       "</table>\n",
       "</div>"
      ],
      "text/plain": [
       "              peso_user  peso_marca\n",
       "artista                            \n",
       "dave rodgers   0.150431    0.000002\n",
       "Hardwell       0.075215    0.000236\n",
       "David Guetta   0.050144    0.033783\n",
       "Max Coveri     0.037608    0.000004\n",
       "Bizarrap       0.030086    0.000704"
      ]
     },
     "execution_count": 9,
     "metadata": {},
     "output_type": "execute_result"
    }
   ],
   "source": [
    "union = df_user_filtrado.merge(df_zara_filtrado,left_index=True,right_index=True)\n",
    "union.head()"
   ]
  },
  {
   "cell_type": "markdown",
   "metadata": {},
   "source": [
    "# 7 Calcular distancia euclidiana\n",
    "- Con pdist calculamos distancia euclidiana y devuelve la matriz de distancias compacta\n",
    "- Con squareform convertimos la matriz compacta en una matriz cuadrada de distancias"
   ]
  },
  {
   "cell_type": "code",
   "execution_count": 10,
   "metadata": {},
   "outputs": [],
   "source": [
    "from scipy.spatial.distance import pdist, squareform\n",
    "import numpy as np\n",
    "\n",
    "distancia = squareform(pdist(union,metric=\"mahalanobis\"))"
   ]
  },
  {
   "cell_type": "markdown",
   "metadata": {},
   "source": [
    "# 8 Convertir la distancia en Similitud\n",
    "- Convertimos a un rango de 0,1 la distancia\n",
    "- Quitamos valores negativos\n",
    "- hacemos que una menor distancia signifique mayor similitud"
   ]
  },
  {
   "cell_type": "code",
   "execution_count": 11,
   "metadata": {},
   "outputs": [],
   "source": [
    "similitud = 1 / (1 + distancia)"
   ]
  },
  {
   "cell_type": "markdown",
   "metadata": {},
   "source": [
    "# 9 Extraer afinidad a la marca"
   ]
  },
  {
   "cell_type": "code",
   "execution_count": 12,
   "metadata": {},
   "outputs": [],
   "source": [
    "afinidad = similitud[0,1] * 100"
   ]
  },
  {
   "cell_type": "code",
   "execution_count": 159,
   "metadata": {},
   "outputs": [
    {
     "data": {
      "text/plain": [
       "np.float64(7.69884742811001)"
      ]
     },
     "execution_count": 13,
     "metadata": {},
     "output_type": "execute_result"
    }
   ],
   "source": [
    "afinidad"
   ]
  },
  {
   "cell_type": "markdown",
   "metadata": {},
   "source": [
    "# 10 Ver resultados según distintas métricas\n",
    "- cosine: 99.999%\n",
    "- correlation: 100%\n",
    "- canberra: 43,21%\n",
    "- euclidean: 93,0045%\n",
    "- mahalanobis: 7,69%"
   ]
  },
  {
   "cell_type": "markdown",
   "metadata": {},
   "source": [
    "# No continuamos\n",
    "- Debido a los resultados obtenidos, pasamos a otro modelo"
   ]
  }
 ],
 "metadata": {
  "kernelspec": {
   "display_name": "Proyecto-Final",
   "language": "python",
   "name": "python3"
  },
  "language_info": {
   "codemirror_mode": {
    "name": "ipython",
    "version": 3
   },
   "file_extension": ".py",
   "mimetype": "text/x-python",
   "name": "python",
   "nbconvert_exporter": "python",
   "pygments_lexer": "ipython3",
   "version": "3.11.9"
  }
 },
 "nbformat": 4,
 "nbformat_minor": 2
}
