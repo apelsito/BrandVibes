{
 "cells": [
  {
   "cell_type": "code",
   "execution_count": 1,
   "metadata": {},
   "outputs": [],
   "source": [
    "# Tratamiento de datos\n",
    "# -----------------------------------------------------------------------\n",
    "import pandas as pd\n",
    "import numpy as np\n",
    "# Requests\n",
    "import requests\n",
    "from time import sleep\n",
    "from tqdm import tqdm\n",
    "\n",
    "# Para convertir de string a diccionario\n",
    "import ast\n",
    "import os\n",
    "import json\n",
    "\n",
    "import sys\n",
    "sys.path.append(\"../\")\n",
    "import src.soporte_spotify as api"
   ]
  },
  {
   "cell_type": "code",
   "execution_count": 2,
   "metadata": {},
   "outputs": [],
   "source": [
    "# sp = api.load_credentials()\n",
    "# sp.current_user()"
   ]
  },
  {
   "cell_type": "code",
   "execution_count": null,
   "metadata": {},
   "outputs": [],
   "source": [
    "def obtener_generos_artista(sp, id_artista):\n",
    "    \"\"\"\n",
    "    Dado un id de artista, devuelve los géneros del artista.\n",
    "    \"\"\"\n",
    "    artist = sp.artist(id_artista)\n",
    "    return artist[\"genres\"]"
   ]
  },
  {
   "cell_type": "code",
   "execution_count": 3,
   "metadata": {},
   "outputs": [
    {
     "data": {
      "text/html": [
       "<div>\n",
       "<style scoped>\n",
       "    .dataframe tbody tr th:only-of-type {\n",
       "        vertical-align: middle;\n",
       "    }\n",
       "\n",
       "    .dataframe tbody tr th {\n",
       "        vertical-align: top;\n",
       "    }\n",
       "\n",
       "    .dataframe thead th {\n",
       "        text-align: right;\n",
       "    }\n",
       "</style>\n",
       "<table border=\"1\" class=\"dataframe\">\n",
       "  <thead>\n",
       "    <tr style=\"text-align: right;\">\n",
       "      <th></th>\n",
       "      <th>brand</th>\n",
       "      <th>followers</th>\n",
       "      <th>unique_artists</th>\n",
       "      <th>artist_ranking</th>\n",
       "    </tr>\n",
       "  </thead>\n",
       "  <tbody>\n",
       "    <tr>\n",
       "      <th>0</th>\n",
       "      <td>Zara</td>\n",
       "      <td>848</td>\n",
       "      <td>{'3qm84nBOXUEQ2vnTfUTTFC': 'Guns N' Roses', '6...</td>\n",
       "      <td>[(The Weeknd, 346), (Dua Lipa, 298), (Coldplay...</td>\n",
       "    </tr>\n",
       "  </tbody>\n",
       "</table>\n",
       "</div>"
      ],
      "text/plain": [
       "  brand  followers                                     unique_artists  \\\n",
       "0  Zara        848  {'3qm84nBOXUEQ2vnTfUTTFC': 'Guns N' Roses', '6...   \n",
       "\n",
       "                                      artist_ranking  \n",
       "0  [(The Weeknd, 346), (Dua Lipa, 298), (Coldplay...  "
      ]
     },
     "execution_count": 3,
     "metadata": {},
     "output_type": "execute_result"
    }
   ],
   "source": [
    "zara = pd.read_csv('../datos/01 Spotify/01 Resumen Marcas/resumen_zara.csv')\n",
    "zara[\"unique_artists\"] = zara[\"unique_artists\"].apply(ast.literal_eval)\n",
    "zara[\"artist_ranking\"] = zara[\"artist_ranking\"].apply(lambda x: ast.literal_eval(x) if pd.notna(x) else [])\n",
    "zara"
   ]
  },
  {
   "cell_type": "code",
   "execution_count": 4,
   "metadata": {},
   "outputs": [
    {
     "name": "stderr",
     "output_type": "stream",
     "text": [
      "Generando Urls: 100%|██████████| 2214/2214 [00:00<00:00, 491566.83it/s]\n",
      "Realizando Petición a Spotify:   2%|▏         | 50/2214 [00:10<08:08,  4.43it/s]"
     ]
    },
    {
     "name": "stdout",
     "output_type": "stream",
     "text": [
      "Rate limit alcanzado. Esperando 19.72 segundos...\n"
     ]
    },
    {
     "name": "stderr",
     "output_type": "stream",
     "text": [
      "Realizando Petición a Spotify:   5%|▍         | 100/2214 [00:39<07:25,  4.74it/s] "
     ]
    },
    {
     "name": "stdout",
     "output_type": "stream",
     "text": [
      "Rate limit alcanzado. Esperando 20.11 segundos...\n"
     ]
    },
    {
     "name": "stderr",
     "output_type": "stream",
     "text": [
      "Realizando Petición a Spotify:   7%|▋         | 150/2214 [01:10<06:55,  4.96it/s]  "
     ]
    },
    {
     "name": "stdout",
     "output_type": "stream",
     "text": [
      "Rate limit alcanzado. Esperando 19.86 segundos...\n"
     ]
    },
    {
     "name": "stderr",
     "output_type": "stream",
     "text": [
      "Realizando Petición a Spotify:   9%|▉         | 200/2214 [01:39<05:58,  5.62it/s]  "
     ]
    },
    {
     "name": "stdout",
     "output_type": "stream",
     "text": [
      "Rate limit alcanzado. Esperando 20.38 segundos...\n"
     ]
    },
    {
     "name": "stderr",
     "output_type": "stream",
     "text": [
      "Realizando Petición a Spotify:  11%|█▏        | 250/2214 [02:09<06:49,  4.80it/s]  "
     ]
    },
    {
     "name": "stdout",
     "output_type": "stream",
     "text": [
      "Rate limit alcanzado. Esperando 20.13 segundos...\n"
     ]
    },
    {
     "name": "stderr",
     "output_type": "stream",
     "text": [
      "Realizando Petición a Spotify:  14%|█▎        | 300/2214 [02:39<06:34,  4.86it/s]  "
     ]
    },
    {
     "name": "stdout",
     "output_type": "stream",
     "text": [
      "Rate limit alcanzado. Esperando 20.32 segundos...\n"
     ]
    },
    {
     "name": "stderr",
     "output_type": "stream",
     "text": [
      "Realizando Petición a Spotify:  16%|█▌        | 350/2214 [03:10<06:16,  4.95it/s]  "
     ]
    },
    {
     "name": "stdout",
     "output_type": "stream",
     "text": [
      "Rate limit alcanzado. Esperando 19.22 segundos...\n"
     ]
    },
    {
     "name": "stderr",
     "output_type": "stream",
     "text": [
      "Realizando Petición a Spotify:  18%|█▊        | 400/2214 [03:39<05:29,  5.51it/s]  "
     ]
    },
    {
     "name": "stdout",
     "output_type": "stream",
     "text": [
      "Rate limit alcanzado. Esperando 20.97 segundos...\n"
     ]
    },
    {
     "name": "stderr",
     "output_type": "stream",
     "text": [
      "Realizando Petición a Spotify:  20%|██        | 450/2214 [04:09<05:05,  5.78it/s]  "
     ]
    },
    {
     "name": "stdout",
     "output_type": "stream",
     "text": [
      "Rate limit alcanzado. Esperando 20.54 segundos...\n"
     ]
    },
    {
     "name": "stderr",
     "output_type": "stream",
     "text": [
      "Realizando Petición a Spotify:  23%|██▎       | 500/2214 [04:42<09:13,  3.10it/s]  "
     ]
    },
    {
     "name": "stdout",
     "output_type": "stream",
     "text": [
      "Rate limit alcanzado. Esperando 17.25 segundos...\n"
     ]
    },
    {
     "name": "stderr",
     "output_type": "stream",
     "text": [
      "Realizando Petición a Spotify:  25%|██▍       | 550/2214 [05:10<04:51,  5.71it/s]  "
     ]
    },
    {
     "name": "stdout",
     "output_type": "stream",
     "text": [
      "Rate limit alcanzado. Esperando 19.71 segundos...\n"
     ]
    },
    {
     "name": "stderr",
     "output_type": "stream",
     "text": [
      "Realizando Petición a Spotify:  27%|██▋       | 600/2214 [05:39<05:34,  4.82it/s]  "
     ]
    },
    {
     "name": "stdout",
     "output_type": "stream",
     "text": [
      "Rate limit alcanzado. Esperando 20.81 segundos...\n"
     ]
    },
    {
     "name": "stderr",
     "output_type": "stream",
     "text": [
      "Realizando Petición a Spotify:  29%|██▉       | 650/2214 [06:10<05:20,  4.87it/s]  "
     ]
    },
    {
     "name": "stdout",
     "output_type": "stream",
     "text": [
      "Rate limit alcanzado. Esperando 19.53 segundos...\n"
     ]
    },
    {
     "name": "stderr",
     "output_type": "stream",
     "text": [
      "Realizando Petición a Spotify:  32%|███▏      | 700/2214 [06:39<05:14,  4.82it/s]  "
     ]
    },
    {
     "name": "stdout",
     "output_type": "stream",
     "text": [
      "Rate limit alcanzado. Esperando 20.07 segundos...\n"
     ]
    },
    {
     "name": "stderr",
     "output_type": "stream",
     "text": [
      "Realizando Petición a Spotify:  34%|███▍      | 750/2214 [07:10<05:04,  4.81it/s]  "
     ]
    },
    {
     "name": "stdout",
     "output_type": "stream",
     "text": [
      "Rate limit alcanzado. Esperando 19.10 segundos...\n"
     ]
    },
    {
     "name": "stderr",
     "output_type": "stream",
     "text": [
      "Realizando Petición a Spotify:  36%|███▌      | 800/2214 [07:39<04:41,  5.02it/s]  "
     ]
    },
    {
     "name": "stdout",
     "output_type": "stream",
     "text": [
      "Rate limit alcanzado. Esperando 20.10 segundos...\n"
     ]
    },
    {
     "name": "stderr",
     "output_type": "stream",
     "text": [
      "Realizando Petición a Spotify:  38%|███▊      | 850/2214 [08:09<04:38,  4.90it/s]  "
     ]
    },
    {
     "name": "stdout",
     "output_type": "stream",
     "text": [
      "Rate limit alcanzado. Esperando 20.40 segundos...\n"
     ]
    },
    {
     "name": "stderr",
     "output_type": "stream",
     "text": [
      "Realizando Petición a Spotify:  41%|████      | 900/2214 [08:39<03:59,  5.49it/s]  "
     ]
    },
    {
     "name": "stdout",
     "output_type": "stream",
     "text": [
      "Rate limit alcanzado. Esperando 20.25 segundos...\n"
     ]
    },
    {
     "name": "stderr",
     "output_type": "stream",
     "text": [
      "Realizando Petición a Spotify:  43%|████▎     | 950/2214 [09:09<03:41,  5.70it/s]  "
     ]
    },
    {
     "name": "stdout",
     "output_type": "stream",
     "text": [
      "Rate limit alcanzado. Esperando 20.69 segundos...\n"
     ]
    },
    {
     "name": "stderr",
     "output_type": "stream",
     "text": [
      "Realizando Petición a Spotify:  45%|████▌     | 1000/2214 [09:39<03:35,  5.63it/s] "
     ]
    },
    {
     "name": "stdout",
     "output_type": "stream",
     "text": [
      "Rate limit alcanzado. Esperando 20.53 segundos...\n"
     ]
    },
    {
     "name": "stderr",
     "output_type": "stream",
     "text": [
      "Realizando Petición a Spotify:  47%|████▋     | 1050/2214 [10:09<03:48,  5.10it/s]  "
     ]
    },
    {
     "name": "stdout",
     "output_type": "stream",
     "text": [
      "Rate limit alcanzado. Esperando 20.26 segundos...\n"
     ]
    },
    {
     "name": "stderr",
     "output_type": "stream",
     "text": [
      "Realizando Petición a Spotify:  50%|████▉     | 1100/2214 [10:39<03:02,  6.10it/s]  "
     ]
    },
    {
     "name": "stdout",
     "output_type": "stream",
     "text": [
      "Rate limit alcanzado. Esperando 20.65 segundos...\n"
     ]
    },
    {
     "name": "stderr",
     "output_type": "stream",
     "text": [
      "Realizando Petición a Spotify:  52%|█████▏    | 1150/2214 [11:09<03:35,  4.94it/s]  "
     ]
    },
    {
     "name": "stdout",
     "output_type": "stream",
     "text": [
      "Rate limit alcanzado. Esperando 20.29 segundos...\n"
     ]
    },
    {
     "name": "stderr",
     "output_type": "stream",
     "text": [
      "Realizando Petición a Spotify:  54%|█████▍    | 1200/2214 [11:39<03:46,  4.47it/s]  "
     ]
    },
    {
     "name": "stdout",
     "output_type": "stream",
     "text": [
      "Rate limit alcanzado. Esperando 20.16 segundos...\n"
     ]
    },
    {
     "name": "stderr",
     "output_type": "stream",
     "text": [
      "Realizando Petición a Spotify:  56%|█████▋    | 1250/2214 [12:09<03:10,  5.06it/s]  "
     ]
    },
    {
     "name": "stdout",
     "output_type": "stream",
     "text": [
      "Rate limit alcanzado. Esperando 20.36 segundos...\n"
     ]
    },
    {
     "name": "stderr",
     "output_type": "stream",
     "text": [
      "Realizando Petición a Spotify:  59%|█████▊    | 1300/2214 [12:39<02:58,  5.13it/s]  "
     ]
    },
    {
     "name": "stdout",
     "output_type": "stream",
     "text": [
      "Rate limit alcanzado. Esperando 20.02 segundos...\n"
     ]
    },
    {
     "name": "stderr",
     "output_type": "stream",
     "text": [
      "Realizando Petición a Spotify:  61%|██████    | 1350/2214 [13:09<02:23,  6.04it/s]  "
     ]
    },
    {
     "name": "stdout",
     "output_type": "stream",
     "text": [
      "Rate limit alcanzado. Esperando 20.56 segundos...\n"
     ]
    },
    {
     "name": "stderr",
     "output_type": "stream",
     "text": [
      "Realizando Petición a Spotify:  63%|██████▎   | 1400/2214 [13:39<02:39,  5.11it/s]  "
     ]
    },
    {
     "name": "stdout",
     "output_type": "stream",
     "text": [
      "Rate limit alcanzado. Esperando 20.83 segundos...\n"
     ]
    },
    {
     "name": "stderr",
     "output_type": "stream",
     "text": [
      "Realizando Petición a Spotify:  65%|██████▌   | 1450/2214 [14:09<02:14,  5.67it/s]  "
     ]
    },
    {
     "name": "stdout",
     "output_type": "stream",
     "text": [
      "Rate limit alcanzado. Esperando 20.60 segundos...\n"
     ]
    },
    {
     "name": "stderr",
     "output_type": "stream",
     "text": [
      "Realizando Petición a Spotify:  68%|██████▊   | 1500/2214 [14:39<02:02,  5.83it/s]  "
     ]
    },
    {
     "name": "stdout",
     "output_type": "stream",
     "text": [
      "Rate limit alcanzado. Esperando 20.76 segundos...\n"
     ]
    },
    {
     "name": "stderr",
     "output_type": "stream",
     "text": [
      "Realizando Petición a Spotify:  70%|███████   | 1550/2214 [15:09<02:00,  5.53it/s]  "
     ]
    },
    {
     "name": "stdout",
     "output_type": "stream",
     "text": [
      "Rate limit alcanzado. Esperando 20.92 segundos...\n"
     ]
    },
    {
     "name": "stderr",
     "output_type": "stream",
     "text": [
      "Realizando Petición a Spotify:  72%|███████▏  | 1600/2214 [15:40<02:00,  5.07it/s]  "
     ]
    },
    {
     "name": "stdout",
     "output_type": "stream",
     "text": [
      "Rate limit alcanzado. Esperando 19.89 segundos...\n"
     ]
    },
    {
     "name": "stderr",
     "output_type": "stream",
     "text": [
      "Realizando Petición a Spotify:  75%|███████▍  | 1650/2214 [16:09<01:46,  5.30it/s]  "
     ]
    },
    {
     "name": "stdout",
     "output_type": "stream",
     "text": [
      "Rate limit alcanzado. Esperando 20.87 segundos...\n"
     ]
    },
    {
     "name": "stderr",
     "output_type": "stream",
     "text": [
      "Realizando Petición a Spotify:  77%|███████▋  | 1700/2214 [16:39<01:27,  5.88it/s]  "
     ]
    },
    {
     "name": "stdout",
     "output_type": "stream",
     "text": [
      "Rate limit alcanzado. Esperando 20.96 segundos...\n"
     ]
    },
    {
     "name": "stderr",
     "output_type": "stream",
     "text": [
      "Realizando Petición a Spotify:  79%|███████▉  | 1750/2214 [17:09<01:16,  6.10it/s]"
     ]
    },
    {
     "name": "stdout",
     "output_type": "stream",
     "text": [
      "Rate limit alcanzado. Esperando 20.53 segundos...\n"
     ]
    },
    {
     "name": "stderr",
     "output_type": "stream",
     "text": [
      "Realizando Petición a Spotify:  81%|████████▏ | 1800/2214 [17:39<01:20,  5.17it/s]"
     ]
    },
    {
     "name": "stdout",
     "output_type": "stream",
     "text": [
      "Rate limit alcanzado. Esperando 20.89 segundos...\n"
     ]
    },
    {
     "name": "stderr",
     "output_type": "stream",
     "text": [
      "Realizando Petición a Spotify:  84%|████████▎ | 1850/2214 [18:09<01:00,  6.01it/s]"
     ]
    },
    {
     "name": "stdout",
     "output_type": "stream",
     "text": [
      "Rate limit alcanzado. Esperando 20.56 segundos...\n"
     ]
    },
    {
     "name": "stderr",
     "output_type": "stream",
     "text": [
      "Realizando Petición a Spotify:  86%|████████▌ | 1900/2214 [18:39<00:52,  5.95it/s]"
     ]
    },
    {
     "name": "stdout",
     "output_type": "stream",
     "text": [
      "Rate limit alcanzado. Esperando 20.39 segundos...\n"
     ]
    },
    {
     "name": "stderr",
     "output_type": "stream",
     "text": [
      "Realizando Petición a Spotify:  88%|████████▊ | 1950/2214 [19:09<00:51,  5.14it/s]"
     ]
    },
    {
     "name": "stdout",
     "output_type": "stream",
     "text": [
      "Rate limit alcanzado. Esperando 20.43 segundos...\n"
     ]
    },
    {
     "name": "stderr",
     "output_type": "stream",
     "text": [
      "Realizando Petición a Spotify:  90%|█████████ | 2000/2214 [19:40<00:46,  4.62it/s]"
     ]
    },
    {
     "name": "stdout",
     "output_type": "stream",
     "text": [
      "Rate limit alcanzado. Esperando 19.83 segundos...\n"
     ]
    },
    {
     "name": "stderr",
     "output_type": "stream",
     "text": [
      "Realizando Petición a Spotify:  93%|█████████▎| 2050/2214 [20:10<00:36,  4.53it/s]"
     ]
    },
    {
     "name": "stdout",
     "output_type": "stream",
     "text": [
      "Rate limit alcanzado. Esperando 19.49 segundos...\n"
     ]
    },
    {
     "name": "stderr",
     "output_type": "stream",
     "text": [
      "Realizando Petición a Spotify:  95%|█████████▍| 2100/2214 [20:40<00:21,  5.26it/s]"
     ]
    },
    {
     "name": "stdout",
     "output_type": "stream",
     "text": [
      "Rate limit alcanzado. Esperando 20.03 segundos...\n"
     ]
    },
    {
     "name": "stderr",
     "output_type": "stream",
     "text": [
      "Realizando Petición a Spotify:  97%|█████████▋| 2150/2214 [21:10<00:11,  5.39it/s]"
     ]
    },
    {
     "name": "stdout",
     "output_type": "stream",
     "text": [
      "Rate limit alcanzado. Esperando 19.52 segundos...\n"
     ]
    },
    {
     "name": "stderr",
     "output_type": "stream",
     "text": [
      "Realizando Petición a Spotify:  99%|█████████▉| 2200/2214 [21:39<00:02,  5.19it/s]"
     ]
    },
    {
     "name": "stdout",
     "output_type": "stream",
     "text": [
      "Rate limit alcanzado. Esperando 20.07 segundos...\n"
     ]
    },
    {
     "name": "stderr",
     "output_type": "stream",
     "text": [
      "Realizando Petición a Spotify: 100%|██████████| 2214/2214 [22:02<00:00,  1.67it/s]\n"
     ]
    }
   ],
   "source": [
    "# Solicitar token y obtener artistas\n",
    "token = api.request_token(silent=True)\n",
    "generos = api.obtener_generos(token,zara[\"unique_artists\"])"
   ]
  },
  {
   "cell_type": "code",
   "execution_count": 13,
   "metadata": {},
   "outputs": [],
   "source": [
    "zara[\"genres\"] = str(list(generos.keys()))\n",
    "zara[\"genres_ranking\"] = str(sorted(generos.items(), key=lambda x: x[1], reverse=True))\n",
    "zara.to_csv(\"../datos/01 Spotify/01 Resumen Marcas/resumen_zara.csv\",index=False)"
   ]
  }
 ],
 "metadata": {
  "kernelspec": {
   "display_name": "Proyecto-Final",
   "language": "python",
   "name": "python3"
  },
  "language_info": {
   "codemirror_mode": {
    "name": "ipython",
    "version": 3
   },
   "file_extension": ".py",
   "mimetype": "text/x-python",
   "name": "python",
   "nbconvert_exporter": "python",
   "pygments_lexer": "ipython3",
   "version": "3.11.9"
  }
 },
 "nbformat": 4,
 "nbformat_minor": 2
}
