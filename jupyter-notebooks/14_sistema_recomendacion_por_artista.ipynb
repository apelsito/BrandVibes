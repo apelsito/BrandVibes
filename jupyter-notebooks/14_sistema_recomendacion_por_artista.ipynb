{
 "cells": [
  {
   "cell_type": "markdown",
   "metadata": {},
   "source": [
    "# Que vamos a hacer:\n",
    "### 3 Sistemas de recomendación\n",
    "- Afinidad a Marca por artistas\n",
    "- Afinidad a Marca por géneros\n",
    "- Afinidad a Marca por subgéneros\n",
    "\n",
    "- Tenemos que tener en cuenta que el usuario puede que no coincida con nada\n",
    "- Que los rankings pueden ser de distinta longitud (uno mas largo que el otro)\n",
    "- Que el numero de apariciones no podemos usarlo, debemos usar como peso la posicion del ranking que tenga, pues el numero de apariciones setea un peso distinto e injusto (cantidad de muestras en marca contra solo uno)"
   ]
  },
  {
   "cell_type": "code",
   "execution_count": 1,
   "metadata": {},
   "outputs": [],
   "source": [
    "import sys\n",
    "sys.path.append(\"../\")\n",
    "import pandas as pd\n",
    "from scipy.spatial.distance import pdist, squareform\n",
    "import numpy as np\n",
    "import os\n",
    "import warnings\n",
    "warnings.filterwarnings(\"ignore\")\n",
    "\n",
    "from supabase import create_client, Client\n",
    "from dotenv import load_dotenv\n",
    "# Cargar variables de entorno\n",
    "load_dotenv()\n",
    "\n",
    "# Configuración de Supabase\n",
    "url = os.getenv(\"project_url\")\n",
    "key = os.getenv(\"browser_safe_key\")\n",
    "supabase: Client = create_client(url, key)"
   ]
  },
  {
   "cell_type": "code",
   "execution_count": 2,
   "metadata": {},
   "outputs": [],
   "source": [
    "def get_brand_artist_ranking(supabase_credential,brand_id):\n",
    "    brand_ranking = supabase_credential.table(\"artists_ranking\").select(\"artist_name\",\"number_of_appearances\").eq(\"brand_id\",brand_id).order(\"number_of_appearances\",desc=True).execute().data\n",
    "    artistas = []\n",
    "    apariciones = []\n",
    "    for ranking in brand_ranking:\n",
    "        artistas.append(ranking[\"artist_name\"])\n",
    "        apariciones.append(ranking[\"number_of_appearances\"])\n",
    "\n",
    "    brand_df = pd.DataFrame({\n",
    "        \"artista\" : artistas,\n",
    "        \"apariciones\" : apariciones\n",
    "    })\n",
    "\n",
    "    brand_df.index = brand_df.index + 1\n",
    "    brand_df.reset_index(inplace=True)\n",
    "    brand_df.columns = [\"ranking\",\"artista\",\"apariciones\"]\n",
    "    brand_df.drop(columns=\"apariciones\",inplace=True)\n",
    "    brand_df[\"artista\"] = brand_df[\"artista\"].astype(str)\n",
    "    return brand_df\n",
    "\n",
    "brand_df = get_brand_artist_ranking(supabase,1)"
   ]
  },
  {
   "cell_type": "code",
   "execution_count": 3,
   "metadata": {},
   "outputs": [],
   "source": [
    "def get_user_artist_ranking(supabase_credential,user_id):\n",
    "    user_ranking = supabase_credential.table(\"user_artists_ranking\").select(\"artist_name\",\"number_of_appearances\").eq(\"user_id\",user_id).order(\"number_of_appearances\",desc=True).execute().data\n",
    "    artistas = []\n",
    "    apariciones = []\n",
    "    for ranking in user_ranking:\n",
    "        artistas.append(ranking[\"artist_name\"])\n",
    "        apariciones.append(ranking[\"number_of_appearances\"])\n",
    "\n",
    "    user_df = pd.DataFrame({\n",
    "        \"artista\" : artistas,\n",
    "        \"apariciones\" : apariciones\n",
    "    })\n",
    "\n",
    "    user_df.index = user_df.index + 1\n",
    "    user_df.reset_index(inplace=True)\n",
    "    user_df.columns = [\"ranking\",\"artista\",\"apariciones\"]\n",
    "    user_df.drop(columns=\"apariciones\",inplace=True)\n",
    "    user_df[\"artista\"] = user_df[\"artista\"].astype(str)\n",
    "    return user_df\n",
    "\n",
    "user_df = get_user_artist_ranking(supabase,\"gonzaloruiperez\")\n"
   ]
  },
  {
   "cell_type": "code",
   "execution_count": null,
   "metadata": {},
   "outputs": [],
   "source": [
    "def obtener_afinidad_por_artista(supabase_credential,brand_id,user_id):\n",
    "    \n",
    "    # Obtener los rankings de la marca y el usuario\n",
    "    brand_df = get_brand_artist_ranking(supabase_credential, brand_id)\n",
    "    user_df = get_user_artist_ranking(supabase_credential, user_id)\n",
    "    \n",
    "    # Obtener los artistas en común\n",
    "    artistas_comunes = set(user_df['artista']).intersection(set(brand_df['artista']))\n",
    "    user_df_filtrado = user_df[user_df['artista'].isin(artistas_comunes)]\n",
    "    brand_df_filtrado = brand_df[brand_df['artista'].isin(artistas_comunes)]\n",
    "\n",
    "    # Reseteamos el Index\n",
    "    user_df_filtrado.reset_index(drop=True, inplace=True)\n",
    "    brand_df_filtrado.reset_index(drop=True, inplace=True)\n",
    "\n",
    "    # Asignar pesos en base a la posición en el ranking\n",
    "    user_df_filtrado[\"peso\"] = 1 / user_df_filtrado[\"ranking\"]\n",
    "    brand_df_filtrado[\"peso\"] = 1 / brand_df_filtrado[\"ranking\"]\n",
    "\n",
    "    # Normalizar los pesos para evitar sesgos por diferencias de tamaño\n",
    "    user_df_filtrado[\"peso\"] /= user_df_filtrado[\"peso\"].sum()\n",
    "    brand_df_filtrado[\"peso\"] /= brand_df_filtrado[\"peso\"].sum()\n",
    "\n",
    "    # Poner como index artista y peso se queda como columna\n",
    "    pesos_user = user_df_filtrado.set_index(\"artista\")[\"peso\"]\n",
    "    pesos_brand = brand_df_filtrado.set_index(\"artista\")[\"peso\"]\n",
    "\n",
    "    # Ordenamos los artistas por orden alfabético para que los vectores estén alineados\n",
    "    sorted_pesos = sorted(pesos_user.index) \n",
    "\n",
    "    # Generamos los vectores\n",
    "    user_vector = np.array([pesos_user[a] for a in sorted_pesos])\n",
    "    brand_vector = np.array([pesos_brand[a] for a in sorted_pesos])\n",
    "\n",
    "    # Crear matriz de comparación\n",
    "    matriz_pesos = np.vstack([user_vector, brand_vector])\n",
    "\n",
    "    # Calcular la matriz de distancias con pdist\n",
    "    matriz_distancias = squareform(pdist(matriz_pesos, metric=\"euclidean\"))\n",
    "\n",
    "    # Extraer la distancia entre usuario y marca\n",
    "    distancia = matriz_distancias[0, 1]\n",
    "\n",
    "    # Convertimos la distancia en afinidad (invirtiendo la escala)\n",
    "    afinidad = max(0, (1 - distancia) * 100)\n",
    "\n",
    "    afinidad"
   ]
  },
  {
   "cell_type": "code",
   "execution_count": 26,
   "metadata": {},
   "outputs": [
    {
     "data": {
      "text/plain": [
       "70.37"
      ]
     },
     "execution_count": 26,
     "metadata": {},
     "output_type": "execute_result"
    }
   ],
   "source": [
    "# Obtener los artistas en común\n",
    "artistas_comunes = set(user_df['artista']).intersection(set(brand_df['artista']))\n",
    "user_df_filtrado = user_df[user_df['artista'].isin(artistas_comunes)]\n",
    "brand_df_filtrado = brand_df[brand_df['artista'].isin(artistas_comunes)]\n",
    "\n",
    "# Reseteamos el Index\n",
    "user_df_filtrado.reset_index(drop=True, inplace=True)\n",
    "brand_df_filtrado.reset_index(drop=True, inplace=True)\n",
    "\n",
    "# Asignar pesos en base a la posición en el ranking\n",
    "user_df_filtrado[\"peso\"] = 1 / user_df_filtrado[\"ranking\"]\n",
    "brand_df_filtrado[\"peso\"] = 1 / brand_df_filtrado[\"ranking\"]\n",
    "\n",
    "# Normalizar los pesos para evitar sesgos por diferencias de tamaño\n",
    "user_df_filtrado[\"peso\"] /= user_df_filtrado[\"peso\"].sum()\n",
    "brand_df_filtrado[\"peso\"] /= brand_df_filtrado[\"peso\"].sum()\n",
    "\n",
    "# Poner como index artista y peso se queda como columna\n",
    "pesos_user = user_df_filtrado.set_index(\"artista\")[\"peso\"]\n",
    "pesos_brand = brand_df_filtrado.set_index(\"artista\")[\"peso\"]\n",
    "\n",
    "# Ordenamos los artistas por orden alfabético para que los vectores estén alineados\n",
    "sorted_pesos = sorted(pesos_user.index) \n",
    "\n",
    "# Generamos los vectores\n",
    "user_vector = np.array([pesos_user[a] for a in sorted_pesos])\n",
    "brand_vector = np.array([pesos_brand[a] for a in sorted_pesos])\n",
    "\n",
    "# Crear matriz de comparación\n",
    "matriz_pesos = np.vstack([user_vector, brand_vector])\n",
    "\n",
    "# Calcular la matriz de distancias con pdist\n",
    "matriz_distancias = squareform(pdist(matriz_pesos, metric=\"euclidean\"))\n",
    "\n",
    "# Extraer la distancia entre usuario y marca\n",
    "distancia = matriz_distancias[0, 1]\n",
    "\n",
    "# Convertimos la distancia en afinidad (invirtiendo la escala)\n",
    "afinidad = max(0, (1 - distancia) * 100)\n",
    "\n",
    "float(round(afinidad,2))"
   ]
  },
  {
   "cell_type": "markdown",
   "metadata": {},
   "source": [
    "# 1 Buscamos los artistas comunes\n",
    "Dejando unicamente aquellos que coinciden con su posición en cada ranking!"
   ]
  },
  {
   "cell_type": "code",
   "execution_count": 5,
   "metadata": {},
   "outputs": [],
   "source": [
    "# Obtener los artistas en común\n",
    "artistas_comunes = set(user_df['artista']).intersection(set(brand_df['artista']))\n",
    "user_df_filtrado = user_df[user_df['artista'].isin(artistas_comunes)]\n",
    "brand_df_filtrado = brand_df[brand_df['artista'].isin(artistas_comunes)]\n",
    "\n",
    "user_df_filtrado.reset_index(drop=True, inplace=True)\n",
    "brand_df_filtrado.reset_index(drop=True, inplace=True)"
   ]
  },
  {
   "cell_type": "markdown",
   "metadata": {},
   "source": [
    "# 2 Asignamos pesos según su posición en el ranking \n",
    "\n",
    "- Fórmula utilizada\n",
    "$$\n",
    "peso = \\frac{1}{\\text{posición}}\n",
    "$$\n",
    "\n",
    "No buscamos complejidad, buscamos que funcione de momento\n"
   ]
  },
  {
   "cell_type": "code",
   "execution_count": 6,
   "metadata": {},
   "outputs": [],
   "source": [
    "# Asignar pesos en base a la posición en el ranking\n",
    "user_df_filtrado[\"peso\"] = 1 / user_df_filtrado[\"ranking\"]\n",
    "brand_df_filtrado[\"peso\"] = 1 / brand_df_filtrado[\"ranking\"]"
   ]
  },
  {
   "cell_type": "markdown",
   "metadata": {},
   "source": [
    "# 3 Normalizamos los pesos\n",
    "- Dado que la longitud y ranking es distinto, debemos normalizar los pesos a la misma escala\n",
    "- De esta forma nos aseguramos de que el cálculo de la afinidad es justo\n",
    "- Fórmula utilizada\n",
    "\n",
    "$$\n",
    "peso\\_normalizado = \\frac{peso\\_original}{\\sum peso\\_original}\n",
    "$$\n",
    "\n",
    "- Ahora los pesos están a la misma escala\n",
    "\n",
    "### Operador /=\n",
    "- Es lo mismo que\n",
    "```python\n",
    "    df_user_filtrado[\"peso\"] = df_user_filtrado[\"peso\"] / df_user_filtrado[\"peso\"].sum()\n",
    "```\n",
    "\n",
    "- Esto garantiza que todos los pesos sumen 1, permitiendo comparaciones justas entre rankings de distinto tamaño.\n",
    "- Normalizar los pesos evita que rankings más largos o cortos afecten injustamente el cálculo de afinidad.\n"
   ]
  },
  {
   "cell_type": "code",
   "execution_count": 7,
   "metadata": {},
   "outputs": [],
   "source": [
    "# Normalizar los pesos para evitar sesgos por diferencias de tamaño\n",
    "user_df_filtrado[\"peso\"] /= user_df_filtrado[\"peso\"].sum()\n",
    "brand_df_filtrado[\"peso\"] /= brand_df_filtrado[\"peso\"].sum()"
   ]
  },
  {
   "cell_type": "markdown",
   "metadata": {},
   "source": [
    "# 4 Poner como index artista y peso se queda como columna"
   ]
  },
  {
   "cell_type": "code",
   "execution_count": 8,
   "metadata": {},
   "outputs": [],
   "source": [
    "# Asegurar que los artistas están alineados en el mismo orden\n",
    "pesos_usuario = user_df_filtrado.set_index(\"artista\")[\"peso\"]\n",
    "pesos_zara = brand_df_filtrado.set_index(\"artista\")[\"peso\"]"
   ]
  },
  {
   "cell_type": "markdown",
   "metadata": {},
   "source": [
    "# 5 Ordenamos los artistas para que los vectores estén alineados"
   ]
  },
  {
   "cell_type": "code",
   "execution_count": 9,
   "metadata": {},
   "outputs": [],
   "source": [
    "# Ordenamos los artistas para que los vectores estén alineados\n",
    "artistas_ordenados = sorted(pesos_usuario.index)  # Orden alfabético\n",
    "vector_usuario = np.array([pesos_usuario[a] for a in artistas_ordenados])\n",
    "vector_zara = np.array([pesos_zara[a] for a in artistas_ordenados])"
   ]
  },
  {
   "cell_type": "markdown",
   "metadata": {},
   "source": [
    "# 6 Creamos Matriz de Comparación"
   ]
  },
  {
   "cell_type": "code",
   "execution_count": 10,
   "metadata": {},
   "outputs": [],
   "source": [
    "# Crear matriz de comparación\n",
    "matriz_pesos = np.vstack([vector_usuario, vector_zara])"
   ]
  },
  {
   "cell_type": "markdown",
   "metadata": {},
   "source": [
    "# 7 Calculamos las distancias con pdist y squareform"
   ]
  },
  {
   "cell_type": "code",
   "execution_count": 11,
   "metadata": {},
   "outputs": [],
   "source": [
    "# Calcular la matriz de distancias con pdist\n",
    "matriz_distancias = squareform(pdist(matriz_pesos, metric=\"euclidean\"))"
   ]
  },
  {
   "cell_type": "markdown",
   "metadata": {},
   "source": [
    "# 8 Extraemos distancias"
   ]
  },
  {
   "cell_type": "code",
   "execution_count": 12,
   "metadata": {},
   "outputs": [],
   "source": [
    "# Extraer la distancia entre usuario y Zara\n",
    "distancia = matriz_distancias[0, 1]"
   ]
  },
  {
   "cell_type": "markdown",
   "metadata": {},
   "source": [
    "# 9 Obtenemos Porcentaje de Afinidad"
   ]
  },
  {
   "cell_type": "code",
   "execution_count": 13,
   "metadata": {},
   "outputs": [],
   "source": [
    "# Convertimos la distancia en afinidad (invirtiendo la escala)\n",
    "afinidad = max(0, (1 - distancia) * 100)"
   ]
  },
  {
   "cell_type": "code",
   "execution_count": 14,
   "metadata": {},
   "outputs": [
    {
     "data": {
      "text/plain": [
       "np.float64(70.37332110089116)"
      ]
     },
     "execution_count": 14,
     "metadata": {},
     "output_type": "execute_result"
    }
   ],
   "source": [
    "afinidad"
   ]
  },
  {
   "cell_type": "markdown",
   "metadata": {},
   "source": [
    "# Esto lo uso para ver que métricas dan"
   ]
  },
  {
   "cell_type": "code",
   "execution_count": 15,
   "metadata": {},
   "outputs": [
    {
     "name": "stdout",
     "output_type": "stream",
     "text": [
      "Afinidad con braycurtis: 26.121723454494315%\n",
      "Afinidad con chebyshev: 80.88734399546608%\n",
      "Afinidad con cosine: 11.255790055954595%\n",
      "Afinidad con euclidean: 70.37332110089116%\n",
      "Afinidad con jensenshannon: 36.71152212714518%\n",
      "Afinidad con minkowski: 70.37332110089116%\n"
     ]
    }
   ],
   "source": [
    "metricas = [\"braycurtis\", \"chebyshev\", \"cosine\", \"euclidean\",\"jensenshannon\", \"minkowski\"]\n",
    "\n",
    "for metrica in metricas:\n",
    "    # Calcular la matriz de distancias con pdist\n",
    "    matriz_distancias = squareform(pdist(matriz_pesos, metric=metrica))\n",
    "    # Extraer la distancia entre usuario y Zara\n",
    "    distancia = matriz_distancias[0, 1]\n",
    "    # Convertimos la distancia en afinidad (invirtiendo la escala)\n",
    "    afinidad = max(0, (1 - distancia) * 100)\n",
    "    print(f\"Afinidad con {metrica}: {afinidad}%\")"
   ]
  },
  {
   "cell_type": "code",
   "execution_count": 16,
   "metadata": {},
   "outputs": [
    {
     "name": "stdout",
     "output_type": "stream",
     "text": [
      "Afinidad con braycurtis: 26.121723454494315%\n",
      "Afinidad con canberra: 0%\n",
      "Afinidad con chebyshev: 80.88734399546608%\n",
      "Afinidad con cityblock: 0%\n",
      "Afinidad con correlation: 9.112750596419872%\n",
      "Afinidad con cosine: 11.255790055954595%\n",
      "Afinidad con dice: 0.5349848238353938%\n",
      "Afinidad con euclidean: 70.37332110089116%\n",
      "Afinidad con hamming: 0%\n",
      "Afinidad con jaccard: 100.0%\n",
      "Afinidad con jensenshannon: 36.71152212714518%\n",
      "Afinidad con kulczynski1: 0%\n",
      "Afinidad con matching: 0%\n",
      "Afinidad con minkowski: 70.37332110089116%\n",
      "Afinidad con rogerstanimoto: 100.0%\n",
      "Afinidad con russellrao: 100.0%\n",
      "Afinidad con seuclidean: 0%\n",
      "Afinidad con sokalmichener: 100.0%\n",
      "Afinidad con sokalsneath: 100.0%\n",
      "Afinidad con sqeuclidean: 91.22259897409099%\n",
      "Afinidad con yule: 100.0%\n"
     ]
    }
   ],
   "source": [
    "metricas = [\"braycurtis\", \"canberra\", \"chebyshev\", \"cityblock\", \"correlation\", \"cosine\",\n",
    "             \"dice\", \"euclidean\", \"hamming\", \"jaccard\", \"jensenshannon\", \"kulczynski1\",\n",
    "                \"matching\", \"minkowski\", \"rogerstanimoto\", \"russellrao\",\n",
    "                 \"seuclidean\", \"sokalmichener\", \"sokalsneath\", \"sqeuclidean\", \"yule\"]\n",
    "\n",
    "for metrica in metricas:\n",
    "    # Calcular la matriz de distancias con pdist\n",
    "    matriz_distancias = squareform(pdist(matriz_pesos, metric=metrica))\n",
    "    # Extraer la distancia entre usuario y Zara\n",
    "    distancia = matriz_distancias[0, 1]\n",
    "    # Convertimos la distancia en afinidad (invirtiendo la escala)\n",
    "    afinidad = max(0, (1 - distancia) * 100)\n",
    "    print(f\"Afinidad con {metrica}: {afinidad}%\")"
   ]
  }
 ],
 "metadata": {
  "kernelspec": {
   "display_name": "Proyecto-Final",
   "language": "python",
   "name": "python3"
  },
  "language_info": {
   "codemirror_mode": {
    "name": "ipython",
    "version": 3
   },
   "file_extension": ".py",
   "mimetype": "text/x-python",
   "name": "python",
   "nbconvert_exporter": "python",
   "pygments_lexer": "ipython3",
   "version": "3.11.9"
  }
 },
 "nbformat": 4,
 "nbformat_minor": 2
}
