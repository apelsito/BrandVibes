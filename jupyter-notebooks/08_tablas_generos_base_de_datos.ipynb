{
 "cells": [
  {
   "cell_type": "markdown",
   "metadata": {},
   "source": [
    "# Contexto\n",
    "- Spotify ya no provee de acceso a ciertos api Points desde Noviembre del 2024\n",
    "- Encontré en https://gist.github.com/andytlr/4104c667a62d8145aa3a el siguiente comentario:\n",
    "    - Oh, I found a better list really, I found this chosic site that splits it into genres and subgenres and I extracted it into a json file that I'll attach here (https://drive.google.com/file/d/1w7H_myVKMI1XIx2rPQb9hlr8ZoXXz3W8/view?usp=drivesdk). Use the \"genres\" key to get the main genres and the \"subgenres\" key to get all subgenres and the \"genre_map\" to get the dict that has each main genres as keys and their subgenres as values.\n",
    "\n",
    "    - The site is https://www.chosic.com/list-of-music-genres/, it has 5600+ total subgenres, I found another one that has 6200 genres tho but no subcategory breakdown. (https://everynoise.com/everynoise1d.html)\n",
    "\n",
    "    - Also the offset doesn't let you get past the 1000 limit, it first has a range limit so the highest value of offset you can use is 1000 but if you are using Limit is 50, it's 950.\n",
    "\n",
    "- He descargado el .json y voy a mapear los subgéneros a géneros de forma que podamos obtener más información!"
   ]
  },
  {
   "cell_type": "code",
   "execution_count": 4,
   "metadata": {},
   "outputs": [],
   "source": [
    "import sys\n",
    "sys.path.append(\"../\")\n",
    "import src.soporte_sql as sql\n",
    "import pandas as pd\n",
    "import ast\n",
    "import json"
   ]
  },
  {
   "cell_type": "markdown",
   "metadata": {},
   "source": [
    "# Tabla main_genres\n",
    "- Tiene el nombre del género\n",
    "- Tiene las veces que aparece (para el ranking)\n",
    "- Conectado a la marca del que proviene"
   ]
  },
  {
   "cell_type": "code",
   "execution_count": 33,
   "metadata": {},
   "outputs": [],
   "source": [
    "generos = pd.read_csv(\"../datos/01 Spotify/01 Resumen Marcas/resumen_zara.csv\")\n",
    "generos = generos[[\"brand\",\"genres_ranking\"]]\n",
    "generos[\"genres_ranking\"] = generos[\"genres_ranking\"].apply(lambda x: ast.literal_eval(x) if pd.notna(x) else [])"
   ]
  },
  {
   "cell_type": "code",
   "execution_count": 34,
   "metadata": {},
   "outputs": [
    {
     "data": {
      "text/html": [
       "<div>\n",
       "<style scoped>\n",
       "    .dataframe tbody tr th:only-of-type {\n",
       "        vertical-align: middle;\n",
       "    }\n",
       "\n",
       "    .dataframe tbody tr th {\n",
       "        vertical-align: top;\n",
       "    }\n",
       "\n",
       "    .dataframe thead th {\n",
       "        text-align: right;\n",
       "    }\n",
       "</style>\n",
       "<table border=\"1\" class=\"dataframe\">\n",
       "  <thead>\n",
       "    <tr style=\"text-align: right;\">\n",
       "      <th></th>\n",
       "      <th>subgenre_name</th>\n",
       "      <th>number_of_appearances</th>\n",
       "      <th>brand_id</th>\n",
       "    </tr>\n",
       "  </thead>\n",
       "  <tbody>\n",
       "    <tr>\n",
       "      <th>0</th>\n",
       "      <td>lo-fi</td>\n",
       "      <td>1637</td>\n",
       "      <td>1</td>\n",
       "    </tr>\n",
       "    <tr>\n",
       "      <th>1</th>\n",
       "      <td>lo-fi beats</td>\n",
       "      <td>1235</td>\n",
       "      <td>1</td>\n",
       "    </tr>\n",
       "    <tr>\n",
       "      <th>2</th>\n",
       "      <td>afro house</td>\n",
       "      <td>1195</td>\n",
       "      <td>1</td>\n",
       "    </tr>\n",
       "    <tr>\n",
       "      <th>3</th>\n",
       "      <td>tech house</td>\n",
       "      <td>1112</td>\n",
       "      <td>1</td>\n",
       "    </tr>\n",
       "    <tr>\n",
       "      <th>4</th>\n",
       "      <td>classical</td>\n",
       "      <td>1075</td>\n",
       "      <td>1</td>\n",
       "    </tr>\n",
       "  </tbody>\n",
       "</table>\n",
       "</div>"
      ],
      "text/plain": [
       "  subgenre_name  number_of_appearances  brand_id\n",
       "0         lo-fi                   1637         1\n",
       "1   lo-fi beats                   1235         1\n",
       "2    afro house                   1195         1\n",
       "3    tech house                   1112         1\n",
       "4     classical                   1075         1"
      ]
     },
     "execution_count": 34,
     "metadata": {},
     "output_type": "execute_result"
    }
   ],
   "source": [
    "lista_brands = []\n",
    "lista_generos = []\n",
    "lista_conteos = []\n",
    "for tuplas in generos[\"genres_ranking\"]:\n",
    "    for artista, conteo in tuplas:\n",
    "        lista_generos.append(artista)\n",
    "        lista_conteos.append(conteo)\n",
    "        lista_brands.append(1) # 1 es zara en la base de datos\n",
    "\n",
    "generos = pd.DataFrame({\n",
    "    \"subgenre_name\" : lista_generos,\n",
    "    \"number_of_appearances\" : lista_conteos,\n",
    "    \"brand_id\" : lista_brands\n",
    "})\n",
    "generos.to_csv(\"../datos/02 Base de Datos/07_ranking_y_generos_zara.csv\",index=False)\n",
    "generos.head()"
   ]
  },
  {
   "cell_type": "markdown",
   "metadata": {},
   "source": [
    "### Usando el json, mapeamos los subgeneros a los géneros"
   ]
  },
  {
   "cell_type": "code",
   "execution_count": 35,
   "metadata": {},
   "outputs": [],
   "source": [
    "with open(\"../datos/00_Spotify_Genres/genres_dict.json\", \"r\") as file:\n",
    "    genres_mapping = json.load(file)"
   ]
  },
  {
   "cell_type": "code",
   "execution_count": 36,
   "metadata": {},
   "outputs": [],
   "source": [
    "dictio_genres = {}\n",
    "for main_genre, subgenres in genres_mapping[\"genres_map\"].items():\n",
    "    for subgenre in subgenres:\n",
    "        dictio_genres[subgenre] = main_genre"
   ]
  },
  {
   "cell_type": "code",
   "execution_count": 37,
   "metadata": {},
   "outputs": [],
   "source": [
    "generos[\"genre\"] = generos[\"subgenre_name\"].map(dictio_genres)"
   ]
  },
  {
   "cell_type": "code",
   "execution_count": null,
   "metadata": {},
   "outputs": [],
   "source": [
    "c = generos[\"genre\"].isna() == True\n",
    "generos[c].to_excel(\"../datos/00_Spotify_Genres/01_generos_no_identificados_zara.xlsx\")\n"
   ]
  },
  {
   "cell_type": "markdown",
   "metadata": {},
   "source": [
    "### Crear tabla y subir datos"
   ]
  },
  {
   "cell_type": "code",
   "execution_count": null,
   "metadata": {},
   "outputs": [
    {
     "name": "stdout",
     "output_type": "stream",
     "text": [
      "Conectado a la base de datos\n",
      "Se ha modificado correctamente la base de Datos\n"
     ]
    }
   ],
   "source": [
    "conexion = sql.conectar_bd()\n",
    "query = ''' create table main_genres (\n",
    "            id bigint primary key generated always as identity,\n",
    "            genre_name text not null,\n",
    "            number_of_appearances int not null,\n",
    "            brand_id bigint references brands (id) on delete cascade\n",
    "          );'''\n",
    "sql.modificar_bd(conexion,query)"
   ]
  },
  {
   "cell_type": "code",
   "execution_count": null,
   "metadata": {},
   "outputs": [
    {
     "name": "stdout",
     "output_type": "stream",
     "text": [
      "Conectado a la base de datos\n",
      "Se han añadido los valores correctamente\n"
     ]
    }
   ],
   "source": [
    "conexion = sql.conectar_bd()\n",
    "query = '''INSERT INTO genres(genre_name,number_of_appearances,brand_id) VALUES (%s,%s,%s)'''\n",
    "sql.insertar_muchos_datos(conexion,query,sql.generar_tupla(generos))"
   ]
  },
  {
   "cell_type": "markdown",
   "metadata": {},
   "source": [
    "# Tabla subgenres\n",
    "- Tiene el nombre del subgénero\n",
    "- Tiene las veces que aparece (para el ranking)\n",
    "- Conectado del main_genre al que pertenece\n",
    "- Conectado del brand al que pertenece\n"
   ]
  }
 ],
 "metadata": {
  "kernelspec": {
   "display_name": "Proyecto-Final",
   "language": "python",
   "name": "python3"
  },
  "language_info": {
   "codemirror_mode": {
    "name": "ipython",
    "version": 3
   },
   "file_extension": ".py",
   "mimetype": "text/x-python",
   "name": "python",
   "nbconvert_exporter": "python",
   "pygments_lexer": "ipython3",
   "version": "3.11.9"
  }
 },
 "nbformat": 4,
 "nbformat_minor": 2
}
