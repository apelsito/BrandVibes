{
 "cells": [
  {
   "cell_type": "code",
   "execution_count": 1,
   "metadata": {},
   "outputs": [],
   "source": [
    "# Tratamiento de datos\n",
    "# -----------------------------------------------------------------------\n",
    "import pandas as pd\n",
    "import numpy as np\n",
    "# Requests\n",
    "import requests\n",
    "from time import sleep\n",
    "from tqdm import tqdm\n",
    "\n",
    "\n",
    "import sys\n",
    "sys.path.append(\"../\")\n",
    "import src.soporte_spotify as api"
   ]
  },
  {
   "cell_type": "code",
   "execution_count": null,
   "metadata": {},
   "outputs": [],
   "source": [
    "sp = api.load_credentials()\n",
    "sp.current_user()"
   ]
  },
  {
   "cell_type": "markdown",
   "metadata": {},
   "source": [
    "# Obtener Géneros que escuchan\n",
    "- Vamos a obtener los generos que escuchan los followers que hemos almacenado"
   ]
  },
  {
   "cell_type": "code",
   "execution_count": 3,
   "metadata": {},
   "outputs": [],
   "source": [
    "zara = pd.read_csv('../datos/01 Spotify/01_followers_zara.csv',index_col=0)\n",
    "primark = pd.read_csv(\"../datos/01 Spotify/02_followers_primark.csv\",index_col=0)\n",
    "nike = pd.read_csv(\"../datos/01 Spotify/03_followers_nike.csv\",index_col=0)\n",
    "adidas = pd.read_csv(\"../datos/01 Spotify/04_followers_adidas.csv\",index_col=0)\n",
    "hm = pd.read_csv(\"../datos/01 Spotify/05_followers_hm.csv\",index_col=0)\n",
    "pullbear = pd.read_csv(\"../datos/01 Spotify/06_followers_pull_and_bear.csv\",index_col=0)\n",
    "bershka = pd.read_csv(\"../datos/01 Spotify/07_followers_bershka.csv\",index_col=0)\n",
    "stradivarius = pd.read_csv(\"../datos/01 Spotify/08_followers_stradivarius.csv\",index_col=0)\n",
    "mango = pd.read_csv(\"../datos/01 Spotify/09_followers_mango.csv\",index_col=0)\n",
    "desigual = pd.read_csv(\"../datos/01 Spotify/10_followers_desigual.csv\",index_col=0)"
   ]
  },
  {
   "cell_type": "markdown",
   "metadata": {},
   "source": [
    "# Zara"
   ]
  },
  {
   "cell_type": "code",
   "execution_count": null,
   "metadata": {},
   "outputs": [],
   "source": [
    "lista_playlists = []\n",
    "for id in tqdm(zara[\"user_id\"]):\n",
    "    playlists = api.obtener_playlists(sp,id)\n",
    "    lista_playlists.append(playlists)\n",
    "\n",
    "zara[\"playlists\"] = lista_playlists"
   ]
  },
  {
   "cell_type": "markdown",
   "metadata": {},
   "source": [
    "### Eliminar usuarios sin playlists\n",
    "- No nos aportan información "
   ]
  },
  {
   "cell_type": "code",
   "execution_count": 5,
   "metadata": {},
   "outputs": [],
   "source": [
    "zara = zara.loc[zara[\"playlists\"] != \"No playlists\"].reset_index(drop=True)"
   ]
  },
  {
   "cell_type": "markdown",
   "metadata": {},
   "source": [
    "# Primark"
   ]
  },
  {
   "cell_type": "code",
   "execution_count": null,
   "metadata": {},
   "outputs": [],
   "source": [
    "lista_playlists = []\n",
    "for id in tqdm(primark[\"user_id\"]):\n",
    "    playlists = api.obtener_playlists(sp,id)\n",
    "    lista_playlists.append(playlists)\n",
    "\n",
    "primark[\"playlists\"] = lista_playlists"
   ]
  },
  {
   "cell_type": "markdown",
   "metadata": {},
   "source": [
    "### Eliminar usuarios sin playlists\n",
    "- No nos aportan información "
   ]
  },
  {
   "cell_type": "code",
   "execution_count": null,
   "metadata": {},
   "outputs": [],
   "source": [
    "primark = primark.loc[primark[\"playlists\"] != \"No playlists\"].reset_index(drop=True)"
   ]
  },
  {
   "cell_type": "code",
   "execution_count": null,
   "metadata": {},
   "outputs": [],
   "source": [
    "primark"
   ]
  },
  {
   "cell_type": "markdown",
   "metadata": {},
   "source": [
    "# Nike"
   ]
  },
  {
   "cell_type": "code",
   "execution_count": null,
   "metadata": {},
   "outputs": [],
   "source": [
    "lista_playlists = []\n",
    "for id in tqdm(nike[\"user_id\"]):\n",
    "    playlists = api.obtener_playlists(sp,id)\n",
    "    lista_playlists.append(playlists)\n",
    "\n",
    "nike[\"playlists\"] = lista_playlists"
   ]
  },
  {
   "cell_type": "markdown",
   "metadata": {},
   "source": [
    "### Eliminar usuarios sin playlists\n",
    "- No nos aportan información "
   ]
  },
  {
   "cell_type": "code",
   "execution_count": null,
   "metadata": {},
   "outputs": [],
   "source": [
    "nike = nike.loc[nike[\"playlists\"] != \"No playlists\"].reset_index(drop=True)"
   ]
  },
  {
   "cell_type": "code",
   "execution_count": null,
   "metadata": {},
   "outputs": [],
   "source": [
    "nike"
   ]
  },
  {
   "cell_type": "markdown",
   "metadata": {},
   "source": [
    "# Adidas"
   ]
  },
  {
   "cell_type": "code",
   "execution_count": null,
   "metadata": {},
   "outputs": [],
   "source": [
    "lista_playlists = []\n",
    "for id in tqdm(adidas[\"user_id\"]):\n",
    "    playlists = api.obtener_playlists(sp,id)\n",
    "    lista_playlists.append(playlists)\n",
    "\n",
    "adidas[\"playlists\"] = lista_playlists"
   ]
  },
  {
   "cell_type": "markdown",
   "metadata": {},
   "source": [
    "### Eliminar usuarios sin playlists\n",
    "- No nos aportan información "
   ]
  },
  {
   "cell_type": "code",
   "execution_count": null,
   "metadata": {},
   "outputs": [],
   "source": [
    "adidas = adidas.loc[adidas[\"playlists\"] != \"No playlists\"].reset_index(drop=True)"
   ]
  },
  {
   "cell_type": "markdown",
   "metadata": {},
   "source": [
    "# H&M"
   ]
  },
  {
   "cell_type": "code",
   "execution_count": null,
   "metadata": {},
   "outputs": [],
   "source": [
    "lista_playlists = []\n",
    "for id in tqdm(hm[\"user_id\"]):\n",
    "    playlists = api.obtener_playlists(sp,id)\n",
    "    lista_playlists.append(playlists)\n",
    "\n",
    "hm[\"playlists\"] = lista_playlists"
   ]
  },
  {
   "cell_type": "markdown",
   "metadata": {},
   "source": [
    "### Eliminar usuarios sin playlists\n",
    "- No nos aportan información "
   ]
  },
  {
   "cell_type": "code",
   "execution_count": null,
   "metadata": {},
   "outputs": [],
   "source": [
    "hm = hm.loc[hm[\"playlists\"] != \"No playlists\"].reset_index(drop=True)"
   ]
  },
  {
   "cell_type": "markdown",
   "metadata": {},
   "source": [
    "# Pull & Bear"
   ]
  },
  {
   "cell_type": "code",
   "execution_count": null,
   "metadata": {},
   "outputs": [],
   "source": [
    "lista_playlists = []\n",
    "for id in tqdm(pullbear[\"user_id\"]):\n",
    "    playlists = api.obtener_playlists(sp,id)\n",
    "    lista_playlists.append(playlists)\n",
    "\n",
    "pullbear[\"playlists\"] = lista_playlists"
   ]
  },
  {
   "cell_type": "markdown",
   "metadata": {},
   "source": [
    "### Eliminar usuarios sin playlists\n",
    "- No nos aportan información "
   ]
  },
  {
   "cell_type": "code",
   "execution_count": null,
   "metadata": {},
   "outputs": [],
   "source": [
    "pullbear = pullbear.loc[pullbear[\"playlists\"] != \"No playlists\"].reset_index(drop=True)"
   ]
  },
  {
   "cell_type": "markdown",
   "metadata": {},
   "source": [
    "# Bershka"
   ]
  },
  {
   "cell_type": "code",
   "execution_count": null,
   "metadata": {},
   "outputs": [],
   "source": [
    "lista_playlists = []\n",
    "for id in tqdm(bershka[\"user_id\"]):\n",
    "    playlists = api.obtener_playlists(sp,id)\n",
    "    lista_playlists.append(playlists)\n",
    "\n",
    "bershka[\"playlists\"] = lista_playlists"
   ]
  },
  {
   "cell_type": "markdown",
   "metadata": {},
   "source": [
    "### Eliminar usuarios sin playlists\n",
    "- No nos aportan información "
   ]
  },
  {
   "cell_type": "code",
   "execution_count": null,
   "metadata": {},
   "outputs": [],
   "source": [
    "bershka = bershka.loc[bershka[\"playlists\"] != \"No playlists\"].reset_index(drop=True)"
   ]
  },
  {
   "cell_type": "markdown",
   "metadata": {},
   "source": [
    "# Stradivarius"
   ]
  },
  {
   "cell_type": "code",
   "execution_count": null,
   "metadata": {},
   "outputs": [],
   "source": [
    "lista_playlists = []\n",
    "for id in tqdm(stradivarius[\"user_id\"]):\n",
    "    playlists = api.obtener_playlists(sp,id)\n",
    "    lista_playlists.append(playlists)\n",
    "\n",
    "stradivarius[\"playlists\"] = lista_playlists"
   ]
  },
  {
   "cell_type": "markdown",
   "metadata": {},
   "source": [
    "### Eliminar usuarios sin playlists\n",
    "- No nos aportan información "
   ]
  },
  {
   "cell_type": "code",
   "execution_count": null,
   "metadata": {},
   "outputs": [],
   "source": [
    "stradivarius = stradivarius.loc[stradivarius[\"playlists\"] != \"No playlists\"].reset_index(drop=True)"
   ]
  },
  {
   "cell_type": "markdown",
   "metadata": {},
   "source": [
    "# Mango"
   ]
  },
  {
   "cell_type": "code",
   "execution_count": null,
   "metadata": {},
   "outputs": [],
   "source": [
    "lista_playlists = []\n",
    "for id in tqdm(mango[\"user_id\"]):\n",
    "    playlists = api.obtener_playlists(sp,id)\n",
    "    lista_playlists.append(playlists)\n",
    "\n",
    "mango[\"playlists\"] = lista_playlists"
   ]
  },
  {
   "cell_type": "markdown",
   "metadata": {},
   "source": [
    "### Eliminar usuarios sin playlists\n",
    "- No nos aportan información "
   ]
  },
  {
   "cell_type": "code",
   "execution_count": null,
   "metadata": {},
   "outputs": [],
   "source": [
    "mango = mango.loc[mango[\"playlists\"] != \"No playlists\"].reset_index(drop=True)"
   ]
  },
  {
   "cell_type": "markdown",
   "metadata": {},
   "source": [
    "# Desigual"
   ]
  },
  {
   "cell_type": "code",
   "execution_count": null,
   "metadata": {},
   "outputs": [],
   "source": [
    "lista_playlists = []\n",
    "for id in tqdm(desigual[\"user_id\"]):\n",
    "    playlists = api.obtener_playlists(sp,id)\n",
    "    lista_playlists.append(playlists)\n",
    "\n",
    "desigual[\"playlists\"] = lista_playlists"
   ]
  },
  {
   "cell_type": "markdown",
   "metadata": {},
   "source": [
    "### Eliminar usuarios sin playlists\n",
    "- No nos aportan información "
   ]
  },
  {
   "cell_type": "code",
   "execution_count": null,
   "metadata": {},
   "outputs": [],
   "source": [
    "desigual = desigual.loc[desigual[\"playlists\"] != \"No playlists\"].reset_index(drop=True)"
   ]
  }
 ],
 "metadata": {
  "kernelspec": {
   "display_name": "Proyecto-Final",
   "language": "python",
   "name": "python3"
  },
  "language_info": {
   "codemirror_mode": {
    "name": "ipython",
    "version": 3
   },
   "file_extension": ".py",
   "mimetype": "text/x-python",
   "name": "python",
   "nbconvert_exporter": "python",
   "pygments_lexer": "ipython3",
   "version": "3.11.9"
  }
 },
 "nbformat": 4,
 "nbformat_minor": 2
}
