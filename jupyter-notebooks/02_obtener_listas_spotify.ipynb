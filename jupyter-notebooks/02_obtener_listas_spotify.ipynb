{
 "cells": [
  {
   "cell_type": "code",
   "execution_count": 1,
   "metadata": {},
   "outputs": [],
   "source": [
    "# Tratamiento de datos\n",
    "# -----------------------------------------------------------------------\n",
    "import pandas as pd\n",
    "import numpy as np\n",
    "# Requests\n",
    "import requests\n",
    "from time import sleep\n",
    "from tqdm import tqdm\n",
    "\n",
    "\n",
    "import sys\n",
    "sys.path.append(\"../\")\n",
    "import src.soporte_spotify as api"
   ]
  },
  {
   "cell_type": "code",
   "execution_count": 2,
   "metadata": {},
   "outputs": [
    {
     "data": {
      "text/plain": [
       "{'country': 'ES',\n",
       " 'display_name': 'MrApple',\n",
       " 'email': 'ruiperezgonzalo4@gmail.com',\n",
       " 'explicit_content': {'filter_enabled': False, 'filter_locked': False},\n",
       " 'external_urls': {'spotify': 'https://open.spotify.com/user/gonzaloruiperez'},\n",
       " 'followers': {'href': None, 'total': 0},\n",
       " 'href': 'https://api.spotify.com/v1/users/gonzaloruiperez',\n",
       " 'id': 'gonzaloruiperez',\n",
       " 'images': [],\n",
       " 'product': 'premium',\n",
       " 'type': 'user',\n",
       " 'uri': 'spotify:user:gonzaloruiperez'}"
      ]
     },
     "execution_count": 2,
     "metadata": {},
     "output_type": "execute_result"
    }
   ],
   "source": [
    "sp = api.load_credentials()\n",
    "sp.current_user()"
   ]
  },
  {
   "cell_type": "markdown",
   "metadata": {},
   "source": [
    "# Verificar si nos han bloqueado\n",
    "- Tenemos un limite diario y si no spotify devuelve 429, algo que con spotipy no se ve, asi que usamos requests"
   ]
  },
  {
   "cell_type": "code",
   "execution_count": 3,
   "metadata": {},
   "outputs": [
    {
     "name": "stdout",
     "output_type": "stream",
     "text": [
      "Token obtenido con éxito\n",
      "429, Detalles: Too many requests\n",
      "{'cache-control': 'private, max-age=0', 'retry-after': '75514', 'access-control-allow-origin': '*', 'access-control-allow-headers': 'Accept, App-Platform, Authorization, Content-Type, Origin, Retry-After, Spotify-App-Version, X-Cloud-Trace-Context, client-token, content-access-token', 'access-control-allow-methods': 'GET, POST, OPTIONS, PUT, DELETE, PATCH', 'access-control-allow-credentials': 'true', 'access-control-max-age': '604800', 'content-encoding': 'gzip', 'strict-transport-security': 'max-age=31536000', 'x-content-type-options': 'nosniff', 'date': 'Thu, 02 Jan 2025 12:53:35 GMT', 'server': 'envoy', 'Via': 'HTTP/2 edgeproxy, 1.1 google', 'Alt-Svc': 'h3=\":443\"; ma=2592000,h3-29=\":443\"; ma=2592000', 'Transfer-Encoding': 'chunked'}\n"
     ]
    }
   ],
   "source": [
    "token = api.request_token()\n",
    "# 4. Endpoint para obtener playlists de un usuario\n",
    "user_id = \"lpet16qfnsa9zn97li98q8c50\"  # Cambia por el ID del usuario de Spotify\n",
    "url = f\"https://api.spotify.com/v1/users/{user_id}/playlists\"\n",
    "\n",
    "headers = {\n",
    "    \"Authorization\": f\"Bearer {token}\"\n",
    "}\n",
    "\n",
    "response = requests.get(url, headers=headers)\n",
    "\n",
    "\n",
    "print(f\"{response.status_code}, Detalles: {response.text}\")\n",
    "print(response.headers)\n"
   ]
  },
  {
   "cell_type": "markdown",
   "metadata": {},
   "source": [
    "# Obtener Géneros que escuchan\n",
    "- Vamos a obtener los generos que escuchan los followers que hemos almacenado"
   ]
  },
  {
   "cell_type": "code",
   "execution_count": 5,
   "metadata": {},
   "outputs": [],
   "source": [
    "zara = pd.read_csv('../datos/01 Spotify/01_followers_zara.csv',index_col=0)\n",
    "primark = pd.read_csv(\"../datos/01 Spotify/02_followers_primark.csv\",index_col=0)\n",
    "nike = pd.read_csv(\"../datos/01 Spotify/03_followers_nike.csv\",index_col=0)\n",
    "adidas = pd.read_csv(\"../datos/01 Spotify/04_followers_adidas.csv\",index_col=0)\n",
    "hm = pd.read_csv(\"../datos/01 Spotify/05_followers_hm.csv\",index_col=0)\n",
    "pullbear = pd.read_csv(\"../datos/01 Spotify/06_followers_pull_and_bear.csv\",index_col=0)\n",
    "bershka = pd.read_csv(\"../datos/01 Spotify/07_followers_bershka.csv\",index_col=0)\n",
    "stradivarius = pd.read_csv(\"../datos/01 Spotify/08_followers_stradivarius.csv\",index_col=0)\n",
    "mango = pd.read_csv(\"../datos/01 Spotify/09_followers_mango.csv\",index_col=0)\n",
    "desigual = pd.read_csv(\"../datos/01 Spotify/10_followers_desigual.csv\",index_col=0)"
   ]
  },
  {
   "cell_type": "markdown",
   "metadata": {},
   "source": [
    "# Zara"
   ]
  },
  {
   "cell_type": "code",
   "execution_count": 5,
   "metadata": {},
   "outputs": [
    {
     "name": "stderr",
     "output_type": "stream",
     "text": [
      "100%|██████████| 999/999 [04:14<00:00,  3.92it/s]\n"
     ]
    }
   ],
   "source": [
    "lista_playlists = []\n",
    "for id in tqdm(zara[\"user_id\"]):\n",
    "    playlists = api.obtener_playlists(sp,id)\n",
    "    lista_playlists.append(playlists)\n",
    "\n",
    "zara[\"playlists\"] = lista_playlists"
   ]
  },
  {
   "cell_type": "markdown",
   "metadata": {},
   "source": [
    "### Eliminar usuarios sin playlists\n",
    "- No nos aportan información "
   ]
  },
  {
   "cell_type": "code",
   "execution_count": 6,
   "metadata": {},
   "outputs": [],
   "source": [
    "zara = zara.loc[zara[\"playlists\"] != \"No playlists\"].reset_index(drop=True)\n",
    "zara.to_csv(\"../datos/01 Spotify/01_followers_zara.csv\",index=True)"
   ]
  },
  {
   "cell_type": "markdown",
   "metadata": {},
   "source": [
    "# Primark"
   ]
  },
  {
   "cell_type": "code",
   "execution_count": 8,
   "metadata": {},
   "outputs": [
    {
     "name": "stderr",
     "output_type": "stream",
     "text": [
      "100%|██████████| 997/997 [06:40<00:00,  2.49it/s]\n"
     ]
    }
   ],
   "source": [
    "lista_playlists = []\n",
    "for id in tqdm(primark[\"user_id\"]):\n",
    "    playlists = api.obtener_playlists(sp,id)\n",
    "    lista_playlists.append(playlists)\n",
    "    sleep(0.1)\n",
    "\n",
    "primark[\"playlists\"] = lista_playlists"
   ]
  },
  {
   "cell_type": "markdown",
   "metadata": {},
   "source": [
    "### Eliminar usuarios sin playlists\n",
    "- No nos aportan información "
   ]
  },
  {
   "cell_type": "code",
   "execution_count": 9,
   "metadata": {},
   "outputs": [],
   "source": [
    "primark = primark.loc[primark[\"playlists\"] != \"No playlists\"].reset_index(drop=True)\n",
    "primark.to_csv(\"../datos/01 Spotify/02_followers_primark.csv\",index=True)"
   ]
  },
  {
   "cell_type": "code",
   "execution_count": 10,
   "metadata": {},
   "outputs": [
    {
     "data": {
      "text/html": [
       "<div>\n",
       "<style scoped>\n",
       "    .dataframe tbody tr th:only-of-type {\n",
       "        vertical-align: middle;\n",
       "    }\n",
       "\n",
       "    .dataframe tbody tr th {\n",
       "        vertical-align: top;\n",
       "    }\n",
       "\n",
       "    .dataframe thead th {\n",
       "        text-align: right;\n",
       "    }\n",
       "</style>\n",
       "<table border=\"1\" class=\"dataframe\">\n",
       "  <thead>\n",
       "    <tr style=\"text-align: right;\">\n",
       "      <th></th>\n",
       "      <th>brand</th>\n",
       "      <th>username</th>\n",
       "      <th>user_id</th>\n",
       "      <th>playlists</th>\n",
       "    </tr>\n",
       "  </thead>\n",
       "  <tbody>\n",
       "    <tr>\n",
       "      <th>0</th>\n",
       "      <td>Primark</td>\n",
       "      <td>!</td>\n",
       "      <td>31t663tvni5jdvmgzvmsmczcdf6i</td>\n",
       "      <td>{'ig: thats_arda': '0mmIOpjYAL3gjBd2Js3Mox', '...</td>\n",
       "    </tr>\n",
       "    <tr>\n",
       "      <th>1</th>\n",
       "      <td>Primark</td>\n",
       "      <td>!</td>\n",
       "      <td>j8dtlhfwmoflxuorlu25s1nqs</td>\n",
       "      <td>{'ig: thats_arda': '0mmIOpjYAL3gjBd2Js3Mox', '...</td>\n",
       "    </tr>\n",
       "    <tr>\n",
       "      <th>2</th>\n",
       "      <td>Primark</td>\n",
       "      <td>0omrjhlirnqfen3ikg6806ee6</td>\n",
       "      <td>0omrjhlirnqfen3ikg6806ee6</td>\n",
       "      <td>{'Oisin football': '2u6JKQYy8zygBxIHO6TVU3'}</td>\n",
       "    </tr>\n",
       "    <tr>\n",
       "      <th>3</th>\n",
       "      <td>Primark</td>\n",
       "      <td>11124898037</td>\n",
       "      <td>11124898037</td>\n",
       "      <td>{'New artists to me': '7yTstrG7HvRKsCSaIMQGUH'...</td>\n",
       "    </tr>\n",
       "    <tr>\n",
       "      <th>4</th>\n",
       "      <td>Primark</td>\n",
       "      <td>1113439568</td>\n",
       "      <td>1113439568</td>\n",
       "      <td>{'a&amp;b': '2jCan1EeaE4Jx98mIXc4ZY', '100 Uplifti...</td>\n",
       "    </tr>\n",
       "  </tbody>\n",
       "</table>\n",
       "</div>"
      ],
      "text/plain": [
       "     brand                   username                       user_id  \\\n",
       "0  Primark                          !  31t663tvni5jdvmgzvmsmczcdf6i   \n",
       "1  Primark                          !     j8dtlhfwmoflxuorlu25s1nqs   \n",
       "2  Primark  0omrjhlirnqfen3ikg6806ee6     0omrjhlirnqfen3ikg6806ee6   \n",
       "3  Primark                11124898037                   11124898037   \n",
       "4  Primark                 1113439568                    1113439568   \n",
       "\n",
       "                                           playlists  \n",
       "0  {'ig: thats_arda': '0mmIOpjYAL3gjBd2Js3Mox', '...  \n",
       "1  {'ig: thats_arda': '0mmIOpjYAL3gjBd2Js3Mox', '...  \n",
       "2       {'Oisin football': '2u6JKQYy8zygBxIHO6TVU3'}  \n",
       "3  {'New artists to me': '7yTstrG7HvRKsCSaIMQGUH'...  \n",
       "4  {'a&b': '2jCan1EeaE4Jx98mIXc4ZY', '100 Uplifti...  "
      ]
     },
     "execution_count": 10,
     "metadata": {},
     "output_type": "execute_result"
    }
   ],
   "source": [
    "primark.head()"
   ]
  },
  {
   "cell_type": "markdown",
   "metadata": {},
   "source": [
    "# Nike"
   ]
  },
  {
   "cell_type": "code",
   "execution_count": 11,
   "metadata": {},
   "outputs": [
    {
     "name": "stderr",
     "output_type": "stream",
     "text": [
      "100%|██████████| 996/996 [06:20<00:00,  2.62it/s]\n"
     ]
    }
   ],
   "source": [
    "lista_playlists = []\n",
    "for id in tqdm(nike[\"user_id\"]):\n",
    "    playlists = api.obtener_playlists(sp,id)\n",
    "    lista_playlists.append(playlists)\n",
    "    sleep(0.1)\n",
    "\n",
    "nike[\"playlists\"] = lista_playlists"
   ]
  },
  {
   "cell_type": "markdown",
   "metadata": {},
   "source": [
    "### Eliminar usuarios sin playlists\n",
    "- No nos aportan información "
   ]
  },
  {
   "cell_type": "code",
   "execution_count": 12,
   "metadata": {},
   "outputs": [],
   "source": [
    "nike = nike.loc[nike[\"playlists\"] != \"No playlists\"].reset_index(drop=True)\n",
    "nike.to_csv(\"../datos/01 Spotify/03_followers_nike.csv\",index=True)"
   ]
  },
  {
   "cell_type": "code",
   "execution_count": 13,
   "metadata": {},
   "outputs": [
    {
     "data": {
      "text/html": [
       "<div>\n",
       "<style scoped>\n",
       "    .dataframe tbody tr th:only-of-type {\n",
       "        vertical-align: middle;\n",
       "    }\n",
       "\n",
       "    .dataframe tbody tr th {\n",
       "        vertical-align: top;\n",
       "    }\n",
       "\n",
       "    .dataframe thead th {\n",
       "        text-align: right;\n",
       "    }\n",
       "</style>\n",
       "<table border=\"1\" class=\"dataframe\">\n",
       "  <thead>\n",
       "    <tr style=\"text-align: right;\">\n",
       "      <th></th>\n",
       "      <th>brand</th>\n",
       "      <th>username</th>\n",
       "      <th>user_id</th>\n",
       "      <th>playlists</th>\n",
       "    </tr>\n",
       "  </thead>\n",
       "  <tbody>\n",
       "    <tr>\n",
       "      <th>0</th>\n",
       "      <td>Nike</td>\n",
       "      <td>#niberg112</td>\n",
       "      <td>%23niberg112</td>\n",
       "      <td>{'ki': '4uc6tQuJFcplPB65NDsWPj', 'MIX': '6Ysih...</td>\n",
       "    </tr>\n",
       "    <tr>\n",
       "      <th>1</th>\n",
       "      <td>Nike</td>\n",
       "      <td>104.3nowfm</td>\n",
       "      <td>104.3nowfm</td>\n",
       "      <td>{'..': '41J9LGTs0torOlt3rLXjEn', 'Djay 2 Music...</td>\n",
       "    </tr>\n",
       "    <tr>\n",
       "      <th>2</th>\n",
       "      <td>Nike</td>\n",
       "      <td>11102221493</td>\n",
       "      <td>11102221493</td>\n",
       "      <td>{'Loredana Berte — Dedicato (feat. Noemi)': '7...</td>\n",
       "    </tr>\n",
       "    <tr>\n",
       "      <th>3</th>\n",
       "      <td>Nike</td>\n",
       "      <td>11129094089</td>\n",
       "      <td>11129094089</td>\n",
       "      <td>{'Bedevi': '2K1biiqeAEhBRwbHd9ajMB', 'Demet Ak...</td>\n",
       "    </tr>\n",
       "    <tr>\n",
       "      <th>4</th>\n",
       "      <td>Nike</td>\n",
       "      <td>11136291185</td>\n",
       "      <td>11136291185</td>\n",
       "      <td>{'Shazam Şarkılarım': '5t6liWXkTYBI7oowc8tooM'...</td>\n",
       "    </tr>\n",
       "  </tbody>\n",
       "</table>\n",
       "</div>"
      ],
      "text/plain": [
       "  brand     username       user_id  \\\n",
       "0  Nike   #niberg112  %23niberg112   \n",
       "1  Nike   104.3nowfm    104.3nowfm   \n",
       "2  Nike  11102221493   11102221493   \n",
       "3  Nike  11129094089   11129094089   \n",
       "4  Nike  11136291185   11136291185   \n",
       "\n",
       "                                           playlists  \n",
       "0  {'ki': '4uc6tQuJFcplPB65NDsWPj', 'MIX': '6Ysih...  \n",
       "1  {'..': '41J9LGTs0torOlt3rLXjEn', 'Djay 2 Music...  \n",
       "2  {'Loredana Berte — Dedicato (feat. Noemi)': '7...  \n",
       "3  {'Bedevi': '2K1biiqeAEhBRwbHd9ajMB', 'Demet Ak...  \n",
       "4  {'Shazam Şarkılarım': '5t6liWXkTYBI7oowc8tooM'...  "
      ]
     },
     "execution_count": 13,
     "metadata": {},
     "output_type": "execute_result"
    }
   ],
   "source": [
    "nike.head()"
   ]
  },
  {
   "cell_type": "markdown",
   "metadata": {},
   "source": [
    "# Adidas"
   ]
  },
  {
   "cell_type": "code",
   "execution_count": 14,
   "metadata": {},
   "outputs": [
    {
     "name": "stderr",
     "output_type": "stream",
     "text": [
      "100%|██████████| 998/998 [08:00<00:00,  2.08it/s]\n"
     ]
    }
   ],
   "source": [
    "lista_playlists = []\n",
    "for id in tqdm(adidas[\"user_id\"]):\n",
    "    playlists = api.obtener_playlists(sp,id)\n",
    "    lista_playlists.append(playlists)\n",
    "    sleep(0.1)\n",
    "\n",
    "adidas[\"playlists\"] = lista_playlists"
   ]
  },
  {
   "cell_type": "markdown",
   "metadata": {},
   "source": [
    "### Eliminar usuarios sin playlists\n",
    "- No nos aportan información "
   ]
  },
  {
   "cell_type": "code",
   "execution_count": 15,
   "metadata": {},
   "outputs": [
    {
     "data": {
      "text/html": [
       "<div>\n",
       "<style scoped>\n",
       "    .dataframe tbody tr th:only-of-type {\n",
       "        vertical-align: middle;\n",
       "    }\n",
       "\n",
       "    .dataframe tbody tr th {\n",
       "        vertical-align: top;\n",
       "    }\n",
       "\n",
       "    .dataframe thead th {\n",
       "        text-align: right;\n",
       "    }\n",
       "</style>\n",
       "<table border=\"1\" class=\"dataframe\">\n",
       "  <thead>\n",
       "    <tr style=\"text-align: right;\">\n",
       "      <th></th>\n",
       "      <th>brand</th>\n",
       "      <th>username</th>\n",
       "      <th>user_id</th>\n",
       "      <th>playlists</th>\n",
       "    </tr>\n",
       "  </thead>\n",
       "  <tbody>\n",
       "    <tr>\n",
       "      <th>0</th>\n",
       "      <td>Adidas</td>\n",
       "      <td>- ZEN -</td>\n",
       "      <td>michiko476</td>\n",
       "      <td>{'VMG': '5CCFDf4wBXzOPrMOPoMrGX', 'Lofi Music,...</td>\n",
       "    </tr>\n",
       "    <tr>\n",
       "      <th>1</th>\n",
       "      <td>Adidas</td>\n",
       "      <td>-M's- Café &amp; Bar</td>\n",
       "      <td>lpet16qfnsa9zn97li98q8c50</td>\n",
       "      <td>{'Bach, J.S.: Organ Works': '0odoqvp5UQ4g80ODi...</td>\n",
       "    </tr>\n",
       "    <tr>\n",
       "      <th>2</th>\n",
       "      <td>Adidas</td>\n",
       "      <td>00</td>\n",
       "      <td>31sepz6hkia2k6apcy7zd3focgsq</td>\n",
       "      <td>{'NEERLANDAIS': '6Xj6v17hYAdW13NU7QrLK1', 'IRA...</td>\n",
       "    </tr>\n",
       "    <tr>\n",
       "      <th>3</th>\n",
       "      <td>Adidas</td>\n",
       "      <td>11100832652</td>\n",
       "      <td>11100832652</td>\n",
       "      <td>{'已星評': '65UARJSqWnPQcszYBY13VR', 'Acoustic：不插...</td>\n",
       "    </tr>\n",
       "    <tr>\n",
       "      <th>4</th>\n",
       "      <td>Adidas</td>\n",
       "      <td>11124423771</td>\n",
       "      <td>11124423771</td>\n",
       "      <td>{'paula': '7clyMeTyLvhXwrPrLWFtkq', '🤩🤩': '2yo...</td>\n",
       "    </tr>\n",
       "  </tbody>\n",
       "</table>\n",
       "</div>"
      ],
      "text/plain": [
       "    brand          username                       user_id  \\\n",
       "0  Adidas           - ZEN -                    michiko476   \n",
       "1  Adidas  -M's- Café & Bar     lpet16qfnsa9zn97li98q8c50   \n",
       "2  Adidas                00  31sepz6hkia2k6apcy7zd3focgsq   \n",
       "3  Adidas       11100832652                   11100832652   \n",
       "4  Adidas       11124423771                   11124423771   \n",
       "\n",
       "                                           playlists  \n",
       "0  {'VMG': '5CCFDf4wBXzOPrMOPoMrGX', 'Lofi Music,...  \n",
       "1  {'Bach, J.S.: Organ Works': '0odoqvp5UQ4g80ODi...  \n",
       "2  {'NEERLANDAIS': '6Xj6v17hYAdW13NU7QrLK1', 'IRA...  \n",
       "3  {'已星評': '65UARJSqWnPQcszYBY13VR', 'Acoustic：不插...  \n",
       "4  {'paula': '7clyMeTyLvhXwrPrLWFtkq', '🤩🤩': '2yo...  "
      ]
     },
     "execution_count": 15,
     "metadata": {},
     "output_type": "execute_result"
    }
   ],
   "source": [
    "adidas = adidas.loc[adidas[\"playlists\"] != \"No playlists\"].reset_index(drop=True)\n",
    "adidas.to_csv(\"../datos/01 Spotify/04_followers_adidas.csv\",index=True)\n",
    "adidas.head()"
   ]
  },
  {
   "cell_type": "markdown",
   "metadata": {},
   "source": [
    "# H&M"
   ]
  },
  {
   "cell_type": "code",
   "execution_count": 6,
   "metadata": {},
   "outputs": [
    {
     "name": "stderr",
     "output_type": "stream",
     "text": [
      "100%|██████████| 998/998 [09:14<00:00,  1.80it/s]\n"
     ]
    }
   ],
   "source": [
    "lista_playlists = []\n",
    "for id in tqdm(hm[\"user_id\"]):\n",
    "    playlists = api.obtener_playlists(sp,id)\n",
    "    lista_playlists.append(playlists)\n",
    "    sleep(0.1)\n",
    "hm[\"playlists\"] = lista_playlists"
   ]
  },
  {
   "cell_type": "markdown",
   "metadata": {},
   "source": [
    "### Eliminar usuarios sin playlists\n",
    "- No nos aportan información "
   ]
  },
  {
   "cell_type": "code",
   "execution_count": 7,
   "metadata": {},
   "outputs": [],
   "source": [
    "hm = hm.loc[hm[\"playlists\"] != \"No playlists\"].reset_index(drop=True)\n",
    "hm.to_csv(\"../datos/01 Spotify/05_followers_hm.csv\",index=True)"
   ]
  },
  {
   "cell_type": "markdown",
   "metadata": {},
   "source": [
    "# Pull & Bear"
   ]
  },
  {
   "cell_type": "code",
   "execution_count": 8,
   "metadata": {},
   "outputs": [
    {
     "name": "stderr",
     "output_type": "stream",
     "text": [
      "100%|██████████| 998/998 [08:05<00:00,  2.05it/s]\n"
     ]
    }
   ],
   "source": [
    "lista_playlists = []\n",
    "for id in tqdm(pullbear[\"user_id\"]):\n",
    "    playlists = api.obtener_playlists(sp,id)\n",
    "    lista_playlists.append(playlists)\n",
    "    sleep(0.1)\n",
    "\n",
    "pullbear[\"playlists\"] = lista_playlists"
   ]
  },
  {
   "cell_type": "markdown",
   "metadata": {},
   "source": [
    "### Eliminar usuarios sin playlists\n",
    "- No nos aportan información "
   ]
  },
  {
   "cell_type": "code",
   "execution_count": 9,
   "metadata": {},
   "outputs": [],
   "source": [
    "pullbear = pullbear.loc[pullbear[\"playlists\"] != \"No playlists\"].reset_index(drop=True)\n",
    "pullbear.to_csv(\"../datos/01 Spotify/06_followers_pull_and_bear.csv\",index=True)"
   ]
  },
  {
   "cell_type": "markdown",
   "metadata": {},
   "source": [
    "# Bershka"
   ]
  },
  {
   "cell_type": "code",
   "execution_count": 10,
   "metadata": {},
   "outputs": [
    {
     "name": "stderr",
     "output_type": "stream",
     "text": [
      "100%|██████████| 997/997 [06:11<00:00,  2.68it/s]\n"
     ]
    }
   ],
   "source": [
    "lista_playlists = []\n",
    "for id in tqdm(bershka[\"user_id\"]):\n",
    "    playlists = api.obtener_playlists(sp,id)\n",
    "    lista_playlists.append(playlists)\n",
    "    sleep(0.1)\n",
    "\n",
    "bershka[\"playlists\"] = lista_playlists"
   ]
  },
  {
   "cell_type": "markdown",
   "metadata": {},
   "source": [
    "### Eliminar usuarios sin playlists\n",
    "- No nos aportan información "
   ]
  },
  {
   "cell_type": "code",
   "execution_count": 11,
   "metadata": {},
   "outputs": [],
   "source": [
    "bershka = bershka.loc[bershka[\"playlists\"] != \"No playlists\"].reset_index(drop=True)\n",
    "bershka.to_csv(\"../datos/01 Spotify/07_followers_bershka.csv\",index=True)"
   ]
  },
  {
   "cell_type": "markdown",
   "metadata": {},
   "source": [
    "# Stradivarius"
   ]
  },
  {
   "cell_type": "code",
   "execution_count": 12,
   "metadata": {},
   "outputs": [
    {
     "name": "stderr",
     "output_type": "stream",
     "text": [
      " 84%|████████▍ | 844/999 [06:39<01:50,  1.40it/s]"
     ]
    },
    {
     "ename": "",
     "evalue": "",
     "output_type": "error",
     "traceback": [
      "\u001b[1;31mCannot execute code, session has been disposed. Please try restarting the Kernel."
     ]
    },
    {
     "ename": "",
     "evalue": "",
     "output_type": "error",
     "traceback": [
      "\u001b[1;31mCannot execute code, session has been disposed. Please try restarting the Kernel. \n",
      "\u001b[1;31mView Jupyter <a href='command:jupyter.viewOutput'>log</a> for further details."
     ]
    }
   ],
   "source": [
    "lista_playlists = []\n",
    "for id in tqdm(stradivarius[\"user_id\"]):\n",
    "    playlists = api.obtener_playlists(sp,id)\n",
    "    lista_playlists.append(playlists)\n",
    "    sleep(0.1)\n",
    "\n",
    "stradivarius[\"playlists\"] = lista_playlists"
   ]
  },
  {
   "cell_type": "markdown",
   "metadata": {},
   "source": [
    "### Eliminar usuarios sin playlists\n",
    "- No nos aportan información "
   ]
  },
  {
   "cell_type": "code",
   "execution_count": null,
   "metadata": {},
   "outputs": [],
   "source": [
    "stradivarius = stradivarius.loc[stradivarius[\"playlists\"] != \"No playlists\"].reset_index(drop=True)\n",
    "stradivarius.to_csv(\"../datos/01 Spotify/08_followers_stradivarius.csv\",index=True)"
   ]
  },
  {
   "cell_type": "markdown",
   "metadata": {},
   "source": [
    "# Mango"
   ]
  },
  {
   "cell_type": "code",
   "execution_count": null,
   "metadata": {},
   "outputs": [],
   "source": [
    "lista_playlists = []\n",
    "for id in tqdm(mango[\"user_id\"]):\n",
    "    playlists = api.obtener_playlists(sp,id)\n",
    "    lista_playlists.append(playlists)\n",
    "    sleep(0.1)\n",
    "\n",
    "mango[\"playlists\"] = lista_playlists"
   ]
  },
  {
   "cell_type": "markdown",
   "metadata": {},
   "source": [
    "### Eliminar usuarios sin playlists\n",
    "- No nos aportan información "
   ]
  },
  {
   "cell_type": "code",
   "execution_count": null,
   "metadata": {},
   "outputs": [],
   "source": [
    "mango = mango.loc[mango[\"playlists\"] != \"No playlists\"].reset_index(drop=True)\n",
    "mango.to_csv(\"../datos/01 Spotify/09_followers_mango.csv\",index=True)"
   ]
  },
  {
   "cell_type": "markdown",
   "metadata": {},
   "source": [
    "# Desigual"
   ]
  },
  {
   "cell_type": "code",
   "execution_count": null,
   "metadata": {},
   "outputs": [],
   "source": [
    "lista_playlists = []\n",
    "for id in tqdm(desigual[\"user_id\"]):\n",
    "    playlists = api.obtener_playlists(sp,id)\n",
    "    lista_playlists.append(playlists)\n",
    "    sleep(0.1)\n",
    "\n",
    "desigual[\"playlists\"] = lista_playlists"
   ]
  },
  {
   "cell_type": "markdown",
   "metadata": {},
   "source": [
    "### Eliminar usuarios sin playlists\n",
    "- No nos aportan información "
   ]
  },
  {
   "cell_type": "code",
   "execution_count": null,
   "metadata": {},
   "outputs": [],
   "source": [
    "desigual = desigual.loc[desigual[\"playlists\"] != \"No playlists\"].reset_index(drop=True)\n",
    "desigual.to_csv(\"../datos/01 Spotify/10_followers_desigual.csv\",index=True)"
   ]
  }
 ],
 "metadata": {
  "kernelspec": {
   "display_name": "Proyecto-Final",
   "language": "python",
   "name": "python3"
  },
  "language_info": {
   "codemirror_mode": {
    "name": "ipython",
    "version": 3
   },
   "file_extension": ".py",
   "mimetype": "text/x-python",
   "name": "python",
   "nbconvert_exporter": "python",
   "pygments_lexer": "ipython3",
   "version": "3.11.9"
  }
 },
 "nbformat": 4,
 "nbformat_minor": 2
}
