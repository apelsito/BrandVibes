{
 "cells": [
  {
   "cell_type": "code",
   "execution_count": 1,
   "metadata": {},
   "outputs": [],
   "source": [
    "# Tratamiento de datos\n",
    "# -----------------------------------------------------------------------\n",
    "import pandas as pd\n",
    "import numpy as np\n",
    "# Requests\n",
    "import requests\n",
    "from time import sleep\n",
    "from tqdm import tqdm\n",
    "\n",
    "\n",
    "import sys\n",
    "sys.path.append(\"../\")\n",
    "import src.soporte_spotify as api"
   ]
  },
  {
   "cell_type": "code",
   "execution_count": 2,
   "metadata": {},
   "outputs": [
    {
     "data": {
      "text/plain": [
       "{'country': 'ES',\n",
       " 'display_name': 'MrApple',\n",
       " 'email': 'ruiperezgonzalo4@gmail.com',\n",
       " 'explicit_content': {'filter_enabled': False, 'filter_locked': False},\n",
       " 'external_urls': {'spotify': 'https://open.spotify.com/user/gonzaloruiperez'},\n",
       " 'followers': {'href': None, 'total': 0},\n",
       " 'href': 'https://api.spotify.com/v1/users/gonzaloruiperez',\n",
       " 'id': 'gonzaloruiperez',\n",
       " 'images': [],\n",
       " 'product': 'premium',\n",
       " 'type': 'user',\n",
       " 'uri': 'spotify:user:gonzaloruiperez'}"
      ]
     },
     "execution_count": 2,
     "metadata": {},
     "output_type": "execute_result"
    }
   ],
   "source": [
    "sp = api.load_credentials()\n",
    "sp.current_user()"
   ]
  },
  {
   "cell_type": "markdown",
   "metadata": {},
   "source": [
    "# Verificar si nos han bloqueado\n",
    "- Tenemos un limite diario y si no spotify devuelve 429, algo que con spotipy no se ve, asi que usamos requests"
   ]
  },
  {
   "cell_type": "code",
   "execution_count": 3,
   "metadata": {},
   "outputs": [
    {
     "name": "stdout",
     "output_type": "stream",
     "text": [
      "Token obtenido con éxito\n",
      "200, Detalles: {\"href\":\"https://api.spotify.com/v1/users/lpet16qfnsa9zn97li98q8c50/playlists?offset=0&limit=100\",\"limit\":100,\"next\":null,\"offset\":0,\"previous\":null,\"total\":16,\"items\":[{\"collaborative\":false,\"description\":\"\",\"external_urls\":{\"spotify\":\"https://open.spotify.com/playlist/3NhcYwnSqua8GvXr6CaJOY\"},\"href\":\"https://api.spotify.com/v1/playlists/3NhcYwnSqua8GvXr6CaJOY\",\"id\":\"3NhcYwnSqua8GvXr6CaJOY\",\"images\":[{\"height\":null,\"url\":\"https://image-cdn-fa.spotifycdn.com/image/ab67706c0000da8420fa33619b1c813d64d80dc0\",\"width\":null}],\"name\":\"Gene Harris plays the Standards\",\"owner\":{\"display_name\":\"-M's- Café & Bar\",\"external_urls\":{\"spotify\":\"https://open.spotify.com/user/lpet16qfnsa9zn97li98q8c50\"},\"href\":\"https://api.spotify.com/v1/users/lpet16qfnsa9zn97li98q8c50\",\"id\":\"lpet16qfnsa9zn97li98q8c50\",\"type\":\"user\",\"uri\":\"spotify:user:lpet16qfnsa9zn97li98q8c50\"},\"primary_color\":null,\"public\":true,\"snapshot_id\":\"AAAAP+aSuzP9wVpbX0R5vTyNyZeunWWA\",\"tracks\":{\"href\":\"https://api.spotify.com/v1/playlists/3NhcYwnSqua8GvXr6CaJOY/tracks\",\"total\":45},\"type\":\"playlist\",\"uri\":\"spotify:playlist:3NhcYwnSqua8GvXr6CaJOY\"},{\"collaborative\":false,\"description\":\"\",\"external_urls\":{\"spotify\":\"https://open.spotify.com/playlist/6tWPJUtZpirdmGNiEN350O\"},\"href\":\"https://api.spotify.com/v1/playlists/6tWPJUtZpirdmGNiEN350O\",\"id\":\"6tWPJUtZpirdmGNiEN350O\",\"images\":[{\"height\":null,\"url\":\"https://image-cdn-ak.spotifycdn.com/image/ab67706c0000da84d28336228e7289d5bc6513ca\",\"width\":null}],\"name\":\"Art Tatum plays the Standards\",\"owner\":{\"display_name\":\"-M's- Café & Bar\",\"external_urls\":{\"spotify\":\"https://open.spotify.com/user/lpet16qfnsa9zn97li98q8c50\"},\"href\":\"https://api.spotify.com/v1/users/lpet16qfnsa9zn97li98q8c50\",\"id\":\"lpet16qfnsa9zn97li98q8c50\",\"type\":\"user\",\"uri\":\"spotify:user:lpet16qfnsa9zn97li98q8c50\"},\"primary_color\":null,\"public\":true,\"snapshot_id\":\"AAAALNCyh8FD9vd3qbwnC/wHKWWwr+cZ\",\"tracks\":{\"href\":\"https://api.spotify.com/v1/playlists/6tWPJUtZpirdmGNiEN350O/tracks\",\"total\":37},\"type\":\"playlist\",\"uri\":\"spotify:playlist:6tWPJUtZpirdmGNiEN350O\"},{\"collaborative\":false,\"description\":\"\",\"external_urls\":{\"spotify\":\"https://open.spotify.com/playlist/7APAkuNFxsB1VSf0IwDOb4\"},\"href\":\"https://api.spotify.com/v1/playlists/7APAkuNFxsB1VSf0IwDOb4\",\"id\":\"7APAkuNFxsB1VSf0IwDOb4\",\"images\":[{\"height\":null,\"url\":\"https://image-cdn-ak.spotifycdn.com/image/ab67706c0000da84e53af6123905cda7768c4a2e\",\"width\":null}],\"name\":\"Michel Petrucciani plays the Standerds\",\"owner\":{\"display_name\":\"-M's- Café & Bar\",\"external_urls\":{\"spotify\":\"https://open.spotify.com/user/lpet16qfnsa9zn97li98q8c50\"},\"href\":\"https://api.spotify.com/v1/users/lpet16qfnsa9zn97li98q8c50\",\"id\":\"lpet16qfnsa9zn97li98q8c50\",\"type\":\"user\",\"uri\":\"spotify:user:lpet16qfnsa9zn97li98q8c50\"},\"primary_color\":null,\"public\":true,\"snapshot_id\":\"AAAAQaUKQ3GgIb/XcAEPFGOwZBysQdWu\",\"tracks\":{\"href\":\"https://api.spotify.com/v1/playlists/7APAkuNFxsB1VSf0IwDOb4/tracks\",\"total\":53},\"type\":\"playlist\",\"uri\":\"spotify:playlist:7APAkuNFxsB1VSf0IwDOb4\"},{\"collaborative\":false,\"description\":\"\",\"external_urls\":{\"spotify\":\"https://open.spotify.com/playlist/4eq3xjVcNYNGbml8echc3C\"},\"href\":\"https://api.spotify.com/v1/playlists/4eq3xjVcNYNGbml8echc3C\",\"id\":\"4eq3xjVcNYNGbml8echc3C\",\"images\":[{\"height\":null,\"url\":\"https://image-cdn-fa.spotifycdn.com/image/ab67706c0000da8483878416a1e75e822c1b7c2f\",\"width\":null}],\"name\":\"Tommy flanagan plays the Standards\",\"owner\":{\"display_name\":\"-M's- Café & Bar\",\"external_urls\":{\"spotify\":\"https://open.spotify.com/user/lpet16qfnsa9zn97li98q8c50\"},\"href\":\"https://api.spotify.com/v1/users/lpet16qfnsa9zn97li98q8c50\",\"id\":\"lpet16qfnsa9zn97li98q8c50\",\"type\":\"user\",\"uri\":\"spotify:user:lpet16qfnsa9zn97li98q8c50\"},\"primary_color\":null,\"public\":true,\"snapshot_id\":\"AAAAq5kLSfyKS4DXZ/798e+Ed0y9DYoH\",\"tracks\":{\"href\":\"https://api.spotify.com/v1/playlists/4eq3xjVcNYNGbml8echc3C/tracks\",\"total\":100},\"type\":\"playlist\",\"uri\":\"spotify:playlist:4eq3xjVcNYNGbml8echc3C\"},{\"collaborative\":false,\"description\":\"\",\"external_urls\":{\"spotify\":\"https://open.spotify.com/playlist/46n7ErQxUozLsfxkEOyFLp\"},\"href\":\"https://api.spotify.com/v1/playlists/46n7ErQxUozLsfxkEOyFLp\",\"id\":\"46n7ErQxUozLsfxkEOyFLp\",\"images\":[{\"height\":null,\"url\":\"https://image-cdn-ak.spotifycdn.com/image/ab67706c0000da849f9b1c375d853da39e371b4f\",\"width\":null}],\"name\":\"Bill Evans plays the Standards\",\"owner\":{\"display_name\":\"-M's- Café & Bar\",\"external_urls\":{\"spotify\":\"https://open.spotify.com/user/lpet16qfnsa9zn97li98q8c50\"},\"href\":\"https://api.spotify.com/v1/users/lpet16qfnsa9zn97li98q8c50\",\"id\":\"lpet16qfnsa9zn97li98q8c50\",\"type\":\"user\",\"uri\":\"spotify:user:lpet16qfnsa9zn97li98q8c50\"},\"primary_color\":null,\"public\":true,\"snapshot_id\":\"AAAAVilo0W3DfqBIHikraJPlxV7l7mqZ\",\"tracks\":{\"href\":\"https://api.spotify.com/v1/playlists/46n7ErQxUozLsfxkEOyFLp/tracks\",\"total\":74},\"type\":\"playlist\",\"uri\":\"spotify:playlist:46n7ErQxUozLsfxkEOyFLp\"},{\"collaborative\":false,\"description\":\"\",\"external_urls\":{\"spotify\":\"https://open.spotify.com/playlist/0F2KPIqWSlCC77O6GEJ4Cf\"},\"href\":\"https://api.spotify.com/v1/playlists/0F2KPIqWSlCC77O6GEJ4Cf\",\"id\":\"0F2KPIqWSlCC77O6GEJ4Cf\",\"images\":[{\"height\":null,\"url\":\"https://image-cdn-ak.spotifycdn.com/image/ab67706c0000da8405914c8c0109ba372afd7d5f\",\"width\":null}],\"name\":\"Chick Corea plays the Standards\",\"owner\":{\"display_name\":\"-M's- Café & Bar\",\"external_urls\":{\"spotify\":\"https://open.spotify.com/user/lpet16qfnsa9zn97li98q8c50\"},\"href\":\"https://api.spotify.com/v1/users/lpet16qfnsa9zn97li98q8c50\",\"id\":\"lpet16qfnsa9zn97li98q8c50\",\"type\":\"user\",\"uri\":\"spotify:user:lpet16qfnsa9zn97li98q8c50\"},\"primary_color\":null,\"public\":true,\"snapshot_id\":\"AAAANzaIqxH2aA8yT5a9/VaVMGU2260u\",\"tracks\":{\"href\":\"https://api.spotify.com/v1/playlists/0F2KPIqWSlCC77O6GEJ4Cf/tracks\",\"total\":31},\"type\":\"playlist\",\"uri\":\"spotify:playlist:0F2KPIqWSlCC77O6GEJ4Cf\"},{\"collaborative\":false,\"description\":\"\",\"external_urls\":{\"spotify\":\"https://open.spotify.com/playlist/23txGXuUiuNAREJydyOwuT\"},\"href\":\"https://api.spotify.com/v1/playlists/23txGXuUiuNAREJydyOwuT\",\"id\":\"23txGXuUiuNAREJydyOwuT\",\"images\":[{\"height\":null,\"url\":\"https://image-cdn-fa.spotifycdn.com/image/ab67706c0000da842761ab03c21249f4de868b7b\",\"width\":null}],\"name\":\"Bobby Timmons plays the Standards\",\"owner\":{\"display_name\":\"-M's- Café & Bar\",\"external_urls\":{\"spotify\":\"https://open.spotify.com/user/lpet16qfnsa9zn97li98q8c50\"},\"href\":\"https://api.spotify.com/v1/users/lpet16qfnsa9zn97li98q8c50\",\"id\":\"lpet16qfnsa9zn97li98q8c50\",\"type\":\"user\",\"uri\":\"spotify:user:lpet16qfnsa9zn97li98q8c50\"},\"primary_color\":null,\"public\":true,\"snapshot_id\":\"AAAAHl3uf6hbwgxRAcZW5zR0EyR5d0eU\",\"tracks\":{\"href\":\"https://api.spotify.com/v1/playlists/23txGXuUiuNAREJydyOwuT/tracks\",\"total\":21},\"type\":\"playlist\",\"uri\":\"spotify:playlist:23txGXuUiuNAREJydyOwuT\"},{\"collaborative\":false,\"description\":\"\",\"external_urls\":{\"spotify\":\"https://open.spotify.com/playlist/1aBDKAf74xNonM7l1fmzlK\"},\"href\":\"https://api.spotify.com/v1/playlists/1aBDKAf74xNonM7l1fmzlK\",\"id\":\"1aBDKAf74xNonM7l1fmzlK\",\"images\":[{\"height\":null,\"url\":\"https://image-cdn-ak.spotifycdn.com/image/ab67706c0000da843924d54413098d6b54c12d94\",\"width\":null}],\"name\":\"Sonny Clark plays the Standards\",\"owner\":{\"display_name\":\"-M's- Café & Bar\",\"external_urls\":{\"spotify\":\"https://open.spotify.com/user/lpet16qfnsa9zn97li98q8c50\"},\"href\":\"https://api.spotify.com/v1/users/lpet16qfnsa9zn97li98q8c50\",\"id\":\"lpet16qfnsa9zn97li98q8c50\",\"type\":\"user\",\"uri\":\"spotify:user:lpet16qfnsa9zn97li98q8c50\"},\"primary_color\":null,\"public\":true,\"snapshot_id\":\"AAAAIPU8PaABddAv2OCxA2KoM1W3crWq\",\"tracks\":{\"href\":\"https://api.spotify.com/v1/playlists/1aBDKAf74xNonM7l1fmzlK/tracks\",\"total\":22},\"type\":\"playlist\",\"uri\":\"spotify:playlist:1aBDKAf74xNonM7l1fmzlK\"},{\"collaborative\":false,\"description\":\"\",\"external_urls\":{\"spotify\":\"https://open.spotify.com/playlist/2PuWUXZeRr0kcm64Slm3Gk\"},\"href\":\"https://api.spotify.com/v1/playlists/2PuWUXZeRr0kcm64Slm3Gk\",\"id\":\"2PuWUXZeRr0kcm64Slm3Gk\",\"images\":[{\"height\":null,\"url\":\"https://image-cdn-ak.spotifycdn.com/image/ab67706c0000da84159a9621a08d90fffe1abe13\",\"width\":null}],\"name\":\"Red Garland plays the Standards\",\"owner\":{\"display_name\":\"-M's- Café & Bar\",\"external_urls\":{\"spotify\":\"https://open.spotify.com/user/lpet16qfnsa9zn97li98q8c50\"},\"href\":\"https://api.spotify.com/v1/users/lpet16qfnsa9zn97li98q8c50\",\"id\":\"lpet16qfnsa9zn97li98q8c50\",\"type\":\"user\",\"uri\":\"spotify:user:lpet16qfnsa9zn97li98q8c50\"},\"primary_color\":null,\"public\":true,\"snapshot_id\":\"AAAANUN5yP7MFnfr+1untq64I+kfZPAg\",\"tracks\":{\"href\":\"https://api.spotify.com/v1/playlists/2PuWUXZeRr0kcm64Slm3Gk/tracks\",\"total\":39},\"type\":\"playlist\",\"uri\":\"spotify:playlist:2PuWUXZeRr0kcm64Slm3Gk\"},{\"collaborative\":false,\"description\":\"架空のビストロ&quot;JAMMIN’&quot;のBGM。大人のムードでしっぽり。\",\"external_urls\":{\"spotify\":\"https://open.spotify.com/playlist/3dDuzHYyVoJbDsQP7sSbwx\"},\"href\":\"https://api.spotify.com/v1/playlists/3dDuzHYyVoJbDsQP7sSbwx\",\"id\":\"3dDuzHYyVoJbDsQP7sSbwx\",\"images\":[{\"height\":null,\"url\":\"https://image-cdn-ak.spotifycdn.com/image/ab67706c0000da84532e68a72d1f1b3c61254dd6\",\"width\":null}],\"name\":\"3310 Dining-JAMMIN'/Slow R&B Soul  \",\"owner\":{\"display_name\":\"-M's- Café & Bar\",\"external_urls\":{\"spotify\":\"https://open.spotify.com/user/lpet16qfnsa9zn97li98q8c50\"},\"href\":\"https://api.spotify.com/v1/users/lpet16qfnsa9zn97li98q8c50\",\"id\":\"lpet16qfnsa9zn97li98q8c50\",\"type\":\"user\",\"uri\":\"spotify:user:lpet16qfnsa9zn97li98q8c50\"},\"primary_color\":null,\"public\":true,\"snapshot_id\":\"AAABO3vYTGKWns/jaA5D1blZikojcrfw\",\"tracks\":{\"href\":\"https://api.spotify.com/v1/playlists/3dDuzHYyVoJbDsQP7sSbwx/tracks\",\"total\":225},\"type\":\"playlist\",\"uri\":\"spotify:playlist:3dDuzHYyVoJbDsQP7sSbwx\"},{\"collaborative\":false,\"description\":\"\",\"external_urls\":{\"spotify\":\"https://open.spotify.com/playlist/10nArG6paSVnKjWD6EB4f3\"},\"href\":\"https://api.spotify.com/v1/playlists/10nArG6paSVnKjWD6EB4f3\",\"id\":\"10nArG6paSVnKjWD6EB4f3\",\"images\":[{\"height\":null,\"url\":\"https://image-cdn-ak.spotifycdn.com/image/ab67706c0000da8460f79972fe4b3b346ca0b308\",\"width\":null}],\"name\":\"1107 Slow Winter \\\"Hope has a place\\\"\",\"owner\":{\"display_name\":\"-M's- Café & Bar\",\"external_urls\":{\"spotify\":\"https://open.spotify.com/user/lpet16qfnsa9zn97li98q8c50\"},\"href\":\"https://api.spotify.com/v1/users/lpet16qfnsa9zn97li98q8c50\",\"id\":\"lpet16qfnsa9zn97li98q8c50\",\"type\":\"user\",\"uri\":\"spotify:user:lpet16qfnsa9zn97li98q8c50\"},\"primary_color\":null,\"public\":true,\"snapshot_id\":\"AAAALN510VsL/4IqFFyLT0/xLjqlqG/1\",\"tracks\":{\"href\":\"https://api.spotify.com/v1/playlists/10nArG6paSVnKjWD6EB4f3/tracks\",\"total\":32},\"type\":\"playlist\",\"uri\":\"spotify:playlist:10nArG6paSVnKjWD6EB4f3\"},{\"collaborative\":false,\"description\":\"\",\"external_urls\":{\"spotify\":\"https://open.spotify.com/playlist/0mesqc5Y5OQBaFXHzZahMQ\"},\"href\":\"https://api.spotify.com/v1/playlists/0mesqc5Y5OQBaFXHzZahMQ\",\"id\":\"0mesqc5Y5OQBaFXHzZahMQ\",\"images\":[{\"height\":null,\"url\":\"https://i.scdn.co/image/ab67616d00001e02663a5dde98fa3491a350d1fb\",\"width\":null}],\"name\":\"6611 超絶技巧アリア\",\"owner\":{\"display_name\":\"-M's- Café & Bar\",\"external_urls\":{\"spotify\":\"https://open.spotify.com/user/lpet16qfnsa9zn97li98q8c50\"},\"href\":\"https://api.spotify.com/v1/users/lpet16qfnsa9zn97li98q8c50\",\"id\":\"lpet16qfnsa9zn97li98q8c50\",\"type\":\"user\",\"uri\":\"spotify:user:lpet16qfnsa9zn97li98q8c50\"},\"primary_color\":null,\"public\":true,\"snapshot_id\":\"AAAABtuTiqE69fSasul0K520R4z7k5z+\",\"tracks\":{\"href\":\"https://api.spotify.com/v1/playlists/0mesqc5Y5OQBaFXHzZahMQ/tracks\",\"total\":4},\"type\":\"playlist\",\"uri\":\"spotify:playlist:0mesqc5Y5OQBaFXHzZahMQ\"},{\"collaborative\":false,\"description\":\"ゆったりテンポ明るい雰囲気のJazz\",\"external_urls\":{\"spotify\":\"https://open.spotify.com/playlist/5Pi8YlucRldm05ZVuG4EOY\"},\"href\":\"https://api.spotify.com/v1/playlists/5Pi8YlucRldm05ZVuG4EOY\",\"id\":\"5Pi8YlucRldm05ZVuG4EOY\",\"images\":[{\"height\":null,\"url\":\"https://image-cdn-ak.spotifycdn.com/image/ab67706c0000da84ef98cf8d2dba2846c920fff7\",\"width\":null}],\"name\":\"1208 Morning Jazz and more...\",\"owner\":{\"display_name\":\"-M's- Café & Bar\",\"external_urls\":{\"spotify\":\"https://open.spotify.com/user/lpet16qfnsa9zn97li98q8c50\"},\"href\":\"https://api.spotify.com/v1/users/lpet16qfnsa9zn97li98q8c50\",\"id\":\"lpet16qfnsa9zn97li98q8c50\",\"type\":\"user\",\"uri\":\"spotify:user:lpet16qfnsa9zn97li98q8c50\"},\"primary_color\":null,\"public\":true,\"snapshot_id\":\"AAAAUimbTxuCu0UMZjuKDfDZ7vgMQBQv\",\"tracks\":{\"href\":\"https://api.spotify.com/v1/playlists/5Pi8YlucRldm05ZVuG4EOY/tracks\",\"total\":57},\"type\":\"playlist\",\"uri\":\"spotify:playlist:5Pi8YlucRldm05ZVuG4EOY\"},{\"collaborative\":false,\"description\":\"架空のレストラン&quot;Café d’Orsay&quot;のBGM. 伝統にとらわれない雰囲気で食事のBGMに。\",\"external_urls\":{\"spotify\":\"https://open.spotify.com/playlist/7Ic8aSgf21kZqok12tBqn0\"},\"href\":\"https://api.spotify.com/v1/playlists/7Ic8aSgf21kZqok12tBqn0\",\"id\":\"7Ic8aSgf21kZqok12tBqn0\",\"images\":[{\"height\":null,\"url\":\"https://image-cdn-ak.spotifycdn.com/image/ab67706c0000da84fbf9df5a33adf228a306a550\",\"width\":null}],\"name\":\"3403 Dining-Café d’Orsay/Mid-Tempo Electro\",\"owner\":{\"display_name\":\"-M's- Café & Bar\",\"external_urls\":{\"spotify\":\"https://open.spotify.com/user/lpet16qfnsa9zn97li98q8c50\"},\"href\":\"https://api.spotify.com/v1/users/lpet16qfnsa9zn97li98q8c50\",\"id\":\"lpet16qfnsa9zn97li98q8c50\",\"type\":\"user\",\"uri\":\"spotify:user:lpet16qfnsa9zn97li98q8c50\"},\"primary_color\":null,\"public\":true,\"snapshot_id\":\"AAABno539dm7sDX2A7TYy8Gkk2MnSj5o\",\"tracks\":{\"href\":\"https://api.spotify.com/v1/playlists/7Ic8aSgf21kZqok12tBqn0/tracks\",\"total\":191},\"type\":\"playlist\",\"uri\":\"spotify:playlist:7Ic8aSgf21kZqok12tBqn0\"},{\"collaborative\":false,\"description\":\"Classical jazz for BGM\",\"external_urls\":{\"spotify\":\"https://open.spotify.com/playlist/3qhwjq0tjyAGQZHEAMSp09\"},\"href\":\"https://api.spotify.com/v1/playlists/3qhwjq0tjyAGQZHEAMSp09\",\"id\":\"3qhwjq0tjyAGQZHEAMSp09\",\"images\":[{\"height\":null,\"url\":\"https://image-cdn-ak.spotifycdn.com/image/ab67706c0000da8462f52a625b9fed5b016533c3\",\"width\":null}],\"name\":\"3405 Dining-VillageVanguard/ClassicJazz\",\"owner\":{\"display_name\":\"-M's- Café & Bar\",\"external_urls\":{\"spotify\":\"https://open.spotify.com/user/lpet16qfnsa9zn97li98q8c50\"},\"href\":\"https://api.spotify.com/v1/users/lpet16qfnsa9zn97li98q8c50\",\"id\":\"lpet16qfnsa9zn97li98q8c50\",\"type\":\"user\",\"uri\":\"spotify:user:lpet16qfnsa9zn97li98q8c50\"},\"primary_color\":null,\"public\":true,\"snapshot_id\":\"AAABf0eU5D/4a+9GeZJDf2vc5/5IzblF\",\"tracks\":{\"href\":\"https://api.spotify.com/v1/playlists/3qhwjq0tjyAGQZHEAMSp09/tracks\",\"total\":145},\"type\":\"playlist\",\"uri\":\"spotify:playlist:3qhwjq0tjyAGQZHEAMSp09\"},{\"collaborative\":false,\"description\":\"Jazz Standards - Mid&amp;Up beats  -キッチンが楽しくなるBGM\",\"external_urls\":{\"spotify\":\"https://open.spotify.com/playlist/1vXpB9vVSdMrpf5WGNyow7\"},\"href\":\"https://api.spotify.com/v1/playlists/1vXpB9vVSdMrpf5WGNyow7\",\"id\":\"1vXpB9vVSdMrpf5WGNyow7\",\"images\":[{\"height\":null,\"url\":\"https://image-cdn-fa.spotifycdn.com/image/ab67706c0000da84375af4e89ac7319c0c27c388\",\"width\":null}],\"name\":\"4201 Cooking & Dinner Jazz\",\"owner\":{\"display_name\":\"-M's- Café & Bar\",\"external_urls\":{\"spotify\":\"https://open.spotify.com/user/lpet16qfnsa9zn97li98q8c50\"},\"href\":\"https://api.spotify.com/v1/users/lpet16qfnsa9zn97li98q8c50\",\"id\":\"lpet16qfnsa9zn97li98q8c50\",\"type\":\"user\",\"uri\":\"spotify:user:lpet16qfnsa9zn97li98q8c50\"},\"primary_color\":null,\"public\":true,\"snapshot_id\":\"AAADDIYrBvN16bT6rhIWWjxqLKHRLFJs\",\"tracks\":{\"href\":\"https://api.spotify.com/v1/playlists/1vXpB9vVSdMrpf5WGNyow7/tracks\",\"total\":92},\"type\":\"playlist\",\"uri\":\"spotify:playlist:1vXpB9vVSdMrpf5WGNyow7\"}]}\n",
      "{'content-type': 'application/json; charset=utf-8', 'cache-control': 'public, max-age=0', 'etag': '\"MC-ImIyNDU0MzhkOTdjYmE0ZmNkYzNlMzFjYmQ0MGNjODgyIg==\"', 'x-robots-tag': 'noindex, nofollow', 'access-control-allow-origin': '*', 'access-control-allow-headers': 'Accept, App-Platform, Authorization, Content-Type, Origin, Retry-After, Spotify-App-Version, X-Cloud-Trace-Context, client-token, content-access-token', 'access-control-allow-methods': 'GET, POST, OPTIONS, PUT, DELETE, PATCH', 'access-control-allow-credentials': 'true', 'access-control-max-age': '604800', 'content-encoding': 'gzip', 'strict-transport-security': 'max-age=31536000', 'x-content-type-options': 'nosniff', 'date': 'Fri, 03 Jan 2025 13:11:08 GMT', 'server': 'envoy', 'Via': 'HTTP/2 edgeproxy, 1.1 google', 'Alt-Svc': 'h3=\":443\"; ma=2592000,h3-29=\":443\"; ma=2592000', 'Transfer-Encoding': 'chunked'}\n"
     ]
    }
   ],
   "source": [
    "token = api.request_token()\n",
    "# 4. Endpoint para obtener playlists de un usuario\n",
    "user_id = \"lpet16qfnsa9zn97li98q8c50\"  # Cambia por el ID del usuario de Spotify\n",
    "url = f\"https://api.spotify.com/v1/users/{user_id}/playlists\"\n",
    "\n",
    "headers = {\n",
    "    \"Authorization\": f\"Bearer {token}\"\n",
    "}\n",
    "\n",
    "response = requests.get(url, headers=headers)\n",
    "\n",
    "\n",
    "print(f\"{response.status_code}, Detalles: {response.text}\")\n",
    "print(response.headers)\n"
   ]
  },
  {
   "cell_type": "markdown",
   "metadata": {},
   "source": [
    "# Obtener Géneros que escuchan\n",
    "- Vamos a obtener los generos que escuchan los followers que hemos almacenado"
   ]
  },
  {
   "cell_type": "code",
   "execution_count": 4,
   "metadata": {},
   "outputs": [],
   "source": [
    "zara = pd.read_csv('../datos/01 Spotify/01_followers_zara.csv',index_col=0)\n",
    "primark = pd.read_csv(\"../datos/01 Spotify/02_followers_primark.csv\",index_col=0)\n",
    "nike = pd.read_csv(\"../datos/01 Spotify/03_followers_nike.csv\",index_col=0)\n",
    "adidas = pd.read_csv(\"../datos/01 Spotify/04_followers_adidas.csv\",index_col=0)\n",
    "hm = pd.read_csv(\"../datos/01 Spotify/05_followers_hm.csv\",index_col=0)\n",
    "pullbear = pd.read_csv(\"../datos/01 Spotify/06_followers_pull_and_bear.csv\",index_col=0)\n",
    "bershka = pd.read_csv(\"../datos/01 Spotify/07_followers_bershka.csv\",index_col=0)\n",
    "stradivarius = pd.read_csv(\"../datos/01 Spotify/08_followers_stradivarius.csv\",index_col=0)\n",
    "mango = pd.read_csv(\"../datos/01 Spotify/09_followers_mango.csv\",index_col=0)\n",
    "desigual = pd.read_csv(\"../datos/01 Spotify/10_followers_desigual.csv\",index_col=0)"
   ]
  },
  {
   "cell_type": "markdown",
   "metadata": {},
   "source": [
    "# Zara"
   ]
  },
  {
   "cell_type": "code",
   "execution_count": 5,
   "metadata": {},
   "outputs": [
    {
     "name": "stderr",
     "output_type": "stream",
     "text": [
      "100%|██████████| 999/999 [04:14<00:00,  3.92it/s]\n"
     ]
    }
   ],
   "source": [
    "lista_playlists = []\n",
    "for id in tqdm(zara[\"user_id\"]):\n",
    "    playlists = api.obtener_playlists(sp,id)\n",
    "    lista_playlists.append(playlists)\n",
    "\n",
    "zara[\"playlists\"] = lista_playlists"
   ]
  },
  {
   "cell_type": "markdown",
   "metadata": {},
   "source": [
    "### Eliminar usuarios sin playlists\n",
    "- No nos aportan información "
   ]
  },
  {
   "cell_type": "code",
   "execution_count": 6,
   "metadata": {},
   "outputs": [],
   "source": [
    "zara = zara.loc[zara[\"playlists\"] != \"No playlists\"].reset_index(drop=True)\n",
    "zara.to_csv(\"../datos/01 Spotify/01_followers_zara.csv\",index=True)"
   ]
  },
  {
   "cell_type": "markdown",
   "metadata": {},
   "source": [
    "# Primark"
   ]
  },
  {
   "cell_type": "code",
   "execution_count": 8,
   "metadata": {},
   "outputs": [
    {
     "name": "stderr",
     "output_type": "stream",
     "text": [
      "100%|██████████| 997/997 [06:40<00:00,  2.49it/s]\n"
     ]
    }
   ],
   "source": [
    "lista_playlists = []\n",
    "for id in tqdm(primark[\"user_id\"]):\n",
    "    playlists = api.obtener_playlists(sp,id)\n",
    "    lista_playlists.append(playlists)\n",
    "    sleep(0.1)\n",
    "\n",
    "primark[\"playlists\"] = lista_playlists"
   ]
  },
  {
   "cell_type": "markdown",
   "metadata": {},
   "source": [
    "### Eliminar usuarios sin playlists\n",
    "- No nos aportan información "
   ]
  },
  {
   "cell_type": "code",
   "execution_count": 9,
   "metadata": {},
   "outputs": [],
   "source": [
    "primark = primark.loc[primark[\"playlists\"] != \"No playlists\"].reset_index(drop=True)\n",
    "primark.to_csv(\"../datos/01 Spotify/02_followers_primark.csv\",index=True)"
   ]
  },
  {
   "cell_type": "code",
   "execution_count": 10,
   "metadata": {},
   "outputs": [
    {
     "data": {
      "text/html": [
       "<div>\n",
       "<style scoped>\n",
       "    .dataframe tbody tr th:only-of-type {\n",
       "        vertical-align: middle;\n",
       "    }\n",
       "\n",
       "    .dataframe tbody tr th {\n",
       "        vertical-align: top;\n",
       "    }\n",
       "\n",
       "    .dataframe thead th {\n",
       "        text-align: right;\n",
       "    }\n",
       "</style>\n",
       "<table border=\"1\" class=\"dataframe\">\n",
       "  <thead>\n",
       "    <tr style=\"text-align: right;\">\n",
       "      <th></th>\n",
       "      <th>brand</th>\n",
       "      <th>username</th>\n",
       "      <th>user_id</th>\n",
       "      <th>playlists</th>\n",
       "    </tr>\n",
       "  </thead>\n",
       "  <tbody>\n",
       "    <tr>\n",
       "      <th>0</th>\n",
       "      <td>Primark</td>\n",
       "      <td>!</td>\n",
       "      <td>31t663tvni5jdvmgzvmsmczcdf6i</td>\n",
       "      <td>{'ig: thats_arda': '0mmIOpjYAL3gjBd2Js3Mox', '...</td>\n",
       "    </tr>\n",
       "    <tr>\n",
       "      <th>1</th>\n",
       "      <td>Primark</td>\n",
       "      <td>!</td>\n",
       "      <td>j8dtlhfwmoflxuorlu25s1nqs</td>\n",
       "      <td>{'ig: thats_arda': '0mmIOpjYAL3gjBd2Js3Mox', '...</td>\n",
       "    </tr>\n",
       "    <tr>\n",
       "      <th>2</th>\n",
       "      <td>Primark</td>\n",
       "      <td>0omrjhlirnqfen3ikg6806ee6</td>\n",
       "      <td>0omrjhlirnqfen3ikg6806ee6</td>\n",
       "      <td>{'Oisin football': '2u6JKQYy8zygBxIHO6TVU3'}</td>\n",
       "    </tr>\n",
       "    <tr>\n",
       "      <th>3</th>\n",
       "      <td>Primark</td>\n",
       "      <td>11124898037</td>\n",
       "      <td>11124898037</td>\n",
       "      <td>{'New artists to me': '7yTstrG7HvRKsCSaIMQGUH'...</td>\n",
       "    </tr>\n",
       "    <tr>\n",
       "      <th>4</th>\n",
       "      <td>Primark</td>\n",
       "      <td>1113439568</td>\n",
       "      <td>1113439568</td>\n",
       "      <td>{'a&amp;b': '2jCan1EeaE4Jx98mIXc4ZY', '100 Uplifti...</td>\n",
       "    </tr>\n",
       "  </tbody>\n",
       "</table>\n",
       "</div>"
      ],
      "text/plain": [
       "     brand                   username                       user_id  \\\n",
       "0  Primark                          !  31t663tvni5jdvmgzvmsmczcdf6i   \n",
       "1  Primark                          !     j8dtlhfwmoflxuorlu25s1nqs   \n",
       "2  Primark  0omrjhlirnqfen3ikg6806ee6     0omrjhlirnqfen3ikg6806ee6   \n",
       "3  Primark                11124898037                   11124898037   \n",
       "4  Primark                 1113439568                    1113439568   \n",
       "\n",
       "                                           playlists  \n",
       "0  {'ig: thats_arda': '0mmIOpjYAL3gjBd2Js3Mox', '...  \n",
       "1  {'ig: thats_arda': '0mmIOpjYAL3gjBd2Js3Mox', '...  \n",
       "2       {'Oisin football': '2u6JKQYy8zygBxIHO6TVU3'}  \n",
       "3  {'New artists to me': '7yTstrG7HvRKsCSaIMQGUH'...  \n",
       "4  {'a&b': '2jCan1EeaE4Jx98mIXc4ZY', '100 Uplifti...  "
      ]
     },
     "execution_count": 10,
     "metadata": {},
     "output_type": "execute_result"
    }
   ],
   "source": [
    "primark.head()"
   ]
  },
  {
   "cell_type": "markdown",
   "metadata": {},
   "source": [
    "# Nike"
   ]
  },
  {
   "cell_type": "code",
   "execution_count": 11,
   "metadata": {},
   "outputs": [
    {
     "name": "stderr",
     "output_type": "stream",
     "text": [
      "100%|██████████| 996/996 [06:20<00:00,  2.62it/s]\n"
     ]
    }
   ],
   "source": [
    "lista_playlists = []\n",
    "for id in tqdm(nike[\"user_id\"]):\n",
    "    playlists = api.obtener_playlists(sp,id)\n",
    "    lista_playlists.append(playlists)\n",
    "    sleep(0.1)\n",
    "\n",
    "nike[\"playlists\"] = lista_playlists"
   ]
  },
  {
   "cell_type": "markdown",
   "metadata": {},
   "source": [
    "### Eliminar usuarios sin playlists\n",
    "- No nos aportan información "
   ]
  },
  {
   "cell_type": "code",
   "execution_count": 12,
   "metadata": {},
   "outputs": [],
   "source": [
    "nike = nike.loc[nike[\"playlists\"] != \"No playlists\"].reset_index(drop=True)\n",
    "nike.to_csv(\"../datos/01 Spotify/03_followers_nike.csv\",index=True)"
   ]
  },
  {
   "cell_type": "code",
   "execution_count": 13,
   "metadata": {},
   "outputs": [
    {
     "data": {
      "text/html": [
       "<div>\n",
       "<style scoped>\n",
       "    .dataframe tbody tr th:only-of-type {\n",
       "        vertical-align: middle;\n",
       "    }\n",
       "\n",
       "    .dataframe tbody tr th {\n",
       "        vertical-align: top;\n",
       "    }\n",
       "\n",
       "    .dataframe thead th {\n",
       "        text-align: right;\n",
       "    }\n",
       "</style>\n",
       "<table border=\"1\" class=\"dataframe\">\n",
       "  <thead>\n",
       "    <tr style=\"text-align: right;\">\n",
       "      <th></th>\n",
       "      <th>brand</th>\n",
       "      <th>username</th>\n",
       "      <th>user_id</th>\n",
       "      <th>playlists</th>\n",
       "    </tr>\n",
       "  </thead>\n",
       "  <tbody>\n",
       "    <tr>\n",
       "      <th>0</th>\n",
       "      <td>Nike</td>\n",
       "      <td>#niberg112</td>\n",
       "      <td>%23niberg112</td>\n",
       "      <td>{'ki': '4uc6tQuJFcplPB65NDsWPj', 'MIX': '6Ysih...</td>\n",
       "    </tr>\n",
       "    <tr>\n",
       "      <th>1</th>\n",
       "      <td>Nike</td>\n",
       "      <td>104.3nowfm</td>\n",
       "      <td>104.3nowfm</td>\n",
       "      <td>{'..': '41J9LGTs0torOlt3rLXjEn', 'Djay 2 Music...</td>\n",
       "    </tr>\n",
       "    <tr>\n",
       "      <th>2</th>\n",
       "      <td>Nike</td>\n",
       "      <td>11102221493</td>\n",
       "      <td>11102221493</td>\n",
       "      <td>{'Loredana Berte — Dedicato (feat. Noemi)': '7...</td>\n",
       "    </tr>\n",
       "    <tr>\n",
       "      <th>3</th>\n",
       "      <td>Nike</td>\n",
       "      <td>11129094089</td>\n",
       "      <td>11129094089</td>\n",
       "      <td>{'Bedevi': '2K1biiqeAEhBRwbHd9ajMB', 'Demet Ak...</td>\n",
       "    </tr>\n",
       "    <tr>\n",
       "      <th>4</th>\n",
       "      <td>Nike</td>\n",
       "      <td>11136291185</td>\n",
       "      <td>11136291185</td>\n",
       "      <td>{'Shazam Şarkılarım': '5t6liWXkTYBI7oowc8tooM'...</td>\n",
       "    </tr>\n",
       "  </tbody>\n",
       "</table>\n",
       "</div>"
      ],
      "text/plain": [
       "  brand     username       user_id  \\\n",
       "0  Nike   #niberg112  %23niberg112   \n",
       "1  Nike   104.3nowfm    104.3nowfm   \n",
       "2  Nike  11102221493   11102221493   \n",
       "3  Nike  11129094089   11129094089   \n",
       "4  Nike  11136291185   11136291185   \n",
       "\n",
       "                                           playlists  \n",
       "0  {'ki': '4uc6tQuJFcplPB65NDsWPj', 'MIX': '6Ysih...  \n",
       "1  {'..': '41J9LGTs0torOlt3rLXjEn', 'Djay 2 Music...  \n",
       "2  {'Loredana Berte — Dedicato (feat. Noemi)': '7...  \n",
       "3  {'Bedevi': '2K1biiqeAEhBRwbHd9ajMB', 'Demet Ak...  \n",
       "4  {'Shazam Şarkılarım': '5t6liWXkTYBI7oowc8tooM'...  "
      ]
     },
     "execution_count": 13,
     "metadata": {},
     "output_type": "execute_result"
    }
   ],
   "source": [
    "nike.head()"
   ]
  },
  {
   "cell_type": "markdown",
   "metadata": {},
   "source": [
    "# Adidas"
   ]
  },
  {
   "cell_type": "code",
   "execution_count": 14,
   "metadata": {},
   "outputs": [
    {
     "name": "stderr",
     "output_type": "stream",
     "text": [
      "100%|██████████| 998/998 [08:00<00:00,  2.08it/s]\n"
     ]
    }
   ],
   "source": [
    "lista_playlists = []\n",
    "for id in tqdm(adidas[\"user_id\"]):\n",
    "    playlists = api.obtener_playlists(sp,id)\n",
    "    lista_playlists.append(playlists)\n",
    "    sleep(0.1)\n",
    "\n",
    "adidas[\"playlists\"] = lista_playlists"
   ]
  },
  {
   "cell_type": "markdown",
   "metadata": {},
   "source": [
    "### Eliminar usuarios sin playlists\n",
    "- No nos aportan información "
   ]
  },
  {
   "cell_type": "code",
   "execution_count": 15,
   "metadata": {},
   "outputs": [
    {
     "data": {
      "text/html": [
       "<div>\n",
       "<style scoped>\n",
       "    .dataframe tbody tr th:only-of-type {\n",
       "        vertical-align: middle;\n",
       "    }\n",
       "\n",
       "    .dataframe tbody tr th {\n",
       "        vertical-align: top;\n",
       "    }\n",
       "\n",
       "    .dataframe thead th {\n",
       "        text-align: right;\n",
       "    }\n",
       "</style>\n",
       "<table border=\"1\" class=\"dataframe\">\n",
       "  <thead>\n",
       "    <tr style=\"text-align: right;\">\n",
       "      <th></th>\n",
       "      <th>brand</th>\n",
       "      <th>username</th>\n",
       "      <th>user_id</th>\n",
       "      <th>playlists</th>\n",
       "    </tr>\n",
       "  </thead>\n",
       "  <tbody>\n",
       "    <tr>\n",
       "      <th>0</th>\n",
       "      <td>Adidas</td>\n",
       "      <td>- ZEN -</td>\n",
       "      <td>michiko476</td>\n",
       "      <td>{'VMG': '5CCFDf4wBXzOPrMOPoMrGX', 'Lofi Music,...</td>\n",
       "    </tr>\n",
       "    <tr>\n",
       "      <th>1</th>\n",
       "      <td>Adidas</td>\n",
       "      <td>-M's- Café &amp; Bar</td>\n",
       "      <td>lpet16qfnsa9zn97li98q8c50</td>\n",
       "      <td>{'Bach, J.S.: Organ Works': '0odoqvp5UQ4g80ODi...</td>\n",
       "    </tr>\n",
       "    <tr>\n",
       "      <th>2</th>\n",
       "      <td>Adidas</td>\n",
       "      <td>00</td>\n",
       "      <td>31sepz6hkia2k6apcy7zd3focgsq</td>\n",
       "      <td>{'NEERLANDAIS': '6Xj6v17hYAdW13NU7QrLK1', 'IRA...</td>\n",
       "    </tr>\n",
       "    <tr>\n",
       "      <th>3</th>\n",
       "      <td>Adidas</td>\n",
       "      <td>11100832652</td>\n",
       "      <td>11100832652</td>\n",
       "      <td>{'已星評': '65UARJSqWnPQcszYBY13VR', 'Acoustic：不插...</td>\n",
       "    </tr>\n",
       "    <tr>\n",
       "      <th>4</th>\n",
       "      <td>Adidas</td>\n",
       "      <td>11124423771</td>\n",
       "      <td>11124423771</td>\n",
       "      <td>{'paula': '7clyMeTyLvhXwrPrLWFtkq', '🤩🤩': '2yo...</td>\n",
       "    </tr>\n",
       "  </tbody>\n",
       "</table>\n",
       "</div>"
      ],
      "text/plain": [
       "    brand          username                       user_id  \\\n",
       "0  Adidas           - ZEN -                    michiko476   \n",
       "1  Adidas  -M's- Café & Bar     lpet16qfnsa9zn97li98q8c50   \n",
       "2  Adidas                00  31sepz6hkia2k6apcy7zd3focgsq   \n",
       "3  Adidas       11100832652                   11100832652   \n",
       "4  Adidas       11124423771                   11124423771   \n",
       "\n",
       "                                           playlists  \n",
       "0  {'VMG': '5CCFDf4wBXzOPrMOPoMrGX', 'Lofi Music,...  \n",
       "1  {'Bach, J.S.: Organ Works': '0odoqvp5UQ4g80ODi...  \n",
       "2  {'NEERLANDAIS': '6Xj6v17hYAdW13NU7QrLK1', 'IRA...  \n",
       "3  {'已星評': '65UARJSqWnPQcszYBY13VR', 'Acoustic：不插...  \n",
       "4  {'paula': '7clyMeTyLvhXwrPrLWFtkq', '🤩🤩': '2yo...  "
      ]
     },
     "execution_count": 15,
     "metadata": {},
     "output_type": "execute_result"
    }
   ],
   "source": [
    "adidas = adidas.loc[adidas[\"playlists\"] != \"No playlists\"].reset_index(drop=True)\n",
    "adidas.to_csv(\"../datos/01 Spotify/04_followers_adidas.csv\",index=True)\n",
    "adidas.head()"
   ]
  },
  {
   "cell_type": "markdown",
   "metadata": {},
   "source": [
    "# H&M"
   ]
  },
  {
   "cell_type": "code",
   "execution_count": 6,
   "metadata": {},
   "outputs": [
    {
     "name": "stderr",
     "output_type": "stream",
     "text": [
      "100%|██████████| 998/998 [09:14<00:00,  1.80it/s]\n"
     ]
    }
   ],
   "source": [
    "lista_playlists = []\n",
    "for id in tqdm(hm[\"user_id\"]):\n",
    "    playlists = api.obtener_playlists(sp,id)\n",
    "    lista_playlists.append(playlists)\n",
    "    sleep(0.1)\n",
    "hm[\"playlists\"] = lista_playlists"
   ]
  },
  {
   "cell_type": "markdown",
   "metadata": {},
   "source": [
    "### Eliminar usuarios sin playlists\n",
    "- No nos aportan información "
   ]
  },
  {
   "cell_type": "code",
   "execution_count": 7,
   "metadata": {},
   "outputs": [],
   "source": [
    "hm = hm.loc[hm[\"playlists\"] != \"No playlists\"].reset_index(drop=True)\n",
    "hm.to_csv(\"../datos/01 Spotify/05_followers_hm.csv\",index=True)"
   ]
  },
  {
   "cell_type": "markdown",
   "metadata": {},
   "source": [
    "# Pull & Bear"
   ]
  },
  {
   "cell_type": "code",
   "execution_count": 8,
   "metadata": {},
   "outputs": [
    {
     "name": "stderr",
     "output_type": "stream",
     "text": [
      "100%|██████████| 998/998 [08:05<00:00,  2.05it/s]\n"
     ]
    }
   ],
   "source": [
    "lista_playlists = []\n",
    "for id in tqdm(pullbear[\"user_id\"]):\n",
    "    playlists = api.obtener_playlists(sp,id)\n",
    "    lista_playlists.append(playlists)\n",
    "    sleep(0.1)\n",
    "\n",
    "pullbear[\"playlists\"] = lista_playlists"
   ]
  },
  {
   "cell_type": "markdown",
   "metadata": {},
   "source": [
    "### Eliminar usuarios sin playlists\n",
    "- No nos aportan información "
   ]
  },
  {
   "cell_type": "code",
   "execution_count": 9,
   "metadata": {},
   "outputs": [],
   "source": [
    "pullbear = pullbear.loc[pullbear[\"playlists\"] != \"No playlists\"].reset_index(drop=True)\n",
    "pullbear.to_csv(\"../datos/01 Spotify/06_followers_pull_and_bear.csv\",index=True)"
   ]
  },
  {
   "cell_type": "markdown",
   "metadata": {},
   "source": [
    "# Bershka"
   ]
  },
  {
   "cell_type": "code",
   "execution_count": 10,
   "metadata": {},
   "outputs": [
    {
     "name": "stderr",
     "output_type": "stream",
     "text": [
      "100%|██████████| 997/997 [06:11<00:00,  2.68it/s]\n"
     ]
    }
   ],
   "source": [
    "lista_playlists = []\n",
    "for id in tqdm(bershka[\"user_id\"]):\n",
    "    playlists = api.obtener_playlists(sp,id)\n",
    "    lista_playlists.append(playlists)\n",
    "    sleep(0.1)\n",
    "\n",
    "bershka[\"playlists\"] = lista_playlists"
   ]
  },
  {
   "cell_type": "markdown",
   "metadata": {},
   "source": [
    "### Eliminar usuarios sin playlists\n",
    "- No nos aportan información "
   ]
  },
  {
   "cell_type": "code",
   "execution_count": 11,
   "metadata": {},
   "outputs": [],
   "source": [
    "bershka = bershka.loc[bershka[\"playlists\"] != \"No playlists\"].reset_index(drop=True)\n",
    "bershka.to_csv(\"../datos/01 Spotify/07_followers_bershka.csv\",index=True)"
   ]
  },
  {
   "cell_type": "markdown",
   "metadata": {},
   "source": [
    "# Stradivarius"
   ]
  },
  {
   "cell_type": "code",
   "execution_count": 5,
   "metadata": {},
   "outputs": [
    {
     "name": "stderr",
     "output_type": "stream",
     "text": [
      "100%|██████████| 999/999 [03:46<00:00,  4.40it/s]\n"
     ]
    }
   ],
   "source": [
    "lista_playlists = []\n",
    "for id in tqdm(stradivarius[\"user_id\"]):\n",
    "    playlists = api.obtener_playlists(sp,id)\n",
    "    lista_playlists.append(playlists)\n",
    "\n",
    "stradivarius[\"playlists\"] = lista_playlists"
   ]
  },
  {
   "cell_type": "markdown",
   "metadata": {},
   "source": [
    "### Eliminar usuarios sin playlists\n",
    "- No nos aportan información "
   ]
  },
  {
   "cell_type": "code",
   "execution_count": 6,
   "metadata": {},
   "outputs": [],
   "source": [
    "stradivarius = stradivarius.loc[stradivarius[\"playlists\"] != \"No playlists\"].reset_index(drop=True)\n",
    "stradivarius.to_csv(\"../datos/01 Spotify/08_followers_stradivarius.csv\",index=True)"
   ]
  },
  {
   "cell_type": "markdown",
   "metadata": {},
   "source": [
    "# Mango"
   ]
  },
  {
   "cell_type": "code",
   "execution_count": 7,
   "metadata": {},
   "outputs": [
    {
     "name": "stderr",
     "output_type": "stream",
     "text": [
      "100%|██████████| 1000/1000 [06:08<00:00,  2.72it/s]\n"
     ]
    }
   ],
   "source": [
    "lista_playlists = []\n",
    "for id in tqdm(mango[\"user_id\"]):\n",
    "    playlists = api.obtener_playlists(sp,id)\n",
    "    lista_playlists.append(playlists)\n",
    "\n",
    "mango[\"playlists\"] = lista_playlists"
   ]
  },
  {
   "cell_type": "markdown",
   "metadata": {},
   "source": [
    "### Eliminar usuarios sin playlists\n",
    "- No nos aportan información "
   ]
  },
  {
   "cell_type": "code",
   "execution_count": 8,
   "metadata": {},
   "outputs": [],
   "source": [
    "mango = mango.loc[mango[\"playlists\"] != \"No playlists\"].reset_index(drop=True)\n",
    "mango.to_csv(\"../datos/01 Spotify/09_followers_mango.csv\",index=True)"
   ]
  },
  {
   "cell_type": "markdown",
   "metadata": {},
   "source": [
    "# Desigual"
   ]
  },
  {
   "cell_type": "code",
   "execution_count": 9,
   "metadata": {},
   "outputs": [
    {
     "name": "stderr",
     "output_type": "stream",
     "text": [
      "100%|██████████| 998/998 [03:03<00:00,  5.44it/s]\n"
     ]
    }
   ],
   "source": [
    "lista_playlists = []\n",
    "for id in tqdm(desigual[\"user_id\"]):\n",
    "    playlists = api.obtener_playlists(sp,id)\n",
    "    lista_playlists.append(playlists)\n",
    "\n",
    "desigual[\"playlists\"] = lista_playlists"
   ]
  },
  {
   "cell_type": "markdown",
   "metadata": {},
   "source": [
    "### Eliminar usuarios sin playlists\n",
    "- No nos aportan información "
   ]
  },
  {
   "cell_type": "code",
   "execution_count": 10,
   "metadata": {},
   "outputs": [],
   "source": [
    "desigual = desigual.loc[desigual[\"playlists\"] != \"No playlists\"].reset_index(drop=True)\n",
    "desigual.to_csv(\"../datos/01 Spotify/10_followers_desigual.csv\",index=True)"
   ]
  }
 ],
 "metadata": {
  "kernelspec": {
   "display_name": "Proyecto-Final",
   "language": "python",
   "name": "python3"
  },
  "language_info": {
   "codemirror_mode": {
    "name": "ipython",
    "version": 3
   },
   "file_extension": ".py",
   "mimetype": "text/x-python",
   "name": "python",
   "nbconvert_exporter": "python",
   "pygments_lexer": "ipython3",
   "version": "3.11.9"
  }
 },
 "nbformat": 4,
 "nbformat_minor": 2
}
