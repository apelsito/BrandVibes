{
 "cells": [
  {
   "cell_type": "code",
   "execution_count": 119,
   "metadata": {},
   "outputs": [],
   "source": [
    "# Tratamiento de datos\n",
    "# -----------------------------------------------------------------------\n",
    "import pandas as pd\n",
    "import numpy as np\n",
    "# Requests\n",
    "import requests\n",
    "from time import sleep\n",
    "from tqdm import tqdm\n",
    "\n",
    "# Para convertir de string a diccionario\n",
    "import ast\n",
    "import os\n",
    "import json\n",
    "\n",
    "import sys\n",
    "sys.path.append(\"../\")\n",
    "import src.soporte_spotify as api"
   ]
  },
  {
   "cell_type": "code",
   "execution_count": 120,
   "metadata": {},
   "outputs": [],
   "source": [
    "# sp = api.load_credentials()\n",
    "# sp.current_user()"
   ]
  },
  {
   "cell_type": "code",
   "execution_count": 121,
   "metadata": {},
   "outputs": [
    {
     "data": {
      "text/html": [
       "<div>\n",
       "<style scoped>\n",
       "    .dataframe tbody tr th:only-of-type {\n",
       "        vertical-align: middle;\n",
       "    }\n",
       "\n",
       "    .dataframe tbody tr th {\n",
       "        vertical-align: top;\n",
       "    }\n",
       "\n",
       "    .dataframe thead th {\n",
       "        text-align: right;\n",
       "    }\n",
       "</style>\n",
       "<table border=\"1\" class=\"dataframe\">\n",
       "  <thead>\n",
       "    <tr style=\"text-align: right;\">\n",
       "      <th></th>\n",
       "      <th>brand</th>\n",
       "      <th>username</th>\n",
       "      <th>user_id</th>\n",
       "      <th>playlists</th>\n",
       "      <th>playlist_ids</th>\n",
       "      <th>playlist_ids_limited</th>\n",
       "      <th>artistas</th>\n",
       "    </tr>\n",
       "  </thead>\n",
       "  <tbody>\n",
       "    <tr>\n",
       "      <th>406</th>\n",
       "      <td>Zara</td>\n",
       "      <td>Kat Albuquerque ✨</td>\n",
       "      <td>qzkdkcjf9v356no2hjlr4p3zn</td>\n",
       "      <td>{'Amei Te Ver': '1EBNjgh6qwt6digummbG0S', 'Pal...</td>\n",
       "      <td>['1EBNjgh6qwt6digummbG0S', '4rW5JrOFOfWeOuJvzW...</td>\n",
       "      <td>['1EBNjgh6qwt6digummbG0S', '4rW5JrOFOfWeOuJvzW...</td>\n",
       "      <td>{'4iWkwAVzssjb8XgxdoOL6M': 'TIAGO IORC', '2QLS...</td>\n",
       "    </tr>\n",
       "  </tbody>\n",
       "</table>\n",
       "</div>"
      ],
      "text/plain": [
       "    brand           username                    user_id  \\\n",
       "406  Zara  Kat Albuquerque ✨  qzkdkcjf9v356no2hjlr4p3zn   \n",
       "\n",
       "                                             playlists  \\\n",
       "406  {'Amei Te Ver': '1EBNjgh6qwt6digummbG0S', 'Pal...   \n",
       "\n",
       "                                          playlist_ids  \\\n",
       "406  ['1EBNjgh6qwt6digummbG0S', '4rW5JrOFOfWeOuJvzW...   \n",
       "\n",
       "                                  playlist_ids_limited  \\\n",
       "406  ['1EBNjgh6qwt6digummbG0S', '4rW5JrOFOfWeOuJvzW...   \n",
       "\n",
       "                                              artistas  \n",
       "406  {'4iWkwAVzssjb8XgxdoOL6M': 'TIAGO IORC', '2QLS...  "
      ]
     },
     "execution_count": 121,
     "metadata": {},
     "output_type": "execute_result"
    }
   ],
   "source": [
    "zara = pd.read_csv('../datos/01 Spotify/01_followers_zara.csv')\n",
    "zara.sample()"
   ]
  },
  {
   "cell_type": "markdown",
   "metadata": {},
   "source": [
    "### Eliminar aquellos users cuyas playlists no tenían artistas (no había canciones)"
   ]
  },
  {
   "cell_type": "code",
   "execution_count": 122,
   "metadata": {},
   "outputs": [],
   "source": [
    "zara = zara.loc[zara[\"artistas\"] != \"{}\"]"
   ]
  },
  {
   "cell_type": "markdown",
   "metadata": {},
   "source": [
    "### Reemplazar null por None para poder convertirlo a diccionarios"
   ]
  },
  {
   "cell_type": "code",
   "execution_count": 123,
   "metadata": {},
   "outputs": [],
   "source": [
    "for idx in zara.index:\n",
    "    zara.loc[idx,\"artistas\"] = zara.loc[idx,\"artistas\"].replace(\"null\",\"None\")"
   ]
  },
  {
   "cell_type": "markdown",
   "metadata": {},
   "source": [
    "### Convertir:\n",
    "- playlists: de STR a dict\n",
    "- playlist_ids: de STR a list\n",
    "- playlist_ids_limited: de STR a list\n",
    "- artistas: de STR a dict"
   ]
  },
  {
   "cell_type": "code",
   "execution_count": 124,
   "metadata": {},
   "outputs": [],
   "source": [
    "zara[\"playlists\"] = zara[\"playlists\"].apply(ast.literal_eval)\n",
    "zara[\"playlist_ids\"] = zara[\"playlist_ids\"].apply(lambda x: ast.literal_eval(x) if pd.notna(x) else [])\n",
    "zara[\"playlist_ids_limited\"] = zara[\"playlist_ids_limited\"].apply(lambda x: ast.literal_eval(x) if pd.notna(x) else [])\n",
    "zara[\"artistas\"] = zara[\"artistas\"].apply(ast.literal_eval)\n",
    "zara.to_csv(\"../datos/01 Spotify/01_followers_zara.csv\",index=False)"
   ]
  },
  {
   "cell_type": "markdown",
   "metadata": {},
   "source": [
    "### Ver cuantos artistas tenemos en total"
   ]
  },
  {
   "cell_type": "code",
   "execution_count": 125,
   "metadata": {},
   "outputs": [
    {
     "data": {
      "text/plain": [
       "323870"
      ]
     },
     "execution_count": 125,
     "metadata": {},
     "output_type": "execute_result"
    }
   ],
   "source": [
    "suma = 0\n",
    "for artista in zara[\"artistas\"]:\n",
    "    suma += len(artista)\n",
    "\n",
    "suma"
   ]
  },
  {
   "cell_type": "markdown",
   "metadata": {},
   "source": [
    "# Diccionario de artistas únicos\n",
    "- Creamos un diccionario de artistas únicos a partir de todos los obtenidos\n",
    "- De forma que solo consultaremos los géneros una sola vez"
   ]
  },
  {
   "cell_type": "code",
   "execution_count": 126,
   "metadata": {},
   "outputs": [],
   "source": [
    "artistas_unicos = {}\n",
    "for dictio in zara[\"artistas\"]:\n",
    "    for id_artista, artista in dictio.items():\n",
    "        if id_artista not in artistas_unicos:\n",
    "            artistas_unicos[id_artista] = artista\n",
    "# Eliminar la Key \"None\"\n",
    "del artistas_unicos[\"None\"]"
   ]
  },
  {
   "cell_type": "code",
   "execution_count": 127,
   "metadata": {},
   "outputs": [
    {
     "data": {
      "text/plain": [
       "110684"
      ]
     },
     "execution_count": 127,
     "metadata": {},
     "output_type": "execute_result"
    }
   ],
   "source": [
    "len(artistas_unicos)"
   ]
  },
  {
   "cell_type": "markdown",
   "metadata": {},
   "source": [
    "Diccionario Nº Veces que aparece un artista\n",
    "- de los usuarios, obtendremos el número de veces que sale un artista\n",
    "- De esta manera sabremos la popularidad dentro de los seguidores de Zara\n"
   ]
  },
  {
   "cell_type": "code",
   "execution_count": 128,
   "metadata": {},
   "outputs": [
    {
     "data": {
      "text/plain": [
       "(None, 328)"
      ]
     },
     "execution_count": 128,
     "metadata": {},
     "output_type": "execute_result"
    }
   ],
   "source": [
    "conteo_artistas = {}\n",
    "for dictio in zara[\"artistas\"]:\n",
    "    for artista in dictio.values():\n",
    "        conteo_artistas[artista] = conteo_artistas.get(artista,0) + 1\n",
    "\n",
    "# Ordenar los artistas de mayor a menor repetición\n",
    "conteo_artistas = sorted(conteo_artistas.items(), key=lambda x: x[1], reverse=True)\n",
    "# Quitamos None, que es un artista vacío\n",
    "conteo_artistas.pop(1)"
   ]
  },
  {
   "cell_type": "code",
   "execution_count": 129,
   "metadata": {},
   "outputs": [
    {
     "data": {
      "text/plain": [
       "108095"
      ]
     },
     "execution_count": 129,
     "metadata": {},
     "output_type": "execute_result"
    }
   ],
   "source": [
    "len(conteo_artistas)"
   ]
  },
  {
   "cell_type": "markdown",
   "metadata": {},
   "source": [
    "# Generar Nuevo DF con\n",
    "- Marca\n",
    "- Número de Usuarios\n",
    "- diccionario artistas únicos\n",
    "- ranking_artistas"
   ]
  },
  {
   "cell_type": "code",
   "execution_count": 130,
   "metadata": {},
   "outputs": [
    {
     "data": {
      "text/html": [
       "<div>\n",
       "<style scoped>\n",
       "    .dataframe tbody tr th:only-of-type {\n",
       "        vertical-align: middle;\n",
       "    }\n",
       "\n",
       "    .dataframe tbody tr th {\n",
       "        vertical-align: top;\n",
       "    }\n",
       "\n",
       "    .dataframe thead th {\n",
       "        text-align: right;\n",
       "    }\n",
       "</style>\n",
       "<table border=\"1\" class=\"dataframe\">\n",
       "  <thead>\n",
       "    <tr style=\"text-align: right;\">\n",
       "      <th></th>\n",
       "      <th>brand</th>\n",
       "      <th>followers</th>\n",
       "      <th>unique_artists</th>\n",
       "      <th>artist_ranking</th>\n",
       "    </tr>\n",
       "  </thead>\n",
       "  <tbody>\n",
       "    <tr>\n",
       "      <th>0</th>\n",
       "      <td>Zara</td>\n",
       "      <td>848</td>\n",
       "      <td>{'3qm84nBOXUEQ2vnTfUTTFC': 'Guns N' Roses', '6...</td>\n",
       "      <td>[(The Weeknd, 346), (Dua Lipa, 298), (Coldplay...</td>\n",
       "    </tr>\n",
       "  </tbody>\n",
       "</table>\n",
       "</div>"
      ],
      "text/plain": [
       "  brand  followers                                     unique_artists  \\\n",
       "0  Zara        848  {'3qm84nBOXUEQ2vnTfUTTFC': 'Guns N' Roses', '6...   \n",
       "\n",
       "                                      artist_ranking  \n",
       "0  [(The Weeknd, 346), (Dua Lipa, 298), (Coldplay...  "
      ]
     },
     "execution_count": 130,
     "metadata": {},
     "output_type": "execute_result"
    }
   ],
   "source": [
    "df_zara = pd.DataFrame({\n",
    "    \"brand\" : [zara[\"brand\"].unique()[0]] ,\n",
    "    \"followers\" : zara.shape[0],\n",
    "    \"unique_artists\": str(artistas_unicos),\n",
    "    \"artist_ranking\" : str(conteo_artistas)\n",
    "})\n",
    "df_zara[\"unique_artists\"] = df_zara[\"unique_artists\"].apply(ast.literal_eval)\n",
    "df_zara[\"artist_ranking\"] = df_zara[\"artist_ranking\"].apply(lambda x: ast.literal_eval(x) if pd.notna(x) else [])\n",
    "df_zara"
   ]
  },
  {
   "cell_type": "code",
   "execution_count": 131,
   "metadata": {},
   "outputs": [],
   "source": [
    "df_zara.to_csv(\"../datos/01 Spotify/01 Resumen Marcas/resumen_zara.csv\",index=False)"
   ]
  }
 ],
 "metadata": {
  "kernelspec": {
   "display_name": "Proyecto-Final",
   "language": "python",
   "name": "python3"
  },
  "language_info": {
   "codemirror_mode": {
    "name": "ipython",
    "version": 3
   },
   "file_extension": ".py",
   "mimetype": "text/x-python",
   "name": "python",
   "nbconvert_exporter": "python",
   "pygments_lexer": "ipython3",
   "version": "3.11.9"
  }
 },
 "nbformat": 4,
 "nbformat_minor": 2
}
