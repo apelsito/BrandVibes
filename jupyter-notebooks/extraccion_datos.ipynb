{
 "cells": [
  {
   "cell_type": "code",
   "execution_count": 1,
   "metadata": {},
   "outputs": [],
   "source": [
    "# antes de emepzar tenemos que instalar la siguiente librería\n",
    "#!pip install spotipy"
   ]
  },
  {
   "cell_type": "code",
   "execution_count": 2,
   "metadata": {},
   "outputs": [],
   "source": [
    "import pandas as pd\n",
    "import numpy as np\n",
    "import seaborn as sns\n",
    "import matplotlib.pyplot as plt\n",
    "\n",
    "import sys\n",
    "sys.path.append(\"../\")\n",
    "from src import soporte_api_spotify as api"
   ]
  },
  {
   "cell_type": "code",
   "execution_count": 3,
   "metadata": {},
   "outputs": [
    {
     "data": {
      "text/plain": [
       "<spotipy.client.Spotify at 0x17c2670d0>"
      ]
     },
     "execution_count": 3,
     "metadata": {},
     "output_type": "execute_result"
    }
   ],
   "source": [
    "sp = api.create_credentials()\n",
    "sp"
   ]
  },
  {
   "cell_type": "code",
   "execution_count": 4,
   "metadata": {},
   "outputs": [
    {
     "data": {
      "text/plain": [
       "'1TrqChuDUHldTM4PCXL6lf'"
      ]
     },
     "execution_count": 4,
     "metadata": {},
     "output_type": "execute_result"
    }
   ],
   "source": [
    "# definimos la url de la lista de reproducción\n",
    "url = \"https://open.spotify.com/playlist/1TrqChuDUHldTM4PCXL6lf?si=f09e5150f006448c\"\n",
    "uri_playlist = api.prepare_url(url)\n",
    "uri_playlist"
   ]
  },
  {
   "cell_type": "code",
   "execution_count": 5,
   "metadata": {},
   "outputs": [
    {
     "name": "stdout",
     "output_type": "stream",
     "text": [
      "4\n"
     ]
    },
    {
     "data": {
      "text/html": [
       "<div>\n",
       "<style scoped>\n",
       "    .dataframe tbody tr th:only-of-type {\n",
       "        vertical-align: middle;\n",
       "    }\n",
       "\n",
       "    .dataframe tbody tr th {\n",
       "        vertical-align: top;\n",
       "    }\n",
       "\n",
       "    .dataframe thead th {\n",
       "        text-align: right;\n",
       "    }\n",
       "</style>\n",
       "<table border=\"1\" class=\"dataframe\">\n",
       "  <thead>\n",
       "    <tr style=\"text-align: right;\">\n",
       "      <th></th>\n",
       "      <th>song</th>\n",
       "      <th>artist</th>\n",
       "      <th>date</th>\n",
       "      <th>explicit</th>\n",
       "      <th>uri_cancion</th>\n",
       "      <th>popularity</th>\n",
       "      <th>usuario</th>\n",
       "      <th>links</th>\n",
       "      <th>uri_artista</th>\n",
       "    </tr>\n",
       "  </thead>\n",
       "  <tbody>\n",
       "    <tr>\n",
       "      <th>0</th>\n",
       "      <td>BMXXing</td>\n",
       "      <td>mgk</td>\n",
       "      <td>2024-06-07</td>\n",
       "      <td>True</td>\n",
       "      <td>spotify:track:5xR8ngEQmlQ1U2xSE0KzTo</td>\n",
       "      <td>59</td>\n",
       "      <td>cogpverzil36gf0gak5jnx5ie</td>\n",
       "      <td>https://open.spotify.com/track/5xR8ngEQmlQ1U2x...</td>\n",
       "      <td>6TIYQ3jFPwQSRmorSezPxX</td>\n",
       "    </tr>\n",
       "    <tr>\n",
       "      <th>1</th>\n",
       "      <td>Black Eyes Blue</td>\n",
       "      <td>Corey Taylor</td>\n",
       "      <td>2020-10-02</td>\n",
       "      <td>False</td>\n",
       "      <td>spotify:track:2Gx3kLdFT0elzqKG7SFyCw</td>\n",
       "      <td>42</td>\n",
       "      <td>cogpverzil36gf0gak5jnx5ie</td>\n",
       "      <td>https://open.spotify.com/track/2Gx3kLdFT0elzqK...</td>\n",
       "      <td>0nhDd1RWjZ6SDV1Vg1Ku2Q</td>\n",
       "    </tr>\n",
       "    <tr>\n",
       "      <th>2</th>\n",
       "      <td>Apaga la Llum</td>\n",
       "      <td>Viva Belgrado</td>\n",
       "      <td>2016-12-05</td>\n",
       "      <td>False</td>\n",
       "      <td>spotify:track:2MOfK9MfAc53JLEVBzn0xG</td>\n",
       "      <td>20</td>\n",
       "      <td>cogpverzil36gf0gak5jnx5ie</td>\n",
       "      <td>https://open.spotify.com/track/2MOfK9MfAc53JLE...</td>\n",
       "      <td>37gLE2S4JxurgPNf1sx6HK</td>\n",
       "    </tr>\n",
       "    <tr>\n",
       "      <th>3</th>\n",
       "      <td>Perdidos por el Miedo</td>\n",
       "      <td>Olvidados</td>\n",
       "      <td>2024-09-01</td>\n",
       "      <td>True</td>\n",
       "      <td>spotify:track:0BQfNHigZPW3BiRieE3iqq</td>\n",
       "      <td>3</td>\n",
       "      <td>cogpverzil36gf0gak5jnx5ie</td>\n",
       "      <td>https://open.spotify.com/track/0BQfNHigZPW3BiR...</td>\n",
       "      <td>06eCCvFnbmchrFSZRoZ0j4</td>\n",
       "    </tr>\n",
       "    <tr>\n",
       "      <th>4</th>\n",
       "      <td>Ms. Jackson</td>\n",
       "      <td>Outkast</td>\n",
       "      <td>2000-10-31</td>\n",
       "      <td>True</td>\n",
       "      <td>spotify:track:0I3q5fE6wg7LIfHGngUTnV</td>\n",
       "      <td>81</td>\n",
       "      <td>cogpverzil36gf0gak5jnx5ie</td>\n",
       "      <td>https://open.spotify.com/track/0I3q5fE6wg7LIfH...</td>\n",
       "      <td>1G9G7WwrXka3Z1r7aIDjI7</td>\n",
       "    </tr>\n",
       "  </tbody>\n",
       "</table>\n",
       "</div>"
      ],
      "text/plain": [
       "                    song         artist        date  explicit  \\\n",
       "0                BMXXing            mgk  2024-06-07      True   \n",
       "1        Black Eyes Blue   Corey Taylor  2020-10-02     False   \n",
       "2          Apaga la Llum  Viva Belgrado  2016-12-05     False   \n",
       "3  Perdidos por el Miedo      Olvidados  2024-09-01      True   \n",
       "4            Ms. Jackson        Outkast  2000-10-31      True   \n",
       "\n",
       "                            uri_cancion  popularity  \\\n",
       "0  spotify:track:5xR8ngEQmlQ1U2xSE0KzTo          59   \n",
       "1  spotify:track:2Gx3kLdFT0elzqKG7SFyCw          42   \n",
       "2  spotify:track:2MOfK9MfAc53JLEVBzn0xG          20   \n",
       "3  spotify:track:0BQfNHigZPW3BiRieE3iqq           3   \n",
       "4  spotify:track:0I3q5fE6wg7LIfHGngUTnV          81   \n",
       "\n",
       "                     usuario  \\\n",
       "0  cogpverzil36gf0gak5jnx5ie   \n",
       "1  cogpverzil36gf0gak5jnx5ie   \n",
       "2  cogpverzil36gf0gak5jnx5ie   \n",
       "3  cogpverzil36gf0gak5jnx5ie   \n",
       "4  cogpverzil36gf0gak5jnx5ie   \n",
       "\n",
       "                                               links             uri_artista  \n",
       "0  https://open.spotify.com/track/5xR8ngEQmlQ1U2x...  6TIYQ3jFPwQSRmorSezPxX  \n",
       "1  https://open.spotify.com/track/2Gx3kLdFT0elzqK...  0nhDd1RWjZ6SDV1Vg1Ku2Q  \n",
       "2  https://open.spotify.com/track/2MOfK9MfAc53JLE...  37gLE2S4JxurgPNf1sx6HK  \n",
       "3  https://open.spotify.com/track/0BQfNHigZPW3BiR...  06eCCvFnbmchrFSZRoZ0j4  \n",
       "4  https://open.spotify.com/track/0I3q5fE6wg7LIfH...  1G9G7WwrXka3Z1r7aIDjI7  "
      ]
     },
     "execution_count": 5,
     "metadata": {},
     "output_type": "execute_result"
    }
   ],
   "source": [
    "# extraemos todas las canciones de la lista\n",
    "all_songs = api.extract_songs(sp, uri_playlist)\n",
    "\n",
    "# limpiamos los datos extraidos de la api, para quedarnos solo con algunos datos\n",
    "df_all_songs = api.clean_data( all_songs)\n",
    "df_all_songs.head()"
   ]
  },
  {
   "cell_type": "code",
   "execution_count": 6,
   "metadata": {},
   "outputs": [
    {
     "data": {
      "text/plain": [
       "['spotify:track:5xR8ngEQmlQ1U2xSE0KzTo',\n",
       " 'spotify:track:2Gx3kLdFT0elzqKG7SFyCw',\n",
       " 'spotify:track:2MOfK9MfAc53JLEVBzn0xG']"
      ]
     },
     "execution_count": 6,
     "metadata": {},
     "output_type": "execute_result"
    }
   ],
   "source": [
    "# tenemos las canciones, ahora vamos a sacar algunas caracteristicas de cada una de las canciones, para lo que necesitamos su uri o ID\n",
    "listas_uris_canciones = df_all_songs[\"uri_cancion\"].unique().tolist()\n",
    "listas_uris_canciones[:3]"
   ]
  },
  {
   "cell_type": "code",
   "execution_count": 7,
   "metadata": {},
   "outputs": [
    {
     "name": "stderr",
     "output_type": "stream",
     "text": [
      " 63%|██████▎   | 202/319 [00:15<00:06, 17.38it/s]Max Retries reached\n",
      " 64%|██████▍   | 205/319 [00:17<00:28,  4.01it/s]"
     ]
    },
    {
     "name": "stdout",
     "output_type": "stream",
     "text": [
      "spotify:track:5HGxLtYxTriF7mMiriSpaz\n"
     ]
    },
    {
     "name": "stderr",
     "output_type": "stream",
     "text": [
      "Max Retries reached\n",
      " 65%|██████▍   | 207/319 [00:19<00:46,  2.42it/s]"
     ]
    },
    {
     "name": "stdout",
     "output_type": "stream",
     "text": [
      "spotify:track:4JjUwfp8GQ3PxWg2QPKnpn\n",
      "spotify:episode:0WrA0OaCg8PXNrDYAaCtb8\n"
     ]
    },
    {
     "name": "stderr",
     "output_type": "stream",
     "text": [
      "Max Retries reached\n",
      " 65%|██████▌   | 208/319 [00:21<01:10,  1.57it/s]"
     ]
    },
    {
     "name": "stdout",
     "output_type": "stream",
     "text": [
      "spotify:track:7adnn3taCcWDNfFGI8Zfbt\n"
     ]
    },
    {
     "name": "stderr",
     "output_type": "stream",
     "text": [
      "Max Retries reached\n",
      " 66%|██████▌   | 209/319 [00:23<01:35,  1.15it/s]"
     ]
    },
    {
     "name": "stdout",
     "output_type": "stream",
     "text": [
      "spotify:track:19yw3iQThdt27LK8SZYvpX\n"
     ]
    },
    {
     "name": "stderr",
     "output_type": "stream",
     "text": [
      "Max Retries reached\n",
      " 66%|██████▌   | 210/319 [00:25<01:58,  1.09s/it]"
     ]
    },
    {
     "name": "stdout",
     "output_type": "stream",
     "text": [
      "spotify:track:3siKQLur5hZAaqWTw2H7Ck\n"
     ]
    },
    {
     "name": "stderr",
     "output_type": "stream",
     "text": [
      "Max Retries reached\n",
      " 66%|██████▌   | 211/319 [00:27<02:17,  1.27s/it]"
     ]
    },
    {
     "name": "stdout",
     "output_type": "stream",
     "text": [
      "spotify:track:5unclBGXFnC5N7nRaDBZC6\n"
     ]
    },
    {
     "name": "stderr",
     "output_type": "stream",
     "text": [
      "Max Retries reached\n",
      " 66%|██████▋   | 212/319 [00:29<02:35,  1.45s/it]"
     ]
    },
    {
     "name": "stdout",
     "output_type": "stream",
     "text": [
      "spotify:track:0NvTKlWvcMAAnk6R5YEuqT\n"
     ]
    },
    {
     "name": "stderr",
     "output_type": "stream",
     "text": [
      "Max Retries reached\n",
      " 67%|██████▋   | 213/319 [00:31<02:50,  1.60s/it]"
     ]
    },
    {
     "name": "stdout",
     "output_type": "stream",
     "text": [
      "spotify:track:6MuHyhiE76FACbpCXbMgiI\n"
     ]
    },
    {
     "name": "stderr",
     "output_type": "stream",
     "text": [
      "Max Retries reached\n",
      " 67%|██████▋   | 214/319 [00:33<02:58,  1.70s/it]"
     ]
    },
    {
     "name": "stdout",
     "output_type": "stream",
     "text": [
      "spotify:track:3o0OhPbX6vz6lzn63kg2CE\n"
     ]
    },
    {
     "name": "stderr",
     "output_type": "stream",
     "text": [
      "Max Retries reached\n",
      " 67%|██████▋   | 215/319 [00:35<03:05,  1.79s/it]"
     ]
    },
    {
     "name": "stdout",
     "output_type": "stream",
     "text": [
      "spotify:track:57RavLKmrcUGYJFHSKLFtm\n"
     ]
    },
    {
     "name": "stderr",
     "output_type": "stream",
     "text": [
      "Max Retries reached\n",
      " 68%|██████▊   | 216/319 [00:37<03:10,  1.85s/it]"
     ]
    },
    {
     "name": "stdout",
     "output_type": "stream",
     "text": [
      "spotify:track:295yGzjjW6fp8OPerGXapc\n"
     ]
    },
    {
     "name": "stderr",
     "output_type": "stream",
     "text": [
      "Max Retries reached\n",
      " 68%|██████▊   | 217/319 [00:39<03:12,  1.89s/it]"
     ]
    },
    {
     "name": "stdout",
     "output_type": "stream",
     "text": [
      "spotify:track:61qYmqAXyKU0wjgIwxOMUL\n"
     ]
    },
    {
     "name": "stderr",
     "output_type": "stream",
     "text": [
      "Max Retries reached\n",
      " 68%|██████▊   | 218/319 [00:41<03:14,  1.93s/it]"
     ]
    },
    {
     "name": "stdout",
     "output_type": "stream",
     "text": [
      "spotify:track:1z2Adfsw7L8P9tAeubRqBa\n"
     ]
    },
    {
     "name": "stderr",
     "output_type": "stream",
     "text": [
      "Max Retries reached\n",
      " 69%|██████▊   | 219/319 [00:43<03:13,  1.94s/it]"
     ]
    },
    {
     "name": "stdout",
     "output_type": "stream",
     "text": [
      "spotify:track:35X12NWsxjviHqKeEa1NI7\n"
     ]
    },
    {
     "name": "stderr",
     "output_type": "stream",
     "text": [
      "Max Retries reached\n",
      " 69%|██████▉   | 220/319 [00:45<03:15,  1.97s/it]"
     ]
    },
    {
     "name": "stdout",
     "output_type": "stream",
     "text": [
      "spotify:track:75lRIHDteNPr9hEjLEjCZ6\n"
     ]
    },
    {
     "name": "stderr",
     "output_type": "stream",
     "text": [
      "Max Retries reached\n",
      " 69%|██████▉   | 221/319 [00:47<03:14,  1.99s/it]"
     ]
    },
    {
     "name": "stdout",
     "output_type": "stream",
     "text": [
      "spotify:track:44hxO5tnsZzIDOzzfqqYHX\n"
     ]
    },
    {
     "name": "stderr",
     "output_type": "stream",
     "text": [
      "Max Retries reached\n",
      " 70%|██████▉   | 222/319 [00:49<03:13,  1.99s/it]"
     ]
    },
    {
     "name": "stdout",
     "output_type": "stream",
     "text": [
      "spotify:track:04zCkONaIDxTx2gDjV1yCd\n"
     ]
    },
    {
     "name": "stderr",
     "output_type": "stream",
     "text": [
      "Max Retries reached\n",
      " 70%|██████▉   | 223/319 [00:51<03:10,  1.99s/it]"
     ]
    },
    {
     "name": "stdout",
     "output_type": "stream",
     "text": [
      "spotify:track:0SZPXD0uEl72YjUVY2K3E9\n"
     ]
    },
    {
     "name": "stderr",
     "output_type": "stream",
     "text": [
      "Max Retries reached\n",
      " 70%|███████   | 224/319 [00:53<03:10,  2.00s/it]"
     ]
    },
    {
     "name": "stdout",
     "output_type": "stream",
     "text": [
      "spotify:track:6R3R3Gdb0rnbYRHXLL8Zvy\n"
     ]
    },
    {
     "name": "stderr",
     "output_type": "stream",
     "text": [
      "Max Retries reached\n",
      " 71%|███████   | 225/319 [00:56<03:09,  2.02s/it]"
     ]
    },
    {
     "name": "stdout",
     "output_type": "stream",
     "text": [
      "spotify:track:52LJ3hyknOijCrE5gCD0rE\n"
     ]
    },
    {
     "name": "stderr",
     "output_type": "stream",
     "text": [
      "Max Retries reached\n",
      " 71%|███████   | 226/319 [00:58<03:06,  2.01s/it]"
     ]
    },
    {
     "name": "stdout",
     "output_type": "stream",
     "text": [
      "spotify:track:3Y8Y9GWlUBTTEY6ydINRtx\n"
     ]
    },
    {
     "name": "stderr",
     "output_type": "stream",
     "text": [
      "Max Retries reached\n",
      " 71%|███████   | 227/319 [01:00<03:05,  2.02s/it]"
     ]
    },
    {
     "name": "stdout",
     "output_type": "stream",
     "text": [
      "spotify:track:5dVKYrPpo8d5AgUGRKMBLp\n"
     ]
    },
    {
     "name": "stderr",
     "output_type": "stream",
     "text": [
      "Max Retries reached\n",
      " 71%|███████▏  | 228/319 [01:02<03:02,  2.01s/it]"
     ]
    },
    {
     "name": "stdout",
     "output_type": "stream",
     "text": [
      "spotify:track:6mADjHs6FXdroPzEGW6KVJ\n"
     ]
    },
    {
     "name": "stderr",
     "output_type": "stream",
     "text": [
      "Max Retries reached\n",
      " 72%|███████▏  | 229/319 [01:04<02:59,  1.99s/it]"
     ]
    },
    {
     "name": "stdout",
     "output_type": "stream",
     "text": [
      "spotify:track:1VSuFS7PahCN3SWbOcQ98m\n"
     ]
    },
    {
     "name": "stderr",
     "output_type": "stream",
     "text": [
      "Max Retries reached\n",
      " 72%|███████▏  | 230/319 [01:06<02:58,  2.01s/it]"
     ]
    },
    {
     "name": "stdout",
     "output_type": "stream",
     "text": [
      "spotify:track:18A9SJk9sMxjBYcfzhe4QU\n"
     ]
    },
    {
     "name": "stderr",
     "output_type": "stream",
     "text": [
      "Max Retries reached\n",
      " 72%|███████▏  | 231/319 [01:08<02:55,  1.99s/it]"
     ]
    },
    {
     "name": "stdout",
     "output_type": "stream",
     "text": [
      "spotify:track:5LTzAKRZ2Xct8d6vVrErha\n"
     ]
    },
    {
     "name": "stderr",
     "output_type": "stream",
     "text": [
      "Max Retries reached\n",
      " 73%|███████▎  | 232/319 [01:10<02:59,  2.07s/it]"
     ]
    },
    {
     "name": "stdout",
     "output_type": "stream",
     "text": [
      "spotify:track:5arVt2Wg0zbiWwAOZef2Nl\n"
     ]
    },
    {
     "name": "stderr",
     "output_type": "stream",
     "text": [
      "Max Retries reached\n",
      " 73%|███████▎  | 233/319 [01:12<02:55,  2.04s/it]"
     ]
    },
    {
     "name": "stdout",
     "output_type": "stream",
     "text": [
      "spotify:track:5oCeOZ2D2QXZwy5RmWDaUR\n"
     ]
    },
    {
     "name": "stderr",
     "output_type": "stream",
     "text": [
      "Max Retries reached\n",
      " 73%|███████▎  | 234/319 [01:14<02:52,  2.03s/it]"
     ]
    },
    {
     "name": "stdout",
     "output_type": "stream",
     "text": [
      "spotify:track:7vMzQQJ0FH3PAXheQmGyaU\n"
     ]
    },
    {
     "name": "stderr",
     "output_type": "stream",
     "text": [
      "Max Retries reached\n",
      " 74%|███████▎  | 235/319 [01:16<02:49,  2.01s/it]"
     ]
    },
    {
     "name": "stdout",
     "output_type": "stream",
     "text": [
      "spotify:track:4Srdlb9TIrmstXJqwyeIyo\n"
     ]
    },
    {
     "name": "stderr",
     "output_type": "stream",
     "text": [
      "Max Retries reached\n",
      " 74%|███████▍  | 236/319 [01:18<02:45,  2.00s/it]"
     ]
    },
    {
     "name": "stdout",
     "output_type": "stream",
     "text": [
      "spotify:track:6Ec5LeRzkisa5KJtwLfOoW\n"
     ]
    },
    {
     "name": "stderr",
     "output_type": "stream",
     "text": [
      "Max Retries reached\n",
      " 74%|███████▍  | 237/319 [01:20<02:44,  2.01s/it]"
     ]
    },
    {
     "name": "stdout",
     "output_type": "stream",
     "text": [
      "spotify:track:7G0ftgvBHTHerr6aTBv6jv\n"
     ]
    },
    {
     "name": "stderr",
     "output_type": "stream",
     "text": [
      "Max Retries reached\n",
      " 75%|███████▍  | 238/319 [01:22<02:41,  1.99s/it]"
     ]
    },
    {
     "name": "stdout",
     "output_type": "stream",
     "text": [
      "spotify:track:1NCu2nq83sNhZJdYPZ8MT6\n"
     ]
    },
    {
     "name": "stderr",
     "output_type": "stream",
     "text": [
      "Max Retries reached\n",
      " 75%|███████▍  | 239/319 [01:24<02:40,  2.01s/it]"
     ]
    },
    {
     "name": "stdout",
     "output_type": "stream",
     "text": [
      "spotify:track:0LGpqnzalWgFKkjdA5JKIj\n"
     ]
    },
    {
     "name": "stderr",
     "output_type": "stream",
     "text": [
      "Max Retries reached\n",
      " 75%|███████▌  | 240/319 [01:26<02:37,  1.99s/it]"
     ]
    },
    {
     "name": "stdout",
     "output_type": "stream",
     "text": [
      "spotify:track:6SLLWMfR83KwtddGBmFIxO\n"
     ]
    },
    {
     "name": "stderr",
     "output_type": "stream",
     "text": [
      "Max Retries reached\n",
      " 76%|███████▌  | 241/319 [01:28<02:37,  2.01s/it]"
     ]
    },
    {
     "name": "stdout",
     "output_type": "stream",
     "text": [
      "spotify:track:1j8z4TTjJ1YOdoFEDwJTQa\n"
     ]
    },
    {
     "name": "stderr",
     "output_type": "stream",
     "text": [
      "Max Retries reached\n",
      " 76%|███████▌  | 242/319 [01:30<02:33,  2.00s/it]"
     ]
    },
    {
     "name": "stdout",
     "output_type": "stream",
     "text": [
      "spotify:track:269XSeQhDrWEotMALJaACW\n"
     ]
    },
    {
     "name": "stderr",
     "output_type": "stream",
     "text": [
      "Max Retries reached\n",
      " 76%|███████▌  | 243/319 [01:32<02:32,  2.01s/it]"
     ]
    },
    {
     "name": "stdout",
     "output_type": "stream",
     "text": [
      "spotify:track:0Juu850DdoOIKnF9Fcm2ep\n"
     ]
    },
    {
     "name": "stderr",
     "output_type": "stream",
     "text": [
      "Max Retries reached\n",
      " 76%|███████▋  | 244/319 [01:34<02:29,  2.00s/it]"
     ]
    },
    {
     "name": "stdout",
     "output_type": "stream",
     "text": [
      "spotify:track:2vsTl21VRMO8erDIBjb63O\n"
     ]
    },
    {
     "name": "stderr",
     "output_type": "stream",
     "text": [
      "Max Retries reached\n",
      " 77%|███████▋  | 245/319 [01:36<02:28,  2.00s/it]"
     ]
    },
    {
     "name": "stdout",
     "output_type": "stream",
     "text": [
      "spotify:track:5l3ECXGkrmWEpCZIvm1Hd8\n"
     ]
    },
    {
     "name": "stderr",
     "output_type": "stream",
     "text": [
      "Max Retries reached\n",
      " 77%|███████▋  | 246/319 [01:38<02:26,  2.01s/it]"
     ]
    },
    {
     "name": "stdout",
     "output_type": "stream",
     "text": [
      "spotify:track:5RKQ5NdjSh2QzD4MaunT91\n"
     ]
    },
    {
     "name": "stderr",
     "output_type": "stream",
     "text": [
      "Max Retries reached\n",
      " 77%|███████▋  | 247/319 [01:40<02:23,  1.99s/it]"
     ]
    },
    {
     "name": "stdout",
     "output_type": "stream",
     "text": [
      "spotify:track:72jbDTw1piOOj770jWNeaG\n"
     ]
    },
    {
     "name": "stderr",
     "output_type": "stream",
     "text": [
      "Max Retries reached\n",
      " 78%|███████▊  | 248/319 [01:42<02:22,  2.01s/it]"
     ]
    },
    {
     "name": "stdout",
     "output_type": "stream",
     "text": [
      "spotify:track:0ljBsxd2mNS1nNzOocPLNr\n"
     ]
    },
    {
     "name": "stderr",
     "output_type": "stream",
     "text": [
      "Max Retries reached\n",
      " 78%|███████▊  | 249/319 [01:44<02:19,  1.99s/it]"
     ]
    },
    {
     "name": "stdout",
     "output_type": "stream",
     "text": [
      "spotify:track:0IUFjvwlh18TWiTi6kO5pP\n"
     ]
    },
    {
     "name": "stderr",
     "output_type": "stream",
     "text": [
      "Max Retries reached\n",
      " 78%|███████▊  | 250/319 [01:46<02:18,  2.00s/it]"
     ]
    },
    {
     "name": "stdout",
     "output_type": "stream",
     "text": [
      "spotify:track:6VVBXRsXAuN5UvqKNw7j0l\n"
     ]
    },
    {
     "name": "stderr",
     "output_type": "stream",
     "text": [
      "Max Retries reached\n",
      " 79%|███████▊  | 251/319 [01:48<02:15,  2.00s/it]"
     ]
    },
    {
     "name": "stdout",
     "output_type": "stream",
     "text": [
      "spotify:track:6ECp64rv50XVz93WvxXMGF\n"
     ]
    },
    {
     "name": "stderr",
     "output_type": "stream",
     "text": [
      "Max Retries reached\n",
      " 79%|███████▉  | 252/319 [01:50<02:12,  1.98s/it]"
     ]
    },
    {
     "name": "stdout",
     "output_type": "stream",
     "text": [
      "spotify:track:3EPd9riN2R8Zjl6GkrxxGl\n"
     ]
    },
    {
     "name": "stderr",
     "output_type": "stream",
     "text": [
      "Max Retries reached\n",
      " 79%|███████▉  | 253/319 [01:52<02:11,  2.00s/it]"
     ]
    },
    {
     "name": "stdout",
     "output_type": "stream",
     "text": [
      "spotify:track:0VQW5MJ1BP3FntQ9IzFBNM\n"
     ]
    },
    {
     "name": "stderr",
     "output_type": "stream",
     "text": [
      "Max Retries reached\n",
      " 80%|███████▉  | 254/319 [01:54<02:09,  1.99s/it]"
     ]
    },
    {
     "name": "stdout",
     "output_type": "stream",
     "text": [
      "spotify:track:0dULhZDC7TbWH4pRXbGbYW\n"
     ]
    },
    {
     "name": "stderr",
     "output_type": "stream",
     "text": [
      "Max Retries reached\n",
      " 80%|███████▉  | 255/319 [01:56<02:08,  2.00s/it]"
     ]
    },
    {
     "name": "stdout",
     "output_type": "stream",
     "text": [
      "spotify:track:4uhOimYkWI6IrGsyvfC8dY\n"
     ]
    },
    {
     "name": "stderr",
     "output_type": "stream",
     "text": [
      "Max Retries reached\n",
      " 80%|████████  | 256/319 [01:58<02:07,  2.02s/it]"
     ]
    },
    {
     "name": "stdout",
     "output_type": "stream",
     "text": [
      "spotify:track:0FPtT7di06RlqzEjIhsemT\n"
     ]
    },
    {
     "name": "stderr",
     "output_type": "stream",
     "text": [
      "Max Retries reached\n",
      " 81%|████████  | 257/319 [02:00<02:04,  2.01s/it]"
     ]
    },
    {
     "name": "stdout",
     "output_type": "stream",
     "text": [
      "spotify:track:2HKTMtMM6aXnCq8kUHXm0J\n"
     ]
    },
    {
     "name": "stderr",
     "output_type": "stream",
     "text": [
      "Max Retries reached\n",
      " 81%|████████  | 258/319 [02:02<02:01,  2.00s/it]"
     ]
    },
    {
     "name": "stdout",
     "output_type": "stream",
     "text": [
      "spotify:track:5oShYSeT7V43Oai54SrqGE\n"
     ]
    },
    {
     "name": "stderr",
     "output_type": "stream",
     "text": [
      "Max Retries reached\n",
      " 81%|████████  | 259/319 [02:04<02:00,  2.01s/it]"
     ]
    },
    {
     "name": "stdout",
     "output_type": "stream",
     "text": [
      "spotify:track:5JKnYZOhSP7rOK0jPYcCjV\n"
     ]
    },
    {
     "name": "stderr",
     "output_type": "stream",
     "text": [
      "Max Retries reached\n",
      " 82%|████████▏ | 260/319 [02:06<01:57,  2.00s/it]"
     ]
    },
    {
     "name": "stdout",
     "output_type": "stream",
     "text": [
      "spotify:track:0nHdPB5NA4xkoDoSLbREwD\n"
     ]
    },
    {
     "name": "stderr",
     "output_type": "stream",
     "text": [
      "Max Retries reached\n",
      " 82%|████████▏ | 261/319 [02:08<01:56,  2.00s/it]"
     ]
    },
    {
     "name": "stdout",
     "output_type": "stream",
     "text": [
      "spotify:track:0UNDrAptMY5glGrcdr93Kx\n"
     ]
    },
    {
     "name": "stderr",
     "output_type": "stream",
     "text": [
      "Max Retries reached\n",
      " 82%|████████▏ | 262/319 [02:10<01:55,  2.02s/it]"
     ]
    },
    {
     "name": "stdout",
     "output_type": "stream",
     "text": [
      "spotify:track:1o7boIP7g2ssLw3zy7kXxV\n"
     ]
    },
    {
     "name": "stderr",
     "output_type": "stream",
     "text": [
      "Max Retries reached\n",
      " 82%|████████▏ | 263/319 [02:12<01:53,  2.02s/it]"
     ]
    },
    {
     "name": "stdout",
     "output_type": "stream",
     "text": [
      "spotify:track:2CW1geAxlM04INRmcoytvW\n"
     ]
    },
    {
     "name": "stderr",
     "output_type": "stream",
     "text": [
      "Max Retries reached\n",
      " 83%|████████▎ | 264/319 [02:14<01:52,  2.04s/it]"
     ]
    },
    {
     "name": "stdout",
     "output_type": "stream",
     "text": [
      "spotify:track:7rIa6qgEMBCsYkvEDNlcZf\n"
     ]
    },
    {
     "name": "stderr",
     "output_type": "stream",
     "text": [
      "Max Retries reached\n",
      " 83%|████████▎ | 265/319 [02:16<01:48,  2.02s/it]"
     ]
    },
    {
     "name": "stdout",
     "output_type": "stream",
     "text": [
      "spotify:track:19CmuECYssqkPWANF4nLWM\n"
     ]
    },
    {
     "name": "stderr",
     "output_type": "stream",
     "text": [
      "Max Retries reached\n",
      " 83%|████████▎ | 266/319 [02:18<01:47,  2.02s/it]"
     ]
    },
    {
     "name": "stdout",
     "output_type": "stream",
     "text": [
      "spotify:track:5LgPu9zyL5XuHT4Um1SWEq\n"
     ]
    },
    {
     "name": "stderr",
     "output_type": "stream",
     "text": [
      "Max Retries reached\n",
      " 84%|████████▎ | 267/319 [02:20<01:44,  2.01s/it]"
     ]
    },
    {
     "name": "stdout",
     "output_type": "stream",
     "text": [
      "spotify:track:27xNBDywuPT1OLLgXO8z8D\n"
     ]
    },
    {
     "name": "stderr",
     "output_type": "stream",
     "text": [
      "Max Retries reached\n",
      " 84%|████████▍ | 268/319 [02:22<01:43,  2.02s/it]"
     ]
    },
    {
     "name": "stdout",
     "output_type": "stream",
     "text": [
      "spotify:track:1GU309xFsWsQUM6lf4sJoN\n"
     ]
    },
    {
     "name": "stderr",
     "output_type": "stream",
     "text": [
      "Max Retries reached\n",
      " 84%|████████▍ | 269/319 [02:24<01:41,  2.02s/it]"
     ]
    },
    {
     "name": "stdout",
     "output_type": "stream",
     "text": [
      "spotify:track:3XChklKqHtDlTBmaTPqYtR\n"
     ]
    },
    {
     "name": "stderr",
     "output_type": "stream",
     "text": [
      "Max Retries reached\n",
      " 85%|████████▍ | 270/319 [02:26<01:38,  2.02s/it]"
     ]
    },
    {
     "name": "stdout",
     "output_type": "stream",
     "text": [
      "spotify:track:6pWeJvzpQR1ihiUSJklOzD\n"
     ]
    },
    {
     "name": "stderr",
     "output_type": "stream",
     "text": [
      "Max Retries reached\n",
      " 85%|████████▍ | 271/319 [02:28<01:36,  2.00s/it]"
     ]
    },
    {
     "name": "stdout",
     "output_type": "stream",
     "text": [
      "spotify:track:25wdC7CJmCJPgnKw9rYquJ\n"
     ]
    },
    {
     "name": "stderr",
     "output_type": "stream",
     "text": [
      "Max Retries reached\n",
      " 85%|████████▌ | 272/319 [02:30<01:34,  2.01s/it]"
     ]
    },
    {
     "name": "stdout",
     "output_type": "stream",
     "text": [
      "spotify:track:2z99AmOXt1Yy5LRYxpcP1r\n"
     ]
    },
    {
     "name": "stderr",
     "output_type": "stream",
     "text": [
      "Max Retries reached\n",
      " 86%|████████▌ | 273/319 [02:32<01:31,  1.99s/it]"
     ]
    },
    {
     "name": "stdout",
     "output_type": "stream",
     "text": [
      "spotify:track:1m7qiT1dpnX8IblWujlhsu\n"
     ]
    },
    {
     "name": "stderr",
     "output_type": "stream",
     "text": [
      "Max Retries reached\n",
      " 86%|████████▌ | 274/319 [02:34<01:30,  2.01s/it]"
     ]
    },
    {
     "name": "stdout",
     "output_type": "stream",
     "text": [
      "spotify:track:6YwLgicpvVuMt1eE2OldwQ\n"
     ]
    },
    {
     "name": "stderr",
     "output_type": "stream",
     "text": [
      "Max Retries reached\n",
      " 86%|████████▌ | 275/319 [02:36<01:27,  2.00s/it]"
     ]
    },
    {
     "name": "stdout",
     "output_type": "stream",
     "text": [
      "spotify:track:2zEk301o4rYnusOOCkid0h\n"
     ]
    },
    {
     "name": "stderr",
     "output_type": "stream",
     "text": [
      "Max Retries reached\n",
      " 87%|████████▋ | 276/319 [02:38<01:25,  1.99s/it]"
     ]
    },
    {
     "name": "stdout",
     "output_type": "stream",
     "text": [
      "spotify:track:0E1noqKLxQpYIpX5lc3QwD\n"
     ]
    },
    {
     "name": "stderr",
     "output_type": "stream",
     "text": [
      "Max Retries reached\n",
      " 87%|████████▋ | 277/319 [02:40<01:24,  2.00s/it]"
     ]
    },
    {
     "name": "stdout",
     "output_type": "stream",
     "text": [
      "spotify:track:10W221avg6N9YKrBr3dMmf\n"
     ]
    },
    {
     "name": "stderr",
     "output_type": "stream",
     "text": [
      "Max Retries reached\n",
      " 87%|████████▋ | 278/319 [02:42<01:21,  1.99s/it]"
     ]
    },
    {
     "name": "stdout",
     "output_type": "stream",
     "text": [
      "spotify:track:2Ej4aHfSSnFIywDYXXwDmD\n"
     ]
    },
    {
     "name": "stderr",
     "output_type": "stream",
     "text": [
      "Max Retries reached\n",
      " 87%|████████▋ | 279/319 [02:44<01:19,  2.00s/it]"
     ]
    },
    {
     "name": "stdout",
     "output_type": "stream",
     "text": [
      "spotify:track:4kCIVgkFPJDE56BdaUFXks\n"
     ]
    },
    {
     "name": "stderr",
     "output_type": "stream",
     "text": [
      "Max Retries reached\n",
      " 88%|████████▊ | 280/319 [02:46<01:17,  1.99s/it]"
     ]
    },
    {
     "name": "stdout",
     "output_type": "stream",
     "text": [
      "spotify:track:40NhuFEbIbUhBTx9fXFPqH\n"
     ]
    },
    {
     "name": "stderr",
     "output_type": "stream",
     "text": [
      "Max Retries reached\n",
      " 88%|████████▊ | 281/319 [02:48<01:15,  1.98s/it]"
     ]
    },
    {
     "name": "stdout",
     "output_type": "stream",
     "text": [
      "spotify:track:3wSLxlGtrS8wBBV1MXsw1z\n"
     ]
    },
    {
     "name": "stderr",
     "output_type": "stream",
     "text": [
      "Max Retries reached\n",
      " 88%|████████▊ | 282/319 [02:50<01:13,  2.00s/it]"
     ]
    },
    {
     "name": "stdout",
     "output_type": "stream",
     "text": [
      "spotify:track:1msphInQ8bBBQGFZkll7FX\n"
     ]
    },
    {
     "name": "stderr",
     "output_type": "stream",
     "text": [
      "Max Retries reached\n",
      " 89%|████████▊ | 283/319 [02:52<01:11,  1.99s/it]"
     ]
    },
    {
     "name": "stdout",
     "output_type": "stream",
     "text": [
      "spotify:track:5kQb5n1sMy5CmYTSoB5p6M\n"
     ]
    },
    {
     "name": "stderr",
     "output_type": "stream",
     "text": [
      "Max Retries reached\n",
      " 89%|████████▉ | 284/319 [02:54<01:09,  2.00s/it]"
     ]
    },
    {
     "name": "stdout",
     "output_type": "stream",
     "text": [
      "spotify:track:4WcXoJUohrnVcSkjzHxQWk\n"
     ]
    },
    {
     "name": "stderr",
     "output_type": "stream",
     "text": [
      "Max Retries reached\n",
      " 89%|████████▉ | 285/319 [02:56<01:07,  1.99s/it]"
     ]
    },
    {
     "name": "stdout",
     "output_type": "stream",
     "text": [
      "spotify:track:3rG8ZkmKHb4Ms6CsSzEITv\n"
     ]
    },
    {
     "name": "stderr",
     "output_type": "stream",
     "text": [
      "Max Retries reached\n",
      " 90%|████████▉ | 286/319 [02:58<01:05,  1.98s/it]"
     ]
    },
    {
     "name": "stdout",
     "output_type": "stream",
     "text": [
      "spotify:track:0avEVorPMJyPPolMbeonBB\n"
     ]
    },
    {
     "name": "stderr",
     "output_type": "stream",
     "text": [
      "Max Retries reached\n",
      " 90%|████████▉ | 287/319 [03:00<01:04,  2.00s/it]"
     ]
    },
    {
     "name": "stdout",
     "output_type": "stream",
     "text": [
      "spotify:track:3FAJ6O0NOHQV8Mc5Ri6ENp\n"
     ]
    },
    {
     "name": "stderr",
     "output_type": "stream",
     "text": [
      "Max Retries reached\n",
      " 90%|█████████ | 288/319 [03:02<01:01,  1.99s/it]"
     ]
    },
    {
     "name": "stdout",
     "output_type": "stream",
     "text": [
      "spotify:track:0Ao7UyZ0IcKH9WQitKd0EL\n"
     ]
    },
    {
     "name": "stderr",
     "output_type": "stream",
     "text": [
      "Max Retries reached\n",
      " 91%|█████████ | 289/319 [03:04<01:00,  2.00s/it]"
     ]
    },
    {
     "name": "stdout",
     "output_type": "stream",
     "text": [
      "spotify:track:69Ej1xrGjOcHvIMtMKxK0G\n"
     ]
    },
    {
     "name": "stderr",
     "output_type": "stream",
     "text": [
      "Max Retries reached\n",
      " 91%|█████████ | 290/319 [03:06<00:57,  1.99s/it]"
     ]
    },
    {
     "name": "stdout",
     "output_type": "stream",
     "text": [
      "spotify:track:5N5k9nd479b1xpDZ4usjrg\n"
     ]
    },
    {
     "name": "stderr",
     "output_type": "stream",
     "text": [
      "Max Retries reached\n",
      " 91%|█████████ | 291/319 [03:08<00:55,  1.99s/it]"
     ]
    },
    {
     "name": "stdout",
     "output_type": "stream",
     "text": [
      "spotify:track:3KZCP2StVGdWkOKyRZNWA4\n"
     ]
    },
    {
     "name": "stderr",
     "output_type": "stream",
     "text": [
      "Max Retries reached\n",
      " 92%|█████████▏| 292/319 [03:10<00:54,  2.00s/it]"
     ]
    },
    {
     "name": "stdout",
     "output_type": "stream",
     "text": [
      "spotify:track:0c6xIDDpzE81m2q797ordA\n"
     ]
    },
    {
     "name": "stderr",
     "output_type": "stream",
     "text": [
      "Max Retries reached\n",
      " 92%|█████████▏| 293/319 [03:12<00:51,  1.99s/it]"
     ]
    },
    {
     "name": "stdout",
     "output_type": "stream",
     "text": [
      "spotify:track:6zSpb8dQRaw0M1dK8PBwQz\n"
     ]
    },
    {
     "name": "stderr",
     "output_type": "stream",
     "text": [
      "Max Retries reached\n",
      " 92%|█████████▏| 294/319 [03:14<00:50,  2.00s/it]"
     ]
    },
    {
     "name": "stdout",
     "output_type": "stream",
     "text": [
      "spotify:track:1khmgu0pveJbkbpbkyvcQv\n"
     ]
    },
    {
     "name": "stderr",
     "output_type": "stream",
     "text": [
      "Max Retries reached\n",
      " 92%|█████████▏| 295/319 [03:16<00:48,  2.01s/it]"
     ]
    },
    {
     "name": "stdout",
     "output_type": "stream",
     "text": [
      "spotify:track:3V8UKqhEK5zBkBb6d6ub8i\n"
     ]
    },
    {
     "name": "stderr",
     "output_type": "stream",
     "text": [
      "Max Retries reached\n",
      " 93%|█████████▎| 296/319 [03:18<00:46,  2.01s/it]"
     ]
    },
    {
     "name": "stdout",
     "output_type": "stream",
     "text": [
      "spotify:track:2tyW1uBUnYMKAFEfKDKi9B\n"
     ]
    },
    {
     "name": "stderr",
     "output_type": "stream",
     "text": [
      "Max Retries reached\n",
      " 93%|█████████▎| 297/319 [03:20<00:43,  2.00s/it]"
     ]
    },
    {
     "name": "stdout",
     "output_type": "stream",
     "text": [
      "spotify:track:4V05j7HDUU2bZQwDOeIySh\n"
     ]
    },
    {
     "name": "stderr",
     "output_type": "stream",
     "text": [
      "Max Retries reached\n",
      " 93%|█████████▎| 298/319 [03:22<00:42,  2.01s/it]"
     ]
    },
    {
     "name": "stdout",
     "output_type": "stream",
     "text": [
      "spotify:track:57Xjny5yNzAcsxnusKmAfA\n"
     ]
    },
    {
     "name": "stderr",
     "output_type": "stream",
     "text": [
      "Max Retries reached\n",
      " 94%|█████████▎| 299/319 [03:24<00:39,  2.00s/it]"
     ]
    },
    {
     "name": "stdout",
     "output_type": "stream",
     "text": [
      "spotify:track:3dhjNA0jGA8vHBQ1VdD6vV\n"
     ]
    },
    {
     "name": "stderr",
     "output_type": "stream",
     "text": [
      "Max Retries reached\n",
      " 94%|█████████▍| 300/319 [03:26<00:38,  2.00s/it]"
     ]
    },
    {
     "name": "stdout",
     "output_type": "stream",
     "text": [
      "spotify:track:69kOkLUCkxIZYexIgSG8rq\n"
     ]
    },
    {
     "name": "stderr",
     "output_type": "stream",
     "text": [
      "Max Retries reached\n",
      " 94%|█████████▍| 301/319 [03:28<00:35,  2.00s/it]"
     ]
    },
    {
     "name": "stdout",
     "output_type": "stream",
     "text": [
      "spotify:track:3H3cOQ6LBLSvmcaV7QkZEu\n"
     ]
    },
    {
     "name": "stderr",
     "output_type": "stream",
     "text": [
      "Max Retries reached\n",
      " 95%|█████████▍| 302/319 [03:30<00:33,  1.99s/it]"
     ]
    },
    {
     "name": "stdout",
     "output_type": "stream",
     "text": [
      "spotify:track:48UPSzbZjgc449aqz8bxox\n"
     ]
    },
    {
     "name": "stderr",
     "output_type": "stream",
     "text": [
      "Max Retries reached\n",
      " 95%|█████████▍| 303/319 [03:32<00:32,  2.00s/it]"
     ]
    },
    {
     "name": "stdout",
     "output_type": "stream",
     "text": [
      "spotify:track:455AfCsOhhLPRc68sE01D8\n"
     ]
    },
    {
     "name": "stderr",
     "output_type": "stream",
     "text": [
      "Max Retries reached\n",
      " 95%|█████████▌| 304/319 [03:34<00:30,  2.02s/it]"
     ]
    },
    {
     "name": "stdout",
     "output_type": "stream",
     "text": [
      "spotify:track:5IU4JO2cpa0wPK8oQWFfCr\n"
     ]
    },
    {
     "name": "stderr",
     "output_type": "stream",
     "text": [
      "Max Retries reached\n",
      " 96%|█████████▌| 305/319 [03:36<00:28,  2.00s/it]"
     ]
    },
    {
     "name": "stdout",
     "output_type": "stream",
     "text": [
      "spotify:track:5x5oiT5Ibxm9PyXCE9mmMo\n"
     ]
    },
    {
     "name": "stderr",
     "output_type": "stream",
     "text": [
      "Max Retries reached\n",
      " 96%|█████████▌| 306/319 [03:38<00:26,  2.00s/it]"
     ]
    },
    {
     "name": "stdout",
     "output_type": "stream",
     "text": [
      "spotify:track:6ZoDNDWAv5aEiLFswB9tIl\n"
     ]
    },
    {
     "name": "stderr",
     "output_type": "stream",
     "text": [
      "Max Retries reached\n",
      " 96%|█████████▌| 307/319 [03:40<00:24,  2.01s/it]"
     ]
    },
    {
     "name": "stdout",
     "output_type": "stream",
     "text": [
      "spotify:track:3e8haeh6alXHp8bwLhk4Vc\n"
     ]
    },
    {
     "name": "stderr",
     "output_type": "stream",
     "text": [
      "Max Retries reached\n",
      " 97%|█████████▋| 308/319 [03:42<00:21,  1.99s/it]"
     ]
    },
    {
     "name": "stdout",
     "output_type": "stream",
     "text": [
      "spotify:track:0zGAH5eee9XWvlzjOkCuA7\n"
     ]
    },
    {
     "name": "stderr",
     "output_type": "stream",
     "text": [
      "Max Retries reached\n",
      " 97%|█████████▋| 309/319 [03:44<00:20,  2.01s/it]"
     ]
    },
    {
     "name": "stdout",
     "output_type": "stream",
     "text": [
      "spotify:track:4WA6Im7b8HRRHufpT6Ou6E\n"
     ]
    },
    {
     "name": "stderr",
     "output_type": "stream",
     "text": [
      "Max Retries reached\n",
      " 97%|█████████▋| 310/319 [03:46<00:17,  2.00s/it]"
     ]
    },
    {
     "name": "stdout",
     "output_type": "stream",
     "text": [
      "spotify:track:5Bsn5T9MlX36RniLl9XPyd\n"
     ]
    },
    {
     "name": "stderr",
     "output_type": "stream",
     "text": [
      "Max Retries reached\n",
      " 97%|█████████▋| 311/319 [03:48<00:16,  2.00s/it]"
     ]
    },
    {
     "name": "stdout",
     "output_type": "stream",
     "text": [
      "spotify:track:5ruzrDWcT0vuJIOMW7gMnW\n"
     ]
    },
    {
     "name": "stderr",
     "output_type": "stream",
     "text": [
      "Max Retries reached\n",
      " 98%|█████████▊| 312/319 [03:50<00:14,  2.03s/it]"
     ]
    },
    {
     "name": "stdout",
     "output_type": "stream",
     "text": [
      "spotify:track:2bPGTMB5sFfFYQ2YvSmup0\n"
     ]
    },
    {
     "name": "stderr",
     "output_type": "stream",
     "text": [
      "Max Retries reached\n",
      " 98%|█████████▊| 313/319 [03:52<00:12,  2.04s/it]"
     ]
    },
    {
     "name": "stdout",
     "output_type": "stream",
     "text": [
      "spotify:track:5awDvzxWfd53SSrsRZ8pXO\n"
     ]
    },
    {
     "name": "stderr",
     "output_type": "stream",
     "text": [
      "Max Retries reached\n",
      " 98%|█████████▊| 314/319 [03:54<00:10,  2.03s/it]"
     ]
    },
    {
     "name": "stdout",
     "output_type": "stream",
     "text": [
      "spotify:track:2QLrYSnATJYuRThUZtdhH3\n"
     ]
    },
    {
     "name": "stderr",
     "output_type": "stream",
     "text": [
      "Max Retries reached\n",
      " 99%|█████████▊| 315/319 [03:56<00:08,  2.01s/it]"
     ]
    },
    {
     "name": "stdout",
     "output_type": "stream",
     "text": [
      "spotify:track:5BiKPJiYsyBN5nc9nyGZpm\n"
     ]
    },
    {
     "name": "stderr",
     "output_type": "stream",
     "text": [
      "Max Retries reached\n",
      " 99%|█████████▉| 316/319 [03:58<00:06,  2.01s/it]"
     ]
    },
    {
     "name": "stdout",
     "output_type": "stream",
     "text": [
      "spotify:track:70JnnNNAxPjvZGPwjJfX47\n"
     ]
    },
    {
     "name": "stderr",
     "output_type": "stream",
     "text": [
      "Max Retries reached\n",
      " 99%|█████████▉| 317/319 [04:00<00:03,  2.00s/it]"
     ]
    },
    {
     "name": "stdout",
     "output_type": "stream",
     "text": [
      "spotify:track:23OXdR7YuUBVWh5hSnYJau\n"
     ]
    },
    {
     "name": "stderr",
     "output_type": "stream",
     "text": [
      "Max Retries reached\n",
      "100%|█████████▉| 318/319 [04:02<00:02,  2.00s/it]"
     ]
    },
    {
     "name": "stdout",
     "output_type": "stream",
     "text": [
      "spotify:track:55DkXaWdRHcKwyvGsH6pnb\n"
     ]
    },
    {
     "name": "stderr",
     "output_type": "stream",
     "text": [
      "Max Retries reached\n",
      "100%|██████████| 319/319 [04:04<00:00,  1.30it/s]"
     ]
    },
    {
     "name": "stdout",
     "output_type": "stream",
     "text": [
      "spotify:track:3wiOcSCw2OmQe9ECzltX8Z\n"
     ]
    },
    {
     "name": "stderr",
     "output_type": "stream",
     "text": [
      "\n"
     ]
    },
    {
     "data": {
      "text/html": [
       "<div>\n",
       "<style scoped>\n",
       "    .dataframe tbody tr th:only-of-type {\n",
       "        vertical-align: middle;\n",
       "    }\n",
       "\n",
       "    .dataframe tbody tr th {\n",
       "        vertical-align: top;\n",
       "    }\n",
       "\n",
       "    .dataframe thead th {\n",
       "        text-align: right;\n",
       "    }\n",
       "</style>\n",
       "<table border=\"1\" class=\"dataframe\">\n",
       "  <thead>\n",
       "    <tr style=\"text-align: right;\">\n",
       "      <th></th>\n",
       "      <th>song</th>\n",
       "      <th>artist</th>\n",
       "      <th>date</th>\n",
       "      <th>explicit</th>\n",
       "      <th>uri_cancion</th>\n",
       "      <th>popularity</th>\n",
       "      <th>usuario</th>\n",
       "      <th>links</th>\n",
       "      <th>uri_artista</th>\n",
       "      <th>danceability</th>\n",
       "      <th>...</th>\n",
       "      <th>liveness</th>\n",
       "      <th>valence</th>\n",
       "      <th>tempo</th>\n",
       "      <th>type</th>\n",
       "      <th>id</th>\n",
       "      <th>uri</th>\n",
       "      <th>track_href</th>\n",
       "      <th>analysis_url</th>\n",
       "      <th>duration_ms</th>\n",
       "      <th>time_signature</th>\n",
       "    </tr>\n",
       "  </thead>\n",
       "  <tbody>\n",
       "    <tr>\n",
       "      <th>0</th>\n",
       "      <td>BMXXing</td>\n",
       "      <td>mgk</td>\n",
       "      <td>2024-06-07</td>\n",
       "      <td>True</td>\n",
       "      <td>spotify:track:5xR8ngEQmlQ1U2xSE0KzTo</td>\n",
       "      <td>59</td>\n",
       "      <td>cogpverzil36gf0gak5jnx5ie</td>\n",
       "      <td>https://open.spotify.com/track/5xR8ngEQmlQ1U2x...</td>\n",
       "      <td>6TIYQ3jFPwQSRmorSezPxX</td>\n",
       "      <td>0.746</td>\n",
       "      <td>...</td>\n",
       "      <td>0.147</td>\n",
       "      <td>0.462</td>\n",
       "      <td>105.059</td>\n",
       "      <td>audio_features</td>\n",
       "      <td>5xR8ngEQmlQ1U2xSE0KzTo</td>\n",
       "      <td>spotify:track:5xR8ngEQmlQ1U2xSE0KzTo</td>\n",
       "      <td>https://api.spotify.com/v1/tracks/5xR8ngEQmlQ1...</td>\n",
       "      <td>https://api.spotify.com/v1/audio-analysis/5xR8...</td>\n",
       "      <td>155471</td>\n",
       "      <td>4</td>\n",
       "    </tr>\n",
       "    <tr>\n",
       "      <th>1</th>\n",
       "      <td>Black Eyes Blue</td>\n",
       "      <td>Corey Taylor</td>\n",
       "      <td>2020-10-02</td>\n",
       "      <td>False</td>\n",
       "      <td>spotify:track:2Gx3kLdFT0elzqKG7SFyCw</td>\n",
       "      <td>42</td>\n",
       "      <td>cogpverzil36gf0gak5jnx5ie</td>\n",
       "      <td>https://open.spotify.com/track/2Gx3kLdFT0elzqK...</td>\n",
       "      <td>0nhDd1RWjZ6SDV1Vg1Ku2Q</td>\n",
       "      <td>0.551</td>\n",
       "      <td>...</td>\n",
       "      <td>0.142</td>\n",
       "      <td>0.561</td>\n",
       "      <td>119.041</td>\n",
       "      <td>audio_features</td>\n",
       "      <td>2Gx3kLdFT0elzqKG7SFyCw</td>\n",
       "      <td>spotify:track:2Gx3kLdFT0elzqKG7SFyCw</td>\n",
       "      <td>https://api.spotify.com/v1/tracks/2Gx3kLdFT0el...</td>\n",
       "      <td>https://api.spotify.com/v1/audio-analysis/2Gx3...</td>\n",
       "      <td>202446</td>\n",
       "      <td>4</td>\n",
       "    </tr>\n",
       "  </tbody>\n",
       "</table>\n",
       "<p>2 rows × 27 columns</p>\n",
       "</div>"
      ],
      "text/plain": [
       "              song        artist        date  explicit  \\\n",
       "0          BMXXing           mgk  2024-06-07      True   \n",
       "1  Black Eyes Blue  Corey Taylor  2020-10-02     False   \n",
       "\n",
       "                            uri_cancion  popularity  \\\n",
       "0  spotify:track:5xR8ngEQmlQ1U2xSE0KzTo          59   \n",
       "1  spotify:track:2Gx3kLdFT0elzqKG7SFyCw          42   \n",
       "\n",
       "                     usuario  \\\n",
       "0  cogpverzil36gf0gak5jnx5ie   \n",
       "1  cogpverzil36gf0gak5jnx5ie   \n",
       "\n",
       "                                               links             uri_artista  \\\n",
       "0  https://open.spotify.com/track/5xR8ngEQmlQ1U2x...  6TIYQ3jFPwQSRmorSezPxX   \n",
       "1  https://open.spotify.com/track/2Gx3kLdFT0elzqK...  0nhDd1RWjZ6SDV1Vg1Ku2Q   \n",
       "\n",
       "   danceability  ...  liveness  valence    tempo            type  \\\n",
       "0         0.746  ...     0.147    0.462  105.059  audio_features   \n",
       "1         0.551  ...     0.142    0.561  119.041  audio_features   \n",
       "\n",
       "                       id                                   uri  \\\n",
       "0  5xR8ngEQmlQ1U2xSE0KzTo  spotify:track:5xR8ngEQmlQ1U2xSE0KzTo   \n",
       "1  2Gx3kLdFT0elzqKG7SFyCw  spotify:track:2Gx3kLdFT0elzqKG7SFyCw   \n",
       "\n",
       "                                          track_href  \\\n",
       "0  https://api.spotify.com/v1/tracks/5xR8ngEQmlQ1...   \n",
       "1  https://api.spotify.com/v1/tracks/2Gx3kLdFT0el...   \n",
       "\n",
       "                                        analysis_url  duration_ms  \\\n",
       "0  https://api.spotify.com/v1/audio-analysis/5xR8...       155471   \n",
       "1  https://api.spotify.com/v1/audio-analysis/2Gx3...       202446   \n",
       "\n",
       "   time_signature  \n",
       "0               4  \n",
       "1               4  \n",
       "\n",
       "[2 rows x 27 columns]"
      ]
     },
     "execution_count": 7,
     "metadata": {},
     "output_type": "execute_result"
    }
   ],
   "source": [
    "# extraemos las caracteristicas de las canciones\n",
    "df_final = api.get_features(sp, df_all_songs, listas_uris_canciones )\n",
    "df_final.head(2)"
   ]
  },
  {
   "cell_type": "code",
   "execution_count": 8,
   "metadata": {},
   "outputs": [
    {
     "data": {
      "text/html": [
       "<div>\n",
       "<style scoped>\n",
       "    .dataframe tbody tr th:only-of-type {\n",
       "        vertical-align: middle;\n",
       "    }\n",
       "\n",
       "    .dataframe tbody tr th {\n",
       "        vertical-align: top;\n",
       "    }\n",
       "\n",
       "    .dataframe thead th {\n",
       "        text-align: right;\n",
       "    }\n",
       "</style>\n",
       "<table border=\"1\" class=\"dataframe\">\n",
       "  <thead>\n",
       "    <tr style=\"text-align: right;\">\n",
       "      <th></th>\n",
       "      <th>song</th>\n",
       "      <th>date</th>\n",
       "      <th>popularity</th>\n",
       "      <th>usuario</th>\n",
       "      <th>artist</th>\n",
       "      <th>uri_artista</th>\n",
       "      <th>uri_cancion</th>\n",
       "    </tr>\n",
       "  </thead>\n",
       "  <tbody>\n",
       "    <tr>\n",
       "      <th>0</th>\n",
       "      <td>BMXXing</td>\n",
       "      <td>2024-06-07</td>\n",
       "      <td>59</td>\n",
       "      <td>cogpverzil36gf0gak5jnx5ie</td>\n",
       "      <td>mgk</td>\n",
       "      <td>6TIYQ3jFPwQSRmorSezPxX</td>\n",
       "      <td>spotify:track:5xR8ngEQmlQ1U2xSE0KzTo</td>\n",
       "    </tr>\n",
       "    <tr>\n",
       "      <th>1</th>\n",
       "      <td>Black Eyes Blue</td>\n",
       "      <td>2020-10-02</td>\n",
       "      <td>42</td>\n",
       "      <td>cogpverzil36gf0gak5jnx5ie</td>\n",
       "      <td>Corey Taylor</td>\n",
       "      <td>0nhDd1RWjZ6SDV1Vg1Ku2Q</td>\n",
       "      <td>spotify:track:2Gx3kLdFT0elzqKG7SFyCw</td>\n",
       "    </tr>\n",
       "  </tbody>\n",
       "</table>\n",
       "</div>"
      ],
      "text/plain": [
       "              song        date  popularity                    usuario  \\\n",
       "0          BMXXing  2024-06-07          59  cogpverzil36gf0gak5jnx5ie   \n",
       "1  Black Eyes Blue  2020-10-02          42  cogpverzil36gf0gak5jnx5ie   \n",
       "\n",
       "         artist             uri_artista                           uri_cancion  \n",
       "0           mgk  6TIYQ3jFPwQSRmorSezPxX  spotify:track:5xR8ngEQmlQ1U2xSE0KzTo  \n",
       "1  Corey Taylor  0nhDd1RWjZ6SDV1Vg1Ku2Q  spotify:track:2Gx3kLdFT0elzqKG7SFyCw  "
      ]
     },
     "execution_count": 8,
     "metadata": {},
     "output_type": "execute_result"
    }
   ],
   "source": [
    "# limpiamos el dataframe\n",
    "df_final = api.clean_df(df_final)\n",
    "df_final.head(2)"
   ]
  },
  {
   "cell_type": "code",
   "execution_count": 9,
   "metadata": {},
   "outputs": [
    {
     "data": {
      "text/plain": [
       "['6TIYQ3jFPwQSRmorSezPxX', '0nhDd1RWjZ6SDV1Vg1Ku2Q']"
      ]
     },
     "execution_count": 9,
     "metadata": {},
     "output_type": "execute_result"
    }
   ],
   "source": [
    "# vamos a sacar información sobre los artistas, para ello necesitamos su URI o ID\n",
    "uri_artistas = df_final[\"uri_artista\"].unique().tolist()\n",
    "uri_artistas[:2]"
   ]
  },
  {
   "cell_type": "code",
   "execution_count": 10,
   "metadata": {},
   "outputs": [
    {
     "name": "stderr",
     "output_type": "stream",
     "text": [
      "100%|██████████| 148/148 [00:24<00:00,  5.95it/s]\n"
     ]
    },
    {
     "data": {
      "text/html": [
       "<div>\n",
       "<style scoped>\n",
       "    .dataframe tbody tr th:only-of-type {\n",
       "        vertical-align: middle;\n",
       "    }\n",
       "\n",
       "    .dataframe tbody tr th {\n",
       "        vertical-align: top;\n",
       "    }\n",
       "\n",
       "    .dataframe thead th {\n",
       "        text-align: right;\n",
       "    }\n",
       "</style>\n",
       "<table border=\"1\" class=\"dataframe\">\n",
       "  <thead>\n",
       "    <tr style=\"text-align: right;\">\n",
       "      <th></th>\n",
       "      <th>artist_name</th>\n",
       "      <th>album_name</th>\n",
       "      <th>release_date</th>\n",
       "      <th>total_tracks</th>\n",
       "    </tr>\n",
       "  </thead>\n",
       "  <tbody>\n",
       "    <tr>\n",
       "      <th>0</th>\n",
       "      <td>mgk</td>\n",
       "      <td>Hotel Diablo: Floor 13 Edition</td>\n",
       "      <td>2024-07-05</td>\n",
       "      <td>20</td>\n",
       "    </tr>\n",
       "    <tr>\n",
       "      <th>1</th>\n",
       "      <td>lonelyboy</td>\n",
       "      <td>Lofi Chill Vibes With Machine Gun Kelly</td>\n",
       "      <td>2023-11-17</td>\n",
       "      <td>17</td>\n",
       "    </tr>\n",
       "    <tr>\n",
       "      <th>2</th>\n",
       "      <td>mgk</td>\n",
       "      <td>Mainstream Sellout - Life In Pink Deluxe</td>\n",
       "      <td>2022-06-24</td>\n",
       "      <td>22</td>\n",
       "    </tr>\n",
       "    <tr>\n",
       "      <th>3</th>\n",
       "      <td>mgk</td>\n",
       "      <td>Mainstream Sellout</td>\n",
       "      <td>2022-03-25</td>\n",
       "      <td>16</td>\n",
       "    </tr>\n",
       "    <tr>\n",
       "      <th>4</th>\n",
       "      <td>mgk</td>\n",
       "      <td>Tickets To My Downfall (Sold Out Deluxe)</td>\n",
       "      <td>2020-09-29</td>\n",
       "      <td>21</td>\n",
       "    </tr>\n",
       "  </tbody>\n",
       "</table>\n",
       "</div>"
      ],
      "text/plain": [
       "  artist_name                                album_name release_date  \\\n",
       "0         mgk            Hotel Diablo: Floor 13 Edition   2024-07-05   \n",
       "1   lonelyboy   Lofi Chill Vibes With Machine Gun Kelly   2023-11-17   \n",
       "2         mgk  Mainstream Sellout - Life In Pink Deluxe   2022-06-24   \n",
       "3         mgk                        Mainstream Sellout   2022-03-25   \n",
       "4         mgk  Tickets To My Downfall (Sold Out Deluxe)   2020-09-29   \n",
       "\n",
       "   total_tracks  \n",
       "0            20  \n",
       "1            17  \n",
       "2            22  \n",
       "3            16  \n",
       "4            21  "
      ]
     },
     "execution_count": 10,
     "metadata": {},
     "output_type": "execute_result"
    }
   ],
   "source": [
    "df_artistas_albumes = api.get_artist_album(sp, uri_artistas)\n",
    "df_artistas_albumes.head()"
   ]
  },
  {
   "cell_type": "code",
   "execution_count": 11,
   "metadata": {},
   "outputs": [
    {
     "name": "stderr",
     "output_type": "stream",
     "text": [
      "100%|██████████| 148/148 [00:14<00:00, 10.11it/s]\n"
     ]
    },
    {
     "data": {
      "text/html": [
       "<div>\n",
       "<style scoped>\n",
       "    .dataframe tbody tr th:only-of-type {\n",
       "        vertical-align: middle;\n",
       "    }\n",
       "\n",
       "    .dataframe tbody tr th {\n",
       "        vertical-align: top;\n",
       "    }\n",
       "\n",
       "    .dataframe thead th {\n",
       "        text-align: right;\n",
       "    }\n",
       "</style>\n",
       "<table border=\"1\" class=\"dataframe\">\n",
       "  <thead>\n",
       "    <tr style=\"text-align: right;\">\n",
       "      <th></th>\n",
       "      <th>artist_name</th>\n",
       "      <th>artist_id</th>\n",
       "      <th>followers</th>\n",
       "      <th>genres</th>\n",
       "      <th>popularity</th>\n",
       "    </tr>\n",
       "  </thead>\n",
       "  <tbody>\n",
       "    <tr>\n",
       "      <th>0</th>\n",
       "      <td>mgk</td>\n",
       "      <td>6TIYQ3jFPwQSRmorSezPxX</td>\n",
       "      <td>5386485</td>\n",
       "      <td>[ohio hip hop, pop rap]</td>\n",
       "      <td>79</td>\n",
       "    </tr>\n",
       "    <tr>\n",
       "      <th>1</th>\n",
       "      <td>Corey Taylor</td>\n",
       "      <td>0nhDd1RWjZ6SDV1Vg1Ku2Q</td>\n",
       "      <td>620314</td>\n",
       "      <td>[alternative metal, alternative rock, nu metal...</td>\n",
       "      <td>55</td>\n",
       "    </tr>\n",
       "    <tr>\n",
       "      <th>2</th>\n",
       "      <td>Viva Belgrado</td>\n",
       "      <td>37gLE2S4JxurgPNf1sx6HK</td>\n",
       "      <td>26297</td>\n",
       "      <td>[spanish indie rock, spanish post-rock]</td>\n",
       "      <td>37</td>\n",
       "    </tr>\n",
       "    <tr>\n",
       "      <th>3</th>\n",
       "      <td>Olvidados</td>\n",
       "      <td>06eCCvFnbmchrFSZRoZ0j4</td>\n",
       "      <td>163</td>\n",
       "      <td>[]</td>\n",
       "      <td>3</td>\n",
       "    </tr>\n",
       "    <tr>\n",
       "      <th>4</th>\n",
       "      <td>Outkast</td>\n",
       "      <td>1G9G7WwrXka3Z1r7aIDjI7</td>\n",
       "      <td>2854358</td>\n",
       "      <td>[atl hip hop, dirty south rap, hip hop, old sc...</td>\n",
       "      <td>77</td>\n",
       "    </tr>\n",
       "  </tbody>\n",
       "</table>\n",
       "</div>"
      ],
      "text/plain": [
       "     artist_name               artist_id  followers  \\\n",
       "0            mgk  6TIYQ3jFPwQSRmorSezPxX    5386485   \n",
       "1   Corey Taylor  0nhDd1RWjZ6SDV1Vg1Ku2Q     620314   \n",
       "2  Viva Belgrado  37gLE2S4JxurgPNf1sx6HK      26297   \n",
       "3      Olvidados  06eCCvFnbmchrFSZRoZ0j4        163   \n",
       "4        Outkast  1G9G7WwrXka3Z1r7aIDjI7    2854358   \n",
       "\n",
       "                                              genres  popularity  \n",
       "0                            [ohio hip hop, pop rap]          79  \n",
       "1  [alternative metal, alternative rock, nu metal...          55  \n",
       "2            [spanish indie rock, spanish post-rock]          37  \n",
       "3                                                 []           3  \n",
       "4  [atl hip hop, dirty south rap, hip hop, old sc...          77  "
      ]
     },
     "execution_count": 11,
     "metadata": {},
     "output_type": "execute_result"
    }
   ],
   "source": [
    "df_info_artistas = api.get_artist_data(sp, uri_artistas)\n",
    "df_info_artistas.head()"
   ]
  },
  {
   "cell_type": "code",
   "execution_count": null,
   "metadata": {},
   "outputs": [],
   "source": []
  }
 ],
 "metadata": {
  "kernelspec": {
   "display_name": "contenido",
   "language": "python",
   "name": "python3"
  },
  "language_info": {
   "codemirror_mode": {
    "name": "ipython",
    "version": 3
   },
   "file_extension": ".py",
   "mimetype": "text/x-python",
   "name": "python",
   "nbconvert_exporter": "python",
   "pygments_lexer": "ipython3",
   "version": "3.11.8"
  }
 },
 "nbformat": 4,
 "nbformat_minor": 2
}
